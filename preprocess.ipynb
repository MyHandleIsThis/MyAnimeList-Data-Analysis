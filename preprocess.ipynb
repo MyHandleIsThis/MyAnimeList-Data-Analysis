{
 "cells": [
  {
   "cell_type": "markdown",
   "id": "c334d548",
   "metadata": {},
   "source": [
    "# **Preprocessing data for MAL Data Science Project**"
   ]
  },
  {
   "cell_type": "code",
   "execution_count": 1411,
   "id": "8275d07a",
   "metadata": {},
   "outputs": [],
   "source": [
    "import pandas as pd\n",
    "import ast\n"
   ]
  },
  {
   "cell_type": "markdown",
   "id": "910a8a38",
   "metadata": {},
   "source": [
    "**Data reading** <br>\n",
    "The dataset was extracted using the file JikanScrapper. The objective of this notebook is to preprocess each feature in order for visualization and machine learning in the later stages"
   ]
  },
  {
   "cell_type": "code",
   "execution_count": 1412,
   "id": "2ec1b9ce",
   "metadata": {},
   "outputs": [],
   "source": [
    "data = pd.read_csv('anime_data.csv')\n",
    "columns_to_exclude = ['year', 'explict_genres'] # There is a better year column and explict_genres is already in genres\n",
    "data = data.drop(columns=columns_to_exclude)\n",
    "data = data.rename(columns={'year_2': 'year'})\n"
   ]
  },
  {
   "cell_type": "markdown",
   "id": "a41a1d6c",
   "metadata": {},
   "source": [
    "# **1. Data exploration and cleaning the dataset** "
   ]
  },
  {
   "cell_type": "code",
   "execution_count": 1413,
   "id": "b4609d42",
   "metadata": {},
   "outputs": [],
   "source": [
    "def describe_feature(data: pd.DataFrame, feature: str):\n",
    "    print(f\"- Type: {data.loc[:, feature].dtype}\")\n",
    "    print(f\"- First 5 rows:\\n {data[feature].head(5)}\")\n",
    "    print(f\"- Last 5 Rows: \\n {data[feature].tail(5)}\")\n",
    "    print(f\"- Number of unique values: {data[feature].nunique()}\")\n",
    "    print(f\"- Unique values count: {data[feature].value_counts()}\" )\n",
    "    print(f\"- Numer of missing values: {data.loc[:, feature].isna().sum()}\")\n",
    "    \n",
    "    if data[feature].dtype in ['int64', 'float64']:\n",
    "        print(f\"- Min: {data[feature].min()}\")\n",
    "        print(f\"- Max: {data[feature].max()}\")\n",
    "        print(f\"- Mean: {data[feature].mean()}\")\n",
    "        print(f\"- Median: {data[feature].median()}\")\n",
    "        print(f\"- Mode: {data[feature].mode()}\")\n",
    "        print(f\"- Std: {data[feature].std()} \")\n"
   ]
  },
  {
   "cell_type": "markdown",
   "id": "e7f584bf",
   "metadata": {},
   "source": [
    "Now let's understand the contents of the dataset"
   ]
  },
  {
   "cell_type": "code",
   "execution_count": 1414,
   "id": "bb640e4c",
   "metadata": {},
   "outputs": [
    {
     "name": "stdout",
     "output_type": "stream",
     "text": [
      "Mal Anime Dataset\n",
      "Number of rows: 28678, Number of columns: 26\n",
      "Column names: Index(['mal_id', 'title', 'title_en', 'title_synonyms', 'type', 'source',\n",
      "       'episodes', 'status', 'airing', 'duration', 'rating', 'score',\n",
      "       'scored_by', 'rank', 'popularity', 'members', 'favorites', 'synopsis',\n",
      "       'season', 'year', 'month', 'licensors', 'producers', 'studios',\n",
      "       'genres', 'themes'],\n",
      "      dtype='object')\n",
      "Number of missing values: 74387\n",
      "\n",
      "\n",
      "Number of rows: 28464, Number of columns: 26\n",
      "Column names: Index(['mal_id', 'title', 'title_en', 'title_synonyms', 'type', 'source',\n",
      "       'episodes', 'status', 'airing', 'duration', 'rating', 'score',\n",
      "       'scored_by', 'rank', 'popularity', 'members', 'favorites', 'synopsis',\n",
      "       'season', 'year', 'month', 'licensors', 'producers', 'studios',\n",
      "       'genres', 'themes'],\n",
      "      dtype='object')\n",
      "Number of missing values: 73342\n"
     ]
    }
   ],
   "source": [
    "print(\"Mal Anime Dataset\")\n",
    "print(f\"Number of rows: {data.shape[0]}, Number of columns: {data.shape[1]}\")\n",
    "print(f\"Column names: {data.columns}\")\n",
    "print(f\"Number of missing values: {data.isna().sum().sum()}\")\n",
    "\n",
    "data = data.drop_duplicates()\n",
    "print(f\"\\n\\nNumber of rows: {data.shape[0]}, Number of columns: {data.shape[1]}\")\n",
    "print(f\"Column names: {data.columns}\")\n",
    "print(f\"Number of missing values: {data.isna().sum().sum()}\")\n"
   ]
  },
  {
   "cell_type": "markdown",
   "id": "077005c9",
   "metadata": {},
   "source": [
    "For some reason there are 214 duplicate entries LMAO."
   ]
  },
  {
   "cell_type": "markdown",
   "id": "fb6d07c2",
   "metadata": {},
   "source": [
    "**Attribute Information**\n",
    "- **`mal_id`**: Unique anime ID on MyAnimeList.\n",
    "- **`title`**: The anime's primary title \n",
    "- **`title_en`**: English title of the anime.\n",
    "- **`title_synonyms`**: List of common abbreviations for the title \n",
    "- **`type`**: Media type\n",
    "- **`source`**: Orignal source material\n",
    "- **`episodes`**: Total number of episodes\n",
    "- **`status`**: Current airing status\n",
    "- **`airing`**: If the currently airing.\n",
    "- **`duration`**: Length of each episode\n",
    "- **`rating`**: Age rating\n",
    "- **`score`**: Average user score (out of 10)\n",
    "- **`scored_by`**: Number of users who rated the anime.\n",
    "- **`rank`**: Rank based on score.\n",
    "- **`popularity`**: Rank based on number of members.\n",
    "- **`members`**: Total number of users who added the anime to their lists.\n",
    "- **`favorites`**: Number of users who marked the anime as a favorite.\n",
    "- **`synopsis`**: Short summary of the anime.\n",
    "- **`season`**: Season the anime came out in\n",
    "- **`year`**: Year the anime came out in.\n",
    "- **`licensors`**: Companies licensed to distribute the anime \n",
    "- **`producers`**: Companies involved in funding or planning the anime.\n",
    "- **`studios`**: Animation studios responsible for production.\n",
    "- **`genres`**: Core genres in the anime\n",
    "- **`themes`**: Narrative or setting themes "
   ]
  },
  {
   "cell_type": "code",
   "execution_count": 1415,
   "id": "3c2a8300",
   "metadata": {},
   "outputs": [
    {
     "data": {
      "text/html": [
       "<div>\n",
       "<style scoped>\n",
       "    .dataframe tbody tr th:only-of-type {\n",
       "        vertical-align: middle;\n",
       "    }\n",
       "\n",
       "    .dataframe tbody tr th {\n",
       "        vertical-align: top;\n",
       "    }\n",
       "\n",
       "    .dataframe thead th {\n",
       "        text-align: right;\n",
       "    }\n",
       "</style>\n",
       "<table border=\"1\" class=\"dataframe\">\n",
       "  <thead>\n",
       "    <tr style=\"text-align: right;\">\n",
       "      <th></th>\n",
       "      <th>mal_id</th>\n",
       "      <th>episodes</th>\n",
       "      <th>score</th>\n",
       "      <th>scored_by</th>\n",
       "      <th>rank</th>\n",
       "      <th>popularity</th>\n",
       "      <th>members</th>\n",
       "      <th>favorites</th>\n",
       "      <th>year</th>\n",
       "      <th>month</th>\n",
       "    </tr>\n",
       "  </thead>\n",
       "  <tbody>\n",
       "    <tr>\n",
       "      <th>count</th>\n",
       "      <td>28464.000000</td>\n",
       "      <td>27784.000000</td>\n",
       "      <td>18528.000000</td>\n",
       "      <td>1.852800e+04</td>\n",
       "      <td>21720.000000</td>\n",
       "      <td>28464.000000</td>\n",
       "      <td>2.846400e+04</td>\n",
       "      <td>28464.000000</td>\n",
       "      <td>27586.000000</td>\n",
       "      <td>27586.000000</td>\n",
       "    </tr>\n",
       "    <tr>\n",
       "      <th>mean</th>\n",
       "      <td>33456.972175</td>\n",
       "      <td>14.237439</td>\n",
       "      <td>6.396332</td>\n",
       "      <td>2.995834e+04</td>\n",
       "      <td>10858.345258</td>\n",
       "      <td>14230.079890</td>\n",
       "      <td>3.864545e+04</td>\n",
       "      <td>432.630235</td>\n",
       "      <td>2008.933880</td>\n",
       "      <td>5.765134</td>\n",
       "    </tr>\n",
       "    <tr>\n",
       "      <th>std</th>\n",
       "      <td>19408.082961</td>\n",
       "      <td>47.903882</td>\n",
       "      <td>0.889767</td>\n",
       "      <td>1.213911e+05</td>\n",
       "      <td>6269.891837</td>\n",
       "      <td>8216.431813</td>\n",
       "      <td>1.663872e+05</td>\n",
       "      <td>4506.529237</td>\n",
       "      <td>15.054737</td>\n",
       "      <td>3.688561</td>\n",
       "    </tr>\n",
       "    <tr>\n",
       "      <th>min</th>\n",
       "      <td>1.000000</td>\n",
       "      <td>1.000000</td>\n",
       "      <td>1.890000</td>\n",
       "      <td>1.010000e+02</td>\n",
       "      <td>0.000000</td>\n",
       "      <td>0.000000</td>\n",
       "      <td>0.000000e+00</td>\n",
       "      <td>0.000000</td>\n",
       "      <td>1917.000000</td>\n",
       "      <td>1.000000</td>\n",
       "    </tr>\n",
       "    <tr>\n",
       "      <th>25%</th>\n",
       "      <td>14512.500000</td>\n",
       "      <td>1.000000</td>\n",
       "      <td>5.780000</td>\n",
       "      <td>3.400000e+02</td>\n",
       "      <td>5428.500000</td>\n",
       "      <td>7114.750000</td>\n",
       "      <td>2.350000e+02</td>\n",
       "      <td>0.000000</td>\n",
       "      <td>2003.000000</td>\n",
       "      <td>2.000000</td>\n",
       "    </tr>\n",
       "    <tr>\n",
       "      <th>50%</th>\n",
       "      <td>37546.500000</td>\n",
       "      <td>2.000000</td>\n",
       "      <td>6.370000</td>\n",
       "      <td>1.554000e+03</td>\n",
       "      <td>10856.000000</td>\n",
       "      <td>14230.500000</td>\n",
       "      <td>1.082000e+03</td>\n",
       "      <td>1.000000</td>\n",
       "      <td>2013.000000</td>\n",
       "      <td>6.000000</td>\n",
       "    </tr>\n",
       "    <tr>\n",
       "      <th>75%</th>\n",
       "      <td>49664.250000</td>\n",
       "      <td>13.000000</td>\n",
       "      <td>7.030000</td>\n",
       "      <td>1.012625e+04</td>\n",
       "      <td>16288.250000</td>\n",
       "      <td>21349.000000</td>\n",
       "      <td>9.171500e+03</td>\n",
       "      <td>17.000000</td>\n",
       "      <td>2019.000000</td>\n",
       "      <td>9.000000</td>\n",
       "    </tr>\n",
       "    <tr>\n",
       "      <th>max</th>\n",
       "      <td>61814.000000</td>\n",
       "      <td>3057.000000</td>\n",
       "      <td>9.300000</td>\n",
       "      <td>2.940011e+06</td>\n",
       "      <td>21717.000000</td>\n",
       "      <td>28463.000000</td>\n",
       "      <td>4.170962e+06</td>\n",
       "      <td>238662.000000</td>\n",
       "      <td>2027.000000</td>\n",
       "      <td>12.000000</td>\n",
       "    </tr>\n",
       "  </tbody>\n",
       "</table>\n",
       "</div>"
      ],
      "text/plain": [
       "             mal_id      episodes         score     scored_by          rank  \\\n",
       "count  28464.000000  27784.000000  18528.000000  1.852800e+04  21720.000000   \n",
       "mean   33456.972175     14.237439      6.396332  2.995834e+04  10858.345258   \n",
       "std    19408.082961     47.903882      0.889767  1.213911e+05   6269.891837   \n",
       "min        1.000000      1.000000      1.890000  1.010000e+02      0.000000   \n",
       "25%    14512.500000      1.000000      5.780000  3.400000e+02   5428.500000   \n",
       "50%    37546.500000      2.000000      6.370000  1.554000e+03  10856.000000   \n",
       "75%    49664.250000     13.000000      7.030000  1.012625e+04  16288.250000   \n",
       "max    61814.000000   3057.000000      9.300000  2.940011e+06  21717.000000   \n",
       "\n",
       "         popularity       members      favorites          year         month  \n",
       "count  28464.000000  2.846400e+04   28464.000000  27586.000000  27586.000000  \n",
       "mean   14230.079890  3.864545e+04     432.630235   2008.933880      5.765134  \n",
       "std     8216.431813  1.663872e+05    4506.529237     15.054737      3.688561  \n",
       "min        0.000000  0.000000e+00       0.000000   1917.000000      1.000000  \n",
       "25%     7114.750000  2.350000e+02       0.000000   2003.000000      2.000000  \n",
       "50%    14230.500000  1.082000e+03       1.000000   2013.000000      6.000000  \n",
       "75%    21349.000000  9.171500e+03      17.000000   2019.000000      9.000000  \n",
       "max    28463.000000  4.170962e+06  238662.000000   2027.000000     12.000000  "
      ]
     },
     "execution_count": 1415,
     "metadata": {},
     "output_type": "execute_result"
    }
   ],
   "source": [
    "data.describe()"
   ]
  },
  {
   "cell_type": "markdown",
   "id": "ef97d967",
   "metadata": {},
   "source": [
    "**Feature `mal_id`**"
   ]
  },
  {
   "cell_type": "code",
   "execution_count": 1416,
   "id": "2bdc0cd4",
   "metadata": {},
   "outputs": [
    {
     "name": "stdout",
     "output_type": "stream",
     "text": [
      "- Type: int64\n",
      "- First 5 rows:\n",
      " 0    1\n",
      "1    5\n",
      "2    6\n",
      "3    7\n",
      "4    8\n",
      "Name: mal_id, dtype: int64\n",
      "- Last 5 Rows: \n",
      " 28673    61810\n",
      "28674    61811\n",
      "28675    61812\n",
      "28676    61813\n",
      "28677    61814\n",
      "Name: mal_id, dtype: int64\n",
      "- Number of unique values: 28464\n",
      "- Unique values count: mal_id\n",
      "61779    1\n",
      "61778    1\n",
      "61777    1\n",
      "61774    1\n",
      "61773    1\n",
      "        ..\n",
      "8        1\n",
      "7        1\n",
      "6        1\n",
      "5        1\n",
      "1        1\n",
      "Name: count, Length: 28464, dtype: int64\n",
      "- Numer of missing values: 0\n",
      "- Min: 1\n",
      "- Max: 61814\n",
      "- Mean: 33456.97217537943\n",
      "- Median: 37546.5\n",
      "- Mode: 0            1\n",
      "1            5\n",
      "2            6\n",
      "3            7\n",
      "4            8\n",
      "         ...  \n",
      "28459    61810\n",
      "28460    61811\n",
      "28461    61812\n",
      "28462    61813\n",
      "28463    61814\n",
      "Name: mal_id, Length: 28464, dtype: int64\n",
      "- Std: 19408.08296094567 \n"
     ]
    }
   ],
   "source": [
    "describe_feature(data, 'mal_id')"
   ]
  },
  {
   "cell_type": "markdown",
   "id": "c7a02348",
   "metadata": {},
   "source": [
    "**Feature `title`**"
   ]
  },
  {
   "cell_type": "code",
   "execution_count": 1417,
   "id": "d5b546fe",
   "metadata": {},
   "outputs": [
    {
     "name": "stdout",
     "output_type": "stream",
     "text": [
      "- Type: object\n",
      "- First 5 rows:\n",
      " 0                       Cowboy Bebop\n",
      "1    Cowboy Bebop: Tengoku no Tobira\n",
      "2                             Trigun\n",
      "3                 Witch Hunter Robin\n",
      "4                     Bouken Ou Beet\n",
      "Name: title, dtype: object\n",
      "- Last 5 Rows: \n",
      " 28673               Sora\n",
      "28674         Shikushiku\n",
      "28675        Plants Song\n",
      "28676              Ghost\n",
      "28677    Oni no Hanayome\n",
      "Name: title, dtype: object\n",
      "- Number of unique values: 28460\n",
      "- Unique values count: title\n",
      "Ghost                                                    2\n",
      "1                                                        2\n",
      "Shen Lan Qi Yu Wushuang Zhu: Tianmo Pian                 2\n",
      "Moonlight                                                2\n",
      "Naruto                                                   1\n",
      "                                                        ..\n",
      "Kenpuu Denki Berserk                                     1\n",
      "Koukaku Kidoutai                                         1\n",
      "Rurouni Kenshin: Meiji Kenkaku Romantan - Tsuioku-hen    1\n",
      "Rurouni Kenshin: Meiji Kenkaku Romantan                  1\n",
      "Hungry Heart: Wild Striker                               1\n",
      "Name: count, Length: 28460, dtype: int64\n",
      "- Numer of missing values: 0\n"
     ]
    }
   ],
   "source": [
    "describe_feature(data, 'title')"
   ]
  },
  {
   "cell_type": "markdown",
   "id": "73894282",
   "metadata": {},
   "source": [
    "Some titles are the same, since some animes dont differenate between different seasons"
   ]
  },
  {
   "cell_type": "markdown",
   "id": "ddcefb6e",
   "metadata": {},
   "source": [
    "Feature `title_en`"
   ]
  },
  {
   "cell_type": "code",
   "execution_count": 1418,
   "id": "84d6c254",
   "metadata": {},
   "outputs": [
    {
     "name": "stdout",
     "output_type": "stream",
     "text": [
      "- Type: object\n",
      "- First 5 rows:\n",
      " 0               Cowboy Bebop\n",
      "1    Cowboy Bebop: The Movie\n",
      "2                     Trigun\n",
      "3         Witch Hunter Robin\n",
      "4     Beet the Vandel Buster\n",
      "Name: title_en, dtype: object\n",
      "- Last 5 Rows: \n",
      " 28673    NaN\n",
      "28674    NaN\n",
      "28675    NaN\n",
      "28676    NaN\n",
      "28677    NaN\n",
      "Name: title_en, dtype: object\n",
      "- Number of unique values: 12025\n",
      "- Unique values count: title_en\n",
      "Promise                                5\n",
      "Spirit Guardians                       5\n",
      "Meow Meow Japanese History             4\n",
      "Cyborg 009                             4\n",
      "Magical Legend: Rise to Immortality    4\n",
      "                                      ..\n",
      "Xian Chong                             1\n",
      "To Be Winner                           1\n",
      "Seven States of Galaxy Saga            1\n",
      "The Last With You                      1\n",
      "Witch Hunter Robin                     1\n",
      "Name: count, Length: 12025, dtype: int64\n",
      "- Numer of missing values: 16242\n",
      "Number of missing values after cleaning: 0\n"
     ]
    }
   ],
   "source": [
    "describe_feature(data, 'title_en')\n",
    "\n",
    "# Turning all the missing values into the original title\n",
    "data['title_en'] = data.apply(lambda row: row['title_en'] if pd.notnull(row['title_en']) else row['title'], axis=1) \n",
    "print(f\"Number of missing values after cleaning: {data['title_en'].isna().sum().sum()}\")"
   ]
  },
  {
   "cell_type": "markdown",
   "id": "4be842c8",
   "metadata": {},
   "source": [
    "**Feature `title_synonyms`**"
   ]
  },
  {
   "cell_type": "code",
   "execution_count": 1419,
   "id": "fbe28029",
   "metadata": {},
   "outputs": [
    {
     "name": "stdout",
     "output_type": "stream",
     "text": [
      "- Type: object\n",
      "- First 5 rows:\n",
      " 0                                             []\n",
      "1    [\"Cowboy Bebop: Knockin' on Heaven's Door\"]\n",
      "2                                             []\n",
      "3                                        ['WHR']\n",
      "4                        ['Adventure King Beet']\n",
      "Name: title_synonyms, dtype: object\n",
      "- Last 5 Rows: \n",
      " 28673        ['Minna no Uta']\n",
      "28674        ['Minna no Uta']\n",
      "28675                      []\n",
      "28676                      []\n",
      "28677    [\"The Ogre's Bride\"]\n",
      "Name: title_synonyms, dtype: object\n",
      "- Number of unique values: 12933\n",
      "- Unique values count: title_synonyms\n",
      "[]                                                                       14358\n",
      "['Minna no Uta']                                                           808\n",
      "['Irodorimidori']                                                           49\n",
      "['One Piece Recap', 'One Piece Special']                                    11\n",
      "['Hirake! Ponkikki']                                                        10\n",
      "                                                                         ...  \n",
      "['Ascend Another Day']                                                       1\n",
      "['Xian Chong Nai Xiong', '仙宠奶凶']                                             1\n",
      "['For the Win!']                                                             1\n",
      "['Everyday of the 29 years old single person adventurer.']                   1\n",
      "['Samurai X', 'Wandering Kenshin: Romantic Tales from the Meiji Era']        1\n",
      "Name: count, Length: 12933, dtype: int64\n",
      "- Numer of missing values: 0\n"
     ]
    }
   ],
   "source": [
    "describe_feature(data, 'title_synonyms')"
   ]
  },
  {
   "cell_type": "markdown",
   "id": "d595e32a",
   "metadata": {},
   "source": [
    "**Feature `type`**"
   ]
  },
  {
   "cell_type": "code",
   "execution_count": 1420,
   "id": "3bc3d090",
   "metadata": {},
   "outputs": [
    {
     "name": "stdout",
     "output_type": "stream",
     "text": [
      "- Type: object\n",
      "- First 5 rows:\n",
      " 0       TV\n",
      "1    Movie\n",
      "2       TV\n",
      "3       TV\n",
      "4       TV\n",
      "Name: type, dtype: object\n",
      "- Last 5 Rows: \n",
      " 28673    Music\n",
      "28674    Music\n",
      "28675    Music\n",
      "28676    Movie\n",
      "28677       TV\n",
      "Name: type, dtype: object\n",
      "- Number of unique values: 9\n",
      "- Unique values count: type\n",
      "TV            8284\n",
      "Movie         4852\n",
      "OVA           4170\n",
      "ONA           4001\n",
      "Music         3867\n",
      "Special       1763\n",
      "TV Special     746\n",
      "CM             459\n",
      "PV             256\n",
      "Name: count, dtype: int64\n",
      "- Numer of missing values: 66\n",
      "Number of missing values after cleaning: 0\n"
     ]
    }
   ],
   "source": [
    "describe_feature(data, 'type')\n",
    "\n",
    "# Turning missing values into empty string\n",
    "data['type'] = data.apply(lambda row: row['type'] if pd.notnull(row['type']) else '', axis=1)\n",
    "print(f\"Number of missing values after cleaning: {data['type'].isna().sum().sum()}\")\n"
   ]
  },
  {
   "cell_type": "markdown",
   "id": "86cbdf20",
   "metadata": {},
   "source": [
    "**Feature `source`**"
   ]
  },
  {
   "cell_type": "code",
   "execution_count": 1421,
   "id": "f7ea5ba5",
   "metadata": {},
   "outputs": [
    {
     "name": "stdout",
     "output_type": "stream",
     "text": [
      "- Type: object\n",
      "- First 5 rows:\n",
      " 0    Original\n",
      "1    Original\n",
      "2       Manga\n",
      "3    Original\n",
      "4       Manga\n",
      "Name: source, dtype: object\n",
      "- Last 5 Rows: \n",
      " 28673    Original\n",
      "28674    Original\n",
      "28675    Original\n",
      "28676    Original\n",
      "28677       Other\n",
      "Name: source, dtype: object\n",
      "- Number of unique values: 17\n",
      "- Unique values count: source\n",
      "Original        12092\n",
      "Manga            5432\n",
      "Unknown          2818\n",
      "Game             1446\n",
      "Other            1287\n",
      "Light novel      1165\n",
      "Visual novel     1155\n",
      "Novel             813\n",
      "Web manga         636\n",
      "4-koma manga      334\n",
      "Picture book      277\n",
      "Music             262\n",
      "Mixed media       233\n",
      "Book              219\n",
      "Web novel         204\n",
      "Card game          77\n",
      "Radio              14\n",
      "Name: count, dtype: int64\n",
      "- Numer of missing values: 0\n"
     ]
    }
   ],
   "source": [
    "describe_feature(data, 'source')"
   ]
  },
  {
   "cell_type": "markdown",
   "id": "6597faaf",
   "metadata": {},
   "source": [
    "**Feature `episodes`**"
   ]
  },
  {
   "cell_type": "code",
   "execution_count": 1422,
   "id": "540c40bf",
   "metadata": {},
   "outputs": [
    {
     "name": "stdout",
     "output_type": "stream",
     "text": [
      "- Type: float64\n",
      "- First 5 rows:\n",
      " 0    26.0\n",
      "1     1.0\n",
      "2    26.0\n",
      "3    26.0\n",
      "4    52.0\n",
      "Name: episodes, dtype: float64\n",
      "- Last 5 Rows: \n",
      " 28673    1.0\n",
      "28674    1.0\n",
      "28675    1.0\n",
      "28676    1.0\n",
      "28677    NaN\n",
      "Name: episodes, dtype: float64\n",
      "- Number of unique values: 260\n",
      "- Unique values count: episodes\n",
      "1.0      13622\n",
      "12.0      2279\n",
      "2.0       1636\n",
      "26.0      1331\n",
      "13.0      1111\n",
      "         ...  \n",
      "247.0        1\n",
      "126.0        1\n",
      "157.0        1\n",
      "280.0        1\n",
      "123.0        1\n",
      "Name: count, Length: 260, dtype: int64\n",
      "- Numer of missing values: 680\n",
      "- Min: 1.0\n",
      "- Max: 3057.0\n",
      "- Mean: 14.23743881370573\n",
      "- Median: 2.0\n",
      "- Mode: 0    1.0\n",
      "Name: episodes, dtype: float64\n",
      "- Std: 47.90388154617769 \n"
     ]
    }
   ],
   "source": [
    "describe_feature(data,'episodes')\n",
    "# SOME MISSING EPisODES BUT LIKE GONNA DO THIS LATER"
   ]
  },
  {
   "cell_type": "markdown",
   "id": "e5bf066b",
   "metadata": {},
   "source": [
    "There are some missing values here. Let's figure out why and where"
   ]
  },
  {
   "cell_type": "markdown",
   "id": "03fb0942",
   "metadata": {},
   "source": [
    "**Feature `status`**"
   ]
  },
  {
   "cell_type": "code",
   "execution_count": 1423,
   "id": "45342787",
   "metadata": {},
   "outputs": [
    {
     "name": "stdout",
     "output_type": "stream",
     "text": [
      "- Type: object\n",
      "- First 5 rows:\n",
      " 0    Finished Airing\n",
      "1    Finished Airing\n",
      "2    Finished Airing\n",
      "3    Finished Airing\n",
      "4    Finished Airing\n",
      "Name: status, dtype: object\n",
      "- Last 5 Rows: \n",
      " 28673    Finished Airing\n",
      "28674    Finished Airing\n",
      "28675    Finished Airing\n",
      "28676      Not yet aired\n",
      "28677      Not yet aired\n",
      "Name: status, dtype: object\n",
      "- Number of unique values: 3\n",
      "- Unique values count: status\n",
      "Finished Airing     27586\n",
      "Not yet aired         524\n",
      "Currently Airing      354\n",
      "Name: count, dtype: int64\n",
      "- Numer of missing values: 0\n",
      "\n",
      "Notice when status == 'Not yet aired'\n",
      "  - Number of rows: 524\n",
      "  - Number of missing values: 3310\n"
     ]
    }
   ],
   "source": [
    "describe_feature(data, 'status')\n",
    "\n",
    "print(\"\\nNotice when status == \\'Not yet aired\\'\")\n",
    "print(f\"  - Number of rows: {data[data['status'] == 'Not yet aired'].shape[0]}\" )\n",
    "print(f\"  - Number of missing values: {data[data['status'] == 'Not yet aired'].isna().sum().sum()}\")\n"
   ]
  },
  {
   "cell_type": "markdown",
   "id": "341c5f98",
   "metadata": {},
   "source": [
    "Notice unaired animes also a lot of missing features This is partly due to some features not being filled ex. year, month, status.  <br>\n",
    "For data visualization we want to operate on anime that either are airing or ended thus a seperate csv file will be created. "
   ]
  },
  {
   "cell_type": "markdown",
   "id": "a8dea10c",
   "metadata": {},
   "source": [
    "**Feature `duration`**"
   ]
  },
  {
   "cell_type": "code",
   "execution_count": 1424,
   "id": "ae70d1f1",
   "metadata": {},
   "outputs": [
    {
     "name": "stdout",
     "output_type": "stream",
     "text": [
      "- Type: object\n",
      "- First 5 rows:\n",
      " 0    24 min per ep\n",
      "1      1 hr 55 min\n",
      "2    24 min per ep\n",
      "3    25 min per ep\n",
      "4    23 min per ep\n",
      "Name: duration, dtype: object\n",
      "- Last 5 Rows: \n",
      " 28673      2 min\n",
      "28674      2 min\n",
      "28675      2 min\n",
      "28676    Unknown\n",
      "28677    Unknown\n",
      "Name: duration, dtype: object\n",
      "- Number of unique values: 340\n",
      "- Unique values count: duration\n",
      "24 min per ep         2085\n",
      "23 min per ep         1810\n",
      "2 min                 1637\n",
      "3 min                 1504\n",
      "4 min                 1178\n",
      "                      ... \n",
      "2 hr 31 min              1\n",
      "26 sec                   1\n",
      "2 hr 25 min              1\n",
      "1 hr 55 min per ep       1\n",
      "2 hr 45 min              1\n",
      "Name: count, Length: 340, dtype: int64\n",
      "- Numer of missing values: 0\n"
     ]
    }
   ],
   "source": [
    "describe_feature(data, 'duration')"
   ]
  },
  {
   "cell_type": "markdown",
   "id": "7f48e7c4",
   "metadata": {},
   "source": [
    "**Feature `rating`**"
   ]
  },
  {
   "cell_type": "code",
   "execution_count": 1425,
   "id": "5ea1bd1d",
   "metadata": {},
   "outputs": [
    {
     "name": "stdout",
     "output_type": "stream",
     "text": [
      "- Type: object\n",
      "- First 5 rows:\n",
      " 0    R - 17+ (violence & profanity)\n",
      "1    R - 17+ (violence & profanity)\n",
      "2         PG-13 - Teens 13 or older\n",
      "3         PG-13 - Teens 13 or older\n",
      "4                     PG - Children\n",
      "Name: rating, dtype: object\n",
      "- Last 5 Rows: \n",
      " 28673    G - All Ages\n",
      "28674    G - All Ages\n",
      "28675    G - All Ages\n",
      "28676             NaN\n",
      "28677             NaN\n",
      "Name: rating, dtype: object\n",
      "- Number of unique values: 6\n",
      "- Unique values count: rating\n",
      "PG-13 - Teens 13 or older         10192\n",
      "G - All Ages                       8927\n",
      "PG - Children                      4386\n",
      "Rx - Hentai                        1566\n",
      "R - 17+ (violence & profanity)     1565\n",
      "R+ - Mild Nudity                   1211\n",
      "Name: count, dtype: int64\n",
      "- Numer of missing values: 617\n"
     ]
    }
   ],
   "source": [
    "describe_feature(data, 'rating')\n",
    "\n",
    "# Turning all the missing values into empty strings\n",
    "data['rating'] = data.apply(lambda row: row['rating'] if pd.notnull(row['rating']) else '', axis=1)"
   ]
  },
  {
   "cell_type": "markdown",
   "id": "2eadea22",
   "metadata": {},
   "source": [
    "Creating a new feature that summarizes the rating into `G`, `PG`, `PG-13`, `R`"
   ]
  },
  {
   "cell_type": "code",
   "execution_count": 1426,
   "id": "f92a4183",
   "metadata": {},
   "outputs": [],
   "source": [
    "new_rating_rows = []\n",
    "for _, row in data.iterrows():\n",
    "    if row['rating'] != \"\":\n",
    "        # Time to split the strings\n",
    "        split_string = row['rating'].split(' ')\n",
    "        rating = split_string[0].rstrip('x').rstrip('+')\n",
    "        new_rating_rows.append(rating)\n",
    "    else:\n",
    "        new_rating_rows.append('')\n",
    "\n",
    "# Adding a new columns to the data\n",
    "data['new_rating'] = new_rating_rows\n"
   ]
  },
  {
   "cell_type": "markdown",
   "id": "9fa3df64",
   "metadata": {},
   "source": [
    "**Feature `score`**"
   ]
  },
  {
   "cell_type": "code",
   "execution_count": 1427,
   "id": "a928126e",
   "metadata": {},
   "outputs": [
    {
     "name": "stdout",
     "output_type": "stream",
     "text": [
      "- Type: float64\n",
      "- First 5 rows:\n",
      " 0    8.75\n",
      "1    8.38\n",
      "2    8.22\n",
      "3    7.24\n",
      "4    6.93\n",
      "Name: score, dtype: float64\n",
      "- Last 5 Rows: \n",
      " 28673   NaN\n",
      "28674   NaN\n",
      "28675   NaN\n",
      "28676   NaN\n",
      "28677   NaN\n",
      "Name: score, dtype: float64\n",
      "- Number of unique values: 564\n",
      "- Unique values count: score\n",
      "6.33    102\n",
      "6.52     98\n",
      "6.30     96\n",
      "6.42     96\n",
      "6.21     95\n",
      "       ... \n",
      "3.65      1\n",
      "3.54      1\n",
      "3.67      1\n",
      "4.01      1\n",
      "3.30      1\n",
      "Name: count, Length: 564, dtype: int64\n",
      "- Numer of missing values: 9936\n",
      "- Min: 1.89\n",
      "- Max: 9.3\n",
      "- Mean: 6.3963320379965465\n",
      "- Median: 6.37\n",
      "- Mode: 0    6.33\n",
      "Name: score, dtype: float64\n",
      "- Std: 0.8897668758689251 \n"
     ]
    }
   ],
   "source": [
    "describe_feature(data, 'score')"
   ]
  },
  {
   "cell_type": "markdown",
   "id": "319adb1f",
   "metadata": {},
   "source": [
    "Note MyAnimeList doesnt allow scoring for unrealeased animes and 18+ animes. Thus I dont think it is apporiate to impute the values"
   ]
  },
  {
   "cell_type": "markdown",
   "id": "74ca7adb",
   "metadata": {},
   "source": [
    "**Feature `scored_by`**"
   ]
  },
  {
   "cell_type": "code",
   "execution_count": 1428,
   "id": "74fe07f6",
   "metadata": {},
   "outputs": [
    {
     "name": "stdout",
     "output_type": "stream",
     "text": [
      "- Type: float64\n",
      "- First 5 rows:\n",
      " 0    1019108.0\n",
      "1     225295.0\n",
      "2     388869.0\n",
      "3      45312.0\n",
      "4       6963.0\n",
      "Name: scored_by, dtype: float64\n",
      "- Last 5 Rows: \n",
      " 28673   NaN\n",
      "28674   NaN\n",
      "28675   NaN\n",
      "28676   NaN\n",
      "28677   NaN\n",
      "Name: scored_by, dtype: float64\n",
      "- Number of unique values: 9103\n",
      "- Unique values count: scored_by\n",
      "127.0        42\n",
      "158.0        40\n",
      "129.0        38\n",
      "147.0        38\n",
      "150.0        37\n",
      "             ..\n",
      "470174.0      1\n",
      "45312.0       1\n",
      "388869.0      1\n",
      "225295.0      1\n",
      "1019108.0     1\n",
      "Name: count, Length: 9103, dtype: int64\n",
      "- Numer of missing values: 9936\n",
      "- Min: 101.0\n",
      "- Max: 2940011.0\n",
      "- Mean: 29958.337057426597\n",
      "- Median: 1554.0\n",
      "- Mode: 0    127.0\n",
      "Name: scored_by, dtype: float64\n",
      "- Std: 121391.06413353194 \n"
     ]
    }
   ],
   "source": [
    "describe_feature(data, 'scored_by')"
   ]
  },
  {
   "cell_type": "markdown",
   "id": "f8037f70",
   "metadata": {},
   "source": [
    "Notice the amount of missing values for scored_by is the same for score. I also think it is not apporiate to impute the missing values here too"
   ]
  },
  {
   "cell_type": "markdown",
   "id": "f569b0a8",
   "metadata": {},
   "source": [
    "**Feature `members`**"
   ]
  },
  {
   "cell_type": "code",
   "execution_count": 1429,
   "id": "26c9e6f3",
   "metadata": {},
   "outputs": [
    {
     "name": "stdout",
     "output_type": "stream",
     "text": [
      "- Type: int64\n",
      "- First 5 rows:\n",
      " 0    1974537\n",
      "1     397918\n",
      "2     802844\n",
      "3     123350\n",
      "4      16303\n",
      "Name: members, dtype: int64\n",
      "- Last 5 Rows: \n",
      " 28673    2\n",
      "28674    2\n",
      "28675    1\n",
      "28676    1\n",
      "28677    0\n",
      "Name: members, dtype: int64\n",
      "- Number of unique values: 12163\n",
      "- Unique values count: members\n",
      "80        124\n",
      "81        119\n",
      "78        115\n",
      "79        111\n",
      "77        110\n",
      "         ... \n",
      "33          1\n",
      "12833       1\n",
      "5645        1\n",
      "3738        1\n",
      "802844      1\n",
      "Name: count, Length: 12163, dtype: int64\n",
      "- Numer of missing values: 0\n",
      "- Min: 0\n",
      "- Max: 4170962\n",
      "- Mean: 38645.44758291175\n",
      "- Median: 1082.0\n",
      "- Mode: 0    80\n",
      "Name: members, dtype: int64\n",
      "- Std: 166387.2296316623 \n"
     ]
    }
   ],
   "source": [
    "describe_feature(data, 'members')"
   ]
  },
  {
   "cell_type": "markdown",
   "id": "a8bbce5e",
   "metadata": {},
   "source": [
    "**Feature `rank`**"
   ]
  },
  {
   "cell_type": "code",
   "execution_count": 1430,
   "id": "4cb1afb8",
   "metadata": {},
   "outputs": [
    {
     "name": "stdout",
     "output_type": "stream",
     "text": [
      "- Type: float64\n",
      "- First 5 rows:\n",
      " 0      46.0\n",
      "1     209.0\n",
      "2     372.0\n",
      "3    3223.0\n",
      "4    4755.0\n",
      "Name: rank, dtype: float64\n",
      "- Last 5 Rows: \n",
      " 28673    NaN\n",
      "28674    NaN\n",
      "28675    NaN\n",
      "28676    0.0\n",
      "28677    0.0\n",
      "Name: rank, dtype: float64\n",
      "- Number of unique values: 17134\n",
      "- Unique values count: rank\n",
      "17354.0    4\n",
      "14813.0    4\n",
      "8022.0     4\n",
      "18491.0    4\n",
      "18884.0    4\n",
      "          ..\n",
      "450.0      1\n",
      "1849.0     1\n",
      "702.0      1\n",
      "807.0      1\n",
      "4755.0     1\n",
      "Name: count, Length: 17134, dtype: int64\n",
      "- Numer of missing values: 6744\n",
      "- Min: 0.0\n",
      "- Max: 21717.0\n",
      "- Mean: 10858.345257826888\n",
      "- Median: 10856.0\n",
      "- Mode: 0     8022.0\n",
      "1     9054.0\n",
      "2    14441.0\n",
      "3    14813.0\n",
      "4    17354.0\n",
      "5    17593.0\n",
      "6    17863.0\n",
      "7    18491.0\n",
      "8    18884.0\n",
      "Name: rank, dtype: float64\n",
      "- Std: 6269.891837139401 \n"
     ]
    }
   ],
   "source": [
    "describe_feature(data, 'rank')"
   ]
  },
  {
   "cell_type": "markdown",
   "id": "c7bbfd96",
   "metadata": {},
   "source": [
    "Note: Unreleased animes and Rx-hentai animes are excluded form ranking.\n",
    "Thus I dont think I should impute this data.\n",
    "I wonder if ML can pick up on this rule."
   ]
  },
  {
   "cell_type": "markdown",
   "id": "693b3728",
   "metadata": {},
   "source": [
    "**Feature `popularity`**"
   ]
  },
  {
   "cell_type": "code",
   "execution_count": 1431,
   "id": "f091968a",
   "metadata": {},
   "outputs": [
    {
     "name": "stdout",
     "output_type": "stream",
     "text": [
      "- Type: int64\n",
      "- First 5 rows:\n",
      " 0      42\n",
      "1     642\n",
      "2     260\n",
      "3    1949\n",
      "4    5654\n",
      "Name: popularity, dtype: int64\n",
      "- Last 5 Rows: \n",
      " 28673    28463\n",
      "28674    28462\n",
      "28675    28461\n",
      "28676        0\n",
      "28677        0\n",
      "Name: popularity, dtype: int64\n",
      "- Number of unique values: 21642\n",
      "- Unique values count: popularity\n",
      "16532    6\n",
      "16266    5\n",
      "20269    5\n",
      "16340    5\n",
      "18342    5\n",
      "        ..\n",
      "25041    1\n",
      "27646    1\n",
      "28361    1\n",
      "23676    1\n",
      "28325    1\n",
      "Name: count, Length: 21642, dtype: int64\n",
      "- Numer of missing values: 0\n",
      "- Min: 0\n",
      "- Max: 28463\n",
      "- Mean: 14230.079890387859\n",
      "- Median: 14230.5\n",
      "- Mode: 0    16532\n",
      "Name: popularity, dtype: int64\n",
      "- Std: 8216.431813095754 \n"
     ]
    }
   ],
   "source": [
    "describe_feature(data, 'popularity')"
   ]
  },
  {
   "cell_type": "markdown",
   "id": "2f3acce9",
   "metadata": {},
   "source": [
    "**Feature `favorites`**"
   ]
  },
  {
   "cell_type": "code",
   "execution_count": 1432,
   "id": "47177ef2",
   "metadata": {},
   "outputs": [
    {
     "name": "stdout",
     "output_type": "stream",
     "text": [
      "- Type: int64\n",
      "- First 5 rows:\n",
      " 0    86585\n",
      "1     1708\n",
      "2    16846\n",
      "3      671\n",
      "4       16\n",
      "Name: favorites, dtype: int64\n",
      "- Last 5 Rows: \n",
      " 28673    0\n",
      "28674    0\n",
      "28675    0\n",
      "28676    0\n",
      "28677    0\n",
      "Name: favorites, dtype: int64\n",
      "- Number of unique values: 1975\n",
      "- Unique values count: favorites\n",
      "0       12659\n",
      "1        2628\n",
      "2        1316\n",
      "3         853\n",
      "4         621\n",
      "        ...  \n",
      "4182        1\n",
      "848         1\n",
      "357         1\n",
      "2217        1\n",
      "925         1\n",
      "Name: count, Length: 1975, dtype: int64\n",
      "- Numer of missing values: 0\n",
      "- Min: 0\n",
      "- Max: 238662\n",
      "- Mean: 432.63023468240584\n",
      "- Median: 1.0\n",
      "- Mode: 0    0\n",
      "Name: favorites, dtype: int64\n",
      "- Std: 4506.529236556852 \n"
     ]
    }
   ],
   "source": [
    "describe_feature(data, 'favorites')"
   ]
  },
  {
   "cell_type": "markdown",
   "id": "26b469bc",
   "metadata": {},
   "source": [
    "**Feature `synopsis`**"
   ]
  },
  {
   "cell_type": "code",
   "execution_count": 1433,
   "id": "80676fb3",
   "metadata": {},
   "outputs": [
    {
     "name": "stdout",
     "output_type": "stream",
     "text": [
      "- Type: object\n",
      "- First 5 rows:\n",
      " 0    Crime is timeless. By the year 2071, humanity ...\n",
      "1    Another day, another bounty—such is the life o...\n",
      "2    Vash the Stampede is the man with a $$60,000,0...\n",
      "3    Though hidden away from the general public, Wi...\n",
      "4    It is the dark century and the people are suff...\n",
      "Name: synopsis, dtype: object\n",
      "- Last 5 Rows: \n",
      " 28673    Music video for the song Sora by BE:FIRST that...\n",
      "28674    Music video for the song Shikushiku by Yoh Kam...\n",
      "28675              Music video for Plants Song by CHI-MEY.\n",
      "28676                                                  NaN\n",
      "28677    A Japanese-style ayakashi Cinderella story! \"Y...\n",
      "Name: synopsis, dtype: object\n",
      "- Number of unique values: 23131\n",
      "- Unique values count: synopsis\n",
      "No synopsis has been added for this series yet.\\n\\nClick here to update this information.                                                                                                                                                                                                                                                                                                                                                                                                                                                                                                                                                                                                                                                                                                                                                                                                                                                                                                                                                                                                                                                                                                                                                                                                                                    24\n",
      "Furukawa Taku film.                                                                                                                                                                                                                                                                                                                                                                                                                                                                                                                                                                                                                                                                                                                                                                                                                                                                                                                                                                                                                                                                                                                                                                                                                                                                                                          12\n",
      "Film by Takashi Ito.                                                                                                                                                                                                                                                                                                                                                                                                                                                                                                                                                                                                                                                                                                                                                                                                                                                                                                                                                                                                                                                                                                                                                                                                                                                                                                         12\n",
      "A short animation by Taku Furukawa.                                                                                                                                                                                                                                                                                                                                                                                                                                                                                                                                                                                                                                                                                                                                                                                                                                                                                                                                                                                                                                                                                                                                                                                                                                                                                          10\n",
      "A short film by Okamoto Tadanari.                                                                                                                                                                                                                                                                                                                                                                                                                                                                                                                                                                                                                                                                                                                                                                                                                                                                                                                                                                                                                                                                                                                                                                                                                                                                                             7\n",
      "                                                                                                                                                                                                                                                                                                                                                                                                                                                                                                                                                                                                                                                                                                                                                                                                                                                                                                                                                                                                                                                                                                                                                                                                                                                                                                                             ..\n",
      "Shinji Ikari is left emotionally comatose after the death of a dear friend. With his son mentally unable to pilot the humanoid robot Evangelion Unit-01, Gendou Ikari's NERV races against the shadow organization SEELE to see who can enact their ultimate plan first. SEELE desires to create a godlike being by fusing their own souls into an Evangelion unit, while Gendou wishes to revert all of humanity into one primordial being so that he can be reunited with Yui, his deceased wife.\\n\\nSEELE unleashes its military forces in a lethal invasion of NERV headquarters. As SEELE's forces cut down NERV's scientists and security personnel, Asuka Langley Souryuu pilots Evangelion Unit-02 in a desperate last stand against SEELE's heaviest weaponry.\\n\\nThe battle rages on, and a depressed Shinji hides deep within NERV's headquarters. With the fate of the world resting in Shinji's hands, Captain Misato Katsuragi hunts for the teenage boy as society crumbles around them.\\n\\n[Written by MAL Rewrite]                                                                                                                                                                                                                                                                                           1\n",
      "Guts, a man who will one day be known as the Black Swordsman, is a young traveling mercenary characterized by the large greatsword he carries. He accepts jobs that offer the most money, but he never stays with one group for long—until he encounters the Band of the Falcon. Ambushed after completing a job, Guts crushes many of its members in combat. Griffith, The Band of the Falcon's leader and founder, takes an interest in Guts and duels him. While the others are no match for Guts, Griffith defeats him in one blow.\\n\\nIncapacitated and taken into the Band of the Falcon's camp to recover, Guts wakes up two days later. He confronts Griffith, and the two duel yet again, only this time with a condition: Guts will join the Band of the Falcon if he loses. Due to his fresh injuries, Guts loses the fight and is inducted by Griffith.\\n\\nIn three years' time, Guts has become one of the Band of the Falcon's commanders. On the battlefield, his combat prowess is second only to Griffith as he takes on large groups of enemies all on his own. With Guts' immense strength and Griffith's leadership, the Band of the Falcon dominate every battle they partake in. But something menacing lurks in the shadows, threatening to change Guts' life forever.\\n\\n[Written by MAL Rewrite]     1\n",
      "Mithril, a covert military institution using state-of-the-art technology to combat terrorist operations, assigns a specialized team to a sensitive mission. Under the command of superior officer Melissa Mao, sergeants Sousuke Sagara and Kurz Weber must secretly protect Kaname Chidori—a teenage girl who unconsciously holds breakthrough scientific knowledge and is considered a \"Whispered\"—from intelligence agencies and other organizations pursuing her abilities.\\n\\nWhile Kurz and Melissa are to assist him remotely, Sousuke enrolls at Kaname's high school as one of her classmates to closely monitor her. However, his militaristic upbringing and poor social skills lead to a difficult adjustment to civilian life. Not only does he attract unnecessary attention, but his actions frequently make Kaname suspicious of him.\\n\\nDespite the earnest attempts to fulfill his duty, a terrorist ambush further complicates Sousuke's task. Recognizing the vicious mastermind behind the assault, Sousuke abandons his orders to ensure Kaname's safety.\\n\\n[Written by MAL Rewrite]                                                                                                                                                                                                                   1\n",
      "When mankind's savagery surpasses his fear of death, there is little hope for those who wish to live honest lives. Beneath a full moon, a young boy witnesses the murder of the bandits who had enslaved him, and is then christened with a new name by the man who rescued him. This boy is Shinta, now known as Kenshin Himura, and he is destined to become a swordsman. The softness of his heart does not befit the occupation, but his desire to protect the innocent is absolute.\\n\\nRurouni Kenshin: Meiji Kenkaku Romantan - Tsuioku-hen details the origins of the man who would bear the name of Hitokiri Battousai long before he swore his oath not to kill and before he earned his reputation as an assassin. The young man's heart is divided between justice and corruption, while the fate of a nation rests on his actions.\\n\\n[Written by MAL Rewrite]                                                                                                                                                                                                                                                                                                                                                                                                                                                    1\n",
      "Shy, reserved, and small-statured, Deimon High School student Sena Kobayakawa is the perfect target for bullies. However, as a result of running errands throughout his life, Sena has become agile and developed a skill for avoiding crowds of people. After the cunning Youichi Hiruma—captain of the Deimon Devil Bats football team—witnesses Sena's rapid legs in motion, he coerces the timid boy into joining his squad.\\n\\nAs Hiruma wants to conceal Sena's identity from other clubs, Sena is forced to hide under the visored helmet of \"Eyeshield 21,\" a mysterious running back wearing the number 21 jersey. The legendary Eyeshield 21 can supposedly run at the speed of light and has achieved remarkable feats in the United States during his time at the Notre Dame College.\\n\\nAccustomed to avoiding his problems in the past, Sena's specialty might just help him become the new secret weapon of the Deimon Devil Bats. As he interacts with his teammates, Sena gradually gains more self-confidence and forges valuable bonds along the way.\\n\\n[Written by MAL Rewrite]                                                                                                                                                                                                                          1\n",
      "Name: count, Length: 23131, dtype: int64\n",
      "- Numer of missing values: 5050\n",
      "Number of missing values after cleaning: 0\n"
     ]
    }
   ],
   "source": [
    "describe_feature(data, 'synopsis')\n",
    "\n",
    "# Replacing missing values with the 'No synopsis has been added for this series yet.\\n\\nClick here to update this information.\n",
    "\n",
    "data['synopsis'] = data.apply(lambda row: row['synopsis'] if pd.notnull(row['synopsis']) else 'No synopsis has been added for this series yet.\\n\\nClick here to update this information.', axis=1)\n",
    "print(f\"Number of missing values after cleaning: {data['synopsis'].isna().sum().sum()}\")"
   ]
  },
  {
   "cell_type": "markdown",
   "id": "2055dfdf",
   "metadata": {},
   "source": [
    "**Feature `month`**"
   ]
  },
  {
   "cell_type": "code",
   "execution_count": 1434,
   "id": "324c972d",
   "metadata": {},
   "outputs": [
    {
     "name": "stdout",
     "output_type": "stream",
     "text": [
      "- Type: float64\n",
      "- First 5 rows:\n",
      " 0    4.0\n",
      "1    9.0\n",
      "2    4.0\n",
      "3    7.0\n",
      "4    9.0\n",
      "Name: month, dtype: float64\n",
      "- Last 5 Rows: \n",
      " 28673    6.0\n",
      "28674    6.0\n",
      "28675    6.0\n",
      "28676    1.0\n",
      "28677    NaN\n",
      "Name: month, dtype: float64\n",
      "- Number of unique values: 12\n",
      "- Unique values count: month\n",
      "1.0     5745\n",
      "4.0     3265\n",
      "10.0    3108\n",
      "7.0     2780\n",
      "12.0    1994\n",
      "3.0     1945\n",
      "8.0     1722\n",
      "6.0     1522\n",
      "9.0     1492\n",
      "2.0     1478\n",
      "11.0    1327\n",
      "5.0     1208\n",
      "Name: count, dtype: int64\n",
      "- Numer of missing values: 878\n",
      "- Min: 1.0\n",
      "- Max: 12.0\n",
      "- Mean: 5.7651344885086635\n",
      "- Median: 6.0\n",
      "- Mode: 0    1.0\n",
      "Name: month, dtype: float64\n",
      "- Std: 3.688561385580887 \n"
     ]
    }
   ],
   "source": [
    "describe_feature(data, 'month')"
   ]
  },
  {
   "cell_type": "markdown",
   "id": "d51a583f",
   "metadata": {},
   "source": [
    "Cant really do the anything about missing values here"
   ]
  },
  {
   "cell_type": "markdown",
   "id": "1afece56",
   "metadata": {},
   "source": [
    "**Feature `year`**"
   ]
  },
  {
   "cell_type": "code",
   "execution_count": 1435,
   "id": "397e65d8",
   "metadata": {},
   "outputs": [
    {
     "name": "stdout",
     "output_type": "stream",
     "text": [
      "- Type: float64\n",
      "- First 5 rows:\n",
      " 0    1998.0\n",
      "1    2001.0\n",
      "2    1998.0\n",
      "3    2002.0\n",
      "4    2004.0\n",
      "Name: year, dtype: float64\n",
      "- Last 5 Rows: \n",
      " 28673    2025.0\n",
      "28674    2025.0\n",
      "28675    2025.0\n",
      "28676    2027.0\n",
      "28677       NaN\n",
      "Name: year, dtype: float64\n",
      "- Number of unique values: 108\n",
      "- Unique values count: year\n",
      "2017.0    1257\n",
      "2021.0    1237\n",
      "2022.0    1231\n",
      "2016.0    1227\n",
      "2019.0    1217\n",
      "          ... \n",
      "1937.0       2\n",
      "1945.0       1\n",
      "1944.0       1\n",
      "1923.0       1\n",
      "1922.0       1\n",
      "Name: count, Length: 108, dtype: int64\n",
      "- Numer of missing values: 878\n",
      "- Min: 1917.0\n",
      "- Max: 2027.0\n",
      "- Mean: 2008.9338795040962\n",
      "- Median: 2013.0\n",
      "- Mode: 0    2017.0\n",
      "Name: year, dtype: float64\n",
      "- Std: 15.054737172612207 \n"
     ]
    }
   ],
   "source": [
    "describe_feature(data, 'year')"
   ]
  },
  {
   "cell_type": "markdown",
   "id": "9efb1cf8",
   "metadata": {},
   "source": [
    "Can't really do anything about missing values here"
   ]
  },
  {
   "cell_type": "markdown",
   "id": "6ac129da",
   "metadata": {},
   "source": [
    "**Feature `season`**"
   ]
  },
  {
   "cell_type": "code",
   "execution_count": 1436,
   "id": "a51c4dda",
   "metadata": {},
   "outputs": [
    {
     "name": "stdout",
     "output_type": "stream",
     "text": [
      "- Type: object\n",
      "- First 5 rows:\n",
      " 0    spring\n",
      "1       NaN\n",
      "2    spring\n",
      "3    summer\n",
      "4      fall\n",
      "Name: season, dtype: object\n",
      "- Last 5 Rows: \n",
      " 28673    NaN\n",
      "28674    NaN\n",
      "28675    NaN\n",
      "28676    NaN\n",
      "28677    NaN\n",
      "Name: season, dtype: object\n",
      "- Number of unique values: 4\n",
      "- Unique values count: season\n",
      "spring    1951\n",
      "fall      1786\n",
      "winter    1268\n",
      "summer    1144\n",
      "Name: count, dtype: int64\n",
      "- Numer of missing values: 22315\n"
     ]
    }
   ],
   "source": [
    "describe_feature(data, 'season')"
   ]
  },
  {
   "cell_type": "markdown",
   "id": "e9697047",
   "metadata": {},
   "source": [
    "Notice there are 22315 missing values for season and only 878 missing values for month. Thus using month we can find the season \n",
    "reducing the amount of missing values to 878. So let's create a new feature\n",
    "\n",
    "Season: Months (numeric)\n",
    "- `Winter`: 1 - 3\n",
    "- `Spring`: 4 - 6\n",
    "- `Summer`: 7 - 9\n",
    "- `Fall`: 10 - 12"
   ]
  },
  {
   "cell_type": "code",
   "execution_count": 1437,
   "id": "be17159a",
   "metadata": {},
   "outputs": [],
   "source": [
    "def label_season(row):\n",
    "    if pd.notnull(row['season']):\n",
    "        return row['season'].title()\n",
    "    elif row['month'] in [12, 1, 2]:\n",
    "        return 'Winter'\n",
    "    elif 3 <= row['month'] <= 5:\n",
    "        return 'Spring'\n",
    "    elif 6 <= row['month'] <= 8:\n",
    "        return 'Summer'\n",
    "    elif 9 <= row['month'] <= 11:\n",
    "        return \"Fall\"\n",
    "    else:\n",
    "        return\n",
    "\n",
    "data['new_season'] = data.apply(label_season, axis=1) \n",
    "data['new_season'] = data.apply(lambda row: row['new_season'] if pd.notnull(row['new_season']) else \"Unknown\", axis=1)"
   ]
  },
  {
   "cell_type": "markdown",
   "id": "df510d6f",
   "metadata": {},
   "source": [
    "**Feature `licensors`**"
   ]
  },
  {
   "cell_type": "code",
   "execution_count": 1438,
   "id": "f34e3cea",
   "metadata": {},
   "outputs": [
    {
     "name": "stdout",
     "output_type": "stream",
     "text": [
      "- Type: object\n",
      "- First 5 rows:\n",
      " 0                                   ['Funimation']\n",
      "1    ['Sony Pictures Entertainment', 'Funimation']\n",
      "2                                   ['Funimation']\n",
      "3           ['Funimation', 'Bandai Entertainment']\n",
      "4                     ['Illumitoon Entertainment']\n",
      "Name: licensors, dtype: object\n",
      "- Last 5 Rows: \n",
      " 28673    []\n",
      "28674    []\n",
      "28675    []\n",
      "28676    []\n",
      "28677    []\n",
      "Name: licensors, dtype: object\n",
      "- Number of unique values: 301\n",
      "- Unique values count: licensors\n",
      "[]                                       23331\n",
      "['Funimation']                             979\n",
      "['Sentai Filmworks']                       868\n",
      "['Discotek Media']                         301\n",
      "['Aniplex of America']                     252\n",
      "                                         ...  \n",
      "['Crunchyroll', 'Muse Communication']        1\n",
      "['Aniplex of America', 'Crunchyroll']        1\n",
      "['Bandai Namco Online']                      1\n",
      "['King Records']                             1\n",
      "['Toho International']                       1\n",
      "Name: count, Length: 301, dtype: int64\n",
      "- Numer of missing values: 0\n"
     ]
    }
   ],
   "source": [
    "describe_feature(data, 'licensors')"
   ]
  },
  {
   "cell_type": "markdown",
   "id": "c6b0f4a5",
   "metadata": {},
   "source": [
    "**Feature `producers`**"
   ]
  },
  {
   "cell_type": "code",
   "execution_count": 1439,
   "id": "8a69cd16",
   "metadata": {},
   "outputs": [
    {
     "name": "stdout",
     "output_type": "stream",
     "text": [
      "- Type: object\n",
      "- First 5 rows:\n",
      " 0    ['Bandai Visual', 'Victor Entertainment', 'Aud...\n",
      "1                         ['Sunrise', 'Bandai Visual']\n",
      "2                             ['Victor Entertainment']\n",
      "3    ['Bandai Visual', 'Dentsu', 'Victor Entertainm...\n",
      "4                               ['TV Tokyo', 'Dentsu']\n",
      "Name: producers, dtype: object\n",
      "- Last 5 Rows: \n",
      " 28673                            []\n",
      "28674                            []\n",
      "28675                            []\n",
      "28676    ['Bandai Namco Filmworks']\n",
      "28677                            []\n",
      "Name: producers, dtype: object\n",
      "- Number of unique values: 5132\n",
      "- Unique values count: producers\n",
      "[]                                                           15025\n",
      "['NHK']                                                       1179\n",
      "['Pink Pineapple']                                             273\n",
      "['Sanrio']                                                     180\n",
      "['bilibili']                                                   158\n",
      "                                                             ...  \n",
      "['Toyro Music', 'Shimadzu Corporation']                          1\n",
      "['TMS Entertainment', 'Yomiuri Telecasting', 'Group TAC']        1\n",
      "['Warner Music Japan', 'Tsubasa Records']                        1\n",
      "['Kadokawa Animation']                                           1\n",
      "['Fuji TV', 'TAP', 'Shueisha']                                   1\n",
      "Name: count, Length: 5132, dtype: int64\n",
      "- Numer of missing values: 0\n"
     ]
    }
   ],
   "source": [
    "describe_feature(data, 'producers')"
   ]
  },
  {
   "cell_type": "markdown",
   "id": "88fb1a1e",
   "metadata": {},
   "source": [
    "**Feature `studios`**"
   ]
  },
  {
   "cell_type": "code",
   "execution_count": 1440,
   "id": "5c8abead",
   "metadata": {},
   "outputs": [
    {
     "name": "stdout",
     "output_type": "stream",
     "text": [
      "- Type: object\n",
      "- First 5 rows:\n",
      " 0           ['Sunrise']\n",
      "1             ['Bones']\n",
      "2          ['Madhouse']\n",
      "3           ['Sunrise']\n",
      "4    ['Toei Animation']\n",
      "Name: studios, dtype: object\n",
      "- Last 5 Rows: \n",
      " 28673              []\n",
      "28674              []\n",
      "28675              []\n",
      "28676    ['Madhouse']\n",
      "28677              []\n",
      "Name: studios, dtype: object\n",
      "- Number of unique values: 1870\n",
      "- Unique values count: studios\n",
      "[]                                       11536\n",
      "['Toei Animation']                         875\n",
      "['Sunrise']                                556\n",
      "['J.C.Staff']                              412\n",
      "['TMS Entertainment']                      364\n",
      "                                         ...  \n",
      "['Yumeta Company', 'Maru Animation']         1\n",
      "['Tatsunoko Production', 'SynergySP']        1\n",
      "['Studio GOONEYS', 'Honoo']                  1\n",
      "['studio42']                                 1\n",
      "['Raiose']                                   1\n",
      "Name: count, Length: 1870, dtype: int64\n",
      "- Numer of missing values: 0\n"
     ]
    }
   ],
   "source": [
    "describe_feature(data, 'studios')"
   ]
  },
  {
   "cell_type": "markdown",
   "id": "3d79f4fb",
   "metadata": {},
   "source": [
    "**Feature `genres`**"
   ]
  },
  {
   "cell_type": "code",
   "execution_count": 1441,
   "id": "c3cd18c3",
   "metadata": {},
   "outputs": [
    {
     "name": "stdout",
     "output_type": "stream",
     "text": [
      "- Type: object\n",
      "- First 5 rows:\n",
      " 0             ['Action', 'Award Winning', 'Sci-Fi']\n",
      "1                              ['Action', 'Sci-Fi']\n",
      "2                 ['Action', 'Adventure', 'Sci-Fi']\n",
      "3    ['Action', 'Drama', 'Mystery', 'Supernatural']\n",
      "4                ['Action', 'Adventure', 'Fantasy']\n",
      "Name: genres, dtype: object\n",
      "- Last 5 Rows: \n",
      " 28673                        []\n",
      "28674                        []\n",
      "28675                        []\n",
      "28676                        []\n",
      "28677    ['Fantasy', 'Romance']\n",
      "Name: genres, dtype: object\n",
      "- Number of unique values: 930\n",
      "- Unique values count: genres\n",
      "[]                                                                                 5875\n",
      "['Comedy']                                                                         2681\n",
      "['Fantasy']                                                                        1458\n",
      "['Hentai']                                                                         1286\n",
      "['Slice of Life']                                                                   821\n",
      "                                                                                   ... \n",
      "['Avant Garde', 'Comedy', 'Supernatural']                                             1\n",
      "['Action', 'Adventure', 'Comedy', 'Drama', 'Mystery', 'Sci-Fi', 'Supernatural']       1\n",
      "['Action', 'Adventure', 'Mystery', 'Supernatural', 'Suspense']                        1\n",
      "['Action', 'Award Winning', 'Comedy', 'Sci-Fi']                                       1\n",
      "['Action', 'Avant Garde', 'Award Winning', 'Drama', 'Sci-Fi', 'Suspense']             1\n",
      "Name: count, Length: 930, dtype: int64\n",
      "- Numer of missing values: 0\n"
     ]
    }
   ],
   "source": [
    "describe_feature(data, 'genres')"
   ]
  },
  {
   "cell_type": "markdown",
   "id": "bfcda87d",
   "metadata": {},
   "source": [
    "**Feature `themes`**"
   ]
  },
  {
   "cell_type": "code",
   "execution_count": 1442,
   "id": "142d6e0d",
   "metadata": {},
   "outputs": [
    {
     "name": "stdout",
     "output_type": "stream",
     "text": [
      "- Type: object\n",
      "- First 5 rows:\n",
      " 0    ['Adult Cast', 'Space']\n",
      "1    ['Adult Cast', 'Space']\n",
      "2             ['Adult Cast']\n",
      "3              ['Detective']\n",
      "4                         []\n",
      "Name: themes, dtype: object\n",
      "- Last 5 Rows: \n",
      " 28673                   ['Music']\n",
      "28674                   ['Music']\n",
      "28675    ['Educational', 'Music']\n",
      "28676                          []\n",
      "28677                          []\n",
      "Name: themes, dtype: object\n",
      "- Number of unique values: 1026\n",
      "- Unique values count: themes\n",
      "[]                                                 11722\n",
      "['Music']                                           3917\n",
      "['School']                                           901\n",
      "['Anthropomorphic']                                  873\n",
      "['Historical']                                       850\n",
      "                                                   ...  \n",
      "['Idols (Female)', 'Music', 'Parody', 'School']        1\n",
      "['Childcare', 'Love Status Quo']                       1\n",
      "['Anthropomorphic', 'School', 'Urban Fantasy']         1\n",
      "['Pets', 'Workplace']                                  1\n",
      "['Adult Cast', 'Music', 'Time Travel']                 1\n",
      "Name: count, Length: 1026, dtype: int64\n",
      "- Numer of missing values: 0\n"
     ]
    }
   ],
   "source": [
    "describe_feature(data, 'themes')"
   ]
  },
  {
   "cell_type": "markdown",
   "id": "7cb28050",
   "metadata": {},
   "source": [
    "# Fianl Preprocessing"
   ]
  },
  {
   "cell_type": "markdown",
   "id": "902a9415",
   "metadata": {},
   "source": [
    "**Dataset for visualzation**"
   ]
  },
  {
   "cell_type": "code",
   "execution_count": 1443,
   "id": "4fc212f3",
   "metadata": {},
   "outputs": [],
   "source": [
    "\n",
    "vis_data = data[data['status'] != \"Not yet aired\"]\n",
    "vis_data = vis_data.drop(columns={'season', 'rating'})\n",
    "vis_data = vis_data.rename(columns={'new_season': 'season', 'new_rating': 'rating'})"
   ]
  },
  {
   "cell_type": "markdown",
   "id": "540036f6",
   "metadata": {},
   "source": [
    "Now let's sort the columns"
   ]
  },
  {
   "cell_type": "code",
   "execution_count": 1444,
   "id": "97f059ec",
   "metadata": {},
   "outputs": [
    {
     "data": {
      "text/plain": [
       "Index(['mal_id', 'title', 'title_en', 'title_synonyms', 'type', 'source',\n",
       "       'episodes', 'status', 'airing', 'duration', 'score', 'scored_by',\n",
       "       'rank', 'popularity', 'members', 'favorites', 'synopsis', 'year',\n",
       "       'month', 'licensors', 'producers', 'studios', 'genres', 'themes',\n",
       "       'rating', 'season'],\n",
       "      dtype='object')"
      ]
     },
     "execution_count": 1444,
     "metadata": {},
     "output_type": "execute_result"
    }
   ],
   "source": [
    "vis_data.columns"
   ]
  },
  {
   "cell_type": "code",
   "execution_count": null,
   "id": "7eb3b3e9",
   "metadata": {},
   "outputs": [
    {
     "data": {
      "text/html": [
       "<div>\n",
       "<style scoped>\n",
       "    .dataframe tbody tr th:only-of-type {\n",
       "        vertical-align: middle;\n",
       "    }\n",
       "\n",
       "    .dataframe tbody tr th {\n",
       "        vertical-align: top;\n",
       "    }\n",
       "\n",
       "    .dataframe thead th {\n",
       "        text-align: right;\n",
       "    }\n",
       "</style>\n",
       "<table border=\"1\" class=\"dataframe\">\n",
       "  <thead>\n",
       "    <tr style=\"text-align: right;\">\n",
       "      <th></th>\n",
       "      <th>mal_id</th>\n",
       "      <th>title</th>\n",
       "      <th>title_en</th>\n",
       "      <th>title_synonyms</th>\n",
       "      <th>type</th>\n",
       "      <th>source</th>\n",
       "      <th>status</th>\n",
       "      <th>airing</th>\n",
       "      <th>month</th>\n",
       "      <th>year</th>\n",
       "      <th>...</th>\n",
       "      <th>rank</th>\n",
       "      <th>members</th>\n",
       "      <th>popularity</th>\n",
       "      <th>favorites</th>\n",
       "      <th>genres</th>\n",
       "      <th>themes</th>\n",
       "      <th>rating</th>\n",
       "      <th>licensors</th>\n",
       "      <th>producers</th>\n",
       "      <th>studios</th>\n",
       "    </tr>\n",
       "  </thead>\n",
       "  <tbody>\n",
       "    <tr>\n",
       "      <th>0</th>\n",
       "      <td>1</td>\n",
       "      <td>Cowboy Bebop</td>\n",
       "      <td>Cowboy Bebop</td>\n",
       "      <td>[]</td>\n",
       "      <td>TV</td>\n",
       "      <td>Original</td>\n",
       "      <td>Finished Airing</td>\n",
       "      <td>False</td>\n",
       "      <td>4.0</td>\n",
       "      <td>1998.0</td>\n",
       "      <td>...</td>\n",
       "      <td>46.0</td>\n",
       "      <td>1974537</td>\n",
       "      <td>42</td>\n",
       "      <td>86585</td>\n",
       "      <td>['Action', 'Award Winning', 'Sci-Fi']</td>\n",
       "      <td>['Adult Cast', 'Space']</td>\n",
       "      <td>R</td>\n",
       "      <td>['Funimation']</td>\n",
       "      <td>['Bandai Visual', 'Victor Entertainment', 'Aud...</td>\n",
       "      <td>['Sunrise']</td>\n",
       "    </tr>\n",
       "    <tr>\n",
       "      <th>1</th>\n",
       "      <td>5</td>\n",
       "      <td>Cowboy Bebop: Tengoku no Tobira</td>\n",
       "      <td>Cowboy Bebop: The Movie</td>\n",
       "      <td>[\"Cowboy Bebop: Knockin' on Heaven's Door\"]</td>\n",
       "      <td>Movie</td>\n",
       "      <td>Original</td>\n",
       "      <td>Finished Airing</td>\n",
       "      <td>False</td>\n",
       "      <td>9.0</td>\n",
       "      <td>2001.0</td>\n",
       "      <td>...</td>\n",
       "      <td>209.0</td>\n",
       "      <td>397918</td>\n",
       "      <td>642</td>\n",
       "      <td>1708</td>\n",
       "      <td>['Action', 'Sci-Fi']</td>\n",
       "      <td>['Adult Cast', 'Space']</td>\n",
       "      <td>R</td>\n",
       "      <td>['Sony Pictures Entertainment', 'Funimation']</td>\n",
       "      <td>['Sunrise', 'Bandai Visual']</td>\n",
       "      <td>['Bones']</td>\n",
       "    </tr>\n",
       "    <tr>\n",
       "      <th>2</th>\n",
       "      <td>6</td>\n",
       "      <td>Trigun</td>\n",
       "      <td>Trigun</td>\n",
       "      <td>[]</td>\n",
       "      <td>TV</td>\n",
       "      <td>Manga</td>\n",
       "      <td>Finished Airing</td>\n",
       "      <td>False</td>\n",
       "      <td>4.0</td>\n",
       "      <td>1998.0</td>\n",
       "      <td>...</td>\n",
       "      <td>372.0</td>\n",
       "      <td>802844</td>\n",
       "      <td>260</td>\n",
       "      <td>16846</td>\n",
       "      <td>['Action', 'Adventure', 'Sci-Fi']</td>\n",
       "      <td>['Adult Cast']</td>\n",
       "      <td>PG-13</td>\n",
       "      <td>['Funimation']</td>\n",
       "      <td>['Victor Entertainment']</td>\n",
       "      <td>['Madhouse']</td>\n",
       "    </tr>\n",
       "    <tr>\n",
       "      <th>3</th>\n",
       "      <td>7</td>\n",
       "      <td>Witch Hunter Robin</td>\n",
       "      <td>Witch Hunter Robin</td>\n",
       "      <td>['WHR']</td>\n",
       "      <td>TV</td>\n",
       "      <td>Original</td>\n",
       "      <td>Finished Airing</td>\n",
       "      <td>False</td>\n",
       "      <td>7.0</td>\n",
       "      <td>2002.0</td>\n",
       "      <td>...</td>\n",
       "      <td>3223.0</td>\n",
       "      <td>123350</td>\n",
       "      <td>1949</td>\n",
       "      <td>671</td>\n",
       "      <td>['Action', 'Drama', 'Mystery', 'Supernatural']</td>\n",
       "      <td>['Detective']</td>\n",
       "      <td>PG-13</td>\n",
       "      <td>['Funimation', 'Bandai Entertainment']</td>\n",
       "      <td>['Bandai Visual', 'Dentsu', 'Victor Entertainm...</td>\n",
       "      <td>['Sunrise']</td>\n",
       "    </tr>\n",
       "    <tr>\n",
       "      <th>4</th>\n",
       "      <td>8</td>\n",
       "      <td>Bouken Ou Beet</td>\n",
       "      <td>Beet the Vandel Buster</td>\n",
       "      <td>['Adventure King Beet']</td>\n",
       "      <td>TV</td>\n",
       "      <td>Manga</td>\n",
       "      <td>Finished Airing</td>\n",
       "      <td>False</td>\n",
       "      <td>9.0</td>\n",
       "      <td>2004.0</td>\n",
       "      <td>...</td>\n",
       "      <td>4755.0</td>\n",
       "      <td>16303</td>\n",
       "      <td>5654</td>\n",
       "      <td>16</td>\n",
       "      <td>['Action', 'Adventure', 'Fantasy']</td>\n",
       "      <td>[]</td>\n",
       "      <td>PG</td>\n",
       "      <td>['Illumitoon Entertainment']</td>\n",
       "      <td>['TV Tokyo', 'Dentsu']</td>\n",
       "      <td>['Toei Animation']</td>\n",
       "    </tr>\n",
       "    <tr>\n",
       "      <th>...</th>\n",
       "      <td>...</td>\n",
       "      <td>...</td>\n",
       "      <td>...</td>\n",
       "      <td>...</td>\n",
       "      <td>...</td>\n",
       "      <td>...</td>\n",
       "      <td>...</td>\n",
       "      <td>...</td>\n",
       "      <td>...</td>\n",
       "      <td>...</td>\n",
       "      <td>...</td>\n",
       "      <td>...</td>\n",
       "      <td>...</td>\n",
       "      <td>...</td>\n",
       "      <td>...</td>\n",
       "      <td>...</td>\n",
       "      <td>...</td>\n",
       "      <td>...</td>\n",
       "      <td>...</td>\n",
       "      <td>...</td>\n",
       "      <td>...</td>\n",
       "    </tr>\n",
       "    <tr>\n",
       "      <th>28670</th>\n",
       "      <td>61796</td>\n",
       "      <td>Damashi Ai</td>\n",
       "      <td>Damashi Ai</td>\n",
       "      <td>['Damashiai']</td>\n",
       "      <td>Music</td>\n",
       "      <td>Original</td>\n",
       "      <td>Finished Airing</td>\n",
       "      <td>False</td>\n",
       "      <td>6.0</td>\n",
       "      <td>2025.0</td>\n",
       "      <td>...</td>\n",
       "      <td>NaN</td>\n",
       "      <td>40</td>\n",
       "      <td>28436</td>\n",
       "      <td>0</td>\n",
       "      <td>[]</td>\n",
       "      <td>['Music']</td>\n",
       "      <td>PG-13</td>\n",
       "      <td>[]</td>\n",
       "      <td>[]</td>\n",
       "      <td>[]</td>\n",
       "    </tr>\n",
       "    <tr>\n",
       "      <th>28671</th>\n",
       "      <td>61802</td>\n",
       "      <td>Dream Believers (Sakura Ver.)</td>\n",
       "      <td>Dream Believers (Sakura Ver.)</td>\n",
       "      <td>[]</td>\n",
       "      <td>Music</td>\n",
       "      <td>Other</td>\n",
       "      <td>Finished Airing</td>\n",
       "      <td>False</td>\n",
       "      <td>6.0</td>\n",
       "      <td>2025.0</td>\n",
       "      <td>...</td>\n",
       "      <td>NaN</td>\n",
       "      <td>45</td>\n",
       "      <td>28427</td>\n",
       "      <td>0</td>\n",
       "      <td>[]</td>\n",
       "      <td>['Idols (Female)', 'Music']</td>\n",
       "      <td></td>\n",
       "      <td>[]</td>\n",
       "      <td>[]</td>\n",
       "      <td>[]</td>\n",
       "    </tr>\n",
       "    <tr>\n",
       "      <th>28673</th>\n",
       "      <td>61810</td>\n",
       "      <td>Sora</td>\n",
       "      <td>Sora</td>\n",
       "      <td>['Minna no Uta']</td>\n",
       "      <td>Music</td>\n",
       "      <td>Original</td>\n",
       "      <td>Finished Airing</td>\n",
       "      <td>False</td>\n",
       "      <td>6.0</td>\n",
       "      <td>2025.0</td>\n",
       "      <td>...</td>\n",
       "      <td>NaN</td>\n",
       "      <td>2</td>\n",
       "      <td>28463</td>\n",
       "      <td>0</td>\n",
       "      <td>[]</td>\n",
       "      <td>['Music']</td>\n",
       "      <td>G</td>\n",
       "      <td>[]</td>\n",
       "      <td>[]</td>\n",
       "      <td>[]</td>\n",
       "    </tr>\n",
       "    <tr>\n",
       "      <th>28674</th>\n",
       "      <td>61811</td>\n",
       "      <td>Shikushiku</td>\n",
       "      <td>Shikushiku</td>\n",
       "      <td>['Minna no Uta']</td>\n",
       "      <td>Music</td>\n",
       "      <td>Original</td>\n",
       "      <td>Finished Airing</td>\n",
       "      <td>False</td>\n",
       "      <td>6.0</td>\n",
       "      <td>2025.0</td>\n",
       "      <td>...</td>\n",
       "      <td>NaN</td>\n",
       "      <td>2</td>\n",
       "      <td>28462</td>\n",
       "      <td>0</td>\n",
       "      <td>[]</td>\n",
       "      <td>['Music']</td>\n",
       "      <td>G</td>\n",
       "      <td>[]</td>\n",
       "      <td>[]</td>\n",
       "      <td>[]</td>\n",
       "    </tr>\n",
       "    <tr>\n",
       "      <th>28675</th>\n",
       "      <td>61812</td>\n",
       "      <td>Plants Song</td>\n",
       "      <td>Plants Song</td>\n",
       "      <td>[]</td>\n",
       "      <td>Music</td>\n",
       "      <td>Original</td>\n",
       "      <td>Finished Airing</td>\n",
       "      <td>False</td>\n",
       "      <td>6.0</td>\n",
       "      <td>2025.0</td>\n",
       "      <td>...</td>\n",
       "      <td>NaN</td>\n",
       "      <td>1</td>\n",
       "      <td>28461</td>\n",
       "      <td>0</td>\n",
       "      <td>[]</td>\n",
       "      <td>['Educational', 'Music']</td>\n",
       "      <td>G</td>\n",
       "      <td>[]</td>\n",
       "      <td>[]</td>\n",
       "      <td>[]</td>\n",
       "    </tr>\n",
       "  </tbody>\n",
       "</table>\n",
       "<p>27940 rows × 25 columns</p>\n",
       "</div>"
      ],
      "text/plain": [
       "       mal_id                            title                       title_en  \\\n",
       "0           1                     Cowboy Bebop                   Cowboy Bebop   \n",
       "1           5  Cowboy Bebop: Tengoku no Tobira        Cowboy Bebop: The Movie   \n",
       "2           6                           Trigun                         Trigun   \n",
       "3           7               Witch Hunter Robin             Witch Hunter Robin   \n",
       "4           8                   Bouken Ou Beet         Beet the Vandel Buster   \n",
       "...       ...                              ...                            ...   \n",
       "28670   61796                       Damashi Ai                     Damashi Ai   \n",
       "28671   61802    Dream Believers (Sakura Ver.)  Dream Believers (Sakura Ver.)   \n",
       "28673   61810                             Sora                           Sora   \n",
       "28674   61811                       Shikushiku                     Shikushiku   \n",
       "28675   61812                      Plants Song                    Plants Song   \n",
       "\n",
       "                                    title_synonyms   type    source  \\\n",
       "0                                               []     TV  Original   \n",
       "1      [\"Cowboy Bebop: Knockin' on Heaven's Door\"]  Movie  Original   \n",
       "2                                               []     TV     Manga   \n",
       "3                                          ['WHR']     TV  Original   \n",
       "4                          ['Adventure King Beet']     TV     Manga   \n",
       "...                                            ...    ...       ...   \n",
       "28670                                ['Damashiai']  Music  Original   \n",
       "28671                                           []  Music     Other   \n",
       "28673                             ['Minna no Uta']  Music  Original   \n",
       "28674                             ['Minna no Uta']  Music  Original   \n",
       "28675                                           []  Music  Original   \n",
       "\n",
       "                status  airing  month    year  ...    rank  members  \\\n",
       "0      Finished Airing   False    4.0  1998.0  ...    46.0  1974537   \n",
       "1      Finished Airing   False    9.0  2001.0  ...   209.0   397918   \n",
       "2      Finished Airing   False    4.0  1998.0  ...   372.0   802844   \n",
       "3      Finished Airing   False    7.0  2002.0  ...  3223.0   123350   \n",
       "4      Finished Airing   False    9.0  2004.0  ...  4755.0    16303   \n",
       "...                ...     ...    ...     ...  ...     ...      ...   \n",
       "28670  Finished Airing   False    6.0  2025.0  ...     NaN       40   \n",
       "28671  Finished Airing   False    6.0  2025.0  ...     NaN       45   \n",
       "28673  Finished Airing   False    6.0  2025.0  ...     NaN        2   \n",
       "28674  Finished Airing   False    6.0  2025.0  ...     NaN        2   \n",
       "28675  Finished Airing   False    6.0  2025.0  ...     NaN        1   \n",
       "\n",
       "      popularity  favorites                                          genres  \\\n",
       "0             42      86585           ['Action', 'Award Winning', 'Sci-Fi']   \n",
       "1            642       1708                            ['Action', 'Sci-Fi']   \n",
       "2            260      16846               ['Action', 'Adventure', 'Sci-Fi']   \n",
       "3           1949        671  ['Action', 'Drama', 'Mystery', 'Supernatural']   \n",
       "4           5654         16              ['Action', 'Adventure', 'Fantasy']   \n",
       "...          ...        ...                                             ...   \n",
       "28670      28436          0                                              []   \n",
       "28671      28427          0                                              []   \n",
       "28673      28463          0                                              []   \n",
       "28674      28462          0                                              []   \n",
       "28675      28461          0                                              []   \n",
       "\n",
       "                            themes  rating  \\\n",
       "0          ['Adult Cast', 'Space']       R   \n",
       "1          ['Adult Cast', 'Space']       R   \n",
       "2                   ['Adult Cast']   PG-13   \n",
       "3                    ['Detective']   PG-13   \n",
       "4                               []      PG   \n",
       "...                            ...     ...   \n",
       "28670                    ['Music']   PG-13   \n",
       "28671  ['Idols (Female)', 'Music']           \n",
       "28673                    ['Music']       G   \n",
       "28674                    ['Music']       G   \n",
       "28675     ['Educational', 'Music']       G   \n",
       "\n",
       "                                           licensors  \\\n",
       "0                                     ['Funimation']   \n",
       "1      ['Sony Pictures Entertainment', 'Funimation']   \n",
       "2                                     ['Funimation']   \n",
       "3             ['Funimation', 'Bandai Entertainment']   \n",
       "4                       ['Illumitoon Entertainment']   \n",
       "...                                              ...   \n",
       "28670                                             []   \n",
       "28671                                             []   \n",
       "28673                                             []   \n",
       "28674                                             []   \n",
       "28675                                             []   \n",
       "\n",
       "                                               producers             studios  \n",
       "0      ['Bandai Visual', 'Victor Entertainment', 'Aud...         ['Sunrise']  \n",
       "1                           ['Sunrise', 'Bandai Visual']           ['Bones']  \n",
       "2                               ['Victor Entertainment']        ['Madhouse']  \n",
       "3      ['Bandai Visual', 'Dentsu', 'Victor Entertainm...         ['Sunrise']  \n",
       "4                                 ['TV Tokyo', 'Dentsu']  ['Toei Animation']  \n",
       "...                                                  ...                 ...  \n",
       "28670                                                 []                  []  \n",
       "28671                                                 []                  []  \n",
       "28673                                                 []                  []  \n",
       "28674                                                 []                  []  \n",
       "28675                                                 []                  []  \n",
       "\n",
       "[27940 rows x 25 columns]"
      ]
     },
     "execution_count": 1447,
     "metadata": {},
     "output_type": "execute_result"
    }
   ],
   "source": [
    "vis_data = vis_data[['mal_id', 'title', 'title_en', 'title_synonyms', 'type', 'source', 'status', 'airing', 'month', 'year', \n",
    "'season', 'episodes', 'duration', 'score', 'scored_by', 'rank', 'members','popularity', 'favorites', 'genres', 'themes', 'rating', \n",
    "'licensors', 'producers', 'studios']]"
   ]
  },
  {
   "cell_type": "markdown",
   "id": "5a567fce",
   "metadata": {},
   "source": [
    "**Dataset for Machine Learning**"
   ]
  },
  {
   "cell_type": "code",
   "execution_count": null,
   "id": "51e1f09c",
   "metadata": {},
   "outputs": [],
   "source": []
  }
 ],
 "metadata": {
  "kernelspec": {
   "display_name": "Python 3",
   "language": "python",
   "name": "python3"
  },
  "language_info": {
   "codemirror_mode": {
    "name": "ipython",
    "version": 3
   },
   "file_extension": ".py",
   "mimetype": "text/x-python",
   "name": "python",
   "nbconvert_exporter": "python",
   "pygments_lexer": "ipython3",
   "version": "3.11.9"
  }
 },
 "nbformat": 4,
 "nbformat_minor": 5
}
