{
 "cells": [
  {
   "cell_type": "markdown",
   "id": "c334d548",
   "metadata": {},
   "source": [
    "# **Preprocessing data for MAL Data Science Project**"
   ]
  },
  {
   "cell_type": "code",
   "execution_count": 1,
   "id": "8275d07a",
   "metadata": {},
   "outputs": [],
   "source": [
    "import pandas as pd\n",
    "import ast\n"
   ]
  },
  {
   "cell_type": "markdown",
   "id": "910a8a38",
   "metadata": {},
   "source": [
    "**Data reading** <br>\n",
    "The dataset was extracted using the file JikanScrapper. The objective of this notebook is to preprocess each feature in order for visualization and machine learning in the later stages"
   ]
  },
  {
   "cell_type": "code",
   "execution_count": 2,
   "id": "2ec1b9ce",
   "metadata": {},
   "outputs": [],
   "source": [
    "data = pd.read_csv('anime_data.csv')\n",
    "columns_to_exclude = ['explict_genres'] # There is a better year column and explict_genres is already in genres\n",
    "data = data.drop(columns=columns_to_exclude)\n"
   ]
  },
  {
   "cell_type": "markdown",
   "id": "a41a1d6c",
   "metadata": {},
   "source": [
    "# **1. Data exploration and cleaning the dataset** "
   ]
  },
  {
   "cell_type": "code",
   "execution_count": 37,
   "id": "b4609d42",
   "metadata": {},
   "outputs": [],
   "source": [
    "def describe_feature(data: pd.DataFrame, feature: str):\n",
    "    print(f\"- Type: {data.loc[:, feature].dtype}\")\n",
    "    print(f\"- First 5 rows:\\n {data[feature].head(5)}\")\n",
    "    print(f\"- Last 5 Rows: \\n {data[feature].tail(5)}\")\n",
    "    print(f\"- Number of unique values: {data[feature].nunique()}\")\n",
    "    print(f\"- Unique values count: {data[feature].value_counts()}\" )\n",
    "    print(f\"- Numer of missing values: {data.loc[:, feature].isna().sum()}\")\n",
    "    \n",
    "    if data[feature].dtype in ['int64', 'float64']:\n",
    "        print(f\"- Min: {data[feature].min()}\")\n",
    "        print(f\"- Max: {data[feature].max()}\")\n",
    "        print(f\"- Mean: {data[feature].mean()}\")\n",
    "        print(f\"- Median: {data[feature].median()}\")\n",
    "        print(f\"- Mode: {data[feature].mode()}\")\n",
    "        print(f\"- Std: {data[feature].std()} \")\n"
   ]
  },
  {
   "cell_type": "markdown",
   "id": "e7f584bf",
   "metadata": {},
   "source": [
    "Now let's understand the contents of the dataset"
   ]
  },
  {
   "cell_type": "code",
   "execution_count": 38,
   "id": "bb640e4c",
   "metadata": {},
   "outputs": [
    {
     "name": "stdout",
     "output_type": "stream",
     "text": [
      "Mal Anime Dataset\n",
      "Number of rows: 28480, Number of columns: 30\n",
      "Column names: Index(['mal_id', 'title', 'title_en', 'title_synonyms', 'type', 'source',\n",
      "       'episodes', 'status', 'airing', 'duration', 'rating', 'score',\n",
      "       'scored_by', 'rank', 'popularity', 'members', 'favorites', 'synopsis',\n",
      "       'season', 'year', 'month', 'day', 'licensors', 'producers', 'studios',\n",
      "       'genres', 'themes', 'demographics', 'new_rating', 'new_season'],\n",
      "      dtype='object')\n",
      "Number of missing values: 52292\n",
      "\n",
      "\n",
      "Number of rows: 28480, Number of columns: 30\n",
      "Column names: Index(['mal_id', 'title', 'title_en', 'title_synonyms', 'type', 'source',\n",
      "       'episodes', 'status', 'airing', 'duration', 'rating', 'score',\n",
      "       'scored_by', 'rank', 'popularity', 'members', 'favorites', 'synopsis',\n",
      "       'season', 'year', 'month', 'day', 'licensors', 'producers', 'studios',\n",
      "       'genres', 'themes', 'demographics', 'new_rating', 'new_season'],\n",
      "      dtype='object')\n",
      "Number of missing values: 52292\n"
     ]
    }
   ],
   "source": [
    "print(\"Mal Anime Dataset\")\n",
    "print(f\"Number of rows: {data.shape[0]}, Number of columns: {data.shape[1]}\")\n",
    "print(f\"Column names: {data.columns}\")\n",
    "print(f\"Number of missing values: {data.isna().sum().sum()}\")\n",
    "\n",
    "data = data.drop_duplicates()\n",
    "print(f\"\\n\\nNumber of rows: {data.shape[0]}, Number of columns: {data.shape[1]}\")\n",
    "print(f\"Column names: {data.columns}\")\n",
    "print(f\"Number of missing values: {data.isna().sum().sum()}\")\n"
   ]
  },
  {
   "cell_type": "markdown",
   "id": "077005c9",
   "metadata": {},
   "source": [
    "For some reason there are 214 duplicate entries LMAO."
   ]
  },
  {
   "cell_type": "markdown",
   "id": "fb6d07c2",
   "metadata": {},
   "source": [
    "**Attribute Information**\n",
    "- **`mal_id`**: Unique anime ID on MyAnimeList.\n",
    "- **`title`**: The anime's primary title \n",
    "- **`title_en`**: English title of the anime.\n",
    "- **`title_synonyms`**: List of common abbreviations for the title \n",
    "- **`type`**: Media type\n",
    "- **`source`**: Orignal source material\n",
    "- **`episodes`**: Total number of episodes\n",
    "- **`status`**: Current airing status\n",
    "- **`airing`**: If the currently airing.\n",
    "- **`duration`**: Length of each episode\n",
    "- **`rating`**: Age rating\n",
    "- **`score`**: Average user score (out of 10)\n",
    "- **`scored_by`**: Number of users who rated the anime.\n",
    "- **`rank`**: Rank based on score.\n",
    "- **`popularity`**: Rank based on number of members.\n",
    "- **`members`**: Total number of users who added the anime to their lists.\n",
    "- **`favorites`**: Number of users who marked the anime as a favorite.\n",
    "- **`synopsis`**: Short summary of the anime.\n",
    "- **`season`**: Season the anime came out in\n",
    "- **`year`**: Year the anime came out in.\n",
    "- **`licensors`**: Companies licensed to distribute the anime \n",
    "- **`producers`**: Companies involved in funding or planning the anime.\n",
    "- **`studios`**: Animation studios responsible for production.\n",
    "- **`genres`**: Core genres in the anime\n",
    "- **`themes`**: Narrative or setting themes \n",
    "- **`demographic`**: Target audience"
   ]
  },
  {
   "cell_type": "code",
   "execution_count": 39,
   "id": "3c2a8300",
   "metadata": {},
   "outputs": [
    {
     "data": {
      "text/html": [
       "<div>\n",
       "<style scoped>\n",
       "    .dataframe tbody tr th:only-of-type {\n",
       "        vertical-align: middle;\n",
       "    }\n",
       "\n",
       "    .dataframe tbody tr th {\n",
       "        vertical-align: top;\n",
       "    }\n",
       "\n",
       "    .dataframe thead th {\n",
       "        text-align: right;\n",
       "    }\n",
       "</style>\n",
       "<table border=\"1\" class=\"dataframe\">\n",
       "  <thead>\n",
       "    <tr style=\"text-align: right;\">\n",
       "      <th></th>\n",
       "      <th>mal_id</th>\n",
       "      <th>episodes</th>\n",
       "      <th>score</th>\n",
       "      <th>scored_by</th>\n",
       "      <th>rank</th>\n",
       "      <th>popularity</th>\n",
       "      <th>members</th>\n",
       "      <th>favorites</th>\n",
       "      <th>year</th>\n",
       "      <th>month</th>\n",
       "      <th>day</th>\n",
       "    </tr>\n",
       "  </thead>\n",
       "  <tbody>\n",
       "    <tr>\n",
       "      <th>count</th>\n",
       "      <td>28480.000000</td>\n",
       "      <td>27798.000000</td>\n",
       "      <td>18536.000000</td>\n",
       "      <td>1.853600e+04</td>\n",
       "      <td>21723.000000</td>\n",
       "      <td>28480.000000</td>\n",
       "      <td>2.848000e+04</td>\n",
       "      <td>28480.000000</td>\n",
       "      <td>27601.000000</td>\n",
       "      <td>27601.000000</td>\n",
       "      <td>27601.000000</td>\n",
       "    </tr>\n",
       "    <tr>\n",
       "      <th>mean</th>\n",
       "      <td>33472.908357</td>\n",
       "      <td>14.191273</td>\n",
       "      <td>6.396206</td>\n",
       "      <td>2.995789e+04</td>\n",
       "      <td>10858.333103</td>\n",
       "      <td>14238.443645</td>\n",
       "      <td>3.864153e+04</td>\n",
       "      <td>432.563202</td>\n",
       "      <td>2008.942104</td>\n",
       "      <td>5.765226</td>\n",
       "      <td>12.244882</td>\n",
       "    </tr>\n",
       "    <tr>\n",
       "      <th>std</th>\n",
       "      <td>19414.269919</td>\n",
       "      <td>47.421129</td>\n",
       "      <td>0.889624</td>\n",
       "      <td>1.214100e+05</td>\n",
       "      <td>6267.175893</td>\n",
       "      <td>8220.569563</td>\n",
       "      <td>1.664035e+05</td>\n",
       "      <td>4506.827924</td>\n",
       "      <td>15.054887</td>\n",
       "      <td>3.688047</td>\n",
       "      <td>9.827800</td>\n",
       "    </tr>\n",
       "    <tr>\n",
       "      <th>min</th>\n",
       "      <td>1.000000</td>\n",
       "      <td>1.000000</td>\n",
       "      <td>1.890000</td>\n",
       "      <td>1.010000e+02</td>\n",
       "      <td>0.000000</td>\n",
       "      <td>0.000000</td>\n",
       "      <td>0.000000e+00</td>\n",
       "      <td>0.000000</td>\n",
       "      <td>1917.000000</td>\n",
       "      <td>1.000000</td>\n",
       "      <td>1.000000</td>\n",
       "    </tr>\n",
       "    <tr>\n",
       "      <th>25%</th>\n",
       "      <td>14528.500000</td>\n",
       "      <td>1.000000</td>\n",
       "      <td>5.780000</td>\n",
       "      <td>3.400000e+02</td>\n",
       "      <td>5430.000000</td>\n",
       "      <td>7119.000000</td>\n",
       "      <td>2.350000e+02</td>\n",
       "      <td>0.000000</td>\n",
       "      <td>2003.000000</td>\n",
       "      <td>2.000000</td>\n",
       "      <td>3.000000</td>\n",
       "    </tr>\n",
       "    <tr>\n",
       "      <th>50%</th>\n",
       "      <td>37554.500000</td>\n",
       "      <td>2.000000</td>\n",
       "      <td>6.370000</td>\n",
       "      <td>1.552500e+03</td>\n",
       "      <td>10860.000000</td>\n",
       "      <td>14238.500000</td>\n",
       "      <td>1.081500e+03</td>\n",
       "      <td>1.000000</td>\n",
       "      <td>2013.000000</td>\n",
       "      <td>6.000000</td>\n",
       "      <td>10.000000</td>\n",
       "    </tr>\n",
       "    <tr>\n",
       "      <th>75%</th>\n",
       "      <td>49691.250000</td>\n",
       "      <td>13.000000</td>\n",
       "      <td>7.030000</td>\n",
       "      <td>1.013125e+04</td>\n",
       "      <td>16291.500000</td>\n",
       "      <td>21356.500000</td>\n",
       "      <td>9.165250e+03</td>\n",
       "      <td>17.000000</td>\n",
       "      <td>2019.000000</td>\n",
       "      <td>9.000000</td>\n",
       "      <td>21.000000</td>\n",
       "    </tr>\n",
       "    <tr>\n",
       "      <th>max</th>\n",
       "      <td>61841.000000</td>\n",
       "      <td>3057.000000</td>\n",
       "      <td>9.300000</td>\n",
       "      <td>2.940975e+06</td>\n",
       "      <td>21718.000000</td>\n",
       "      <td>28479.000000</td>\n",
       "      <td>4.172424e+06</td>\n",
       "      <td>238744.000000</td>\n",
       "      <td>2027.000000</td>\n",
       "      <td>12.000000</td>\n",
       "      <td>31.000000</td>\n",
       "    </tr>\n",
       "  </tbody>\n",
       "</table>\n",
       "</div>"
      ],
      "text/plain": [
       "             mal_id      episodes         score     scored_by          rank  \\\n",
       "count  28480.000000  27798.000000  18536.000000  1.853600e+04  21723.000000   \n",
       "mean   33472.908357     14.191273      6.396206  2.995789e+04  10858.333103   \n",
       "std    19414.269919     47.421129      0.889624  1.214100e+05   6267.175893   \n",
       "min        1.000000      1.000000      1.890000  1.010000e+02      0.000000   \n",
       "25%    14528.500000      1.000000      5.780000  3.400000e+02   5430.000000   \n",
       "50%    37554.500000      2.000000      6.370000  1.552500e+03  10860.000000   \n",
       "75%    49691.250000     13.000000      7.030000  1.013125e+04  16291.500000   \n",
       "max    61841.000000   3057.000000      9.300000  2.940975e+06  21718.000000   \n",
       "\n",
       "         popularity       members      favorites          year         month  \\\n",
       "count  28480.000000  2.848000e+04   28480.000000  27601.000000  27601.000000   \n",
       "mean   14238.443645  3.864153e+04     432.563202   2008.942104      5.765226   \n",
       "std     8220.569563  1.664035e+05    4506.827924     15.054887      3.688047   \n",
       "min        0.000000  0.000000e+00       0.000000   1917.000000      1.000000   \n",
       "25%     7119.000000  2.350000e+02       0.000000   2003.000000      2.000000   \n",
       "50%    14238.500000  1.081500e+03       1.000000   2013.000000      6.000000   \n",
       "75%    21356.500000  9.165250e+03      17.000000   2019.000000      9.000000   \n",
       "max    28479.000000  4.172424e+06  238744.000000   2027.000000     12.000000   \n",
       "\n",
       "                day  \n",
       "count  27601.000000  \n",
       "mean      12.244882  \n",
       "std        9.827800  \n",
       "min        1.000000  \n",
       "25%        3.000000  \n",
       "50%       10.000000  \n",
       "75%       21.000000  \n",
       "max       31.000000  "
      ]
     },
     "execution_count": 39,
     "metadata": {},
     "output_type": "execute_result"
    }
   ],
   "source": [
    "data.describe()"
   ]
  },
  {
   "cell_type": "markdown",
   "id": "ef97d967",
   "metadata": {},
   "source": [
    "**Feature `mal_id`**"
   ]
  },
  {
   "cell_type": "code",
   "execution_count": 40,
   "id": "2bdc0cd4",
   "metadata": {},
   "outputs": [
    {
     "name": "stdout",
     "output_type": "stream",
     "text": [
      "- Type: int64\n",
      "- First 5 rows:\n",
      " 0    1\n",
      "1    5\n",
      "2    6\n",
      "3    7\n",
      "4    8\n",
      "Name: mal_id, dtype: int64\n",
      "- Last 5 Rows: \n",
      " 28689    61831\n",
      "28690    61834\n",
      "28692    61839\n",
      "28693    61840\n",
      "28694    61841\n",
      "Name: mal_id, dtype: int64\n",
      "- Number of unique values: 28480\n",
      "- Unique values count: mal_id\n",
      "61812    1\n",
      "61811    1\n",
      "61810    1\n",
      "61806    1\n",
      "61805    1\n",
      "        ..\n",
      "8        1\n",
      "7        1\n",
      "6        1\n",
      "5        1\n",
      "1        1\n",
      "Name: count, Length: 28480, dtype: int64\n",
      "- Numer of missing values: 0\n",
      "- Min: 1\n",
      "- Max: 61841\n",
      "- Mean: 33472.90835674157\n",
      "- Median: 37554.5\n",
      "- Mode: 0            1\n",
      "1            5\n",
      "2            6\n",
      "3            7\n",
      "4            8\n",
      "         ...  \n",
      "28475    61831\n",
      "28476    61834\n",
      "28477    61839\n",
      "28478    61840\n",
      "28479    61841\n",
      "Name: mal_id, Length: 28480, dtype: int64\n",
      "- Std: 19414.269918717026 \n"
     ]
    }
   ],
   "source": [
    "describe_feature(data, 'mal_id')"
   ]
  },
  {
   "cell_type": "markdown",
   "id": "c7a02348",
   "metadata": {},
   "source": [
    "**Feature `title`**"
   ]
  },
  {
   "cell_type": "code",
   "execution_count": 41,
   "id": "d5b546fe",
   "metadata": {},
   "outputs": [
    {
     "name": "stdout",
     "output_type": "stream",
     "text": [
      "- Type: object\n",
      "- First 5 rows:\n",
      " 0                       Cowboy Bebop\n",
      "1    Cowboy Bebop: Tengoku no Tobira\n",
      "2                             Trigun\n",
      "3                 Witch Hunter Robin\n",
      "4                     Bouken Ou Beet\n",
      "Name: title, dtype: object\n",
      "- Last 5 Rows: \n",
      " 28689    Saikyou no Ousama, Nidome no Jinsei wa Nani wo...\n",
      "28690    Golden Kamuy: Inazuma Goutou to Mamushi no Ogi...\n",
      "28692                         Aishiteru Game wo Owarasetai\n",
      "28693                          Yuanshen: Chen Jian Xing Lu\n",
      "28694                                              Katachi\n",
      "Name: title, dtype: object\n",
      "- Number of unique values: 28478\n",
      "- Unique values count: title\n",
      "Shen Lan Qi Yu Wushuang Zhu: Tianmo Pian                                2\n",
      "Moonlight                                                               2\n",
      "R11R Concept Movie                                                      1\n",
      ".hack//Sign                                                             1\n",
      "Ghost                                                                   1\n",
      "                                                                       ..\n",
      "Rurouni Kenshin: Meiji Kenkaku Romantan - Tsuioku-hen                   1\n",
      "Rurouni Kenshin: Meiji Kenkaku Romantan                                 1\n",
      "Rurouni Kenshin: Meiji Kenkaku Romantan - Ishinshishi e no Chinkonka    1\n",
      "Akira                                                                   1\n",
      "One Piece                                                               1\n",
      "Name: count, Length: 28478, dtype: int64\n",
      "- Numer of missing values: 0\n"
     ]
    }
   ],
   "source": [
    "describe_feature(data, 'title')"
   ]
  },
  {
   "cell_type": "markdown",
   "id": "73894282",
   "metadata": {},
   "source": [
    "Some titles are the same, since some animes dont differenate between different seasons"
   ]
  },
  {
   "cell_type": "markdown",
   "id": "ddcefb6e",
   "metadata": {},
   "source": [
    "Feature `title_en`"
   ]
  },
  {
   "cell_type": "code",
   "execution_count": 42,
   "id": "84d6c254",
   "metadata": {},
   "outputs": [
    {
     "name": "stdout",
     "output_type": "stream",
     "text": [
      "- Type: object\n",
      "- First 5 rows:\n",
      " 0               Cowboy Bebop\n",
      "1    Cowboy Bebop: The Movie\n",
      "2                     Trigun\n",
      "3         Witch Hunter Robin\n",
      "4     Beet the Vandel Buster\n",
      "Name: title_en, dtype: object\n",
      "- Last 5 Rows: \n",
      " 28689                 The Beginning After the End Season 2\n",
      "28690    Golden Kamuy: Inazuma Goutou to Mamushi no Ogi...\n",
      "28692                         Aishiteru Game wo Owarasetai\n",
      "28693                         Genshin Impact: Star Odyssey\n",
      "28694                                       Pain Give Form\n",
      "Name: title_en, dtype: object\n",
      "- Number of unique values: 28232\n",
      "- Unique values count: title_en\n",
      "Promise                                           5\n",
      "Spirit Guardians                                  5\n",
      "Cyborg 009                                        4\n",
      "Meow Meow Japanese History                        4\n",
      "Magical Legend: Rise to Immortality               4\n",
      "                                                 ..\n",
      "Zipang                                            1\n",
      "Neon Genesis Evangelion                           1\n",
      "Neon Genesis Evangelion: Death & Rebirth          1\n",
      "Neon Genesis Evangelion: The End of Evangelion    1\n",
      "Pain Give Form                                    1\n",
      "Name: count, Length: 28232, dtype: int64\n",
      "- Numer of missing values: 0\n",
      "Number of missing values after cleaning: 0\n"
     ]
    }
   ],
   "source": [
    "describe_feature(data, 'title_en')\n",
    "\n",
    "# Turning all the missing values into the original title\n",
    "data['title_en'] = data.apply(lambda row: row['title_en'] if pd.notnull(row['title_en']) else row['title'], axis=1) \n",
    "print(f\"Number of missing values after cleaning: {data['title_en'].isna().sum().sum()}\")"
   ]
  },
  {
   "cell_type": "markdown",
   "id": "4be842c8",
   "metadata": {},
   "source": [
    "**Feature `title_synonyms`**"
   ]
  },
  {
   "cell_type": "code",
   "execution_count": 43,
   "id": "fbe28029",
   "metadata": {},
   "outputs": [
    {
     "name": "stdout",
     "output_type": "stream",
     "text": [
      "- Type: object\n",
      "- First 5 rows:\n",
      " 0                                             []\n",
      "1    [\"Cowboy Bebop: Knockin' on Heaven's Door\"]\n",
      "2                                             []\n",
      "3                                        ['WHR']\n",
      "4                        ['Adventure King Beet']\n",
      "Name: title_synonyms, dtype: object\n",
      "- Last 5 Rows: \n",
      " 28689                                            ['TBATE']\n",
      "28690    ['Golden Kamuy: The Lightning Bandit and Ogin ...\n",
      "28692    ['I Want to End This Love Game', 'I Want to En...\n",
      "28693                               ['【原神】「Star Odyssey」']\n",
      "28694                                                   []\n",
      "Name: title_synonyms, dtype: object\n",
      "- Number of unique values: 12936\n",
      "- Unique values count: title_synonyms\n",
      "[]                                             14368\n",
      "['Minna no Uta']                                 810\n",
      "['Irodorimidori']                                 49\n",
      "['One Piece Recap', 'One Piece Special']          11\n",
      "['Hirake! Ponkikki']                              10\n",
      "                                               ...  \n",
      "['Da Tang Cheng Feng Lu']                          1\n",
      "['The God of Cookery']                             1\n",
      "['The Outcast']                                    1\n",
      "[\"Grave Robbers' Chronicles\"]                      1\n",
      "[\"Cowboy Bebop: Knockin' on Heaven's Door\"]        1\n",
      "Name: count, Length: 12936, dtype: int64\n",
      "- Numer of missing values: 0\n"
     ]
    }
   ],
   "source": [
    "describe_feature(data, 'title_synonyms')"
   ]
  },
  {
   "cell_type": "markdown",
   "id": "d595e32a",
   "metadata": {},
   "source": [
    "**Feature `type`**"
   ]
  },
  {
   "cell_type": "code",
   "execution_count": 44,
   "id": "3bc3d090",
   "metadata": {},
   "outputs": [
    {
     "name": "stdout",
     "output_type": "stream",
     "text": [
      "- Type: object\n",
      "- First 5 rows:\n",
      " 0       TV\n",
      "1    Movie\n",
      "2       TV\n",
      "3       TV\n",
      "4       TV\n",
      "Name: type, dtype: object\n",
      "- Last 5 Rows: \n",
      " 28689       TV\n",
      "28690      OVA\n",
      "28692       TV\n",
      "28693      ONA\n",
      "28694    Music\n",
      "Name: type, dtype: object\n",
      "- Number of unique values: 10\n",
      "- Unique values count: type\n",
      "TV            8287\n",
      "Movie         4852\n",
      "OVA           4171\n",
      "ONA           4003\n",
      "Music         3876\n",
      "Special       1762\n",
      "TV Special     747\n",
      "CM             460\n",
      "PV             256\n",
      "                66\n",
      "Name: count, dtype: int64\n",
      "- Numer of missing values: 0\n",
      "Number of missing values after cleaning: 0\n"
     ]
    }
   ],
   "source": [
    "describe_feature(data, 'type')\n",
    "\n",
    "# Turning missing values into empty string\n",
    "data['type'] = data.apply(lambda row: row['type'] if pd.notnull(row['type']) else '', axis=1)\n",
    "print(f\"Number of missing values after cleaning: {data['type'].isna().sum().sum()}\")\n"
   ]
  },
  {
   "cell_type": "markdown",
   "id": "86cbdf20",
   "metadata": {},
   "source": [
    "**Feature `source`**"
   ]
  },
  {
   "cell_type": "code",
   "execution_count": 45,
   "id": "f7ea5ba5",
   "metadata": {},
   "outputs": [
    {
     "name": "stdout",
     "output_type": "stream",
     "text": [
      "- Type: object\n",
      "- First 5 rows:\n",
      " 0    Original\n",
      "1    Original\n",
      "2       Manga\n",
      "3    Original\n",
      "4       Manga\n",
      "Name: source, dtype: object\n",
      "- Last 5 Rows: \n",
      " 28689       Other\n",
      "28690       Manga\n",
      "28692       Manga\n",
      "28693        Game\n",
      "28694    Original\n",
      "Name: source, dtype: object\n",
      "- Number of unique values: 17\n",
      "- Unique values count: source\n",
      "Original        12102\n",
      "Manga            5434\n",
      "Unknown          2818\n",
      "Game             1447\n",
      "Other            1288\n",
      "Light novel      1165\n",
      "Visual novel     1155\n",
      "Novel             814\n",
      "Web manga         637\n",
      "4-koma manga      334\n",
      "Picture book      277\n",
      "Music             263\n",
      "Mixed media       232\n",
      "Book              219\n",
      "Web novel         204\n",
      "Card game          77\n",
      "Radio              14\n",
      "Name: count, dtype: int64\n",
      "- Numer of missing values: 0\n"
     ]
    }
   ],
   "source": [
    "describe_feature(data, 'source')"
   ]
  },
  {
   "cell_type": "markdown",
   "id": "6597faaf",
   "metadata": {},
   "source": [
    "**Feature `episodes`**"
   ]
  },
  {
   "cell_type": "code",
   "execution_count": 46,
   "id": "540c40bf",
   "metadata": {},
   "outputs": [
    {
     "name": "stdout",
     "output_type": "stream",
     "text": [
      "- Type: float64\n",
      "- First 5 rows:\n",
      " 0    26.0\n",
      "1     1.0\n",
      "2    26.0\n",
      "3    26.0\n",
      "4    52.0\n",
      "Name: episodes, dtype: float64\n",
      "- Last 5 Rows: \n",
      " 28689    NaN\n",
      "28690    1.0\n",
      "28692    NaN\n",
      "28693    1.0\n",
      "28694    1.0\n",
      "Name: episodes, dtype: float64\n",
      "- Number of unique values: 259\n",
      "- Unique values count: episodes\n",
      "1.0      13633\n",
      "12.0      2279\n",
      "2.0       1637\n",
      "26.0      1332\n",
      "13.0      1111\n",
      "         ...  \n",
      "247.0        1\n",
      "325.0        1\n",
      "157.0        1\n",
      "280.0        1\n",
      "123.0        1\n",
      "Name: count, Length: 259, dtype: int64\n",
      "- Numer of missing values: 682\n",
      "- Min: 1.0\n",
      "- Max: 3057.0\n",
      "- Mean: 14.191272753435499\n",
      "- Median: 2.0\n",
      "- Mode: 0    1.0\n",
      "Name: episodes, dtype: float64\n",
      "- Std: 47.42112887503609 \n"
     ]
    }
   ],
   "source": [
    "describe_feature(data,'episodes')\n",
    "# SOME MISSING EPisODES BUT LIKE GONNA DO THIS LATER"
   ]
  },
  {
   "cell_type": "markdown",
   "id": "e5bf066b",
   "metadata": {},
   "source": [
    "There are some missing values here. Let's figure out why and where"
   ]
  },
  {
   "cell_type": "markdown",
   "id": "03fb0942",
   "metadata": {},
   "source": [
    "**Feature `status`**"
   ]
  },
  {
   "cell_type": "code",
   "execution_count": 47,
   "id": "45342787",
   "metadata": {},
   "outputs": [
    {
     "name": "stdout",
     "output_type": "stream",
     "text": [
      "- Type: object\n",
      "- First 5 rows:\n",
      " 0    Finished Airing\n",
      "1    Finished Airing\n",
      "2    Finished Airing\n",
      "3    Finished Airing\n",
      "4    Finished Airing\n",
      "Name: status, dtype: object\n",
      "- Last 5 Rows: \n",
      " 28689      Not yet aired\n",
      "28690      Not yet aired\n",
      "28692      Not yet aired\n",
      "28693    Finished Airing\n",
      "28694    Finished Airing\n",
      "Name: status, dtype: object\n",
      "- Number of unique values: 3\n",
      "- Unique values count: status\n",
      "Finished Airing     27600\n",
      "Not yet aired         526\n",
      "Currently Airing      354\n",
      "Name: count, dtype: int64\n",
      "- Numer of missing values: 0\n",
      "\n",
      "Notice when status == 'Not yet aired'\n",
      "  - Number of rows: 526\n",
      "  - Number of missing values: 3211\n"
     ]
    }
   ],
   "source": [
    "describe_feature(data, 'status')\n",
    "\n",
    "print(\"\\nNotice when status == \\'Not yet aired\\'\")\n",
    "print(f\"  - Number of rows: {data[data['status'] == 'Not yet aired'].shape[0]}\" )\n",
    "print(f\"  - Number of missing values: {data[data['status'] == 'Not yet aired'].isna().sum().sum()}\")\n"
   ]
  },
  {
   "cell_type": "markdown",
   "id": "341c5f98",
   "metadata": {},
   "source": [
    "Notice unaired animes also a lot of missing features This is partly due to some features not being filled ex. year, month, status.  <br>\n",
    "For data visualization we want to operate on anime that either are airing or ended thus a seperate csv file will be created. "
   ]
  },
  {
   "cell_type": "markdown",
   "id": "a8dea10c",
   "metadata": {},
   "source": [
    "**Feature `duration`**"
   ]
  },
  {
   "cell_type": "code",
   "execution_count": 48,
   "id": "ae70d1f1",
   "metadata": {},
   "outputs": [
    {
     "name": "stdout",
     "output_type": "stream",
     "text": [
      "- Type: object\n",
      "- First 5 rows:\n",
      " 0    24 min per ep\n",
      "1      1 hr 55 min\n",
      "2    24 min per ep\n",
      "3    25 min per ep\n",
      "4    23 min per ep\n",
      "Name: duration, dtype: object\n",
      "- Last 5 Rows: \n",
      " 28689    Unknown\n",
      "28690     30 min\n",
      "28692    Unknown\n",
      "28693      3 min\n",
      "28694      3 min\n",
      "Name: duration, dtype: object\n",
      "- Number of unique values: 340\n",
      "- Unique values count: duration\n",
      "24 min per ep         2084\n",
      "23 min per ep         1811\n",
      "2 min                 1640\n",
      "3 min                 1511\n",
      "4 min                 1178\n",
      "                      ... \n",
      "2 hr 31 min              1\n",
      "26 sec                   1\n",
      "2 hr 25 min              1\n",
      "1 hr 55 min per ep       1\n",
      "2 hr 45 min              1\n",
      "Name: count, Length: 340, dtype: int64\n",
      "- Numer of missing values: 0\n"
     ]
    }
   ],
   "source": [
    "describe_feature(data, 'duration')"
   ]
  },
  {
   "cell_type": "markdown",
   "id": "7f48e7c4",
   "metadata": {},
   "source": [
    "**Feature `rating`**"
   ]
  },
  {
   "cell_type": "code",
   "execution_count": 49,
   "id": "5ea1bd1d",
   "metadata": {},
   "outputs": [
    {
     "name": "stdout",
     "output_type": "stream",
     "text": [
      "- Type: object\n",
      "- First 5 rows:\n",
      " 0    R - 17+ (violence & profanity)\n",
      "1    R - 17+ (violence & profanity)\n",
      "2         PG-13 - Teens 13 or older\n",
      "3         PG-13 - Teens 13 or older\n",
      "4                     PG - Children\n",
      "Name: rating, dtype: object\n",
      "- Last 5 Rows: \n",
      " 28689    PG-13 - Teens 13 or older\n",
      "28690                             \n",
      "28692                             \n",
      "28693    PG-13 - Teens 13 or older\n",
      "28694    PG-13 - Teens 13 or older\n",
      "Name: rating, dtype: object\n",
      "- Number of unique values: 7\n",
      "- Unique values count: rating\n",
      "PG-13 - Teens 13 or older         10197\n",
      "G - All Ages                       8936\n",
      "PG - Children                      4386\n",
      "Rx - Hentai                        1566\n",
      "R - 17+ (violence & profanity)     1565\n",
      "R+ - Mild Nudity                   1211\n",
      "                                    619\n",
      "Name: count, dtype: int64\n",
      "- Numer of missing values: 0\n"
     ]
    }
   ],
   "source": [
    "describe_feature(data, 'rating')\n",
    "\n",
    "# Turning all the missing values into empty strings\n",
    "data['rating'] = data.apply(lambda row: row['rating'] if pd.notnull(row['rating']) else '', axis=1)"
   ]
  },
  {
   "cell_type": "markdown",
   "id": "2eadea22",
   "metadata": {},
   "source": [
    "Creating a new feature that summarizes the rating into `G`, `PG`, `PG-13`, `R`"
   ]
  },
  {
   "cell_type": "code",
   "execution_count": 50,
   "id": "f92a4183",
   "metadata": {},
   "outputs": [],
   "source": [
    "new_rating_rows = []\n",
    "for _, row in data.iterrows():\n",
    "    if row['rating'] != \"\":\n",
    "        # Time to split the strings\n",
    "        split_string = row['rating'].split(' ')\n",
    "        rating = split_string[0].rstrip('x').rstrip('+')\n",
    "        new_rating_rows.append(rating)\n",
    "    else:\n",
    "        new_rating_rows.append('')\n",
    "\n",
    "# Adding a new columns to the data\n",
    "data['new_rating'] = new_rating_rows\n"
   ]
  },
  {
   "cell_type": "markdown",
   "id": "9fa3df64",
   "metadata": {},
   "source": [
    "**Feature `score`**"
   ]
  },
  {
   "cell_type": "code",
   "execution_count": 51,
   "id": "a928126e",
   "metadata": {},
   "outputs": [
    {
     "name": "stdout",
     "output_type": "stream",
     "text": [
      "- Type: float64\n",
      "- First 5 rows:\n",
      " 0    8.75\n",
      "1    8.38\n",
      "2    8.22\n",
      "3    7.24\n",
      "4    6.92\n",
      "Name: score, dtype: float64\n",
      "- Last 5 Rows: \n",
      " 28689   NaN\n",
      "28690   NaN\n",
      "28692   NaN\n",
      "28693   NaN\n",
      "28694   NaN\n",
      "Name: score, dtype: float64\n",
      "- Number of unique values: 568\n",
      "- Unique values count: score\n",
      "6.33    102\n",
      "6.30    101\n",
      "6.52    101\n",
      "6.42     97\n",
      "6.21     96\n",
      "       ... \n",
      "3.54      1\n",
      "4.01      1\n",
      "3.07      1\n",
      "8.80      1\n",
      "8.82      1\n",
      "Name: count, Length: 568, dtype: int64\n",
      "- Numer of missing values: 9944\n",
      "- Min: 1.89\n",
      "- Max: 9.3\n",
      "- Mean: 6.396205761760898\n",
      "- Median: 6.37\n",
      "- Mode: 0    6.33\n",
      "Name: score, dtype: float64\n",
      "- Std: 0.8896236432696691 \n"
     ]
    }
   ],
   "source": [
    "describe_feature(data, 'score')"
   ]
  },
  {
   "cell_type": "markdown",
   "id": "319adb1f",
   "metadata": {},
   "source": [
    "Note MyAnimeList doesnt allow scoring for unrealeased animes and 18+ animes. Thus I dont think it is apporiate to impute the values"
   ]
  },
  {
   "cell_type": "markdown",
   "id": "74ca7adb",
   "metadata": {},
   "source": [
    "**Feature `scored_by`**"
   ]
  },
  {
   "cell_type": "code",
   "execution_count": 52,
   "id": "74fe07f6",
   "metadata": {},
   "outputs": [
    {
     "name": "stdout",
     "output_type": "stream",
     "text": [
      "- Type: float64\n",
      "- First 5 rows:\n",
      " 0    1019534.0\n",
      "1     225356.0\n",
      "2     388985.0\n",
      "3      45317.0\n",
      "4       6964.0\n",
      "Name: scored_by, dtype: float64\n",
      "- Last 5 Rows: \n",
      " 28689   NaN\n",
      "28690   NaN\n",
      "28692   NaN\n",
      "28693   NaN\n",
      "28694   NaN\n",
      "Name: scored_by, dtype: float64\n",
      "- Number of unique values: 9156\n",
      "- Unique values count: scored_by\n",
      "127.0       42\n",
      "147.0       40\n",
      "129.0       39\n",
      "137.0       38\n",
      "158.0       38\n",
      "            ..\n",
      "85704.0      1\n",
      "91816.0      1\n",
      "6964.0       1\n",
      "45317.0      1\n",
      "388985.0     1\n",
      "Name: count, Length: 9156, dtype: int64\n",
      "- Numer of missing values: 9944\n",
      "- Min: 101.0\n",
      "- Max: 2940975.0\n",
      "- Mean: 29957.893828226155\n",
      "- Median: 1552.5\n",
      "- Mode: 0    127.0\n",
      "Name: scored_by, dtype: float64\n",
      "- Std: 121410.00601762808 \n"
     ]
    }
   ],
   "source": [
    "describe_feature(data, 'scored_by')"
   ]
  },
  {
   "cell_type": "markdown",
   "id": "f8037f70",
   "metadata": {},
   "source": [
    "Notice the amount of missing values for scored_by is the same for score. I also think it is not apporiate to impute the missing values here too"
   ]
  },
  {
   "cell_type": "markdown",
   "id": "f569b0a8",
   "metadata": {},
   "source": [
    "**Feature `members`**"
   ]
  },
  {
   "cell_type": "code",
   "execution_count": 53,
   "id": "26c9e6f3",
   "metadata": {},
   "outputs": [
    {
     "name": "stdout",
     "output_type": "stream",
     "text": [
      "- Type: int64\n",
      "- First 5 rows:\n",
      " 0    1975327\n",
      "1     398043\n",
      "2     803144\n",
      "3     123394\n",
      "4      16305\n",
      "Name: members, dtype: int64\n",
      "- Last 5 Rows: \n",
      " 28689    4673\n",
      "28690       6\n",
      "28692       0\n",
      "28693      54\n",
      "28694       1\n",
      "Name: members, dtype: int64\n",
      "- Number of unique values: 12167\n",
      "- Unique values count: members\n",
      "80       128\n",
      "82       117\n",
      "78       115\n",
      "83       115\n",
      "81       115\n",
      "        ... \n",
      "14388      1\n",
      "6306       1\n",
      "13037      1\n",
      "13868      1\n",
      "1          1\n",
      "Name: count, Length: 12167, dtype: int64\n",
      "- Numer of missing values: 0\n",
      "- Min: 0\n",
      "- Max: 4172424\n",
      "- Mean: 38641.52981039326\n",
      "- Median: 1081.5\n",
      "- Mode: 0    80\n",
      "Name: members, dtype: int64\n",
      "- Std: 166403.524358484 \n"
     ]
    }
   ],
   "source": [
    "describe_feature(data, 'members')"
   ]
  },
  {
   "cell_type": "markdown",
   "id": "a8bbce5e",
   "metadata": {},
   "source": [
    "**Feature `rank`**"
   ]
  },
  {
   "cell_type": "code",
   "execution_count": 54,
   "id": "4cb1afb8",
   "metadata": {},
   "outputs": [
    {
     "name": "stdout",
     "output_type": "stream",
     "text": [
      "- Type: float64\n",
      "- First 5 rows:\n",
      " 0      46.0\n",
      "1     209.0\n",
      "2     371.0\n",
      "3    3221.0\n",
      "4    4765.0\n",
      "Name: rank, dtype: float64\n",
      "- Last 5 Rows: \n",
      " 28689        NaN\n",
      "28690        NaN\n",
      "28692        0.0\n",
      "28693    16429.0\n",
      "28694        NaN\n",
      "Name: rank, dtype: float64\n",
      "- Number of unique values: 17702\n",
      "- Unique values count: rank\n",
      "17593.0    5\n",
      "18206.0    5\n",
      "20218.0    4\n",
      "21240.0    4\n",
      "20076.0    4\n",
      "          ..\n",
      "2972.0     1\n",
      "1186.0     1\n",
      "18466.0    1\n",
      "16309.0    1\n",
      "16308.0    1\n",
      "Name: count, Length: 17702, dtype: int64\n",
      "- Numer of missing values: 6757\n",
      "- Min: 0.0\n",
      "- Max: 21718.0\n",
      "- Mean: 10858.333103162546\n",
      "- Median: 10860.0\n",
      "- Mode: 0    17593.0\n",
      "1    18206.0\n",
      "Name: rank, dtype: float64\n",
      "- Std: 6267.175893049121 \n"
     ]
    }
   ],
   "source": [
    "describe_feature(data, 'rank')"
   ]
  },
  {
   "cell_type": "markdown",
   "id": "c7bbfd96",
   "metadata": {},
   "source": [
    "Note: Unreleased animes and Rx-hentai animes are excluded form ranking.\n",
    "Thus I dont think I should impute this data.\n",
    "I wonder if ML can pick up on this rule."
   ]
  },
  {
   "cell_type": "markdown",
   "id": "693b3728",
   "metadata": {},
   "source": [
    "**Feature `popularity`**"
   ]
  },
  {
   "cell_type": "code",
   "execution_count": 55,
   "id": "f091968a",
   "metadata": {},
   "outputs": [
    {
     "name": "stdout",
     "output_type": "stream",
     "text": [
      "- Type: int64\n",
      "- First 5 rows:\n",
      " 0      42\n",
      "1     642\n",
      "2     260\n",
      "3    1950\n",
      "4    5654\n",
      "Name: popularity, dtype: int64\n",
      "- Last 5 Rows: \n",
      " 28689     9289\n",
      "28690    28474\n",
      "28692        0\n",
      "28693    28435\n",
      "28694    28479\n",
      "Name: popularity, dtype: int64\n",
      "- Number of unique values: 21951\n",
      "- Unique values count: popularity\n",
      "21050    5\n",
      "20620    5\n",
      "24775    5\n",
      "23898    5\n",
      "19611    5\n",
      "        ..\n",
      "18653    1\n",
      "15648    1\n",
      "13260    1\n",
      "28332    1\n",
      "1353     1\n",
      "Name: count, Length: 21951, dtype: int64\n",
      "- Numer of missing values: 0\n",
      "- Min: 0\n",
      "- Max: 28479\n",
      "- Mean: 14238.44364466292\n",
      "- Median: 14238.5\n",
      "- Mode: 0    16535\n",
      "1    17983\n",
      "2    18857\n",
      "3    19611\n",
      "4    20620\n",
      "5    21050\n",
      "6    23898\n",
      "7    24775\n",
      "Name: popularity, dtype: int64\n",
      "- Std: 8220.569563104254 \n"
     ]
    }
   ],
   "source": [
    "describe_feature(data, 'popularity')"
   ]
  },
  {
   "cell_type": "markdown",
   "id": "2f3acce9",
   "metadata": {},
   "source": [
    "**Feature `favorites`**"
   ]
  },
  {
   "cell_type": "code",
   "execution_count": 56,
   "id": "47177ef2",
   "metadata": {},
   "outputs": [
    {
     "name": "stdout",
     "output_type": "stream",
     "text": [
      "- Type: int64\n",
      "- First 5 rows:\n",
      " 0    86598\n",
      "1     1708\n",
      "2    16857\n",
      "3      673\n",
      "4       16\n",
      "Name: favorites, dtype: int64\n",
      "- Last 5 Rows: \n",
      " 28689    2\n",
      "28690    0\n",
      "28692    0\n",
      "28693    0\n",
      "28694    0\n",
      "Name: favorites, dtype: int64\n",
      "- Number of unique values: 1956\n",
      "- Unique values count: favorites\n",
      "0         12669\n",
      "1          2629\n",
      "2          1318\n",
      "3           851\n",
      "4           620\n",
      "          ...  \n",
      "5311          1\n",
      "3048          1\n",
      "238744        1\n",
      "83347         1\n",
      "16857         1\n",
      "Name: count, Length: 1956, dtype: int64\n",
      "- Numer of missing values: 0\n",
      "- Min: 0\n",
      "- Max: 238744\n",
      "- Mean: 432.563202247191\n",
      "- Median: 1.0\n",
      "- Mode: 0    0\n",
      "Name: favorites, dtype: int64\n",
      "- Std: 4506.827923670191 \n"
     ]
    }
   ],
   "source": [
    "describe_feature(data, 'favorites')"
   ]
  },
  {
   "cell_type": "markdown",
   "id": "26b469bc",
   "metadata": {},
   "source": [
    "**Feature `synopsis`**"
   ]
  },
  {
   "cell_type": "code",
   "execution_count": 57,
   "id": "80676fb3",
   "metadata": {},
   "outputs": [
    {
     "name": "stdout",
     "output_type": "stream",
     "text": [
      "- Type: object\n",
      "- First 5 rows:\n",
      " 0    Crime is timeless. By the year 2071, humanity ...\n",
      "1    Another day, another bounty—such is the life o...\n",
      "2    Vash the Stampede is the man with a $$60,000,0...\n",
      "3    Though hidden away from the general public, Wi...\n",
      "4    It is the dark century and the people are suff...\n",
      "Name: synopsis, dtype: object\n",
      "- Last 5 Rows: \n",
      " 28689    Second season of Saikyou no Ousama, Nidome no ...\n",
      "28690    A original anime episode that will adapt the I...\n",
      "28692    In sixth grade, childhood friends Yukiya Asagi...\n",
      "28693    Animated short film about the backstory of Ski...\n",
      "28694        Music video for the song Katachi by ZUTOMAYO.\n",
      "Name: synopsis, dtype: object\n",
      "- Number of unique values: 23147\n",
      "- Unique values count: synopsis\n",
      "No synopsis has been added for this series yet.\\n\\nClick here to update this information.                                                                                                                                                                                                                                                                                                                                                                                                                                                                                                                                                                                                                                                                                                                                                                                                                                                                                                                                                                                                                                                                                                                                                                                                                                    5074\n",
      "Film by Takashi Ito.                                                                                                                                                                                                                                                                                                                                                                                                                                                                                                                                                                                                                                                                                                                                                                                                                                                                                                                                                                                                                                                                                                                                                                                                                                                                                                           12\n",
      "Furukawa Taku film.                                                                                                                                                                                                                                                                                                                                                                                                                                                                                                                                                                                                                                                                                                                                                                                                                                                                                                                                                                                                                                                                                                                                                                                                                                                                                                            12\n",
      "A short animation by Taku Furukawa.                                                                                                                                                                                                                                                                                                                                                                                                                                                                                                                                                                                                                                                                                                                                                                                                                                                                                                                                                                                                                                                                                                                                                                                                                                                                                            10\n",
      "A short film by Okamoto Tadanari.                                                                                                                                                                                                                                                                                                                                                                                                                                                                                                                                                                                                                                                                                                                                                                                                                                                                                                                                                                                                                                                                                                                                                                                                                                                                                               7\n",
      "                                                                                                                                                                                                                                                                                                                                                                                                                                                                                                                                                                                                                                                                                                                                                                                                                                                                                                                                                                                                                                                                                                                                                                                                                                                                                                                             ... \n",
      "Shinji Ikari is left emotionally comatose after the death of a dear friend. With his son mentally unable to pilot the humanoid robot Evangelion Unit-01, Gendou Ikari's NERV races against the shadow organization SEELE to see who can enact their ultimate plan first. SEELE desires to create a godlike being by fusing their own souls into an Evangelion unit, while Gendou wishes to revert all of humanity into one primordial being so that he can be reunited with Yui, his deceased wife.\\n\\nSEELE unleashes its military forces in a lethal invasion of NERV headquarters. As SEELE's forces cut down NERV's scientists and security personnel, Asuka Langley Souryuu pilots Evangelion Unit-02 in a desperate last stand against SEELE's heaviest weaponry.\\n\\nThe battle rages on, and a depressed Shinji hides deep within NERV's headquarters. With the fate of the world resting in Shinji's hands, Captain Misato Katsuragi hunts for the teenage boy as society crumbles around them.\\n\\n[Written by MAL Rewrite]                                                                                                                                                                                                                                                                                             1\n",
      "Guts, a man who will one day be known as the Black Swordsman, is a young traveling mercenary characterized by the large greatsword he carries. He accepts jobs that offer the most money, but he never stays with one group for long—until he encounters the Band of the Falcon. Ambushed after completing a job, Guts crushes many of its members in combat. Griffith, The Band of the Falcon's leader and founder, takes an interest in Guts and duels him. While the others are no match for Guts, Griffith defeats him in one blow.\\n\\nIncapacitated and taken into the Band of the Falcon's camp to recover, Guts wakes up two days later. He confronts Griffith, and the two duel yet again, only this time with a condition: Guts will join the Band of the Falcon if he loses. Due to his fresh injuries, Guts loses the fight and is inducted by Griffith.\\n\\nIn three years' time, Guts has become one of the Band of the Falcon's commanders. On the battlefield, his combat prowess is second only to Griffith as he takes on large groups of enemies all on his own. With Guts' immense strength and Griffith's leadership, the Band of the Falcon dominate every battle they partake in. But something menacing lurks in the shadows, threatening to change Guts' life forever.\\n\\n[Written by MAL Rewrite]       1\n",
      "Mithril, a covert military institution using state-of-the-art technology to combat terrorist operations, assigns a specialized team to a sensitive mission. Under the command of superior officer Melissa Mao, sergeants Sousuke Sagara and Kurz Weber must secretly protect Kaname Chidori—a teenage girl who unconsciously holds breakthrough scientific knowledge and is considered a \"Whispered\"—from intelligence agencies and other organizations pursuing her abilities.\\n\\nWhile Kurz and Melissa are to assist him remotely, Sousuke enrolls at Kaname's high school as one of her classmates to closely monitor her. However, his militaristic upbringing and poor social skills lead to a difficult adjustment to civilian life. Not only does he attract unnecessary attention, but his actions frequently make Kaname suspicious of him.\\n\\nDespite the earnest attempts to fulfill his duty, a terrorist ambush further complicates Sousuke's task. Recognizing the vicious mastermind behind the assault, Sousuke abandons his orders to ensure Kaname's safety.\\n\\n[Written by MAL Rewrite]                                                                                                                                                                                                                     1\n",
      "When mankind's savagery surpasses his fear of death, there is little hope for those who wish to live honest lives. Beneath a full moon, a young boy witnesses the murder of the bandits who had enslaved him, and is then christened with a new name by the man who rescued him. This boy is Shinta, now known as Kenshin Himura, and he is destined to become a swordsman. The softness of his heart does not befit the occupation, but his desire to protect the innocent is absolute.\\n\\nRurouni Kenshin: Meiji Kenkaku Romantan - Tsuioku-hen details the origins of the man who would bear the name of Hitokiri Battousai long before he swore his oath not to kill and before he earned his reputation as an assassin. The young man's heart is divided between justice and corruption, while the fate of a nation rests on his actions.\\n\\n[Written by MAL Rewrite]                                                                                                                                                                                                                                                                                                                                                                                                                                                      1\n",
      "Shy, reserved, and small-statured, Deimon High School student Sena Kobayakawa is the perfect target for bullies. However, as a result of running errands throughout his life, Sena has become agile and developed a skill for avoiding crowds of people. After the cunning Youichi Hiruma—captain of the Deimon Devil Bats football team—witnesses Sena's rapid legs in motion, he coerces the timid boy into joining his squad.\\n\\nAs Hiruma wants to conceal Sena's identity from other clubs, Sena is forced to hide under the visored helmet of \"Eyeshield 21,\" a mysterious running back wearing the number 21 jersey. The legendary Eyeshield 21 can supposedly run at the speed of light and has achieved remarkable feats in the United States during his time at the Notre Dame College.\\n\\nAccustomed to avoiding his problems in the past, Sena's specialty might just help him become the new secret weapon of the Deimon Devil Bats. As he interacts with his teammates, Sena gradually gains more self-confidence and forges valuable bonds along the way.\\n\\n[Written by MAL Rewrite]                                                                                                                                                                                                                            1\n",
      "Name: count, Length: 23147, dtype: int64\n",
      "- Numer of missing values: 0\n",
      "Number of missing values after cleaning: 0\n"
     ]
    }
   ],
   "source": [
    "describe_feature(data, 'synopsis')\n",
    "\n",
    "# Replacing missing values with the 'No synopsis has been added for this series yet.\\n\\nClick here to update this information.\n",
    "\n",
    "data['synopsis'] = data.apply(lambda row: row['synopsis'] if pd.notnull(row['synopsis']) else 'No synopsis has been added for this series yet.\\n\\nClick here to update this information.', axis=1)\n",
    "print(f\"Number of missing values after cleaning: {data['synopsis'].isna().sum().sum()}\")"
   ]
  },
  {
   "cell_type": "markdown",
   "id": "2055dfdf",
   "metadata": {},
   "source": [
    "**Feature `month`**"
   ]
  },
  {
   "cell_type": "code",
   "execution_count": 58,
   "id": "324c972d",
   "metadata": {},
   "outputs": [
    {
     "name": "stdout",
     "output_type": "stream",
     "text": [
      "- Type: float64\n",
      "- First 5 rows:\n",
      " 0    4.0\n",
      "1    9.0\n",
      "2    4.0\n",
      "3    7.0\n",
      "4    9.0\n",
      "Name: month, dtype: float64\n",
      "- Last 5 Rows: \n",
      " 28689     4.0\n",
      "28690    10.0\n",
      "28692     NaN\n",
      "28693     6.0\n",
      "28694     6.0\n",
      "Name: month, dtype: float64\n",
      "- Number of unique values: 12\n",
      "- Unique values count: month\n",
      "1.0     5746\n",
      "4.0     3269\n",
      "10.0    3110\n",
      "7.0     2780\n",
      "12.0    1994\n",
      "3.0     1945\n",
      "8.0     1722\n",
      "6.0     1528\n",
      "9.0     1492\n",
      "2.0     1478\n",
      "11.0    1328\n",
      "5.0     1209\n",
      "Name: count, dtype: int64\n",
      "- Numer of missing values: 879\n",
      "- Min: 1.0\n",
      "- Max: 12.0\n",
      "- Mean: 5.765225897612406\n",
      "- Median: 6.0\n",
      "- Mode: 0    1.0\n",
      "Name: month, dtype: float64\n",
      "- Std: 3.6880470059355477 \n"
     ]
    }
   ],
   "source": [
    "describe_feature(data, 'month')"
   ]
  },
  {
   "cell_type": "markdown",
   "id": "d51a583f",
   "metadata": {},
   "source": [
    "Cant really do the anything about missing values here"
   ]
  },
  {
   "cell_type": "markdown",
   "id": "1afece56",
   "metadata": {},
   "source": [
    "**Feature `year`**"
   ]
  },
  {
   "cell_type": "code",
   "execution_count": 59,
   "id": "397e65d8",
   "metadata": {},
   "outputs": [
    {
     "name": "stdout",
     "output_type": "stream",
     "text": [
      "- Type: float64\n",
      "- First 5 rows:\n",
      " 0    1998.0\n",
      "1    2001.0\n",
      "2    1998.0\n",
      "3    2002.0\n",
      "4    2004.0\n",
      "Name: year, dtype: float64\n",
      "- Last 5 Rows: \n",
      " 28689    2026.0\n",
      "28690    2025.0\n",
      "28692       NaN\n",
      "28693    2025.0\n",
      "28694    2025.0\n",
      "Name: year, dtype: float64\n",
      "- Number of unique values: 108\n",
      "- Unique values count: year\n",
      "2017.0    1257\n",
      "2021.0    1237\n",
      "2022.0    1231\n",
      "2016.0    1227\n",
      "2019.0    1217\n",
      "          ... \n",
      "1937.0       2\n",
      "1945.0       1\n",
      "1944.0       1\n",
      "1923.0       1\n",
      "1922.0       1\n",
      "Name: count, Length: 108, dtype: int64\n",
      "- Numer of missing values: 879\n",
      "- Min: 1917.0\n",
      "- Max: 2027.0\n",
      "- Mean: 2008.942103546973\n",
      "- Median: 2013.0\n",
      "- Mode: 0    2017.0\n",
      "Name: year, dtype: float64\n",
      "- Std: 15.05488687748169 \n"
     ]
    }
   ],
   "source": [
    "describe_feature(data, 'year')"
   ]
  },
  {
   "cell_type": "markdown",
   "id": "9efb1cf8",
   "metadata": {},
   "source": [
    "Can't really do anything about missing values here"
   ]
  },
  {
   "cell_type": "markdown",
   "id": "6ac129da",
   "metadata": {},
   "source": [
    "**Feature `season`**"
   ]
  },
  {
   "cell_type": "code",
   "execution_count": 60,
   "id": "a51c4dda",
   "metadata": {},
   "outputs": [
    {
     "name": "stdout",
     "output_type": "stream",
     "text": [
      "- Type: object\n",
      "- First 5 rows:\n",
      " 0    spring\n",
      "1       NaN\n",
      "2    spring\n",
      "3    summer\n",
      "4      fall\n",
      "Name: season, dtype: object\n",
      "- Last 5 Rows: \n",
      " 28689    spring\n",
      "28690       NaN\n",
      "28692       NaN\n",
      "28693       NaN\n",
      "28694       NaN\n",
      "Name: season, dtype: object\n",
      "- Number of unique values: 4\n",
      "- Unique values count: season\n",
      "spring    1952\n",
      "fall      1787\n",
      "winter    1269\n",
      "summer    1144\n",
      "Name: count, dtype: int64\n",
      "- Numer of missing values: 22328\n"
     ]
    }
   ],
   "source": [
    "describe_feature(data, 'season')"
   ]
  },
  {
   "cell_type": "markdown",
   "id": "e9697047",
   "metadata": {},
   "source": [
    "Notice there are 22315 missing values for season and only 878 missing values for month. Thus using month we can find the season \n",
    "reducing the amount of missing values to 878. So let's create a new feature\n",
    "\n",
    "Season: Months (numeric)\n",
    "- `Winter`: 1 - 3\n",
    "- `Spring`: 4 - 6\n",
    "- `Summer`: 7 - 9\n",
    "- `Fall`: 10 - 12"
   ]
  },
  {
   "cell_type": "code",
   "execution_count": 61,
   "id": "be17159a",
   "metadata": {},
   "outputs": [],
   "source": [
    "def label_season(row):\n",
    "    if pd.notnull(row['season']):\n",
    "        return row['season'].title()\n",
    "    elif row['month'] in [12, 1, 2]:\n",
    "        return 'Winter'\n",
    "    elif 3 <= row['month'] <= 5:\n",
    "        return 'Spring'\n",
    "    elif 6 <= row['month'] <= 8:\n",
    "        return 'Summer'\n",
    "    elif 9 <= row['month'] <= 11:\n",
    "        return \"Fall\"\n",
    "    else:\n",
    "        return\n",
    "\n",
    "data['new_season'] = data.apply(label_season, axis=1) \n",
    "data['new_season'] = data.apply(lambda row: row['new_season'] if pd.notnull(row['new_season']) else \"Unknown\", axis=1)"
   ]
  },
  {
   "cell_type": "markdown",
   "id": "df510d6f",
   "metadata": {},
   "source": [
    "**Feature `licensors`**"
   ]
  },
  {
   "cell_type": "code",
   "execution_count": 62,
   "id": "f34e3cea",
   "metadata": {},
   "outputs": [
    {
     "name": "stdout",
     "output_type": "stream",
     "text": [
      "- Type: object\n",
      "- First 5 rows:\n",
      " 0                                   ['Funimation']\n",
      "1    ['Sony Pictures Entertainment', 'Funimation']\n",
      "2                                   ['Funimation']\n",
      "3           ['Funimation', 'Bandai Entertainment']\n",
      "4                     ['Illumitoon Entertainment']\n",
      "Name: licensors, dtype: object\n",
      "- Last 5 Rows: \n",
      " 28689    []\n",
      "28690    []\n",
      "28692    []\n",
      "28693    []\n",
      "28694    []\n",
      "Name: licensors, dtype: object\n",
      "- Number of unique values: 301\n",
      "- Unique values count: licensors\n",
      "[]                                       23347\n",
      "['Funimation']                             979\n",
      "['Sentai Filmworks']                       868\n",
      "['Discotek Media']                         301\n",
      "['Aniplex of America']                     252\n",
      "                                         ...  \n",
      "['Crunchyroll', 'Muse Communication']        1\n",
      "['Aniplex of America', 'Crunchyroll']        1\n",
      "['Bandai Namco Online']                      1\n",
      "['King Records']                             1\n",
      "['Toho International']                       1\n",
      "Name: count, Length: 301, dtype: int64\n",
      "- Numer of missing values: 0\n"
     ]
    }
   ],
   "source": [
    "describe_feature(data, 'licensors')"
   ]
  },
  {
   "cell_type": "markdown",
   "id": "c6b0f4a5",
   "metadata": {},
   "source": [
    "**Feature `producers`**"
   ]
  },
  {
   "cell_type": "code",
   "execution_count": 63,
   "id": "8a69cd16",
   "metadata": {},
   "outputs": [
    {
     "name": "stdout",
     "output_type": "stream",
     "text": [
      "- Type: object\n",
      "- First 5 rows:\n",
      " 0    ['Bandai Visual', 'Victor Entertainment', 'Aud...\n",
      "1                         ['Sunrise', 'Bandai Visual']\n",
      "2                             ['Victor Entertainment']\n",
      "3    ['Bandai Visual', 'Dentsu', 'Victor Entertainm...\n",
      "4                               ['TV Tokyo', 'Dentsu']\n",
      "Name: producers, dtype: object\n",
      "- Last 5 Rows: \n",
      " 28689                 []\n",
      "28690                 []\n",
      "28692                 []\n",
      "28693    ['miHoYoAnime']\n",
      "28694                 []\n",
      "Name: producers, dtype: object\n",
      "- Number of unique values: 5136\n",
      "- Unique values count: producers\n",
      "[]                                                           15032\n",
      "['NHK']                                                       1179\n",
      "['Pink Pineapple']                                             273\n",
      "['Sanrio']                                                     180\n",
      "['bilibili']                                                   158\n",
      "                                                             ...  \n",
      "['Toyro Music', 'Shimadzu Corporation']                          1\n",
      "['TMS Entertainment', 'Yomiuri Telecasting', 'Group TAC']        1\n",
      "['Warner Music Japan', 'Tsubasa Records']                        1\n",
      "['Kadokawa Animation']                                           1\n",
      "['Nulls Design']                                                 1\n",
      "Name: count, Length: 5136, dtype: int64\n",
      "- Numer of missing values: 0\n"
     ]
    }
   ],
   "source": [
    "describe_feature(data, 'producers')"
   ]
  },
  {
   "cell_type": "markdown",
   "id": "88fb1a1e",
   "metadata": {},
   "source": [
    "**Feature `studios`**"
   ]
  },
  {
   "cell_type": "code",
   "execution_count": 64,
   "id": "5c8abead",
   "metadata": {},
   "outputs": [
    {
     "name": "stdout",
     "output_type": "stream",
     "text": [
      "- Type: object\n",
      "- First 5 rows:\n",
      " 0           ['Sunrise']\n",
      "1             ['Bones']\n",
      "2          ['Madhouse']\n",
      "3           ['Sunrise']\n",
      "4    ['Toei Animation']\n",
      "Name: studios, dtype: object\n",
      "- Last 5 Rows: \n",
      " 28689    []\n",
      "28690    []\n",
      "28692    []\n",
      "28693    []\n",
      "28694    []\n",
      "Name: studios, dtype: object\n",
      "- Number of unique values: 1870\n",
      "- Unique values count: studios\n",
      "[]                                       11548\n",
      "['Toei Animation']                         875\n",
      "['Sunrise']                                557\n",
      "['J.C.Staff']                              412\n",
      "['TMS Entertainment']                      364\n",
      "                                         ...  \n",
      "['Yumeta Company', 'Maru Animation']         1\n",
      "['Tatsunoko Production', 'SynergySP']        1\n",
      "['Studio GOONEYS', 'Honoo']                  1\n",
      "['studio42']                                 1\n",
      "['Raiose']                                   1\n",
      "Name: count, Length: 1870, dtype: int64\n",
      "- Numer of missing values: 0\n"
     ]
    }
   ],
   "source": [
    "describe_feature(data, 'studios')"
   ]
  },
  {
   "cell_type": "markdown",
   "id": "3d79f4fb",
   "metadata": {},
   "source": [
    "**Feature `genres`**"
   ]
  },
  {
   "cell_type": "code",
   "execution_count": 65,
   "id": "c3cd18c3",
   "metadata": {},
   "outputs": [
    {
     "name": "stdout",
     "output_type": "stream",
     "text": [
      "- Type: object\n",
      "- First 5 rows:\n",
      " 0             ['Action', 'Award Winning', 'Sci-Fi']\n",
      "1                              ['Action', 'Sci-Fi']\n",
      "2                 ['Action', 'Adventure', 'Sci-Fi']\n",
      "3    ['Action', 'Drama', 'Mystery', 'Supernatural']\n",
      "4                ['Action', 'Adventure', 'Fantasy']\n",
      "Name: genres, dtype: object\n",
      "- Last 5 Rows: \n",
      " 28689                ['Fantasy']\n",
      "28690    ['Action', 'Adventure']\n",
      "28692      ['Comedy', 'Romance']\n",
      "28693                ['Fantasy']\n",
      "28694                ['Fantasy']\n",
      "Name: genres, dtype: object\n",
      "- Number of unique values: 931\n",
      "- Unique values count: genres\n",
      "[]                                                                                 5882\n",
      "['Comedy']                                                                         2679\n",
      "['Fantasy']                                                                        1461\n",
      "['Hentai']                                                                         1286\n",
      "['Slice of Life']                                                                   820\n",
      "                                                                                   ... \n",
      "['Comedy', 'Romance', 'Suspense']                                                     1\n",
      "['Avant Garde', 'Comedy', 'Supernatural']                                             1\n",
      "['Action', 'Adventure', 'Comedy', 'Drama', 'Mystery', 'Sci-Fi', 'Supernatural']       1\n",
      "['Action', 'Adventure', 'Mystery', 'Supernatural', 'Suspense']                        1\n",
      "['Action', 'Award Winning', 'Comedy', 'Sci-Fi']                                       1\n",
      "Name: count, Length: 931, dtype: int64\n",
      "- Numer of missing values: 0\n"
     ]
    }
   ],
   "source": [
    "describe_feature(data, 'genres')"
   ]
  },
  {
   "cell_type": "markdown",
   "id": "bfcda87d",
   "metadata": {},
   "source": [
    "**Feature `themes`**"
   ]
  },
  {
   "cell_type": "code",
   "execution_count": 66,
   "id": "142d6e0d",
   "metadata": {},
   "outputs": [
    {
     "name": "stdout",
     "output_type": "stream",
     "text": [
      "- Type: object\n",
      "- First 5 rows:\n",
      " 0    ['Adult Cast', 'Space']\n",
      "1    ['Adult Cast', 'Space']\n",
      "2             ['Adult Cast']\n",
      "3              ['Detective']\n",
      "4                         []\n",
      "Name: themes, dtype: object\n",
      "- Last 5 Rows: \n",
      " 28689                 ['Isekai', 'Reincarnation']\n",
      "28690    ['Adult Cast', 'Historical', 'Military']\n",
      "28692                                  ['School']\n",
      "28693                                  ['Isekai']\n",
      "28694                                   ['Music']\n",
      "Name: themes, dtype: object\n",
      "- Number of unique values: 1025\n",
      "- Unique values count: themes\n",
      "[]                                                 11724\n",
      "['Music']                                           3925\n",
      "['School']                                           902\n",
      "['Anthropomorphic']                                  873\n",
      "['Historical']                                       850\n",
      "                                                   ...  \n",
      "['Isekai', 'Space']                                    1\n",
      "['Idols (Female)', 'Music', 'Parody', 'School']        1\n",
      "['Childcare', 'Love Status Quo']                       1\n",
      "['Anthropomorphic', 'School', 'Urban Fantasy']         1\n",
      "['Pets', 'Workplace']                                  1\n",
      "Name: count, Length: 1025, dtype: int64\n",
      "- Numer of missing values: 0\n"
     ]
    }
   ],
   "source": [
    "describe_feature(data, 'themes')"
   ]
  },
  {
   "cell_type": "markdown",
   "id": "54e4e873",
   "metadata": {},
   "source": [
    "Feature `day`"
   ]
  },
  {
   "cell_type": "code",
   "execution_count": 67,
   "id": "165fed4e",
   "metadata": {},
   "outputs": [
    {
     "name": "stdout",
     "output_type": "stream",
     "text": [
      "- Type: float64\n",
      "- First 5 rows:\n",
      " 0     3.0\n",
      "1     1.0\n",
      "2     1.0\n",
      "3     3.0\n",
      "4    30.0\n",
      "Name: day, dtype: float64\n",
      "- Last 5 Rows: \n",
      " 28689     1.0\n",
      "28690    17.0\n",
      "28692     NaN\n",
      "28693    12.0\n",
      "28694    12.0\n",
      "Name: day, dtype: float64\n",
      "- Number of unique values: 31\n",
      "- Unique values count: day\n",
      "1.0     5704\n",
      "25.0    1128\n",
      "5.0     1080\n",
      "6.0     1059\n",
      "3.0     1049\n",
      "7.0     1031\n",
      "2.0     1027\n",
      "21.0     960\n",
      "4.0      950\n",
      "8.0      850\n",
      "10.0     778\n",
      "9.0      751\n",
      "26.0     747\n",
      "28.0     713\n",
      "27.0     674\n",
      "24.0     643\n",
      "22.0     639\n",
      "11.0     630\n",
      "20.0     617\n",
      "23.0     601\n",
      "12.0     599\n",
      "29.0     593\n",
      "30.0     588\n",
      "13.0     565\n",
      "15.0     565\n",
      "14.0     555\n",
      "18.0     554\n",
      "17.0     531\n",
      "16.0     531\n",
      "19.0     520\n",
      "31.0     369\n",
      "Name: count, dtype: int64\n",
      "- Numer of missing values: 879\n",
      "- Min: 1.0\n",
      "- Max: 31.0\n",
      "- Mean: 12.244882431795949\n",
      "- Median: 10.0\n",
      "- Mode: 0    1.0\n",
      "Name: day, dtype: float64\n",
      "- Std: 9.827799670521097 \n"
     ]
    }
   ],
   "source": [
    "describe_feature(data, 'day')"
   ]
  },
  {
   "cell_type": "markdown",
   "id": "7cb28050",
   "metadata": {},
   "source": [
    "# Fianl Preprocessing"
   ]
  },
  {
   "cell_type": "markdown",
   "id": "902a9415",
   "metadata": {},
   "source": [
    "**Dataset for visualzation**"
   ]
  },
  {
   "cell_type": "code",
   "execution_count": 68,
   "id": "4fc212f3",
   "metadata": {},
   "outputs": [],
   "source": [
    "\n",
    "vis_data = data[data['status'] != \"Not yet aired\"]\n",
    "vis_data = vis_data.drop(columns={'season', 'rating'})\n",
    "vis_data = vis_data.rename(columns={'new_season': 'season', 'new_rating': 'rating'})"
   ]
  },
  {
   "cell_type": "markdown",
   "id": "540036f6",
   "metadata": {},
   "source": [
    "Now let's sort the columns"
   ]
  },
  {
   "cell_type": "code",
   "execution_count": 69,
   "id": "97f059ec",
   "metadata": {},
   "outputs": [
    {
     "data": {
      "text/plain": [
       "Index(['mal_id', 'title', 'title_en', 'title_synonyms', 'type', 'source',\n",
       "       'episodes', 'status', 'airing', 'duration', 'score', 'scored_by',\n",
       "       'rank', 'popularity', 'members', 'favorites', 'synopsis', 'year',\n",
       "       'month', 'day', 'licensors', 'producers', 'studios', 'genres', 'themes',\n",
       "       'demographics', 'rating', 'season'],\n",
       "      dtype='object')"
      ]
     },
     "execution_count": 69,
     "metadata": {},
     "output_type": "execute_result"
    }
   ],
   "source": [
    "vis_data.columns"
   ]
  },
  {
   "cell_type": "code",
   "execution_count": 70,
   "id": "7eb3b3e9",
   "metadata": {},
   "outputs": [],
   "source": [
    "vis_data = vis_data[['mal_id', 'title', 'title_en', 'title_synonyms', 'type', 'source', 'status', 'airing', 'day' ,'month', 'year', \n",
    "'season', 'episodes', 'duration', 'score', 'scored_by', 'rank', 'members','popularity', 'favorites', 'genres', 'themes', 'demographics' ,'rating', \n",
    "'licensors', 'producers', 'studios']]"
   ]
  },
  {
   "cell_type": "code",
   "execution_count": 71,
   "id": "07e5791f",
   "metadata": {},
   "outputs": [],
   "source": [
    "vis_data.to_csv('anime_data_vis.csv', sep=',', index=False, encoding='utf-8')"
   ]
  }
 ],
 "metadata": {
  "kernelspec": {
   "display_name": "Python 3",
   "language": "python",
   "name": "python3"
  },
  "language_info": {
   "codemirror_mode": {
    "name": "ipython",
    "version": 3
   },
   "file_extension": ".py",
   "mimetype": "text/x-python",
   "name": "python",
   "nbconvert_exporter": "python",
   "pygments_lexer": "ipython3",
   "version": "3.11.9"
  }
 },
 "nbformat": 4,
 "nbformat_minor": 5
}
