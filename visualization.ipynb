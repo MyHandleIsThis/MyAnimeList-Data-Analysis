{
 "cells": [
  {
   "cell_type": "markdown",
   "id": "be980e4f",
   "metadata": {},
   "source": [
    "# **Visualization of MyAnimeList Anime Data**"
   ]
  },
  {
   "cell_type": "markdown",
   "id": "937622cd",
   "metadata": {},
   "source": [
    "Tasks of this notebook:\n",
    "- Exploratory data analysis\n",
    "- Visualizations"
   ]
  },
  {
   "cell_type": "markdown",
   "id": "40a64455",
   "metadata": {},
   "source": [
    "**1. Initial Setup** "
   ]
  },
  {
   "cell_type": "code",
   "execution_count": 392,
   "id": "bfb1f810",
   "metadata": {},
   "outputs": [],
   "source": [
    "import pandas as pd\n",
    "import matplotlib.pyplot as plt\n",
    "import seaborn as sns\n",
    "import plotly.express as px\n",
    "import plotly\n",
    "import plotly.graph_objects as go\n",
    "import openchord as ocd\n",
    "import itertools\n",
    "import numpy as np\n",
    "import scipy.stats\n",
    "import ast"
   ]
  },
  {
   "cell_type": "code",
   "execution_count": 393,
   "id": "dd54bdeb",
   "metadata": {},
   "outputs": [],
   "source": [
    "# Defintion of functions and values of some constants\n",
    "anime_data = pd.read_csv('anime_data_vis.csv')\n",
    "\n",
    "COLOR_GENRES = {\n",
    "    \"Action\": \"#e74c3c\",\n",
    "    \"Adventure\": \"#f39c12\",\n",
    "    \"Avant Garde\": \"#8e44ad\",\n",
    "    \"Award Winning\": \"#27ae60\",\n",
    "    \"Boys Love\": \"#fd79a8\",\n",
    "    \"Comedy\": \"#f1c40f\",\n",
    "    \"Drama\": \"#9b59b6\",\n",
    "    \"Fantasy\": \"#8e44ad\",\n",
    "    \"Girls Love\": \"#e84393\",\n",
    "    \"Gourmet\": \"#d35400\",\n",
    "    \"Horror\": \"#c0392b\",\n",
    "    \"Mystery\": \"#34495e\",\n",
    "    \"Romance\": \"#e91e63\",\n",
    "    \"Sci-Fi\": \"#2980b9\",\n",
    "    \"Slice of Life\": \"#1abc9c\",\n",
    "    \"Sports\": \"#27ae60\",\n",
    "    \"Supernatural\": \"#2c3e50\",\n",
    "    \"Suspense\": \"#7f8c8d\",\n",
    "    \"Ecchi\": \"#f368e0\",\n",
    "    \"Erotica\": \"#c44569\",\n",
    "    \"Hentai\": \"#6D214F\"\n",
    "}\n",
    "\n",
    "\n",
    "COLOR_THEMES = {\n",
    "    \"Adult Cast\": \"#6c5ce7\",\n",
    "    \"Anthropomorphic\": \"#a29bfe\",\n",
    "    \"CGDCT\": \"#ffeaa7\",\n",
    "    \"Childcare\": \"#fab1a0\",\n",
    "    \"Combat Sports\": \"#d63031\",\n",
    "    \"Crossdressing\": \"#e84393\",\n",
    "    \"Delinquents\": \"#636e72\",\n",
    "    \"Detective\": \"#2d3436\",\n",
    "    \"Educational\": \"#55efc4\",\n",
    "    \"Gag Humor\": \"#fdcb6e\",\n",
    "    \"Gore\": \"#d63031\",\n",
    "    \"Harem\": \"#f8c291\",\n",
    "    \"High Stakes Game\": \"#e67e22\",\n",
    "    \"Historical\": \"#a29bfe\",\n",
    "    \"Idols (Female)\": \"#f5a6e6\",\n",
    "    \"Idols (Male)\": \"#74b9ff\",\n",
    "    \"Isekai\": \"#6c5ce7\",\n",
    "    \"Iyashikei\": \"#81ecec\",\n",
    "    \"Love Polygon\": \"#ff6b81\",\n",
    "    \"Love Status Quo\": \"#ff9ff3\",\n",
    "    \"Magical Sex Shift\": \"#f368e0\",\n",
    "    \"Mahou Shoujo\": \"#e056fd\",\n",
    "    \"Martial Arts\": \"#b71540\",\n",
    "    \"Mecha\": \"#7f8c8d\",\n",
    "    \"Medical\": \"#00cec9\",\n",
    "    \"Military\": \"#636e72\",\n",
    "    \"Music\": \"#1e90ff\",\n",
    "    \"Mythology\": \"#a29bfe\",\n",
    "    \"Organized Crime\": \"#2f3542\",\n",
    "    \"Otaku Culture\": \"#ff9f1a\",\n",
    "    \"Parody\": \"#ffeaa7\",\n",
    "    \"Performing Arts\": \"#74b9ff\",\n",
    "    \"Pets\": \"#00b894\",\n",
    "    \"Psychological\": \"#e17055\",\n",
    "    \"Racing\": \"#d63031\",\n",
    "    \"Reincarnation\": \"#6c5ce7\",\n",
    "    \"Reverse Harem\": \"#f3a683\",\n",
    "    \"Samurai\": \"#d35400\",\n",
    "    \"School\": \"#3498db\",\n",
    "    \"Showbiz\": \"#fab1a0\",\n",
    "    \"Space\": \"#2c3e50\",\n",
    "    \"Strategy Game\": \"#6c5ce7\",\n",
    "    \"Super Power\": \"#16a085\",\n",
    "    \"Survival\": \"#b71540\",\n",
    "    \"Team Sports\": \"#27ae60\",\n",
    "    \"Time Travel\": \"#a3cb38\",\n",
    "    \"Urban Fantasy\": \"#2d98da\",\n",
    "    \"Vampire\": \"#833471\",\n",
    "    \"Video Game\": \"#9b59b6\",\n",
    "    \"Villainess\": \"#ff6b6b\",\n",
    "    \"Visual Arts\": \"#f6e58d\",\n",
    "    \"Workplace\": \"#95afc0\"\n",
    "}\n",
    "\n",
    "\n",
    "COLOR_DEMOGRAPHICS = {\n",
    "    \"Josei\": \"#f8a5c2\",\n",
    "    \"Kids\": \"#f6e58d\",\n",
    "    \"Seinen\": \"#2f3542\",\n",
    "    \"Shoujo\": \"#f78fb3\",\n",
    "    \"Shounen\": \"#e77f67\"\n",
    "}\n",
    "\n"
   ]
  },
  {
   "cell_type": "markdown",
   "id": "5b5b8e9a",
   "metadata": {},
   "source": [
    "TODO List + Some ideas\n",
    "- Number of animes per genres, type, rating, etc ....\n",
    "- Average score, members, and favoruites per genre\n",
    "- Average score, memebers, and favourites per season\n",
    "- Average score based on soruce material\n",
    "- score vs scored_by scatter plot, rank vs popularity scatter plot\n",
    "- Distrubtiton of scores, memebers\n",
    "\n",
    "- Average score and members per licensors, producers, studios\n",
    "\n",
    "- Number of animes released per season and per year (2 Line Plots)\n",
    "- Pairplot score, scored_by, members, episodes, type\n",
    "\n",
    "- Average score over time (Line Plot)\n",
    "- Word cloud of the most common words in a title\n",
    "- Chord diagram of relationships between genres\n",
    "- Treemap  or pie chart of animes by genres and type\n",
    "- PCA \n",
    "- Heatmap of anime realease frequency by season and by year\n",
    "- Number of animes realeased per year differnated by the genre,themes,demographic (So we can see different trends)\n"
   ]
  },
  {
   "cell_type": "markdown",
   "id": "ab8e3246",
   "metadata": {},
   "source": [
    "# Basic Analysis"
   ]
  },
  {
   "cell_type": "code",
   "execution_count": 394,
   "id": "6b094c88",
   "metadata": {},
   "outputs": [
    {
     "name": "stdout",
     "output_type": "stream",
     "text": [
      "Top 5 animes with the highest score:\n",
      "                                    title  score  rank\n",
      "23013                   Sousou no Frieren   9.30   1.0\n",
      "3960     Fullmetal Alchemist: Brotherhood   9.10   2.0\n",
      "5664                          Steins;Gate   9.07   3.0\n",
      "9873                             Gintama°   9.05   5.0\n",
      "14838  Shingeki no Kyojin Season 3 Part 2   9.05   4.0\n",
      "Top 5 animes with the lowest scores:\n",
      "                              title  score     rank\n",
      "10977                      Kokuhaku   2.41  14079.0\n",
      "4193                   Tsui no Sora   2.32      NaN\n",
      "387                 Hametsu no Mars   2.23  14080.0\n",
      "6944             Utsu Musume Sayuri   2.00  14081.0\n",
      "2925   Tenkuu Danzai Skelter+Heaven   1.89  14082.0\n",
      "Top 5 animes with the highest number of members: \n",
      "                                   title  members  popularity\n",
      "7425                 Shingeki no Kyojin  4172424           1\n",
      "1393                         Death Note  4116283           2\n",
      "3960   Fullmetal Alchemist: Brotherhood  3530628           3\n",
      "10401                     One Punch Man  3390981           4\n",
      "14516                  Kimetsu no Yaiba  3261661           5\n",
      "Top 5 animes with the lowest number of members: \n",
      "                                           title  members  popularity\n",
      "27947                     Chanchanko: Kanreki 60       25       28476\n",
      "27944                      Chiikawa Park TV CM's       25       28466\n",
      "27948                      Sound of Music (2025)       23       28466\n",
      "27949  Baggy Jeans (Kim Mincheol & Hayate Remix)       21       28474\n",
      "27953                                    Katachi        1       28479\n",
      "Top 10 animes with the most episodes:\n",
      "                                       title  episodes\n",
      "5971                                 Lan Mao    3057.0\n",
      "6720                              Oyako Club    1818.0\n",
      "2266                         Doraemon (1979)    1787.0\n",
      "8914                                Gudetama    1717.0\n",
      "19336                       Daomei Xiansheng    1664.0\n",
      "8875                  Kirin Monoshiri Yakata    1565.0\n",
      "4524      Manga Nippon Mukashibanashi (1976)    1471.0\n",
      "5265                         Hokahoka Kazoku    1428.0\n",
      "11316               Kirin Ashita no Calendar    1306.0\n",
      "8596   Monoshiri Daigaku: Ashita no Calendar    1274.0\n"
     ]
    }
   ],
   "source": [
    "print(f\"Top 5 animes with the highest score:\\n{anime_data.nlargest(5, columns=['score']).sort_values('score', ascending=False)[['title', 'score', 'rank']] }\")\n",
    "print(f\"Top 5 animes with the lowest scores:\\n{anime_data.nsmallest(5, columns=['score']).sort_values('score', ascending=False)[['title', 'score', 'rank']]}\")\n",
    "print(f\"Top 5 animes with the highest number of members: \\n {anime_data.nlargest(5, columns=['members']).sort_values('members', ascending=False)[['title', 'members', 'popularity']] }\")\n",
    "print(f\"Top 5 animes with the lowest number of members: \\n{anime_data.nsmallest(5, columns=['members']).sort_values('members', ascending=False)[['title', 'members', 'popularity']] }\")\n",
    "print(f\"Top 10 animes with the most episodes:\\n{anime_data.nlargest(10, 'episodes')[['title', 'episodes']]}\") # LMAO One Piece doesnt crack the list"
   ]
  },
  {
   "cell_type": "markdown",
   "id": "a11e3f65",
   "metadata": {},
   "source": [
    "# Genres <br>\n",
    "### Calculating average and members score per genre"
   ]
  },
  {
   "cell_type": "code",
   "execution_count": 395,
   "id": "40d6866b",
   "metadata": {},
   "outputs": [],
   "source": [
    "# Recall that all genres are in a list: So to seperate we are going to explode it \n",
    "# This just means that each genre in be in it's own column\n",
    "anime_data['genres'] = anime_data['genres'].apply(lambda x: ast.literal_eval(x) if isinstance(x, str) else x)\n",
    "genres_exploded = anime_data.explode('genres')\n",
    "genres_exploded = genres_exploded.dropna(subset={'genres'})\n",
    "avg_score_per_genre = genres_exploded.groupby('genres')['score'].mean().sort_values(ascending=False) \n",
    "avg__member_per_genre = genres_exploded.groupby('genres')['members'].mean().sort_values(ascending=False)"
   ]
  },
  {
   "cell_type": "markdown",
   "id": "4e8839af",
   "metadata": {},
   "source": [
    "### Average score and number of members per genre"
   ]
  },
  {
   "cell_type": "code",
   "execution_count": null,
   "id": "776ce3a4",
   "metadata": {},
   "outputs": [
    {
     "data": {
      "application/vnd.plotly.v1+json": {
       "config": {
        "plotlyServerURL": "https://plot.ly"
       },
       "data": [
        {
         "hovertemplate": "genres=%{x}<br>score=%{y}<extra></extra>",
         "legendgroup": "Award Winning",
         "marker": {
          "color": "#27ae60",
          "pattern": {
           "shape": ""
          }
         },
         "name": "Award Winning",
         "orientation": "v",
         "showlegend": true,
         "textposition": "auto",
         "type": "bar",
         "x": [
          "Award Winning"
         ],
         "xaxis": "x",
         "y": {
          "bdata": "PTtaFVk0HUA=",
          "dtype": "f8"
         },
         "yaxis": "y"
        },
        {
         "hovertemplate": "genres=%{x}<br>score=%{y}<extra></extra>",
         "legendgroup": "Suspense",
         "marker": {
          "color": "#7f8c8d",
          "pattern": {
           "shape": ""
          }
         },
         "name": "Suspense",
         "orientation": "v",
         "showlegend": true,
         "textposition": "auto",
         "type": "bar",
         "x": [
          "Suspense"
         ],
         "xaxis": "x",
         "y": {
          "bdata": "31C5Tx4VHEA=",
          "dtype": "f8"
         },
         "yaxis": "y"
        },
        {
         "hovertemplate": "genres=%{x}<br>score=%{y}<extra></extra>",
         "legendgroup": "Mystery",
         "marker": {
          "color": "#34495e",
          "pattern": {
           "shape": ""
          }
         },
         "name": "Mystery",
         "orientation": "v",
         "showlegend": true,
         "textposition": "auto",
         "type": "bar",
         "x": [
          "Mystery"
         ],
         "xaxis": "x",
         "y": {
          "bdata": "ggUf1/7rG0A=",
          "dtype": "f8"
         },
         "yaxis": "y"
        },
        {
         "hovertemplate": "genres=%{x}<br>score=%{y}<extra></extra>",
         "legendgroup": "Drama",
         "marker": {
          "color": "#9b59b6",
          "pattern": {
           "shape": ""
          }
         },
         "name": "Drama",
         "orientation": "v",
         "showlegend": true,
         "textposition": "auto",
         "type": "bar",
         "x": [
          "Drama"
         ],
         "xaxis": "x",
         "y": {
          "bdata": "3u/M4DRoG0A=",
          "dtype": "f8"
         },
         "yaxis": "y"
        },
        {
         "hovertemplate": "genres=%{x}<br>score=%{y}<extra></extra>",
         "legendgroup": "Romance",
         "marker": {
          "color": "#e91e63",
          "pattern": {
           "shape": ""
          }
         },
         "name": "Romance",
         "orientation": "v",
         "showlegend": true,
         "textposition": "auto",
         "type": "bar",
         "x": [
          "Romance"
         ],
         "xaxis": "x",
         "y": {
          "bdata": "Tj5ZkbVbG0A=",
          "dtype": "f8"
         },
         "yaxis": "y"
        },
        {
         "hovertemplate": "genres=%{x}<br>score=%{y}<extra></extra>",
         "legendgroup": "Supernatural",
         "marker": {
          "color": "#2c3e50",
          "pattern": {
           "shape": ""
          }
         },
         "name": "Supernatural",
         "orientation": "v",
         "showlegend": true,
         "textposition": "auto",
         "type": "bar",
         "x": [
          "Supernatural"
         ],
         "xaxis": "x",
         "y": {
          "bdata": "zvnmo671GkA=",
          "dtype": "f8"
         },
         "yaxis": "y"
        },
        {
         "hovertemplate": "genres=%{x}<br>score=%{y}<extra></extra>",
         "legendgroup": "Action",
         "marker": {
          "color": "#e74c3c",
          "pattern": {
           "shape": ""
          }
         },
         "name": "Action",
         "orientation": "v",
         "showlegend": true,
         "textposition": "auto",
         "type": "bar",
         "x": [
          "Action"
         ],
         "xaxis": "x",
         "y": {
          "bdata": "fYRvXGveGkA=",
          "dtype": "f8"
         },
         "yaxis": "y"
        },
        {
         "hovertemplate": "genres=%{x}<br>score=%{y}<extra></extra>",
         "legendgroup": "Adventure",
         "marker": {
          "color": "#f39c12",
          "pattern": {
           "shape": ""
          }
         },
         "name": "Adventure",
         "orientation": "v",
         "showlegend": true,
         "textposition": "auto",
         "type": "bar",
         "x": [
          "Adventure"
         ],
         "xaxis": "x",
         "y": {
          "bdata": "zlAb0MbOGkA=",
          "dtype": "f8"
         },
         "yaxis": "y"
        },
        {
         "hovertemplate": "genres=%{x}<br>score=%{y}<extra></extra>",
         "legendgroup": "Sports",
         "marker": {
          "color": "#27ae60",
          "pattern": {
           "shape": ""
          }
         },
         "name": "Sports",
         "orientation": "v",
         "showlegend": true,
         "textposition": "auto",
         "type": "bar",
         "x": [
          "Sports"
         ],
         "xaxis": "x",
         "y": {
          "bdata": "TB/nIGnDGkA=",
          "dtype": "f8"
         },
         "yaxis": "y"
        },
        {
         "hovertemplate": "genres=%{x}<br>score=%{y}<extra></extra>",
         "legendgroup": "Girls Love",
         "marker": {
          "color": "#e84393",
          "pattern": {
           "shape": ""
          }
         },
         "name": "Girls Love",
         "orientation": "v",
         "showlegend": true,
         "textposition": "auto",
         "type": "bar",
         "x": [
          "Girls Love"
         ],
         "xaxis": "x",
         "y": {
          "bdata": "ogeJ4PZuGkA=",
          "dtype": "f8"
         },
         "yaxis": "y"
        },
        {
         "hovertemplate": "genres=%{x}<br>score=%{y}<extra></extra>",
         "legendgroup": "Fantasy",
         "marker": {
          "color": "#8e44ad",
          "pattern": {
           "shape": ""
          }
         },
         "name": "Fantasy",
         "orientation": "v",
         "showlegend": true,
         "textposition": "auto",
         "type": "bar",
         "x": [
          "Fantasy"
         ],
         "xaxis": "x",
         "y": {
          "bdata": "Ke89+CJmGkA=",
          "dtype": "f8"
         },
         "yaxis": "y"
        },
        {
         "hovertemplate": "genres=%{x}<br>score=%{y}<extra></extra>",
         "legendgroup": "Gourmet",
         "marker": {
          "color": "#d35400",
          "pattern": {
           "shape": ""
          }
         },
         "name": "Gourmet",
         "orientation": "v",
         "showlegend": true,
         "textposition": "auto",
         "type": "bar",
         "x": [
          "Gourmet"
         ],
         "xaxis": "x",
         "y": {
          "bdata": "8K0oHglfGkA=",
          "dtype": "f8"
         },
         "yaxis": "y"
        },
        {
         "hovertemplate": "genres=%{x}<br>score=%{y}<extra></extra>",
         "legendgroup": "Boys Love",
         "marker": {
          "color": "#fd79a8",
          "pattern": {
           "shape": ""
          }
         },
         "name": "Boys Love",
         "orientation": "v",
         "showlegend": true,
         "textposition": "auto",
         "type": "bar",
         "x": [
          "Boys Love"
         ],
         "xaxis": "x",
         "y": {
          "bdata": "r87cVFEzGkA=",
          "dtype": "f8"
         },
         "yaxis": "y"
        },
        {
         "hovertemplate": "genres=%{x}<br>score=%{y}<extra></extra>",
         "legendgroup": "Sci-Fi",
         "marker": {
          "color": "#2980b9",
          "pattern": {
           "shape": ""
          }
         },
         "name": "Sci-Fi",
         "orientation": "v",
         "showlegend": true,
         "textposition": "auto",
         "type": "bar",
         "x": [
          "Sci-Fi"
         ],
         "xaxis": "x",
         "y": {
          "bdata": "/k0TpYkwGkA=",
          "dtype": "f8"
         },
         "yaxis": "y"
        },
        {
         "hovertemplate": "genres=%{x}<br>score=%{y}<extra></extra>",
         "legendgroup": "Comedy",
         "marker": {
          "color": "#f1c40f",
          "pattern": {
           "shape": ""
          }
         },
         "name": "Comedy",
         "orientation": "v",
         "showlegend": true,
         "textposition": "auto",
         "type": "bar",
         "x": [
          "Comedy"
         ],
         "xaxis": "x",
         "y": {
          "bdata": "RPqZ/IT5GUA=",
          "dtype": "f8"
         },
         "yaxis": "y"
        },
        {
         "hovertemplate": "genres=%{x}<br>score=%{y}<extra></extra>",
         "legendgroup": "Ecchi",
         "marker": {
          "color": "#f368e0",
          "pattern": {
           "shape": ""
          }
         },
         "name": "Ecchi",
         "orientation": "v",
         "showlegend": true,
         "textposition": "auto",
         "type": "bar",
         "x": [
          "Ecchi"
         ],
         "xaxis": "x",
         "y": {
          "bdata": "RUGbaQmvGUA=",
          "dtype": "f8"
         },
         "yaxis": "y"
        },
        {
         "hovertemplate": "genres=%{x}<br>score=%{y}<extra></extra>",
         "legendgroup": "Slice of Life",
         "marker": {
          "color": "#1abc9c",
          "pattern": {
           "shape": ""
          }
         },
         "name": "Slice of Life",
         "orientation": "v",
         "showlegend": true,
         "textposition": "auto",
         "type": "bar",
         "x": [
          "Slice of Life"
         ],
         "xaxis": "x",
         "y": {
          "bdata": "Jgy4R5KdGUA=",
          "dtype": "f8"
         },
         "yaxis": "y"
        },
        {
         "hovertemplate": "genres=%{x}<br>score=%{y}<extra></extra>",
         "legendgroup": "Horror",
         "marker": {
          "color": "#c0392b",
          "pattern": {
           "shape": ""
          }
         },
         "name": "Horror",
         "orientation": "v",
         "showlegend": true,
         "textposition": "auto",
         "type": "bar",
         "x": [
          "Horror"
         ],
         "xaxis": "x",
         "y": {
          "bdata": "55wmuRayGEA=",
          "dtype": "f8"
         },
         "yaxis": "y"
        },
        {
         "hovertemplate": "genres=%{x}<br>score=%{y}<extra></extra>",
         "legendgroup": "Hentai",
         "marker": {
          "color": "#6D214F",
          "pattern": {
           "shape": ""
          }
         },
         "name": "Hentai",
         "orientation": "v",
         "showlegend": true,
         "textposition": "auto",
         "type": "bar",
         "x": [
          "Hentai"
         ],
         "xaxis": "x",
         "y": {
          "bdata": "v5a8UWGEGEA=",
          "dtype": "f8"
         },
         "yaxis": "y"
        },
        {
         "hovertemplate": "genres=%{x}<br>score=%{y}<extra></extra>",
         "legendgroup": "Erotica",
         "marker": {
          "color": "#c44569",
          "pattern": {
           "shape": ""
          }
         },
         "name": "Erotica",
         "orientation": "v",
         "showlegend": true,
         "textposition": "auto",
         "type": "bar",
         "x": [
          "Erotica"
         ],
         "xaxis": "x",
         "y": {
          "bdata": "8IkjvVYwGEA=",
          "dtype": "f8"
         },
         "yaxis": "y"
        },
        {
         "hovertemplate": "genres=%{x}<br>score=%{y}<extra></extra>",
         "legendgroup": "Avant Garde",
         "marker": {
          "color": "#8e44ad",
          "pattern": {
           "shape": ""
          }
         },
         "name": "Avant Garde",
         "orientation": "v",
         "showlegend": true,
         "textposition": "auto",
         "type": "bar",
         "x": [
          "Avant Garde"
         ],
         "xaxis": "x",
         "y": {
          "bdata": "4diyuHwjFUA=",
          "dtype": "f8"
         },
         "yaxis": "y"
        }
       ],
       "layout": {
        "barmode": "relative",
        "legend": {
         "title": {
          "text": "genres"
         },
         "tracegroupgap": 0
        },
        "margin": {
         "t": 60
        },
        "template": {
         "data": {
          "bar": [
           {
            "error_x": {
             "color": "#2a3f5f"
            },
            "error_y": {
             "color": "#2a3f5f"
            },
            "marker": {
             "line": {
              "color": "#E5ECF6",
              "width": 0.5
             },
             "pattern": {
              "fillmode": "overlay",
              "size": 10,
              "solidity": 0.2
             }
            },
            "type": "bar"
           }
          ],
          "barpolar": [
           {
            "marker": {
             "line": {
              "color": "#E5ECF6",
              "width": 0.5
             },
             "pattern": {
              "fillmode": "overlay",
              "size": 10,
              "solidity": 0.2
             }
            },
            "type": "barpolar"
           }
          ],
          "carpet": [
           {
            "aaxis": {
             "endlinecolor": "#2a3f5f",
             "gridcolor": "white",
             "linecolor": "white",
             "minorgridcolor": "white",
             "startlinecolor": "#2a3f5f"
            },
            "baxis": {
             "endlinecolor": "#2a3f5f",
             "gridcolor": "white",
             "linecolor": "white",
             "minorgridcolor": "white",
             "startlinecolor": "#2a3f5f"
            },
            "type": "carpet"
           }
          ],
          "choropleth": [
           {
            "colorbar": {
             "outlinewidth": 0,
             "ticks": ""
            },
            "type": "choropleth"
           }
          ],
          "contour": [
           {
            "colorbar": {
             "outlinewidth": 0,
             "ticks": ""
            },
            "colorscale": [
             [
              0,
              "#0d0887"
             ],
             [
              0.1111111111111111,
              "#46039f"
             ],
             [
              0.2222222222222222,
              "#7201a8"
             ],
             [
              0.3333333333333333,
              "#9c179e"
             ],
             [
              0.4444444444444444,
              "#bd3786"
             ],
             [
              0.5555555555555556,
              "#d8576b"
             ],
             [
              0.6666666666666666,
              "#ed7953"
             ],
             [
              0.7777777777777778,
              "#fb9f3a"
             ],
             [
              0.8888888888888888,
              "#fdca26"
             ],
             [
              1,
              "#f0f921"
             ]
            ],
            "type": "contour"
           }
          ],
          "contourcarpet": [
           {
            "colorbar": {
             "outlinewidth": 0,
             "ticks": ""
            },
            "type": "contourcarpet"
           }
          ],
          "heatmap": [
           {
            "colorbar": {
             "outlinewidth": 0,
             "ticks": ""
            },
            "colorscale": [
             [
              0,
              "#0d0887"
             ],
             [
              0.1111111111111111,
              "#46039f"
             ],
             [
              0.2222222222222222,
              "#7201a8"
             ],
             [
              0.3333333333333333,
              "#9c179e"
             ],
             [
              0.4444444444444444,
              "#bd3786"
             ],
             [
              0.5555555555555556,
              "#d8576b"
             ],
             [
              0.6666666666666666,
              "#ed7953"
             ],
             [
              0.7777777777777778,
              "#fb9f3a"
             ],
             [
              0.8888888888888888,
              "#fdca26"
             ],
             [
              1,
              "#f0f921"
             ]
            ],
            "type": "heatmap"
           }
          ],
          "histogram": [
           {
            "marker": {
             "pattern": {
              "fillmode": "overlay",
              "size": 10,
              "solidity": 0.2
             }
            },
            "type": "histogram"
           }
          ],
          "histogram2d": [
           {
            "colorbar": {
             "outlinewidth": 0,
             "ticks": ""
            },
            "colorscale": [
             [
              0,
              "#0d0887"
             ],
             [
              0.1111111111111111,
              "#46039f"
             ],
             [
              0.2222222222222222,
              "#7201a8"
             ],
             [
              0.3333333333333333,
              "#9c179e"
             ],
             [
              0.4444444444444444,
              "#bd3786"
             ],
             [
              0.5555555555555556,
              "#d8576b"
             ],
             [
              0.6666666666666666,
              "#ed7953"
             ],
             [
              0.7777777777777778,
              "#fb9f3a"
             ],
             [
              0.8888888888888888,
              "#fdca26"
             ],
             [
              1,
              "#f0f921"
             ]
            ],
            "type": "histogram2d"
           }
          ],
          "histogram2dcontour": [
           {
            "colorbar": {
             "outlinewidth": 0,
             "ticks": ""
            },
            "colorscale": [
             [
              0,
              "#0d0887"
             ],
             [
              0.1111111111111111,
              "#46039f"
             ],
             [
              0.2222222222222222,
              "#7201a8"
             ],
             [
              0.3333333333333333,
              "#9c179e"
             ],
             [
              0.4444444444444444,
              "#bd3786"
             ],
             [
              0.5555555555555556,
              "#d8576b"
             ],
             [
              0.6666666666666666,
              "#ed7953"
             ],
             [
              0.7777777777777778,
              "#fb9f3a"
             ],
             [
              0.8888888888888888,
              "#fdca26"
             ],
             [
              1,
              "#f0f921"
             ]
            ],
            "type": "histogram2dcontour"
           }
          ],
          "mesh3d": [
           {
            "colorbar": {
             "outlinewidth": 0,
             "ticks": ""
            },
            "type": "mesh3d"
           }
          ],
          "parcoords": [
           {
            "line": {
             "colorbar": {
              "outlinewidth": 0,
              "ticks": ""
             }
            },
            "type": "parcoords"
           }
          ],
          "pie": [
           {
            "automargin": true,
            "type": "pie"
           }
          ],
          "scatter": [
           {
            "fillpattern": {
             "fillmode": "overlay",
             "size": 10,
             "solidity": 0.2
            },
            "type": "scatter"
           }
          ],
          "scatter3d": [
           {
            "line": {
             "colorbar": {
              "outlinewidth": 0,
              "ticks": ""
             }
            },
            "marker": {
             "colorbar": {
              "outlinewidth": 0,
              "ticks": ""
             }
            },
            "type": "scatter3d"
           }
          ],
          "scattercarpet": [
           {
            "marker": {
             "colorbar": {
              "outlinewidth": 0,
              "ticks": ""
             }
            },
            "type": "scattercarpet"
           }
          ],
          "scattergeo": [
           {
            "marker": {
             "colorbar": {
              "outlinewidth": 0,
              "ticks": ""
             }
            },
            "type": "scattergeo"
           }
          ],
          "scattergl": [
           {
            "marker": {
             "colorbar": {
              "outlinewidth": 0,
              "ticks": ""
             }
            },
            "type": "scattergl"
           }
          ],
          "scattermap": [
           {
            "marker": {
             "colorbar": {
              "outlinewidth": 0,
              "ticks": ""
             }
            },
            "type": "scattermap"
           }
          ],
          "scattermapbox": [
           {
            "marker": {
             "colorbar": {
              "outlinewidth": 0,
              "ticks": ""
             }
            },
            "type": "scattermapbox"
           }
          ],
          "scatterpolar": [
           {
            "marker": {
             "colorbar": {
              "outlinewidth": 0,
              "ticks": ""
             }
            },
            "type": "scatterpolar"
           }
          ],
          "scatterpolargl": [
           {
            "marker": {
             "colorbar": {
              "outlinewidth": 0,
              "ticks": ""
             }
            },
            "type": "scatterpolargl"
           }
          ],
          "scatterternary": [
           {
            "marker": {
             "colorbar": {
              "outlinewidth": 0,
              "ticks": ""
             }
            },
            "type": "scatterternary"
           }
          ],
          "surface": [
           {
            "colorbar": {
             "outlinewidth": 0,
             "ticks": ""
            },
            "colorscale": [
             [
              0,
              "#0d0887"
             ],
             [
              0.1111111111111111,
              "#46039f"
             ],
             [
              0.2222222222222222,
              "#7201a8"
             ],
             [
              0.3333333333333333,
              "#9c179e"
             ],
             [
              0.4444444444444444,
              "#bd3786"
             ],
             [
              0.5555555555555556,
              "#d8576b"
             ],
             [
              0.6666666666666666,
              "#ed7953"
             ],
             [
              0.7777777777777778,
              "#fb9f3a"
             ],
             [
              0.8888888888888888,
              "#fdca26"
             ],
             [
              1,
              "#f0f921"
             ]
            ],
            "type": "surface"
           }
          ],
          "table": [
           {
            "cells": {
             "fill": {
              "color": "#EBF0F8"
             },
             "line": {
              "color": "white"
             }
            },
            "header": {
             "fill": {
              "color": "#C8D4E3"
             },
             "line": {
              "color": "white"
             }
            },
            "type": "table"
           }
          ]
         },
         "layout": {
          "annotationdefaults": {
           "arrowcolor": "#2a3f5f",
           "arrowhead": 0,
           "arrowwidth": 1
          },
          "autotypenumbers": "strict",
          "coloraxis": {
           "colorbar": {
            "outlinewidth": 0,
            "ticks": ""
           }
          },
          "colorscale": {
           "diverging": [
            [
             0,
             "#8e0152"
            ],
            [
             0.1,
             "#c51b7d"
            ],
            [
             0.2,
             "#de77ae"
            ],
            [
             0.3,
             "#f1b6da"
            ],
            [
             0.4,
             "#fde0ef"
            ],
            [
             0.5,
             "#f7f7f7"
            ],
            [
             0.6,
             "#e6f5d0"
            ],
            [
             0.7,
             "#b8e186"
            ],
            [
             0.8,
             "#7fbc41"
            ],
            [
             0.9,
             "#4d9221"
            ],
            [
             1,
             "#276419"
            ]
           ],
           "sequential": [
            [
             0,
             "#0d0887"
            ],
            [
             0.1111111111111111,
             "#46039f"
            ],
            [
             0.2222222222222222,
             "#7201a8"
            ],
            [
             0.3333333333333333,
             "#9c179e"
            ],
            [
             0.4444444444444444,
             "#bd3786"
            ],
            [
             0.5555555555555556,
             "#d8576b"
            ],
            [
             0.6666666666666666,
             "#ed7953"
            ],
            [
             0.7777777777777778,
             "#fb9f3a"
            ],
            [
             0.8888888888888888,
             "#fdca26"
            ],
            [
             1,
             "#f0f921"
            ]
           ],
           "sequentialminus": [
            [
             0,
             "#0d0887"
            ],
            [
             0.1111111111111111,
             "#46039f"
            ],
            [
             0.2222222222222222,
             "#7201a8"
            ],
            [
             0.3333333333333333,
             "#9c179e"
            ],
            [
             0.4444444444444444,
             "#bd3786"
            ],
            [
             0.5555555555555556,
             "#d8576b"
            ],
            [
             0.6666666666666666,
             "#ed7953"
            ],
            [
             0.7777777777777778,
             "#fb9f3a"
            ],
            [
             0.8888888888888888,
             "#fdca26"
            ],
            [
             1,
             "#f0f921"
            ]
           ]
          },
          "colorway": [
           "#636efa",
           "#EF553B",
           "#00cc96",
           "#ab63fa",
           "#FFA15A",
           "#19d3f3",
           "#FF6692",
           "#B6E880",
           "#FF97FF",
           "#FECB52"
          ],
          "font": {
           "color": "#2a3f5f"
          },
          "geo": {
           "bgcolor": "white",
           "lakecolor": "white",
           "landcolor": "#E5ECF6",
           "showlakes": true,
           "showland": true,
           "subunitcolor": "white"
          },
          "hoverlabel": {
           "align": "left"
          },
          "hovermode": "closest",
          "mapbox": {
           "style": "light"
          },
          "paper_bgcolor": "white",
          "plot_bgcolor": "#E5ECF6",
          "polar": {
           "angularaxis": {
            "gridcolor": "white",
            "linecolor": "white",
            "ticks": ""
           },
           "bgcolor": "#E5ECF6",
           "radialaxis": {
            "gridcolor": "white",
            "linecolor": "white",
            "ticks": ""
           }
          },
          "scene": {
           "xaxis": {
            "backgroundcolor": "#E5ECF6",
            "gridcolor": "white",
            "gridwidth": 2,
            "linecolor": "white",
            "showbackground": true,
            "ticks": "",
            "zerolinecolor": "white"
           },
           "yaxis": {
            "backgroundcolor": "#E5ECF6",
            "gridcolor": "white",
            "gridwidth": 2,
            "linecolor": "white",
            "showbackground": true,
            "ticks": "",
            "zerolinecolor": "white"
           },
           "zaxis": {
            "backgroundcolor": "#E5ECF6",
            "gridcolor": "white",
            "gridwidth": 2,
            "linecolor": "white",
            "showbackground": true,
            "ticks": "",
            "zerolinecolor": "white"
           }
          },
          "shapedefaults": {
           "line": {
            "color": "#2a3f5f"
           }
          },
          "ternary": {
           "aaxis": {
            "gridcolor": "white",
            "linecolor": "white",
            "ticks": ""
           },
           "baxis": {
            "gridcolor": "white",
            "linecolor": "white",
            "ticks": ""
           },
           "bgcolor": "#E5ECF6",
           "caxis": {
            "gridcolor": "white",
            "linecolor": "white",
            "ticks": ""
           }
          },
          "title": {
           "x": 0.05
          },
          "xaxis": {
           "automargin": true,
           "gridcolor": "white",
           "linecolor": "white",
           "ticks": "",
           "title": {
            "standoff": 15
           },
           "zerolinecolor": "white",
           "zerolinewidth": 2
          },
          "yaxis": {
           "automargin": true,
           "gridcolor": "white",
           "linecolor": "white",
           "ticks": "",
           "title": {
            "standoff": 15
           },
           "zerolinecolor": "white",
           "zerolinewidth": 2
          }
         }
        },
        "xaxis": {
         "anchor": "y",
         "categoryarray": [
          "Award Winning",
          "Suspense",
          "Mystery",
          "Drama",
          "Romance",
          "Supernatural",
          "Action",
          "Adventure",
          "Sports",
          "Girls Love",
          "Fantasy",
          "Gourmet",
          "Boys Love",
          "Sci-Fi",
          "Comedy",
          "Ecchi",
          "Slice of Life",
          "Horror",
          "Hentai",
          "Erotica",
          "Avant Garde"
         ],
         "categoryorder": "array",
         "domain": [
          0,
          1
         ],
         "title": {
          "text": "genres"
         }
        },
        "yaxis": {
         "anchor": "x",
         "domain": [
          0,
          1
         ],
         "title": {
          "text": "score"
         }
        }
       }
      }
     },
     "metadata": {},
     "output_type": "display_data"
    },
    {
     "data": {
      "application/vnd.plotly.v1+json": {
       "config": {
        "plotlyServerURL": "https://plot.ly"
       },
       "data": [
        {
         "hovertemplate": "genres=%{x}<br>members=%{y}<extra></extra>",
         "legendgroup": "Suspense",
         "marker": {
          "color": "#7f8c8d",
          "pattern": {
           "shape": ""
          }
         },
         "name": "Suspense",
         "orientation": "v",
         "showlegend": true,
         "textposition": "auto",
         "type": "bar",
         "x": [
          "Suspense"
         ],
         "xaxis": "x",
         "y": {
          "bdata": "OR3ldApPEUE=",
          "dtype": "f8"
         },
         "yaxis": "y"
        },
        {
         "hovertemplate": "genres=%{x}<br>members=%{y}<extra></extra>",
         "legendgroup": "Award Winning",
         "marker": {
          "color": "#27ae60",
          "pattern": {
           "shape": ""
          }
         },
         "name": "Award Winning",
         "orientation": "v",
         "showlegend": true,
         "textposition": "auto",
         "type": "bar",
         "x": [
          "Award Winning"
         ],
         "xaxis": "x",
         "y": {
          "bdata": "xjnGOcrjEEE=",
          "dtype": "f8"
         },
         "yaxis": "y"
        },
        {
         "hovertemplate": "genres=%{x}<br>members=%{y}<extra></extra>",
         "legendgroup": "Romance",
         "marker": {
          "color": "#e91e63",
          "pattern": {
           "shape": ""
          }
         },
         "name": "Romance",
         "orientation": "v",
         "showlegend": true,
         "textposition": "auto",
         "type": "bar",
         "x": [
          "Romance"
         ],
         "xaxis": "x",
         "y": {
          "bdata": "ilUYfvrN/kA=",
          "dtype": "f8"
         },
         "yaxis": "y"
        },
        {
         "hovertemplate": "genres=%{x}<br>members=%{y}<extra></extra>",
         "legendgroup": "Ecchi",
         "marker": {
          "color": "#f368e0",
          "pattern": {
           "shape": ""
          }
         },
         "name": "Ecchi",
         "orientation": "v",
         "showlegend": true,
         "textposition": "auto",
         "type": "bar",
         "x": [
          "Ecchi"
         ],
         "xaxis": "x",
         "y": {
          "bdata": "g5RppL90/UA=",
          "dtype": "f8"
         },
         "yaxis": "y"
        },
        {
         "hovertemplate": "genres=%{x}<br>members=%{y}<extra></extra>",
         "legendgroup": "Mystery",
         "marker": {
          "color": "#34495e",
          "pattern": {
           "shape": ""
          }
         },
         "name": "Mystery",
         "orientation": "v",
         "showlegend": true,
         "textposition": "auto",
         "type": "bar",
         "x": [
          "Mystery"
         ],
         "xaxis": "x",
         "y": {
          "bdata": "Ts4AZcis/EA=",
          "dtype": "f8"
         },
         "yaxis": "y"
        },
        {
         "hovertemplate": "genres=%{x}<br>members=%{y}<extra></extra>",
         "legendgroup": "Supernatural",
         "marker": {
          "color": "#2c3e50",
          "pattern": {
           "shape": ""
          }
         },
         "name": "Supernatural",
         "orientation": "v",
         "showlegend": true,
         "textposition": "auto",
         "type": "bar",
         "x": [
          "Supernatural"
         ],
         "xaxis": "x",
         "y": {
          "bdata": "8FITp1en+kA=",
          "dtype": "f8"
         },
         "yaxis": "y"
        },
        {
         "hovertemplate": "genres=%{x}<br>members=%{y}<extra></extra>",
         "legendgroup": "Action",
         "marker": {
          "color": "#e74c3c",
          "pattern": {
           "shape": ""
          }
         },
         "name": "Action",
         "orientation": "v",
         "showlegend": true,
         "textposition": "auto",
         "type": "bar",
         "x": [
          "Action"
         ],
         "xaxis": "x",
         "y": {
          "bdata": "JgHYG+Zo90A=",
          "dtype": "f8"
         },
         "yaxis": "y"
        },
        {
         "hovertemplate": "genres=%{x}<br>members=%{y}<extra></extra>",
         "legendgroup": "Drama",
         "marker": {
          "color": "#9b59b6",
          "pattern": {
           "shape": ""
          }
         },
         "name": "Drama",
         "orientation": "v",
         "showlegend": true,
         "textposition": "auto",
         "type": "bar",
         "x": [
          "Drama"
         ],
         "xaxis": "x",
         "y": {
          "bdata": "/WJ3raiw9UA=",
          "dtype": "f8"
         },
         "yaxis": "y"
        },
        {
         "hovertemplate": "genres=%{x}<br>members=%{y}<extra></extra>",
         "legendgroup": "Horror",
         "marker": {
          "color": "#c0392b",
          "pattern": {
           "shape": ""
          }
         },
         "name": "Horror",
         "orientation": "v",
         "showlegend": true,
         "textposition": "auto",
         "type": "bar",
         "x": [
          "Horror"
         ],
         "xaxis": "x",
         "y": {
          "bdata": "kblD5l4p9EA=",
          "dtype": "f8"
         },
         "yaxis": "y"
        },
        {
         "hovertemplate": "genres=%{x}<br>members=%{y}<extra></extra>",
         "legendgroup": "Girls Love",
         "marker": {
          "color": "#e84393",
          "pattern": {
           "shape": ""
          }
         },
         "name": "Girls Love",
         "orientation": "v",
         "showlegend": true,
         "textposition": "auto",
         "type": "bar",
         "x": [
          "Girls Love"
         ],
         "xaxis": "x",
         "y": {
          "bdata": "BXlKkGc070A=",
          "dtype": "f8"
         },
         "yaxis": "y"
        },
        {
         "hovertemplate": "genres=%{x}<br>members=%{y}<extra></extra>",
         "legendgroup": "Fantasy",
         "marker": {
          "color": "#8e44ad",
          "pattern": {
           "shape": ""
          }
         },
         "name": "Fantasy",
         "orientation": "v",
         "showlegend": true,
         "textposition": "auto",
         "type": "bar",
         "x": [
          "Fantasy"
         ],
         "xaxis": "x",
         "y": {
          "bdata": "iQAekCaA7EA=",
          "dtype": "f8"
         },
         "yaxis": "y"
        },
        {
         "hovertemplate": "genres=%{x}<br>members=%{y}<extra></extra>",
         "legendgroup": "Gourmet",
         "marker": {
          "color": "#d35400",
          "pattern": {
           "shape": ""
          }
         },
         "name": "Gourmet",
         "orientation": "v",
         "showlegend": true,
         "textposition": "auto",
         "type": "bar",
         "x": [
          "Gourmet"
         ],
         "xaxis": "x",
         "y": {
          "bdata": "8UsipDod7EA=",
          "dtype": "f8"
         },
         "yaxis": "y"
        },
        {
         "hovertemplate": "genres=%{x}<br>members=%{y}<extra></extra>",
         "legendgroup": "Adventure",
         "marker": {
          "color": "#f39c12",
          "pattern": {
           "shape": ""
          }
         },
         "name": "Adventure",
         "orientation": "v",
         "showlegend": true,
         "textposition": "auto",
         "type": "bar",
         "x": [
          "Adventure"
         ],
         "xaxis": "x",
         "y": {
          "bdata": "a7YSKtc/60A=",
          "dtype": "f8"
         },
         "yaxis": "y"
        },
        {
         "hovertemplate": "genres=%{x}<br>members=%{y}<extra></extra>",
         "legendgroup": "Erotica",
         "marker": {
          "color": "#c44569",
          "pattern": {
           "shape": ""
          }
         },
         "name": "Erotica",
         "orientation": "v",
         "showlegend": true,
         "textposition": "auto",
         "type": "bar",
         "x": [
          "Erotica"
         ],
         "xaxis": "x",
         "y": {
          "bdata": "tYFOG4hH6EA=",
          "dtype": "f8"
         },
         "yaxis": "y"
        },
        {
         "hovertemplate": "genres=%{x}<br>members=%{y}<extra></extra>",
         "legendgroup": "Sci-Fi",
         "marker": {
          "color": "#2980b9",
          "pattern": {
           "shape": ""
          }
         },
         "name": "Sci-Fi",
         "orientation": "v",
         "showlegend": true,
         "textposition": "auto",
         "type": "bar",
         "x": [
          "Sci-Fi"
         ],
         "xaxis": "x",
         "y": {
          "bdata": "l2jEOcUK50A=",
          "dtype": "f8"
         },
         "yaxis": "y"
        },
        {
         "hovertemplate": "genres=%{x}<br>members=%{y}<extra></extra>",
         "legendgroup": "Sports",
         "marker": {
          "color": "#27ae60",
          "pattern": {
           "shape": ""
          }
         },
         "name": "Sports",
         "orientation": "v",
         "showlegend": true,
         "textposition": "auto",
         "type": "bar",
         "x": [
          "Sports"
         ],
         "xaxis": "x",
         "y": {
          "bdata": "JaItBfDA5kA=",
          "dtype": "f8"
         },
         "yaxis": "y"
        },
        {
         "hovertemplate": "genres=%{x}<br>members=%{y}<extra></extra>",
         "legendgroup": "Comedy",
         "marker": {
          "color": "#f1c40f",
          "pattern": {
           "shape": ""
          }
         },
         "name": "Comedy",
         "orientation": "v",
         "showlegend": true,
         "textposition": "auto",
         "type": "bar",
         "x": [
          "Comedy"
         ],
         "xaxis": "x",
         "y": {
          "bdata": "rpnSrs5V5kA=",
          "dtype": "f8"
         },
         "yaxis": "y"
        },
        {
         "hovertemplate": "genres=%{x}<br>members=%{y}<extra></extra>",
         "legendgroup": "Boys Love",
         "marker": {
          "color": "#fd79a8",
          "pattern": {
           "shape": ""
          }
         },
         "name": "Boys Love",
         "orientation": "v",
         "showlegend": true,
         "textposition": "auto",
         "type": "bar",
         "x": [
          "Boys Love"
         ],
         "xaxis": "x",
         "y": {
          "bdata": "RT7rBpOY5EA=",
          "dtype": "f8"
         },
         "yaxis": "y"
        },
        {
         "hovertemplate": "genres=%{x}<br>members=%{y}<extra></extra>",
         "legendgroup": "Slice of Life",
         "marker": {
          "color": "#1abc9c",
          "pattern": {
           "shape": ""
          }
         },
         "name": "Slice of Life",
         "orientation": "v",
         "showlegend": true,
         "textposition": "auto",
         "type": "bar",
         "x": [
          "Slice of Life"
         ],
         "xaxis": "x",
         "y": {
          "bdata": "fLqXYyVT1UA=",
          "dtype": "f8"
         },
         "yaxis": "y"
        },
        {
         "hovertemplate": "genres=%{x}<br>members=%{y}<extra></extra>",
         "legendgroup": "Avant Garde",
         "marker": {
          "color": "#8e44ad",
          "pattern": {
           "shape": ""
          }
         },
         "name": "Avant Garde",
         "orientation": "v",
         "showlegend": true,
         "textposition": "auto",
         "type": "bar",
         "x": [
          "Avant Garde"
         ],
         "xaxis": "x",
         "y": {
          "bdata": "nhP8Mw91xUA=",
          "dtype": "f8"
         },
         "yaxis": "y"
        },
        {
         "hovertemplate": "genres=%{x}<br>members=%{y}<extra></extra>",
         "legendgroup": "Hentai",
         "marker": {
          "color": "#6D214F",
          "pattern": {
           "shape": ""
          }
         },
         "name": "Hentai",
         "orientation": "v",
         "showlegend": true,
         "textposition": "auto",
         "type": "bar",
         "x": [
          "Hentai"
         ],
         "xaxis": "x",
         "y": {
          "bdata": "jHnob02dvkA=",
          "dtype": "f8"
         },
         "yaxis": "y"
        }
       ],
       "layout": {
        "barmode": "relative",
        "legend": {
         "title": {
          "text": "genres"
         },
         "tracegroupgap": 0
        },
        "margin": {
         "t": 60
        },
        "template": {
         "data": {
          "bar": [
           {
            "error_x": {
             "color": "#2a3f5f"
            },
            "error_y": {
             "color": "#2a3f5f"
            },
            "marker": {
             "line": {
              "color": "#E5ECF6",
              "width": 0.5
             },
             "pattern": {
              "fillmode": "overlay",
              "size": 10,
              "solidity": 0.2
             }
            },
            "type": "bar"
           }
          ],
          "barpolar": [
           {
            "marker": {
             "line": {
              "color": "#E5ECF6",
              "width": 0.5
             },
             "pattern": {
              "fillmode": "overlay",
              "size": 10,
              "solidity": 0.2
             }
            },
            "type": "barpolar"
           }
          ],
          "carpet": [
           {
            "aaxis": {
             "endlinecolor": "#2a3f5f",
             "gridcolor": "white",
             "linecolor": "white",
             "minorgridcolor": "white",
             "startlinecolor": "#2a3f5f"
            },
            "baxis": {
             "endlinecolor": "#2a3f5f",
             "gridcolor": "white",
             "linecolor": "white",
             "minorgridcolor": "white",
             "startlinecolor": "#2a3f5f"
            },
            "type": "carpet"
           }
          ],
          "choropleth": [
           {
            "colorbar": {
             "outlinewidth": 0,
             "ticks": ""
            },
            "type": "choropleth"
           }
          ],
          "contour": [
           {
            "colorbar": {
             "outlinewidth": 0,
             "ticks": ""
            },
            "colorscale": [
             [
              0,
              "#0d0887"
             ],
             [
              0.1111111111111111,
              "#46039f"
             ],
             [
              0.2222222222222222,
              "#7201a8"
             ],
             [
              0.3333333333333333,
              "#9c179e"
             ],
             [
              0.4444444444444444,
              "#bd3786"
             ],
             [
              0.5555555555555556,
              "#d8576b"
             ],
             [
              0.6666666666666666,
              "#ed7953"
             ],
             [
              0.7777777777777778,
              "#fb9f3a"
             ],
             [
              0.8888888888888888,
              "#fdca26"
             ],
             [
              1,
              "#f0f921"
             ]
            ],
            "type": "contour"
           }
          ],
          "contourcarpet": [
           {
            "colorbar": {
             "outlinewidth": 0,
             "ticks": ""
            },
            "type": "contourcarpet"
           }
          ],
          "heatmap": [
           {
            "colorbar": {
             "outlinewidth": 0,
             "ticks": ""
            },
            "colorscale": [
             [
              0,
              "#0d0887"
             ],
             [
              0.1111111111111111,
              "#46039f"
             ],
             [
              0.2222222222222222,
              "#7201a8"
             ],
             [
              0.3333333333333333,
              "#9c179e"
             ],
             [
              0.4444444444444444,
              "#bd3786"
             ],
             [
              0.5555555555555556,
              "#d8576b"
             ],
             [
              0.6666666666666666,
              "#ed7953"
             ],
             [
              0.7777777777777778,
              "#fb9f3a"
             ],
             [
              0.8888888888888888,
              "#fdca26"
             ],
             [
              1,
              "#f0f921"
             ]
            ],
            "type": "heatmap"
           }
          ],
          "histogram": [
           {
            "marker": {
             "pattern": {
              "fillmode": "overlay",
              "size": 10,
              "solidity": 0.2
             }
            },
            "type": "histogram"
           }
          ],
          "histogram2d": [
           {
            "colorbar": {
             "outlinewidth": 0,
             "ticks": ""
            },
            "colorscale": [
             [
              0,
              "#0d0887"
             ],
             [
              0.1111111111111111,
              "#46039f"
             ],
             [
              0.2222222222222222,
              "#7201a8"
             ],
             [
              0.3333333333333333,
              "#9c179e"
             ],
             [
              0.4444444444444444,
              "#bd3786"
             ],
             [
              0.5555555555555556,
              "#d8576b"
             ],
             [
              0.6666666666666666,
              "#ed7953"
             ],
             [
              0.7777777777777778,
              "#fb9f3a"
             ],
             [
              0.8888888888888888,
              "#fdca26"
             ],
             [
              1,
              "#f0f921"
             ]
            ],
            "type": "histogram2d"
           }
          ],
          "histogram2dcontour": [
           {
            "colorbar": {
             "outlinewidth": 0,
             "ticks": ""
            },
            "colorscale": [
             [
              0,
              "#0d0887"
             ],
             [
              0.1111111111111111,
              "#46039f"
             ],
             [
              0.2222222222222222,
              "#7201a8"
             ],
             [
              0.3333333333333333,
              "#9c179e"
             ],
             [
              0.4444444444444444,
              "#bd3786"
             ],
             [
              0.5555555555555556,
              "#d8576b"
             ],
             [
              0.6666666666666666,
              "#ed7953"
             ],
             [
              0.7777777777777778,
              "#fb9f3a"
             ],
             [
              0.8888888888888888,
              "#fdca26"
             ],
             [
              1,
              "#f0f921"
             ]
            ],
            "type": "histogram2dcontour"
           }
          ],
          "mesh3d": [
           {
            "colorbar": {
             "outlinewidth": 0,
             "ticks": ""
            },
            "type": "mesh3d"
           }
          ],
          "parcoords": [
           {
            "line": {
             "colorbar": {
              "outlinewidth": 0,
              "ticks": ""
             }
            },
            "type": "parcoords"
           }
          ],
          "pie": [
           {
            "automargin": true,
            "type": "pie"
           }
          ],
          "scatter": [
           {
            "fillpattern": {
             "fillmode": "overlay",
             "size": 10,
             "solidity": 0.2
            },
            "type": "scatter"
           }
          ],
          "scatter3d": [
           {
            "line": {
             "colorbar": {
              "outlinewidth": 0,
              "ticks": ""
             }
            },
            "marker": {
             "colorbar": {
              "outlinewidth": 0,
              "ticks": ""
             }
            },
            "type": "scatter3d"
           }
          ],
          "scattercarpet": [
           {
            "marker": {
             "colorbar": {
              "outlinewidth": 0,
              "ticks": ""
             }
            },
            "type": "scattercarpet"
           }
          ],
          "scattergeo": [
           {
            "marker": {
             "colorbar": {
              "outlinewidth": 0,
              "ticks": ""
             }
            },
            "type": "scattergeo"
           }
          ],
          "scattergl": [
           {
            "marker": {
             "colorbar": {
              "outlinewidth": 0,
              "ticks": ""
             }
            },
            "type": "scattergl"
           }
          ],
          "scattermap": [
           {
            "marker": {
             "colorbar": {
              "outlinewidth": 0,
              "ticks": ""
             }
            },
            "type": "scattermap"
           }
          ],
          "scattermapbox": [
           {
            "marker": {
             "colorbar": {
              "outlinewidth": 0,
              "ticks": ""
             }
            },
            "type": "scattermapbox"
           }
          ],
          "scatterpolar": [
           {
            "marker": {
             "colorbar": {
              "outlinewidth": 0,
              "ticks": ""
             }
            },
            "type": "scatterpolar"
           }
          ],
          "scatterpolargl": [
           {
            "marker": {
             "colorbar": {
              "outlinewidth": 0,
              "ticks": ""
             }
            },
            "type": "scatterpolargl"
           }
          ],
          "scatterternary": [
           {
            "marker": {
             "colorbar": {
              "outlinewidth": 0,
              "ticks": ""
             }
            },
            "type": "scatterternary"
           }
          ],
          "surface": [
           {
            "colorbar": {
             "outlinewidth": 0,
             "ticks": ""
            },
            "colorscale": [
             [
              0,
              "#0d0887"
             ],
             [
              0.1111111111111111,
              "#46039f"
             ],
             [
              0.2222222222222222,
              "#7201a8"
             ],
             [
              0.3333333333333333,
              "#9c179e"
             ],
             [
              0.4444444444444444,
              "#bd3786"
             ],
             [
              0.5555555555555556,
              "#d8576b"
             ],
             [
              0.6666666666666666,
              "#ed7953"
             ],
             [
              0.7777777777777778,
              "#fb9f3a"
             ],
             [
              0.8888888888888888,
              "#fdca26"
             ],
             [
              1,
              "#f0f921"
             ]
            ],
            "type": "surface"
           }
          ],
          "table": [
           {
            "cells": {
             "fill": {
              "color": "#EBF0F8"
             },
             "line": {
              "color": "white"
             }
            },
            "header": {
             "fill": {
              "color": "#C8D4E3"
             },
             "line": {
              "color": "white"
             }
            },
            "type": "table"
           }
          ]
         },
         "layout": {
          "annotationdefaults": {
           "arrowcolor": "#2a3f5f",
           "arrowhead": 0,
           "arrowwidth": 1
          },
          "autotypenumbers": "strict",
          "coloraxis": {
           "colorbar": {
            "outlinewidth": 0,
            "ticks": ""
           }
          },
          "colorscale": {
           "diverging": [
            [
             0,
             "#8e0152"
            ],
            [
             0.1,
             "#c51b7d"
            ],
            [
             0.2,
             "#de77ae"
            ],
            [
             0.3,
             "#f1b6da"
            ],
            [
             0.4,
             "#fde0ef"
            ],
            [
             0.5,
             "#f7f7f7"
            ],
            [
             0.6,
             "#e6f5d0"
            ],
            [
             0.7,
             "#b8e186"
            ],
            [
             0.8,
             "#7fbc41"
            ],
            [
             0.9,
             "#4d9221"
            ],
            [
             1,
             "#276419"
            ]
           ],
           "sequential": [
            [
             0,
             "#0d0887"
            ],
            [
             0.1111111111111111,
             "#46039f"
            ],
            [
             0.2222222222222222,
             "#7201a8"
            ],
            [
             0.3333333333333333,
             "#9c179e"
            ],
            [
             0.4444444444444444,
             "#bd3786"
            ],
            [
             0.5555555555555556,
             "#d8576b"
            ],
            [
             0.6666666666666666,
             "#ed7953"
            ],
            [
             0.7777777777777778,
             "#fb9f3a"
            ],
            [
             0.8888888888888888,
             "#fdca26"
            ],
            [
             1,
             "#f0f921"
            ]
           ],
           "sequentialminus": [
            [
             0,
             "#0d0887"
            ],
            [
             0.1111111111111111,
             "#46039f"
            ],
            [
             0.2222222222222222,
             "#7201a8"
            ],
            [
             0.3333333333333333,
             "#9c179e"
            ],
            [
             0.4444444444444444,
             "#bd3786"
            ],
            [
             0.5555555555555556,
             "#d8576b"
            ],
            [
             0.6666666666666666,
             "#ed7953"
            ],
            [
             0.7777777777777778,
             "#fb9f3a"
            ],
            [
             0.8888888888888888,
             "#fdca26"
            ],
            [
             1,
             "#f0f921"
            ]
           ]
          },
          "colorway": [
           "#636efa",
           "#EF553B",
           "#00cc96",
           "#ab63fa",
           "#FFA15A",
           "#19d3f3",
           "#FF6692",
           "#B6E880",
           "#FF97FF",
           "#FECB52"
          ],
          "font": {
           "color": "#2a3f5f"
          },
          "geo": {
           "bgcolor": "white",
           "lakecolor": "white",
           "landcolor": "#E5ECF6",
           "showlakes": true,
           "showland": true,
           "subunitcolor": "white"
          },
          "hoverlabel": {
           "align": "left"
          },
          "hovermode": "closest",
          "mapbox": {
           "style": "light"
          },
          "paper_bgcolor": "white",
          "plot_bgcolor": "#E5ECF6",
          "polar": {
           "angularaxis": {
            "gridcolor": "white",
            "linecolor": "white",
            "ticks": ""
           },
           "bgcolor": "#E5ECF6",
           "radialaxis": {
            "gridcolor": "white",
            "linecolor": "white",
            "ticks": ""
           }
          },
          "scene": {
           "xaxis": {
            "backgroundcolor": "#E5ECF6",
            "gridcolor": "white",
            "gridwidth": 2,
            "linecolor": "white",
            "showbackground": true,
            "ticks": "",
            "zerolinecolor": "white"
           },
           "yaxis": {
            "backgroundcolor": "#E5ECF6",
            "gridcolor": "white",
            "gridwidth": 2,
            "linecolor": "white",
            "showbackground": true,
            "ticks": "",
            "zerolinecolor": "white"
           },
           "zaxis": {
            "backgroundcolor": "#E5ECF6",
            "gridcolor": "white",
            "gridwidth": 2,
            "linecolor": "white",
            "showbackground": true,
            "ticks": "",
            "zerolinecolor": "white"
           }
          },
          "shapedefaults": {
           "line": {
            "color": "#2a3f5f"
           }
          },
          "ternary": {
           "aaxis": {
            "gridcolor": "white",
            "linecolor": "white",
            "ticks": ""
           },
           "baxis": {
            "gridcolor": "white",
            "linecolor": "white",
            "ticks": ""
           },
           "bgcolor": "#E5ECF6",
           "caxis": {
            "gridcolor": "white",
            "linecolor": "white",
            "ticks": ""
           }
          },
          "title": {
           "x": 0.05
          },
          "xaxis": {
           "automargin": true,
           "gridcolor": "white",
           "linecolor": "white",
           "ticks": "",
           "title": {
            "standoff": 15
           },
           "zerolinecolor": "white",
           "zerolinewidth": 2
          },
          "yaxis": {
           "automargin": true,
           "gridcolor": "white",
           "linecolor": "white",
           "ticks": "",
           "title": {
            "standoff": 15
           },
           "zerolinecolor": "white",
           "zerolinewidth": 2
          }
         }
        },
        "xaxis": {
         "anchor": "y",
         "categoryarray": [
          "Suspense",
          "Award Winning",
          "Romance",
          "Ecchi",
          "Mystery",
          "Supernatural",
          "Action",
          "Drama",
          "Horror",
          "Girls Love",
          "Fantasy",
          "Gourmet",
          "Adventure",
          "Erotica",
          "Sci-Fi",
          "Sports",
          "Comedy",
          "Boys Love",
          "Slice of Life",
          "Avant Garde",
          "Hentai"
         ],
         "categoryorder": "array",
         "domain": [
          0,
          1
         ],
         "title": {
          "text": "genres"
         }
        },
        "yaxis": {
         "anchor": "x",
         "domain": [
          0,
          1
         ],
         "title": {
          "text": "members"
         }
        }
       }
      }
     },
     "metadata": {},
     "output_type": "display_data"
    }
   ],
   "source": [
    "avg_score_per_genre = avg_score_per_genre.reset_index()\n",
    "avg__member_per_genre = avg__member_per_genre.reset_index()\n",
    "\n",
    "fig = px.bar(avg_score_per_genre, x='genres', y='score', color='genres', color_discrete_map=COLOR_GENRES)\n",
    "fig.show()\n",
    "\n",
    "fig = px.bar(avg__member_per_genre, x='genres', y='members', color='genres', color_discrete_map=COLOR_GENRES)\n",
    "fig.show()\n"
   ]
  },
  {
   "cell_type": "markdown",
   "id": "d2103cdd",
   "metadata": {},
   "source": [
    "### Relationships between genres"
   ]
  },
  {
   "cell_type": "code",
   "execution_count": 401,
   "id": "c584d405",
   "metadata": {},
   "outputs": [
    {
     "data": {
      "image/svg+xml": [
       "<?xml version=\"1.0\" encoding=\"UTF-8\"?>\n",
       "<svg xmlns=\"http://www.w3.org/2000/svg\" xmlns:xlink=\"http://www.w3.org/1999/xlink\"\n",
       "     width=\"500.0\" height=\"500.0\" viewBox=\"-250 -250 500.0 500.0\">\n",
       "<defs>\n",
       "<linearGradient x1=\"142.6666079110427\" y1=\"-140.1650419582458\" x2=\"78.50607634963812\" y2=\"-183.94780775041812\" gradientUnits=\"userSpaceOnUse\" id=\"UIfQjPyG0\">\n",
       "<stop offset=\"0\" stop-color=\"#e74c3c\" />\n",
       "<stop offset=\"1\" stop-color=\"#f39c12\" />\n",
       "</linearGradient>\n",
       "<linearGradient x1=\"143.01263012423843\" y1=\"-139.81197239488387\" x2=\"-40.470950396875836\" y2=\"-195.8624572856514\" gradientUnits=\"userSpaceOnUse\" id=\"UIfQjPyG1\">\n",
       "<stop offset=\"0\" stop-color=\"#e74c3c\" />\n",
       "<stop offset=\"1\" stop-color=\"#8e44ad\" />\n",
       "</linearGradient>\n",
       "<linearGradient x1=\"143.84523902924795\" y1=\"-138.95519856636716\" x2=\"-52.61041720407231\" y2=\"-192.95632666905084\" gradientUnits=\"userSpaceOnUse\" id=\"UIfQjPyG2\">\n",
       "<stop offset=\"0\" stop-color=\"#e74c3c\" />\n",
       "<stop offset=\"1\" stop-color=\"#27ae60\" />\n",
       "</linearGradient>\n",
       "<linearGradient x1=\"144.0597347397972\" y1=\"-138.73281092336904\" x2=\"-63.49116880671824\" y2=\"-189.6546110263518\" gradientUnits=\"userSpaceOnUse\" id=\"UIfQjPyG3\">\n",
       "<stop offset=\"0\" stop-color=\"#e74c3c\" />\n",
       "<stop offset=\"1\" stop-color=\"#fd79a8\" />\n",
       "</linearGradient>\n",
       "<linearGradient x1=\"160.07556998331\" y1=\"-119.89917386920739\" x2=\"-117.52413888331297\" y2=\"-161.82730542073475\" gradientUnits=\"userSpaceOnUse\" id=\"UIfQjPyG4\">\n",
       "<stop offset=\"0\" stop-color=\"#e74c3c\" />\n",
       "<stop offset=\"1\" stop-color=\"#f1c40f\" />\n",
       "</linearGradient>\n",
       "<linearGradient x1=\"168.54066280939196\" y1=\"-107.67564710634826\" x2=\"-197.89807488631362\" y2=\"-28.919750280578178\" gradientUnits=\"userSpaceOnUse\" id=\"UIfQjPyG5\">\n",
       "<stop offset=\"0\" stop-color=\"#e74c3c\" />\n",
       "<stop offset=\"1\" stop-color=\"#9b59b6\" />\n",
       "</linearGradient>\n",
       "<linearGradient x1=\"168.54066280939196\" y1=\"-107.67564710634826\" x2=\"-169.442185259406\" y2=\"106.25133342465465\" gradientUnits=\"userSpaceOnUse\" id=\"UIfQjPyG6\">\n",
       "<stop offset=\"0\" stop-color=\"#e74c3c\" />\n",
       "<stop offset=\"1\" stop-color=\"#8e44ad\" />\n",
       "</linearGradient>\n",
       "<linearGradient x1=\"186.17753088674948\" y1=\"-73.06111820190982\" x2=\"-115.49443825240651\" y2=\"163.2820710695484\" gradientUnits=\"userSpaceOnUse\" id=\"UIfQjPyG7\">\n",
       "<stop offset=\"0\" stop-color=\"#e74c3c\" />\n",
       "<stop offset=\"1\" stop-color=\"#e84393\" />\n",
       "</linearGradient>\n",
       "<linearGradient x1=\"186.3126546337031\" y1=\"-72.71584918944754\" x2=\"-110.20448009855662\" y2=\"166.89809036117472\" gradientUnits=\"userSpaceOnUse\" id=\"UIfQjPyG8\">\n",
       "<stop offset=\"0\" stop-color=\"#e74c3c\" />\n",
       "<stop offset=\"1\" stop-color=\"#d35400\" />\n",
       "</linearGradient>\n",
       "<linearGradient x1=\"186.40984581821866\" y1=\"-72.46633274858019\" x2=\"-99.97114793056294\" y2=\"173.22173530318156\" gradientUnits=\"userSpaceOnUse\" id=\"UIfQjPyG9\">\n",
       "<stop offset=\"0\" stop-color=\"#e74c3c\" />\n",
       "<stop offset=\"1\" stop-color=\"#c0392b\" />\n",
       "</linearGradient>\n",
       "<linearGradient x1=\"187.6998212299002\" y1=\"-69.05633287587392\" x2=\"-65.4716791867722\" y2=\"188.98004980543416\" gradientUnits=\"userSpaceOnUse\" id=\"UIfQjPyG10\">\n",
       "<stop offset=\"0\" stop-color=\"#e74c3c\" />\n",
       "<stop offset=\"1\" stop-color=\"#34495e\" />\n",
       "</linearGradient>\n",
       "<linearGradient x1=\"190.1050458663943\" y1=\"-62.1294739727942\" x2=\"4.9820185254159846\" y2=\"199.93793909964265\" gradientUnits=\"userSpaceOnUse\" id=\"UIfQjPyG11\">\n",
       "<stop offset=\"0\" stop-color=\"#e74c3c\" />\n",
       "<stop offset=\"1\" stop-color=\"#e91e63\" />\n",
       "</linearGradient>\n",
       "<linearGradient x1=\"192.54160103480524\" y1=\"-54.10851939347335\" x2=\"99.4477364153425\" y2=\"173.52275851272236\" gradientUnits=\"userSpaceOnUse\" id=\"UIfQjPyG12\">\n",
       "<stop offset=\"0\" stop-color=\"#e74c3c\" />\n",
       "<stop offset=\"1\" stop-color=\"#2980b9\" />\n",
       "</linearGradient>\n",
       "<linearGradient x1=\"199.06944427843948\" y1=\"-19.270608570392216\" x2=\"148.17070776583628\" y2=\"134.3333218534074\" gradientUnits=\"userSpaceOnUse\" id=\"UIfQjPyG13\">\n",
       "<stop offset=\"0\" stop-color=\"#e74c3c\" />\n",
       "<stop offset=\"1\" stop-color=\"#1abc9c\" />\n",
       "</linearGradient>\n",
       "<linearGradient x1=\"199.0950669846197\" y1=\"-19.004060155392875\" x2=\"179.70987128414967\" y2=\"87.77449608533425\" gradientUnits=\"userSpaceOnUse\" id=\"UIfQjPyG14\">\n",
       "<stop offset=\"0\" stop-color=\"#e74c3c\" />\n",
       "<stop offset=\"1\" stop-color=\"#2c3e50\" />\n",
       "</linearGradient>\n",
       "<linearGradient x1=\"199.7566769707352\" y1=\"-9.862555734156118\" x2=\"191.45562851686935\" y2=\"57.833747148274306\" gradientUnits=\"userSpaceOnUse\" id=\"UIfQjPyG15\">\n",
       "<stop offset=\"0\" stop-color=\"#e74c3c\" />\n",
       "<stop offset=\"1\" stop-color=\"#7f8c8d\" />\n",
       "</linearGradient>\n",
       "<linearGradient x1=\"199.90003664153986\" y1=\"-6.3226063226351314\" x2=\"198.7195621259366\" y2=\"22.59503548295565\" gradientUnits=\"userSpaceOnUse\" id=\"UIfQjPyG16\">\n",
       "<stop offset=\"0\" stop-color=\"#e74c3c\" />\n",
       "<stop offset=\"1\" stop-color=\"#f368e0\" />\n",
       "</linearGradient>\n",
       "<linearGradient x1=\"199.99724107672725\" y1=\"-1.0505054485531307\" x2=\"199.59083081693615\" y2=\"12.786721777107818\" gradientUnits=\"userSpaceOnUse\" id=\"UIfQjPyG17\">\n",
       "<stop offset=\"0\" stop-color=\"#e74c3c\" />\n",
       "<stop offset=\"1\" stop-color=\"#c44569\" />\n",
       "</linearGradient>\n",
       "<linearGradient x1=\"199.99821693433563\" y1=\"-0.8445253616195109\" x2=\"199.97977199395856\" y2=\"2.844431972178005\" gradientUnits=\"userSpaceOnUse\" id=\"UIfQjPyG18\">\n",
       "<stop offset=\"0\" stop-color=\"#e74c3c\" />\n",
       "<stop offset=\"1\" stop-color=\"#6D214F\" />\n",
       "</linearGradient>\n",
       "<linearGradient x1=\"-37.66104043548245\" y1=\"-196.42211187469945\" x2=\"-39.98669661018377\" y2=\"-195.961894495346\" gradientUnits=\"userSpaceOnUse\" id=\"UIfQjPyG19\">\n",
       "<stop offset=\"0\" stop-color=\"#f39c12\" />\n",
       "<stop offset=\"1\" stop-color=\"#8e44ad\" />\n",
       "</linearGradient>\n",
       "<linearGradient x1=\"-36.79079472268301\" y1=\"-196.5869716529389\" x2=\"-51.456862770457846\" y2=\"-193.26715001215874\" gradientUnits=\"userSpaceOnUse\" id=\"UIfQjPyG20\">\n",
       "<stop offset=\"0\" stop-color=\"#f39c12\" />\n",
       "<stop offset=\"1\" stop-color=\"#27ae60\" />\n",
       "</linearGradient>\n",
       "<linearGradient x1=\"-36.64905807184348\" y1=\"-196.61344446005376\" x2=\"-63.19810180820513\" y2=\"-189.7524701495075\" gradientUnits=\"userSpaceOnUse\" id=\"UIfQjPyG21\">\n",
       "<stop offset=\"0\" stop-color=\"#f39c12\" />\n",
       "<stop offset=\"1\" stop-color=\"#fd79a8\" />\n",
       "</linearGradient>\n",
       "<linearGradient x1=\"-12.02918155615768\" y1=\"-199.6379192214971\" x2=\"-96.6604252170138\" y2=\"-175.09072561636748\" gradientUnits=\"userSpaceOnUse\" id=\"UIfQjPyG22\">\n",
       "<stop offset=\"0\" stop-color=\"#f39c12\" />\n",
       "<stop offset=\"1\" stop-color=\"#f1c40f\" />\n",
       "</linearGradient>\n",
       "<linearGradient x1=\"-2.0256663961702066\" y1=\"-199.9897414260327\" x2=\"-195.2027210958139\" y2=\"-43.54190713312744\" gradientUnits=\"userSpaceOnUse\" id=\"UIfQjPyG23\">\n",
       "<stop offset=\"0\" stop-color=\"#f39c12\" />\n",
       "<stop offset=\"1\" stop-color=\"#9b59b6\" />\n",
       "</linearGradient>\n",
       "<linearGradient x1=\"41.90645672800263\" y1=\"-195.56034588971264\" x2=\"-169.442185259406\" y2=\"106.25133342465465\" gradientUnits=\"userSpaceOnUse\" id=\"UIfQjPyG24\">\n",
       "<stop offset=\"0\" stop-color=\"#f39c12\" />\n",
       "<stop offset=\"1\" stop-color=\"#8e44ad\" />\n",
       "</linearGradient>\n",
       "<linearGradient x1=\"41.9265975011559\" y1=\"-195.5560288561211\" x2=\"-115.49443825240651\" y2=\"163.2820710695484\" gradientUnits=\"userSpaceOnUse\" id=\"UIfQjPyG25\">\n",
       "<stop offset=\"0\" stop-color=\"#f39c12\" />\n",
       "<stop offset=\"1\" stop-color=\"#e84393\" />\n",
       "</linearGradient>\n",
       "<linearGradient x1=\"42.24878924398005\" y1=\"-195.48667424512024\" x2=\"-110.20448009855662\" y2=\"166.89809036117472\" gradientUnits=\"userSpaceOnUse\" id=\"UIfQjPyG26\">\n",
       "<stop offset=\"0\" stop-color=\"#f39c12\" />\n",
       "<stop offset=\"1\" stop-color=\"#d35400\" />\n",
       "</linearGradient>\n",
       "<linearGradient x1=\"43.39565890066927\" y1=\"-195.23528571591962\" x2=\"-99.97114793056294\" y2=\"173.22173530318156\" gradientUnits=\"userSpaceOnUse\" id=\"UIfQjPyG27\">\n",
       "<stop offset=\"0\" stop-color=\"#f39c12\" />\n",
       "<stop offset=\"1\" stop-color=\"#c0392b\" />\n",
       "</linearGradient>\n",
       "<linearGradient x1=\"47.74778966587406\" y1=\"-194.21675669731346\" x2=\"-65.4716791867722\" y2=\"188.98004980543416\" gradientUnits=\"userSpaceOnUse\" id=\"UIfQjPyG28\">\n",
       "<stop offset=\"0\" stop-color=\"#f39c12\" />\n",
       "<stop offset=\"1\" stop-color=\"#34495e\" />\n",
       "</linearGradient>\n",
       "<linearGradient x1=\"47.74778966587406\" y1=\"-194.21675669731346\" x2=\"-0.5789902941983949\" y2=\"199.99916192384214\" gradientUnits=\"userSpaceOnUse\" id=\"UIfQjPyG29\">\n",
       "<stop offset=\"0\" stop-color=\"#f39c12\" />\n",
       "<stop offset=\"1\" stop-color=\"#e91e63\" />\n",
       "</linearGradient>\n",
       "<linearGradient x1=\"53.12934077533965\" y1=\"-192.8140896012992\" x2=\"83.18450770825649\" y2=\"181.88000900960782\" gradientUnits=\"userSpaceOnUse\" id=\"UIfQjPyG30\">\n",
       "<stop offset=\"0\" stop-color=\"#f39c12\" />\n",
       "<stop offset=\"1\" stop-color=\"#2980b9\" />\n",
       "</linearGradient>\n",
       "<linearGradient x1=\"70.51677202744038\" y1=\"-187.15604415254668\" x2=\"147.1705122948903\" y2=\"135.42835859176446\" gradientUnits=\"userSpaceOnUse\" id=\"UIfQjPyG31\">\n",
       "<stop offset=\"0\" stop-color=\"#f39c12\" />\n",
       "<stop offset=\"1\" stop-color=\"#1abc9c\" />\n",
       "</linearGradient>\n",
       "<linearGradient x1=\"71.9026512341007\" y1=\"-186.62799561027086\" x2=\"156.1849355332625\" y2=\"124.92504117458051\" gradientUnits=\"userSpaceOnUse\" id=\"UIfQjPyG32\">\n",
       "<stop offset=\"0\" stop-color=\"#f39c12\" />\n",
       "<stop offset=\"1\" stop-color=\"#27ae60\" />\n",
       "</linearGradient>\n",
       "<linearGradient x1=\"72.4981360519912\" y1=\"-186.39747924525958\" x2=\"177.99556120876312\" y2=\"91.20076858216416\" gradientUnits=\"userSpaceOnUse\" id=\"UIfQjPyG33\">\n",
       "<stop offset=\"0\" stop-color=\"#f39c12\" />\n",
       "<stop offset=\"1\" stop-color=\"#2c3e50\" />\n",
       "</linearGradient>\n",
       "<linearGradient x1=\"76.05531383418766\" y1=\"-184.97456375832658\" x2=\"191.31209097687452\" y2=\"58.30680788772516\" gradientUnits=\"userSpaceOnUse\" id=\"UIfQjPyG34\">\n",
       "<stop offset=\"0\" stop-color=\"#f39c12\" />\n",
       "<stop offset=\"1\" stop-color=\"#7f8c8d\" />\n",
       "</linearGradient>\n",
       "<linearGradient x1=\"76.51229910158196\" y1=\"-184.78600619687106\" x2=\"198.50913088648838\" y2=\"24.374678555645097\" gradientUnits=\"userSpaceOnUse\" id=\"UIfQjPyG35\">\n",
       "<stop offset=\"0\" stop-color=\"#f39c12\" />\n",
       "<stop offset=\"1\" stop-color=\"#f368e0\" />\n",
       "</linearGradient>\n",
       "<linearGradient x1=\"78.16493153204841\" y1=\"-184.09302941336531\" x2=\"199.58687053045404\" y2=\"12.848389465601642\" gradientUnits=\"userSpaceOnUse\" id=\"UIfQjPyG36\">\n",
       "<stop offset=\"0\" stop-color=\"#f39c12\" />\n",
       "<stop offset=\"1\" stop-color=\"#c44569\" />\n",
       "</linearGradient>\n",
       "<linearGradient x1=\"78.22180768829332\" y1=\"-184.06886972537114\" x2=\"199.9751390860655\" y2=\"3.153370816881438\" gradientUnits=\"userSpaceOnUse\" id=\"UIfQjPyG37\">\n",
       "<stop offset=\"0\" stop-color=\"#f39c12\" />\n",
       "<stop offset=\"1\" stop-color=\"#6D214F\" />\n",
       "</linearGradient>\n",
       "<linearGradient x1=\"-47.8234453537523\" y1=\"-194.19814127456695\" x2=\"-50.60045385837988\" y2=\"-193.49313700833414\" gradientUnits=\"userSpaceOnUse\" id=\"UIfQjPyG38\">\n",
       "<stop offset=\"0\" stop-color=\"#8e44ad\" />\n",
       "<stop offset=\"1\" stop-color=\"#27ae60\" />\n",
       "</linearGradient>\n",
       "<linearGradient x1=\"-47.80344439980097\" y1=\"-194.20306563881823\" x2=\"-63.06128554907262\" y2=\"-189.79798277352245\" gradientUnits=\"userSpaceOnUse\" id=\"UIfQjPyG39\">\n",
       "<stop offset=\"0\" stop-color=\"#8e44ad\" />\n",
       "<stop offset=\"1\" stop-color=\"#fd79a8\" />\n",
       "</linearGradient>\n",
       "<linearGradient x1=\"-46.522337932595676\" y1=\"-194.51393799233352\" x2=\"-74.24320977215568\" y2=\"-185.70930456691633\" gradientUnits=\"userSpaceOnUse\" id=\"UIfQjPyG40\">\n",
       "<stop offset=\"0\" stop-color=\"#8e44ad\" />\n",
       "<stop offset=\"1\" stop-color=\"#f1c40f\" />\n",
       "</linearGradient>\n",
       "<linearGradient x1=\"-45.35958779779593\" y1=\"-194.78836668244344\" x2=\"-192.7797193855933\" y2=\"-53.25391810573098\" gradientUnits=\"userSpaceOnUse\" id=\"UIfQjPyG41\">\n",
       "<stop offset=\"0\" stop-color=\"#8e44ad\" />\n",
       "<stop offset=\"1\" stop-color=\"#9b59b6\" />\n",
       "</linearGradient>\n",
       "<linearGradient x1=\"-44.757527592319754\" y1=\"-194.92758584618736\" x2=\"-188.6269739441097\" y2=\"66.48206299964042\" gradientUnits=\"userSpaceOnUse\" id=\"UIfQjPyG42\">\n",
       "<stop offset=\"0\" stop-color=\"#8e44ad\" />\n",
       "<stop offset=\"1\" stop-color=\"#8e44ad\" />\n",
       "</linearGradient>\n",
       "<linearGradient x1=\"-44.7173749896505\" y1=\"-194.936800974149\" x2=\"-115.51125425690375\" y2=\"163.27017529235684\" gradientUnits=\"userSpaceOnUse\" id=\"UIfQjPyG43\">\n",
       "<stop offset=\"0\" stop-color=\"#8e44ad\" />\n",
       "<stop offset=\"1\" stop-color=\"#e84393\" />\n",
       "</linearGradient>\n",
       "<linearGradient x1=\"-44.697297976720975\" y1=\"-194.94140543655732\" x2=\"-110.47935491116647\" y2=\"166.71626236936973\" gradientUnits=\"userSpaceOnUse\" id=\"UIfQjPyG44\">\n",
       "<stop offset=\"0\" stop-color=\"#8e44ad\" />\n",
       "<stop offset=\"1\" stop-color=\"#d35400\" />\n",
       "</linearGradient>\n",
       "<linearGradient x1=\"-43.612440810109845\" y1=\"-195.18697447981683\" x2=\"-100.98631741184285\" y2=\"172.63187334786855\" gradientUnits=\"userSpaceOnUse\" id=\"UIfQjPyG45\">\n",
       "<stop offset=\"0\" stop-color=\"#8e44ad\" />\n",
       "<stop offset=\"1\" stop-color=\"#c0392b\" />\n",
       "</linearGradient>\n",
       "<linearGradient x1=\"-43.27063093321678\" y1=\"-195.2630341325294\" x2=\"-69.67850969492176\" y2=\"187.46974499021087\" gradientUnits=\"userSpaceOnUse\" id=\"UIfQjPyG46\">\n",
       "<stop offset=\"0\" stop-color=\"#8e44ad\" />\n",
       "<stop offset=\"1\" stop-color=\"#34495e\" />\n",
       "</linearGradient>\n",
       "<linearGradient x1=\"-42.96892379377917\" y1=\"-195.32964851246828\" x2=\"-0.5789902941983949\" y2=\"199.99916192384214\" gradientUnits=\"userSpaceOnUse\" id=\"UIfQjPyG47\">\n",
       "<stop offset=\"0\" stop-color=\"#8e44ad\" />\n",
       "<stop offset=\"1\" stop-color=\"#e91e63\" />\n",
       "</linearGradient>\n",
       "<linearGradient x1=\"-42.96892379377917\" y1=\"-195.32964851246828\" x2=\"82.43452230249751\" y2=\"182.22115555763287\" gradientUnits=\"userSpaceOnUse\" id=\"UIfQjPyG48\">\n",
       "<stop offset=\"0\" stop-color=\"#8e44ad\" />\n",
       "<stop offset=\"1\" stop-color=\"#2980b9\" />\n",
       "</linearGradient>\n",
       "<linearGradient x1=\"-42.163872021135504\" y1=\"-195.50500734299698\" x2=\"147.08679662294094\" y2=\"135.5192763380974\" gradientUnits=\"userSpaceOnUse\" id=\"UIfQjPyG49\">\n",
       "<stop offset=\"0\" stop-color=\"#8e44ad\" />\n",
       "<stop offset=\"1\" stop-color=\"#1abc9c\" />\n",
       "</linearGradient>\n",
       "<linearGradient x1=\"-42.04305220214146\" y1=\"-195.5310250613135\" x2=\"156.14632953766773\" y2=\"124.97329223443734\" gradientUnits=\"userSpaceOnUse\" id=\"UIfQjPyG50\">\n",
       "<stop offset=\"0\" stop-color=\"#8e44ad\" />\n",
       "<stop offset=\"1\" stop-color=\"#27ae60\" />\n",
       "</linearGradient>\n",
       "<linearGradient x1=\"-41.98263626932033\" y1=\"-195.5440059216287\" x2=\"177.65619496985326\" y2=\"91.86009138267546\" gradientUnits=\"userSpaceOnUse\" id=\"UIfQjPyG51\">\n",
       "<stop offset=\"0\" stop-color=\"#8e44ad\" />\n",
       "<stop offset=\"1\" stop-color=\"#2c3e50\" />\n",
       "</linearGradient>\n",
       "<linearGradient x1=\"-41.257334112342875\" y1=\"-195.6983198240151\" x2=\"191.1613297836732\" y2=\"58.799200635193415\" gradientUnits=\"userSpaceOnUse\" id=\"UIfQjPyG52\">\n",
       "<stop offset=\"0\" stop-color=\"#8e44ad\" />\n",
       "<stop offset=\"1\" stop-color=\"#7f8c8d\" />\n",
       "</linearGradient>\n",
       "<linearGradient x1=\"-40.75331777293644\" y1=\"-195.80389957939565\" x2=\"198.49150665782145\" y2=\"24.51778506937402\" gradientUnits=\"userSpaceOnUse\" id=\"UIfQjPyG53\">\n",
       "<stop offset=\"0\" stop-color=\"#8e44ad\" />\n",
       "<stop offset=\"1\" stop-color=\"#f368e0\" />\n",
       "</linearGradient>\n",
       "<linearGradient x1=\"-40.612144639031776\" y1=\"-195.8332293248987\" x2=\"199.57889279737236\" y2=\"12.971721156999344\" gradientUnits=\"userSpaceOnUse\" id=\"UIfQjPyG54\">\n",
       "<stop offset=\"0\" stop-color=\"#8e44ad\" />\n",
       "<stop offset=\"1\" stop-color=\"#c44569\" />\n",
       "</linearGradient>\n",
       "<linearGradient x1=\"-40.49112229245876\" y1=\"-195.85828809498247\" x2=\"199.97481325602257\" y2=\"3.173966480430521\" gradientUnits=\"userSpaceOnUse\" id=\"UIfQjPyG55\">\n",
       "<stop offset=\"0\" stop-color=\"#8e44ad\" />\n",
       "<stop offset=\"1\" stop-color=\"#6D214F\" />\n",
       "</linearGradient>\n",
       "<linearGradient x1=\"-60.11986925975912\" y1=\"-190.75010175669493\" x2=\"-73.01751462820253\" y2=\"-186.1946362211335\" gradientUnits=\"userSpaceOnUse\" id=\"UIfQjPyG56\">\n",
       "<stop offset=\"0\" stop-color=\"#27ae60\" />\n",
       "<stop offset=\"1\" stop-color=\"#f1c40f\" />\n",
       "</linearGradient>\n",
       "<linearGradient x1=\"-57.619808728966234\" y1=\"-191.5201233344354\" x2=\"-192.45817011093638\" y2=\"-54.40452883308411\" gradientUnits=\"userSpaceOnUse\" id=\"UIfQjPyG57\">\n",
       "<stop offset=\"0\" stop-color=\"#27ae60\" />\n",
       "<stop offset=\"1\" stop-color=\"#9b59b6\" />\n",
       "</linearGradient>\n",
       "<linearGradient x1=\"-56.692067559020444\" y1=\"-191.7967921417964\" x2=\"-188.83148528822943\" y2=\"65.89893901908577\" gradientUnits=\"userSpaceOnUse\" id=\"UIfQjPyG58\">\n",
       "<stop offset=\"0\" stop-color=\"#27ae60\" />\n",
       "<stop offset=\"1\" stop-color=\"#8e44ad\" />\n",
       "</linearGradient>\n",
       "<linearGradient x1=\"-56.672313875871104\" y1=\"-191.80262990885905\" x2=\"-115.54488258997102\" y2=\"163.24637854258762\" gradientUnits=\"userSpaceOnUse\" id=\"UIfQjPyG59\">\n",
       "<stop offset=\"0\" stop-color=\"#27ae60\" />\n",
       "<stop offset=\"1\" stop-color=\"#e84393\" />\n",
       "</linearGradient>\n",
       "<linearGradient x1=\"-56.553779160497406\" y1=\"-191.8376137848511\" x2=\"-101.94484716534993\" y2=\"172.0675685201411\" gradientUnits=\"userSpaceOnUse\" id=\"UIfQjPyG60\">\n",
       "<stop offset=\"0\" stop-color=\"#27ae60\" />\n",
       "<stop offset=\"1\" stop-color=\"#c0392b\" />\n",
       "</linearGradient>\n",
       "<linearGradient x1=\"-56.000332345884054\" y1=\"-191.9999030654717\" x2=\"-70.00663421850044\" y2=\"187.34746105938314\" gradientUnits=\"userSpaceOnUse\" id=\"UIfQjPyG61\">\n",
       "<stop offset=\"0\" stop-color=\"#27ae60\" />\n",
       "<stop offset=\"1\" stop-color=\"#34495e\" />\n",
       "</linearGradient>\n",
       "<linearGradient x1=\"-55.40683695271187\" y1=\"-192.1720125796043\" x2=\"-0.8879617971440321\" y2=\"199.99802879990295\" gradientUnits=\"userSpaceOnUse\" id=\"UIfQjPyG62\">\n",
       "<stop offset=\"0\" stop-color=\"#27ae60\" />\n",
       "<stop offset=\"1\" stop-color=\"#e91e63\" />\n",
       "</linearGradient>\n",
       "<linearGradient x1=\"-55.40683695271187\" y1=\"-192.1720125796043\" x2=\"81.28810527362154\" y2=\"182.7354479596792\" gradientUnits=\"userSpaceOnUse\" id=\"UIfQjPyG63\">\n",
       "<stop offset=\"0\" stop-color=\"#27ae60\" />\n",
       "<stop offset=\"1\" stop-color=\"#2980b9\" />\n",
       "</linearGradient>\n",
       "<linearGradient x1=\"-54.19843782049645\" y1=\"-192.5163092774682\" x2=\"146.82132660544812\" y2=\"135.80684096840017\" gradientUnits=\"userSpaceOnUse\" id=\"UIfQjPyG64\">\n",
       "<stop offset=\"0\" stop-color=\"#27ae60\" />\n",
       "<stop offset=\"1\" stop-color=\"#1abc9c\" />\n",
       "</linearGradient>\n",
       "<linearGradient x1=\"-53.821612050240795\" y1=\"-192.62199790344135\" x2=\"156.10770863561171\" y2=\"125.02153136375733\" gradientUnits=\"userSpaceOnUse\" id=\"UIfQjPyG65\">\n",
       "<stop offset=\"0\" stop-color=\"#27ae60\" />\n",
       "<stop offset=\"1\" stop-color=\"#27ae60\" />\n",
       "</linearGradient>\n",
       "<linearGradient x1=\"-53.762094367813916\" y1=\"-192.6386181667276\" x2=\"177.37152398556043\" y2=\"92.40856280150538\" gradientUnits=\"userSpaceOnUse\" id=\"UIfQjPyG66\">\n",
       "<stop offset=\"0\" stop-color=\"#27ae60\" />\n",
       "<stop offset=\"1\" stop-color=\"#2c3e50\" />\n",
       "</linearGradient>\n",
       "<linearGradient x1=\"-53.16663620029279\" y1=\"-192.80380907841453\" x2=\"191.0031938031048\" y2=\"59.31087553740538\" gradientUnits=\"userSpaceOnUse\" id=\"UIfQjPyG67\">\n",
       "<stop offset=\"0\" stop-color=\"#27ae60\" />\n",
       "<stop offset=\"1\" stop-color=\"#7f8c8d\" />\n",
       "</linearGradient>\n",
       "<linearGradient x1=\"-52.65016169643282\" y1=\"-192.94548575527617\" x2=\"198.48645221458486\" y2=\"24.55867030739495\" gradientUnits=\"userSpaceOnUse\" id=\"UIfQjPyG68\">\n",
       "<stop offset=\"0\" stop-color=\"#27ae60\" />\n",
       "<stop offset=\"1\" stop-color=\"#f368e0\" />\n",
       "</linearGradient>\n",
       "<linearGradient x1=\"-67.51971511062817\" y1=\"-188.25803587464628\" x2=\"-72.01929895330959\" y2=\"-186.5830125661868\" gradientUnits=\"userSpaceOnUse\" id=\"UIfQjPyG69\">\n",
       "<stop offset=\"0\" stop-color=\"#fd79a8\" />\n",
       "<stop offset=\"1\" stop-color=\"#f1c40f\" />\n",
       "</linearGradient>\n",
       "<linearGradient x1=\"-66.02466063790239\" y1=\"-188.78756364668152\" x2=\"-191.73012257758197\" y2=\"-56.917133592490345\" gradientUnits=\"userSpaceOnUse\" id=\"UIfQjPyG70\">\n",
       "<stop offset=\"0\" stop-color=\"#fd79a8\" />\n",
       "<stop offset=\"1\" stop-color=\"#9b59b6\" />\n",
       "</linearGradient>\n",
       "<linearGradient x1=\"-65.53835585892878\" y1=\"-188.9569366583519\" x2=\"-189.1482612851125\" y2=\"64.98411538844557\" gradientUnits=\"userSpaceOnUse\" id=\"UIfQjPyG71\">\n",
       "<stop offset=\"0\" stop-color=\"#fd79a8\" />\n",
       "<stop offset=\"1\" stop-color=\"#8e44ad\" />\n",
       "</linearGradient>\n",
       "<linearGradient x1=\"-65.51889460899673\" y1=\"-188.96368553035578\" x2=\"-115.56169491818444\" y2=\"163.2344775702623\" gradientUnits=\"userSpaceOnUse\" id=\"UIfQjPyG72\">\n",
       "<stop offset=\"0\" stop-color=\"#fd79a8\" />\n",
       "<stop offset=\"1\" stop-color=\"#e84393\" />\n",
       "</linearGradient>\n",
       "<linearGradient x1=\"-65.49943266409343\" y1=\"-188.97043239798626\" x2=\"-110.4965246337572\" y2=\"166.70488308343425\" gradientUnits=\"userSpaceOnUse\" id=\"UIfQjPyG73\">\n",
       "<stop offset=\"0\" stop-color=\"#fd79a8\" />\n",
       "<stop offset=\"1\" stop-color=\"#d35400\" />\n",
       "</linearGradient>\n",
       "<linearGradient x1=\"-65.40211252223402\" y1=\"-189.00413666803445\" x2=\"-102.05115637044383\" y2=\"172.00453913619612\" gradientUnits=\"userSpaceOnUse\" id=\"UIfQjPyG74\">\n",
       "<stop offset=\"0\" stop-color=\"#fd79a8\" />\n",
       "<stop offset=\"1\" stop-color=\"#c0392b\" />\n",
       "</linearGradient>\n",
       "<linearGradient x1=\"-65.26583519264793\" y1=\"-189.05123844240248\" x2=\"-70.54660631641586\" y2=\"187.1448004547191\" gradientUnits=\"userSpaceOnUse\" id=\"UIfQjPyG75\">\n",
       "<stop offset=\"0\" stop-color=\"#fd79a8\" />\n",
       "<stop offset=\"1\" stop-color=\"#34495e\" />\n",
       "</linearGradient>\n",
       "<linearGradient x1=\"-65.26583519264793\" y1=\"-189.05123844240248\" x2=\"81.08103157106275\" y2=\"182.82742223028887\" gradientUnits=\"userSpaceOnUse\" id=\"UIfQjPyG76\">\n",
       "<stop offset=\"0\" stop-color=\"#fd79a8\" />\n",
       "<stop offset=\"1\" stop-color=\"#2980b9\" />\n",
       "</linearGradient>\n",
       "<linearGradient x1=\"-65.05161659415386\" y1=\"-189.12505698211226\" x2=\"146.80733891675314\" y2=\"135.82196155328333\" gradientUnits=\"userSpaceOnUse\" id=\"UIfQjPyG77\">\n",
       "<stop offset=\"0\" stop-color=\"#fd79a8\" />\n",
       "<stop offset=\"1\" stop-color=\"#1abc9c\" />\n",
       "</linearGradient>\n",
       "<linearGradient x1=\"-65.0321380318888\" y1=\"-189.1317557233617\" x2=\"156.0561909180811\" y2=\"125.08583163627853\" gradientUnits=\"userSpaceOnUse\" id=\"UIfQjPyG78\">\n",
       "<stop offset=\"0\" stop-color=\"#fd79a8\" />\n",
       "<stop offset=\"1\" stop-color=\"#27ae60\" />\n",
       "</linearGradient>\n",
       "<linearGradient x1=\"-64.95421688681353\" y1=\"-189.15853062608832\" x2=\"177.1521293668233\" y2=\"92.82846040304828\" gradientUnits=\"userSpaceOnUse\" id=\"UIfQjPyG79\">\n",
       "<stop offset=\"0\" stop-color=\"#fd79a8\" />\n",
       "<stop offset=\"1\" stop-color=\"#2c3e50\" />\n",
       "</linearGradient>\n",
       "<linearGradient x1=\"-64.50595678030018\" y1=\"-189.31186317782107\" x2=\"190.98485919095123\" y2=\"59.369887652012046\" gradientUnits=\"userSpaceOnUse\" id=\"UIfQjPyG80\">\n",
       "<stop offset=\"0\" stop-color=\"#fd79a8\" />\n",
       "<stop offset=\"1\" stop-color=\"#7f8c8d\" />\n",
       "</linearGradient>\n",
       "<linearGradient x1=\"-64.44746133214879\" y1=\"-189.33178477963278\" x2=\"199.5308371941762\" y2=\"13.691055788037273\" gradientUnits=\"userSpaceOnUse\" id=\"UIfQjPyG81\">\n",
       "<stop offset=\"0\" stop-color=\"#fd79a8\" />\n",
       "<stop offset=\"1\" stop-color=\"#c44569\" />\n",
       "</linearGradient>\n",
       "<linearGradient x1=\"-63.764561306433734\" y1=\"-189.5628674645909\" x2=\"199.9700289141379\" y2=\"3.462302135696977\" gradientUnits=\"userSpaceOnUse\" id=\"UIfQjPyG82\">\n",
       "<stop offset=\"0\" stop-color=\"#fd79a8\" />\n",
       "<stop offset=\"1\" stop-color=\"#6D214F\" />\n",
       "</linearGradient>\n",
       "<linearGradient x1=\"-185.43815920504028\" y1=\"-74.91788244902638\" x2=\"-191.27272714861633\" y2=\"-58.43580964726146\" gradientUnits=\"userSpaceOnUse\" id=\"UIfQjPyG83\">\n",
       "<stop offset=\"0\" stop-color=\"#f1c40f\" />\n",
       "<stop offset=\"1\" stop-color=\"#9b59b6\" />\n",
       "</linearGradient>\n",
       "<linearGradient x1=\"-172.21725042611902\" y1=\"-101.69178263590135\" x2=\"-189.31495392892577\" y2=\"64.49688534253968\" gradientUnits=\"userSpaceOnUse\" id=\"UIfQjPyG84\">\n",
       "<stop offset=\"0\" stop-color=\"#f1c40f\" />\n",
       "<stop offset=\"1\" stop-color=\"#8e44ad\" />\n",
       "</linearGradient>\n",
       "<linearGradient x1=\"-171.73354502103706\" y1=\"-102.5065340088496\" x2=\"-115.57850602061323\" y2=\"163.22257486647817\" gradientUnits=\"userSpaceOnUse\" id=\"UIfQjPyG85\">\n",
       "<stop offset=\"0\" stop-color=\"#f1c40f\" />\n",
       "<stop offset=\"1\" stop-color=\"#e84393\" />\n",
       "</linearGradient>\n",
       "<linearGradient x1=\"-170.776026738814\" y1=\"-104.09394166474762\" x2=\"-110.51369318429055\" y2=\"166.69350202922877\" gradientUnits=\"userSpaceOnUse\" id=\"UIfQjPyG86\">\n",
       "<stop offset=\"0\" stop-color=\"#f1c40f\" />\n",
       "<stop offset=\"1\" stop-color=\"#d35400\" />\n",
       "</linearGradient>\n",
       "<linearGradient x1=\"-169.87997495228782\" y1=\"-105.54996025679057\" x2=\"-102.13971760832716\" y2=\"171.95196447523122\" gradientUnits=\"userSpaceOnUse\" id=\"UIfQjPyG87\">\n",
       "<stop offset=\"0\" stop-color=\"#f1c40f\" />\n",
       "<stop offset=\"1\" stop-color=\"#c0392b\" />\n",
       "</linearGradient>\n",
       "<linearGradient x1=\"-166.86822882132714\" y1=\"-110.24969029450018\" x2=\"-70.6815078493713\" y2=\"187.09389206529235\" gradientUnits=\"userSpaceOnUse\" id=\"UIfQjPyG88\">\n",
       "<stop offset=\"0\" stop-color=\"#f1c40f\" />\n",
       "<stop offset=\"1\" stop-color=\"#34495e\" />\n",
       "</linearGradient>\n",
       "<linearGradient x1=\"-155.6760489729092\" y1=\"-125.55862286670869\" x2=\"-1.5058977079696818\" y2=\"199.9943305998776\" gradientUnits=\"userSpaceOnUse\" id=\"UIfQjPyG89\">\n",
       "<stop offset=\"0\" stop-color=\"#f1c40f\" />\n",
       "<stop offset=\"1\" stop-color=\"#e91e63\" />\n",
       "</linearGradient>\n",
       "<linearGradient x1=\"-143.8877909873815\" y1=\"-138.91113563991772\" x2=\"81.08103157106275\" y2=\"182.82742223028887\" gradientUnits=\"userSpaceOnUse\" id=\"UIfQjPyG90\">\n",
       "<stop offset=\"0\" stop-color=\"#f1c40f\" />\n",
       "<stop offset=\"1\" stop-color=\"#2980b9\" />\n",
       "</linearGradient>\n",
       "<linearGradient x1=\"-143.8877909873815\" y1=\"-138.91113563991772\" x2=\"141.77348696954604\" y2=\"141.0683465292479\" gradientUnits=\"userSpaceOnUse\" id=\"UIfQjPyG91\">\n",
       "<stop offset=\"0\" stop-color=\"#f1c40f\" />\n",
       "<stop offset=\"1\" stop-color=\"#1abc9c\" />\n",
       "</linearGradient>\n",
       "<linearGradient x1=\"-138.7435833361989\" y1=\"-144.0493598841426\" x2=\"153.57874893084218\" y2=\"128.1154474559463\" gradientUnits=\"userSpaceOnUse\" id=\"UIfQjPyG92\">\n",
       "<stop offset=\"0\" stop-color=\"#f1c40f\" />\n",
       "<stop offset=\"1\" stop-color=\"#27ae60\" />\n",
       "</linearGradient>\n",
       "<linearGradient x1=\"-135.8983950381724\" y1=\"-146.73658789153043\" x2=\"172.4842256218651\" y2=\"101.23829271390112\" gradientUnits=\"userSpaceOnUse\" id=\"UIfQjPyG93\">\n",
       "<stop offset=\"0\" stop-color=\"#f1c40f\" />\n",
       "<stop offset=\"1\" stop-color=\"#2c3e50\" />\n",
       "</linearGradient>\n",
       "<linearGradient x1=\"-128.68638460741425\" y1=\"-153.10066759055186\" x2=\"190.85600649941244\" y2=\"59.782813442462114\" gradientUnits=\"userSpaceOnUse\" id=\"UIfQjPyG94\">\n",
       "<stop offset=\"0\" stop-color=\"#f1c40f\" />\n",
       "<stop offset=\"1\" stop-color=\"#7f8c8d\" />\n",
       "</linearGradient>\n",
       "<linearGradient x1=\"-128.3549554197438\" y1=\"-153.37863416785137\" x2=\"196.640027089491\" y2=\"36.50616038758721\" gradientUnits=\"userSpaceOnUse\" id=\"UIfQjPyG95\">\n",
       "<stop offset=\"0\" stop-color=\"#f1c40f\" />\n",
       "<stop offset=\"1\" stop-color=\"#f368e0\" />\n",
       "</linearGradient>\n",
       "<linearGradient x1=\"-118.85347781775212\" y1=\"-160.8535072997325\" x2=\"199.49638628853174\" y2=\"14.184211568392547\" gradientUnits=\"userSpaceOnUse\" id=\"UIfQjPyG96\">\n",
       "<stop offset=\"0\" stop-color=\"#f1c40f\" />\n",
       "<stop offset=\"1\" stop-color=\"#c44569\" />\n",
       "</linearGradient>\n",
       "<linearGradient x1=\"-118.45551922830938\" y1=\"-161.1467963204718\" x2=\"199.94673426513097\" y2=\"4.615566780916784\" gradientUnits=\"userSpaceOnUse\" id=\"UIfQjPyG97\">\n",
       "<stop offset=\"0\" stop-color=\"#f1c40f\" />\n",
       "<stop offset=\"1\" stop-color=\"#6D214F\" />\n",
       "</linearGradient>\n",
       "<linearGradient x1=\"-199.40034831183598\" y1=\"15.475822857557297\" x2=\"-196.80755292885135\" y2=\"35.59195288484989\" gradientUnits=\"userSpaceOnUse\" id=\"UIfQjPyG98\">\n",
       "<stop offset=\"0\" stop-color=\"#9b59b6\" />\n",
       "<stop offset=\"1\" stop-color=\"#8e44ad\" />\n",
       "</linearGradient>\n",
       "<linearGradient x1=\"-199.4410740809976\" y1=\"14.941819481509766\" x2=\"-116.35048857748677\" y2=\"162.67318097271018\" gradientUnits=\"userSpaceOnUse\" id=\"UIfQjPyG99\">\n",
       "<stop offset=\"0\" stop-color=\"#9b59b6\" />\n",
       "<stop offset=\"1\" stop-color=\"#e84393\" />\n",
       "</linearGradient>\n",
       "<linearGradient x1=\"-199.45483828468844\" y1=\"14.756947002303027\" x2=\"-112.05404032262474\" y2=\"165.66198129738638\" gradientUnits=\"userSpaceOnUse\" id=\"UIfQjPyG100\">\n",
       "<stop offset=\"0\" stop-color=\"#9b59b6\" />\n",
       "<stop offset=\"1\" stop-color=\"#d35400\" />\n",
       "</linearGradient>\n",
       "<linearGradient x1=\"-199.58438150665617\" y1=\"12.886995716827233\" x2=\"-103.6058597111163\" y2=\"171.07257475562966\" gradientUnits=\"userSpaceOnUse\" id=\"UIfQjPyG101\">\n",
       "<stop offset=\"0\" stop-color=\"#9b59b6\" />\n",
       "<stop offset=\"1\" stop-color=\"#c0392b\" />\n",
       "</linearGradient>\n",
       "<linearGradient x1=\"-199.80201340465456\" y1=\"8.896934272334377\" x2=\"-75.87520696936538\" y2=\"185.04851517198392\" gradientUnits=\"userSpaceOnUse\" id=\"UIfQjPyG102\">\n",
       "<stop offset=\"0\" stop-color=\"#9b59b6\" />\n",
       "<stop offset=\"1\" stop-color=\"#34495e\" />\n",
       "</linearGradient>\n",
       "<linearGradient x1=\"-199.9660408497075\" y1=\"-3.685445277454883\" x2=\"-20.44113532802317\" y2=\"198.95265765126499\" gradientUnits=\"userSpaceOnUse\" id=\"UIfQjPyG103\">\n",
       "<stop offset=\"0\" stop-color=\"#9b59b6\" />\n",
       "<stop offset=\"1\" stop-color=\"#e91e63\" />\n",
       "</linearGradient>\n",
       "<linearGradient x1=\"-199.425796317257\" y1=\"-15.144364074728292\" x2=\"64.49340991060554\" y2=\"189.31613792305876\" gradientUnits=\"userSpaceOnUse\" id=\"UIfQjPyG104\">\n",
       "<stop offset=\"0\" stop-color=\"#9b59b6\" />\n",
       "<stop offset=\"1\" stop-color=\"#2980b9\" />\n",
       "</linearGradient>\n",
       "<linearGradient x1=\"-199.29251978803532\" y1=\"-16.80748513417612\" x2=\"141.77348696954604\" y2=\"141.0683465292479\" gradientUnits=\"userSpaceOnUse\" id=\"UIfQjPyG105\">\n",
       "<stop offset=\"0\" stop-color=\"#9b59b6\" />\n",
       "<stop offset=\"1\" stop-color=\"#1abc9c\" />\n",
       "</linearGradient>\n",
       "<linearGradient x1=\"-199.13200674481288\" y1=\"-18.613003244608187\" x2=\"153.57874893084218\" y2=\"128.1154474559463\" gradientUnits=\"userSpaceOnUse\" id=\"UIfQjPyG106\">\n",
       "<stop offset=\"0\" stop-color=\"#9b59b6\" />\n",
       "<stop offset=\"1\" stop-color=\"#27ae60\" />\n",
       "</linearGradient>\n",
       "<linearGradient x1=\"-198.62565202119833\" y1=\"-23.406203433146402\" x2=\"172.4842256218651\" y2=\"101.23829271390112\" gradientUnits=\"userSpaceOnUse\" id=\"UIfQjPyG107\">\n",
       "<stop offset=\"0\" stop-color=\"#9b59b6\" />\n",
       "<stop offset=\"1\" stop-color=\"#2c3e50\" />\n",
       "</linearGradient>\n",
       "<linearGradient x1=\"-198.19371776695732\" y1=\"-26.818841095611695\" x2=\"190.85600649941244\" y2=\"59.782813442462114\" gradientUnits=\"userSpaceOnUse\" id=\"UIfQjPyG108\">\n",
       "<stop offset=\"0\" stop-color=\"#9b59b6\" />\n",
       "<stop offset=\"1\" stop-color=\"#7f8c8d\" />\n",
       "</linearGradient>\n",
       "<linearGradient x1=\"-198.0644372186839\" y1=\"-27.757498252652894\" x2=\"196.640027089491\" y2=\"36.50616038758721\" gradientUnits=\"userSpaceOnUse\" id=\"UIfQjPyG109\">\n",
       "<stop offset=\"0\" stop-color=\"#9b59b6\" />\n",
       "<stop offset=\"1\" stop-color=\"#f368e0\" />\n",
       "</linearGradient>\n",
       "<linearGradient x1=\"-198.0644372186839\" y1=\"-27.757498252652894\" x2=\"199.4561720993155\" y2=\"14.738908083309255\" gradientUnits=\"userSpaceOnUse\" id=\"UIfQjPyG110\">\n",
       "<stop offset=\"0\" stop-color=\"#9b59b6\" />\n",
       "<stop offset=\"1\" stop-color=\"#c44569\" />\n",
       "</linearGradient>\n",
       "<linearGradient x1=\"-197.98648452782305\" y1=\"-28.30816038378479\" x2=\"199.93151901253125\" y2=\"5.233326412699162\" gradientUnits=\"userSpaceOnUse\" id=\"UIfQjPyG111\">\n",
       "<stop offset=\"0\" stop-color=\"#9b59b6\" />\n",
       "<stop offset=\"1\" stop-color=\"#6D214F\" />\n",
       "</linearGradient>\n",
       "<linearGradient x1=\"-118.8014699602112\" y1=\"160.89192252966907\" x2=\"-116.78567248914821\" y2=\"162.36103812570738\" gradientUnits=\"userSpaceOnUse\" id=\"UIfQjPyG112\">\n",
       "<stop offset=\"0\" stop-color=\"#8e44ad\" />\n",
       "<stop offset=\"1\" stop-color=\"#e84393\" />\n",
       "</linearGradient>\n",
       "<linearGradient x1=\"-119.19879749925641\" y1=\"160.59777917123031\" x2=\"-112.20754770515649\" y2=\"165.55804492079216\" gradientUnits=\"userSpaceOnUse\" id=\"UIfQjPyG113\">\n",
       "<stop offset=\"0\" stop-color=\"#8e44ad\" />\n",
       "<stop offset=\"1\" stop-color=\"#d35400\" />\n",
       "</linearGradient>\n",
       "<linearGradient x1=\"-120.91210348737609\" y1=\"159.31184271816724\" x2=\"-105.2046123079551\" y2=\"170.094060887301\" gradientUnits=\"userSpaceOnUse\" id=\"UIfQjPyG114\">\n",
       "<stop offset=\"0\" stop-color=\"#8e44ad\" />\n",
       "<stop offset=\"1\" stop-color=\"#c0392b\" />\n",
       "</linearGradient>\n",
       "<linearGradient x1=\"-123.16408028909433\" y1=\"157.57731222019723\" x2=\"-79.55713997654897\" y2=\"183.49567155317806\" gradientUnits=\"userSpaceOnUse\" id=\"UIfQjPyG115\">\n",
       "<stop offset=\"0\" stop-color=\"#8e44ad\" />\n",
       "<stop offset=\"1\" stop-color=\"#34495e\" />\n",
       "</linearGradient>\n",
       "<linearGradient x1=\"-129.89428651931442\" y1=\"152.07719858558104\" x2=\"-32.91203366416226\" y2=\"197.27340935891246\" gradientUnits=\"userSpaceOnUse\" id=\"UIfQjPyG116\">\n",
       "<stop offset=\"0\" stop-color=\"#8e44ad\" />\n",
       "<stop offset=\"1\" stop-color=\"#e91e63\" />\n",
       "</linearGradient>\n",
       "<linearGradient x1=\"-136.4092951429248\" y1=\"146.26176601767952\" x2=\"53.532946385854494\" y2=\"192.70242253601594\" gradientUnits=\"userSpaceOnUse\" id=\"UIfQjPyG117\">\n",
       "<stop offset=\"0\" stop-color=\"#8e44ad\" />\n",
       "<stop offset=\"1\" stop-color=\"#2980b9\" />\n",
       "</linearGradient>\n",
       "<linearGradient x1=\"-138.22136064991\" y1=\"144.5505290896146\" x2=\"140.59173466777986\" y2=\"142.2461392906837\" gradientUnits=\"userSpaceOnUse\" id=\"UIfQjPyG118\">\n",
       "<stop offset=\"0\" stop-color=\"#8e44ad\" />\n",
       "<stop offset=\"1\" stop-color=\"#1abc9c\" />\n",
       "</linearGradient>\n",
       "<linearGradient x1=\"-138.53367321552886\" y1=\"144.25124396487217\" x2=\"152.4113179863415\" y2=\"129.50208550315438\" gradientUnits=\"userSpaceOnUse\" id=\"UIfQjPyG119\">\n",
       "<stop offset=\"0\" stop-color=\"#8e44ad\" />\n",
       "<stop offset=\"1\" stop-color=\"#27ae60\" />\n",
       "</linearGradient>\n",
       "<linearGradient x1=\"-140.9502805557678\" y1=\"141.89086796284792\" x2=\"169.99453722758938\" y2=\"105.3653515762071\" gradientUnits=\"userSpaceOnUse\" id=\"UIfQjPyG120\">\n",
       "<stop offset=\"0\" stop-color=\"#8e44ad\" />\n",
       "<stop offset=\"1\" stop-color=\"#2c3e50\" />\n",
       "</linearGradient>\n",
       "<linearGradient x1=\"-141.6063724382315\" y1=\"141.2360976694162\" x2=\"189.7995916542949\" y2=\"63.056443032119304\" gradientUnits=\"userSpaceOnUse\" id=\"UIfQjPyG121\">\n",
       "<stop offset=\"0\" stop-color=\"#8e44ad\" />\n",
       "<stop offset=\"1\" stop-color=\"#7f8c8d\" />\n",
       "</linearGradient>\n",
       "<linearGradient x1=\"-144.15735710612418\" y1=\"138.63136871638176\" x2=\"196.4648695499302\" y2=\"37.43734809957723\" gradientUnits=\"userSpaceOnUse\" id=\"UIfQjPyG122\">\n",
       "<stop offset=\"0\" stop-color=\"#8e44ad\" />\n",
       "<stop offset=\"1\" stop-color=\"#f368e0\" />\n",
       "</linearGradient>\n",
       "<linearGradient x1=\"-144.3428393915607\" y1=\"138.43823430101278\" x2=\"199.4561720993155\" y2=\"14.738908083309255\" gradientUnits=\"userSpaceOnUse\" id=\"UIfQjPyG123\">\n",
       "<stop offset=\"0\" stop-color=\"#8e44ad\" />\n",
       "<stop offset=\"1\" stop-color=\"#c44569\" />\n",
       "</linearGradient>\n",
       "<linearGradient x1=\"-145.7045223292786\" y1=\"137.00435092651895\" x2=\"199.93151901253125\" y2=\"5.233326412699162\" gradientUnits=\"userSpaceOnUse\" id=\"UIfQjPyG124\">\n",
       "<stop offset=\"0\" stop-color=\"#8e44ad\" />\n",
       "<stop offset=\"1\" stop-color=\"#6D214F\" />\n",
       "</linearGradient>\n",
       "<linearGradient x1=\"-114.29738130318319\" y1=\"164.12223684569605\" x2=\"-107.02043458387418\" y2=\"168.95746974158527\" gradientUnits=\"userSpaceOnUse\" id=\"UIfQjPyG125\">\n",
       "<stop offset=\"0\" stop-color=\"#e84393\" />\n",
       "<stop offset=\"1\" stop-color=\"#c0392b\" />\n",
       "</linearGradient>\n",
       "<linearGradient x1=\"-114.31428384371371\" y1=\"164.1104643503846\" x2=\"-82.15700164231033\" y2=\"182.34644795318997\" gradientUnits=\"userSpaceOnUse\" id=\"UIfQjPyG126\">\n",
       "<stop offset=\"0\" stop-color=\"#e84393\" />\n",
       "<stop offset=\"1\" stop-color=\"#34495e\" />\n",
       "</linearGradient>\n",
       "<linearGradient x1=\"-114.48324252902138\" y1=\"163.99264367660297\" x2=\"45.069605724170216\" y2=\"194.85566617337008\" gradientUnits=\"userSpaceOnUse\" id=\"UIfQjPyG127\">\n",
       "<stop offset=\"0\" stop-color=\"#e84393\" />\n",
       "<stop offset=\"1\" stop-color=\"#2980b9\" />\n",
       "</linearGradient>\n",
       "<linearGradient x1=\"-114.5001317216097\" y1=\"163.98085203990746\" x2=\"138.8082015179505\" y2=\"143.98709383605203\" gradientUnits=\"userSpaceOnUse\" id=\"UIfQjPyG128\">\n",
       "<stop offset=\"0\" stop-color=\"#e84393\" />\n",
       "<stop offset=\"1\" stop-color=\"#1abc9c\" />\n",
       "</linearGradient>\n",
       "<linearGradient x1=\"-114.60144136585706\" y1=\"163.9100656972232\" x2=\"168.19069395246686\" y2=\"108.22148801318352\" gradientUnits=\"userSpaceOnUse\" id=\"UIfQjPyG129\">\n",
       "<stop offset=\"0\" stop-color=\"#e84393\" />\n",
       "<stop offset=\"1\" stop-color=\"#2c3e50\" />\n",
       "</linearGradient>\n",
       "<linearGradient x1=\"-114.63520152439071\" y1=\"163.8864563393276\" x2=\"189.50531264472568\" y2=\"63.93540865142553\" gradientUnits=\"userSpaceOnUse\" id=\"UIfQjPyG130\">\n",
       "<stop offset=\"0\" stop-color=\"#e84393\" />\n",
       "<stop offset=\"1\" stop-color=\"#7f8c8d\" />\n",
       "</linearGradient>\n",
       "<linearGradient x1=\"-114.88824757996711\" y1=\"163.70916458159627\" x2=\"195.74980237030044\" y2=\"41.012374620208455\" gradientUnits=\"userSpaceOnUse\" id=\"UIfQjPyG131\">\n",
       "<stop offset=\"0\" stop-color=\"#e84393\" />\n",
       "<stop offset=\"1\" stop-color=\"#f368e0\" />\n",
       "</linearGradient>\n",
       "<linearGradient x1=\"-114.93882390708944\" y1=\"163.67365933116753\" x2=\"199.43625961867124\" y2=\"15.005943799507019\" gradientUnits=\"userSpaceOnUse\" id=\"UIfQjPyG132\">\n",
       "<stop offset=\"0\" stop-color=\"#e84393\" />\n",
       "<stop offset=\"1\" stop-color=\"#c44569\" />\n",
       "</linearGradient>\n",
       "<linearGradient x1=\"-115.19154085718087\" y1=\"163.49589877103472\" x2=\"199.87000498547087\" y2=\"7.209792445545669\" gradientUnits=\"userSpaceOnUse\" id=\"UIfQjPyG133\">\n",
       "<stop offset=\"0\" stop-color=\"#e84393\" />\n",
       "<stop offset=\"1\" stop-color=\"#6D214F\" />\n",
       "</linearGradient>\n",
       "<linearGradient x1=\"-108.7564950852356\" y1=\"167.84524055443194\" x2=\"-82.17578128673763\" y2=\"182.33798553761162\" gradientUnits=\"userSpaceOnUse\" id=\"UIfQjPyG134\">\n",
       "<stop offset=\"0\" stop-color=\"#d35400\" />\n",
       "<stop offset=\"1\" stop-color=\"#34495e\" />\n",
       "</linearGradient>\n",
       "<linearGradient x1=\"-108.96385097376793\" y1=\"167.71070085407936\" x2=\"-41.45220829287329\" y2=\"195.6571348753841\" gradientUnits=\"userSpaceOnUse\" id=\"UIfQjPyG135\">\n",
       "<stop offset=\"0\" stop-color=\"#d35400\" />\n",
       "<stop offset=\"1\" stop-color=\"#e91e63\" />\n",
       "</linearGradient>\n",
       "<linearGradient x1=\"-109.01566395276933\" y1=\"167.67702589483412\" x2=\"44.868897660247306\" y2=\"194.90198055113308\" gradientUnits=\"userSpaceOnUse\" id=\"UIfQjPyG136\">\n",
       "<stop offset=\"0\" stop-color=\"#d35400\" />\n",
       "<stop offset=\"1\" stop-color=\"#2980b9\" />\n",
       "</linearGradient>\n",
       "<linearGradient x1=\"-109.72272954697853\" y1=\"167.21519853398675\" x2=\"138.79337137766493\" y2=\"144.00138909615276\" gradientUnits=\"userSpaceOnUse\" id=\"UIfQjPyG137\">\n",
       "<stop offset=\"0\" stop-color=\"#d35400\" />\n",
       "<stop offset=\"1\" stop-color=\"#1abc9c\" />\n",
       "</linearGradient>\n",
       "<linearGradient x1=\"-109.73995065961823\" y1=\"167.2038971711621\" x2=\"152.13087264294364\" y2=\"129.83141988323342\" gradientUnits=\"userSpaceOnUse\" id=\"UIfQjPyG138\">\n",
       "<stop offset=\"0\" stop-color=\"#d35400\" />\n",
       "<stop offset=\"1\" stop-color=\"#27ae60\" />\n",
       "</linearGradient>\n",
       "<linearGradient x1=\"-109.80882346802738\" y1=\"167.158673985431\" x2=\"168.1237866761967\" y2=\"108.3254003161618\" gradientUnits=\"userSpaceOnUse\" id=\"UIfQjPyG139\">\n",
       "<stop offset=\"0\" stop-color=\"#d35400\" />\n",
       "<stop offset=\"1\" stop-color=\"#2c3e50\" />\n",
       "</linearGradient>\n",
       "<linearGradient x1=\"-109.82603875867918\" y1=\"167.14736375598957\" x2=\"189.49213905517368\" y2=\"63.974442055360825\" gradientUnits=\"userSpaceOnUse\" id=\"UIfQjPyG140\">\n",
       "<stop offset=\"0\" stop-color=\"#d35400\" />\n",
       "<stop offset=\"1\" stop-color=\"#7f8c8d\" />\n",
       "</linearGradient>\n",
       "<linearGradient x1=\"-109.98092393009138\" y1=\"167.04549192206133\" x2=\"195.6862100981071\" y2=\"41.31473317642859\" gradientUnits=\"userSpaceOnUse\" id=\"UIfQjPyG141\">\n",
       "<stop offset=\"0\" stop-color=\"#d35400\" />\n",
       "<stop offset=\"1\" stop-color=\"#f368e0\" />\n",
       "</linearGradient>\n",
       "<linearGradient x1=\"-87.88223242486728\" y1=\"179.65721033129066\" x2=\"-82.19456005951113\" y2=\"182.3295211879399\" gradientUnits=\"userSpaceOnUse\" id=\"UIfQjPyG142\">\n",
       "<stop offset=\"0\" stop-color=\"#c0392b\" />\n",
       "<stop offset=\"1\" stop-color=\"#34495e\" />\n",
       "</linearGradient>\n",
       "<linearGradient x1=\"-88.32603820082828\" y1=\"179.43943539742267\" x2=\"-41.69398813983456\" y2=\"195.60575490765945\" gradientUnits=\"userSpaceOnUse\" id=\"UIfQjPyG143\">\n",
       "<stop offset=\"0\" stop-color=\"#c0392b\" />\n",
       "<stop offset=\"1\" stop-color=\"#e91e63\" />\n",
       "</linearGradient>\n",
       "<linearGradient x1=\"-89.98548151442822\" y1=\"178.61302616723253\" x2=\"44.80867595069293\" y2=\"194.9158345531368\" gradientUnits=\"userSpaceOnUse\" id=\"UIfQjPyG144\">\n",
       "<stop offset=\"0\" stop-color=\"#c0392b\" />\n",
       "<stop offset=\"1\" stop-color=\"#2980b9\" />\n",
       "</linearGradient>\n",
       "<linearGradient x1=\"-90.00387660773316\" y1=\"178.60375750688993\" x2=\"138.18406986318942\" y2=\"144.58617788725581\" gradientUnits=\"userSpaceOnUse\" id=\"UIfQjPyG145\">\n",
       "<stop offset=\"0\" stop-color=\"#c0392b\" />\n",
       "<stop offset=\"1\" stop-color=\"#1abc9c\" />\n",
       "</linearGradient>\n",
       "<linearGradient x1=\"-90.0222707463499\" y1=\"178.59448695206376\" x2=\"152.11750034189885\" y2=\"129.847087336345\" gradientUnits=\"userSpaceOnUse\" id=\"UIfQjPyG146\">\n",
       "<stop offset=\"0\" stop-color=\"#c0392b\" />\n",
       "<stop offset=\"1\" stop-color=\"#27ae60\" />\n",
       "</linearGradient>\n",
       "<linearGradient x1=\"-94.08177856252486\" y1=\"176.4897134184087\" x2=\"168.07914615736044\" y2=\"108.39465220670562\" gradientUnits=\"userSpaceOnUse\" id=\"UIfQjPyG147\">\n",
       "<stop offset=\"0\" stop-color=\"#c0392b\" />\n",
       "<stop offset=\"1\" stop-color=\"#2c3e50\" />\n",
       "</linearGradient>\n",
       "<linearGradient x1=\"-96.09322142665181\" y1=\"175.40265903300457\" x2=\"189.4855492453946\" y2=\"63.99395773954867\" gradientUnits=\"userSpaceOnUse\" id=\"UIfQjPyG148\">\n",
       "<stop offset=\"0\" stop-color=\"#c0392b\" />\n",
       "<stop offset=\"1\" stop-color=\"#7f8c8d\" />\n",
       "</linearGradient>\n",
       "<linearGradient x1=\"-96.1835333367142\" y1=\"175.3531519958087\" x2=\"195.64783055158927\" y2=\"41.49610102716416\" gradientUnits=\"userSpaceOnUse\" id=\"UIfQjPyG149\">\n",
       "<stop offset=\"0\" stop-color=\"#c0392b\" />\n",
       "<stop offset=\"1\" stop-color=\"#f368e0\" />\n",
       "</linearGradient>\n",
       "<linearGradient x1=\"-96.2015926587824\" y1=\"175.3432450079378\" x2=\"199.43161365853513\" y2=\"15.067563623651395\" gradientUnits=\"userSpaceOnUse\" id=\"UIfQjPyG150\">\n",
       "<stop offset=\"0\" stop-color=\"#c0392b\" />\n",
       "<stop offset=\"1\" stop-color=\"#c44569\" />\n",
       "</linearGradient>\n",
       "<linearGradient x1=\"-96.79697668099301\" y1=\"175.01527163484704\" x2=\"199.85862830529194\" y2=\"7.518556505550156\" gradientUnits=\"userSpaceOnUse\" id=\"UIfQjPyG151\">\n",
       "<stop offset=\"0\" stop-color=\"#c0392b\" />\n",
       "<stop offset=\"1\" stop-color=\"#6D214F\" />\n",
       "</linearGradient>\n",
       "<linearGradient x1=\"-47.17846771054185\" y1=\"194.35583907998586\" x2=\"-42.177356409994864\" y2=\"195.50209872598367\" gradientUnits=\"userSpaceOnUse\" id=\"UIfQjPyG152\">\n",
       "<stop offset=\"0\" stop-color=\"#34495e\" />\n",
       "<stop offset=\"1\" stop-color=\"#e91e63\" />\n",
       "</linearGradient>\n",
       "<linearGradient x1=\"-50.51415409866124\" y1=\"193.51568472787085\" x2=\"43.00006141500647\" y2=\"195.3227962074721\" gradientUnits=\"userSpaceOnUse\" id=\"UIfQjPyG153\">\n",
       "<stop offset=\"0\" stop-color=\"#34495e\" />\n",
       "<stop offset=\"1\" stop-color=\"#2980b9\" />\n",
       "</linearGradient>\n",
       "<linearGradient x1=\"-50.83297198354392\" y1=\"193.4321818088196\" x2=\"138.1691780258265\" y2=\"144.60040886410889\" gradientUnits=\"userSpaceOnUse\" id=\"UIfQjPyG154\">\n",
       "<stop offset=\"0\" stop-color=\"#34495e\" />\n",
       "<stop offset=\"1\" stop-color=\"#1abc9c\" />\n",
       "</linearGradient>\n",
       "<linearGradient x1=\"-50.89273499600521\" y1=\"193.41646652916185\" x2=\"152.10412642731498\" y2=\"129.86275341214426\" gradientUnits=\"userSpaceOnUse\" id=\"UIfQjPyG155\">\n",
       "<stop offset=\"0\" stop-color=\"#34495e\" />\n",
       "<stop offset=\"1\" stop-color=\"#27ae60\" />\n",
       "</linearGradient>\n",
       "<linearGradient x1=\"-55.16275059550178\" y1=\"192.2422194699657\" x2=\"165.55709062884722\" y2=\"112.20895571437988\" gradientUnits=\"userSpaceOnUse\" id=\"UIfQjPyG156\">\n",
       "<stop offset=\"0\" stop-color=\"#34495e\" />\n",
       "<stop offset=\"1\" stop-color=\"#2c3e50\" />\n",
       "</linearGradient>\n",
       "<linearGradient x1=\"-58.12593861730965\" y1=\"191.367121679396\" x2=\"188.74160283510255\" y2=\"66.15593215454233\" gradientUnits=\"userSpaceOnUse\" id=\"UIfQjPyG157\">\n",
       "<stop offset=\"0\" stop-color=\"#34495e\" />\n",
       "<stop offset=\"1\" stop-color=\"#7f8c8d\" />\n",
       "</linearGradient>\n",
       "<linearGradient x1=\"-58.38210513510563\" y1=\"191.28912619381552\" x2=\"195.62643594462338\" y2=\"41.59684554872128\" gradientUnits=\"userSpaceOnUse\" id=\"UIfQjPyG158\">\n",
       "<stop offset=\"0\" stop-color=\"#34495e\" />\n",
       "<stop offset=\"1\" stop-color=\"#f368e0\" />\n",
       "</linearGradient>\n",
       "<linearGradient x1=\"-58.500300565036014\" y1=\"191.2530126136591\" x2=\"199.83192065820387\" y2=\"8.197773237490148\" gradientUnits=\"userSpaceOnUse\" id=\"UIfQjPyG159\">\n",
       "<stop offset=\"0\" stop-color=\"#34495e\" />\n",
       "<stop offset=\"1\" stop-color=\"#6D214F\" />\n",
       "</linearGradient>\n",
       "<linearGradient x1=\"25.184169791713806\" y1=\"198.40805828368497\" x2=\"39.634406485902865\" y2=\"196.03345077437731\" gradientUnits=\"userSpaceOnUse\" id=\"UIfQjPyG160\">\n",
       "<stop offset=\"0\" stop-color=\"#e91e63\" />\n",
       "<stop offset=\"1\" stop-color=\"#2980b9\" />\n",
       "</linearGradient>\n",
       "<linearGradient x1=\"25.16373537341196\" y1=\"198.4106509793688\" x2=\"137.93070941572103\" y2=\"144.82789579385567\" gradientUnits=\"userSpaceOnUse\" id=\"UIfQjPyG161\">\n",
       "<stop offset=\"0\" stop-color=\"#e91e63\" />\n",
       "<stop offset=\"1\" stop-color=\"#1abc9c\" />\n",
       "</linearGradient>\n",
       "<linearGradient x1=\"24.387031673988243\" y1=\"198.50761367295686\" x2=\"152.06399500374857\" y2=\"129.90974337400533\" gradientUnits=\"userSpaceOnUse\" id=\"UIfQjPyG162\">\n",
       "<stop offset=\"0\" stop-color=\"#e91e63\" />\n",
       "<stop offset=\"1\" stop-color=\"#27ae60\" />\n",
       "</linearGradient>\n",
       "<linearGradient x1=\"19.698884132192514\" y1=\"199.02752061950238\" x2=\"163.03205245967953\" y2=\"115.8470969458635\" gradientUnits=\"userSpaceOnUse\" id=\"UIfQjPyG163\">\n",
       "<stop offset=\"0\" stop-color=\"#e91e63\" />\n",
       "<stop offset=\"1\" stop-color=\"#2c3e50\" />\n",
       "</linearGradient>\n",
       "<linearGradient x1=\"19.165863961610967\" y1=\"199.0795561040988\" x2=\"187.69709937268857\" y2=\"69.0637306194726\" gradientUnits=\"userSpaceOnUse\" id=\"UIfQjPyG164\">\n",
       "<stop offset=\"0\" stop-color=\"#e91e63\" />\n",
       "<stop offset=\"1\" stop-color=\"#7f8c8d\" />\n",
       "</linearGradient>\n",
       "<linearGradient x1=\"13.356070762860062\" y1=\"199.55354011837895\" x2=\"195.57056720028925\" y2=\"41.85872961470696\" gradientUnits=\"userSpaceOnUse\" id=\"UIfQjPyG165\">\n",
       "<stop offset=\"0\" stop-color=\"#e91e63\" />\n",
       "<stop offset=\"1\" stop-color=\"#f368e0\" />\n",
       "</linearGradient>\n",
       "<linearGradient x1=\"134.7648785215513\" y1=\"147.77830529909158\" x2=\"137.91579268488368\" y2=\"144.84210067552937\" gradientUnits=\"userSpaceOnUse\" id=\"UIfQjPyG166\">\n",
       "<stop offset=\"0\" stop-color=\"#2980b9\" />\n",
       "<stop offset=\"1\" stop-color=\"#1abc9c\" />\n",
       "</linearGradient>\n",
       "<linearGradient x1=\"134.18549302596352\" y1=\"148.30459689901423\" x2=\"151.55440842515736\" y2=\"130.503874604935\" gradientUnits=\"userSpaceOnUse\" id=\"UIfQjPyG167\">\n",
       "<stop offset=\"0\" stop-color=\"#2980b9\" />\n",
       "<stop offset=\"1\" stop-color=\"#27ae60\" />\n",
       "</linearGradient>\n",
       "<linearGradient x1=\"132.86667682704604\" y1=\"149.48727768254165\" x2=\"160.25471231973972\" y2=\"119.65963053309774\" gradientUnits=\"userSpaceOnUse\" id=\"UIfQjPyG168\">\n",
       "<stop offset=\"0\" stop-color=\"#2980b9\" />\n",
       "<stop offset=\"1\" stop-color=\"#2c3e50\" />\n",
       "</linearGradient>\n",
       "<linearGradient x1=\"131.0713159084177\" y1=\"151.0639273487743\" x2=\"187.51148978122757\" y2=\"69.56609231532693\" gradientUnits=\"userSpaceOnUse\" id=\"UIfQjPyG169\">\n",
       "<stop offset=\"0\" stop-color=\"#2980b9\" />\n",
       "<stop offset=\"1\" stop-color=\"#7f8c8d\" />\n",
       "</linearGradient>\n",
       "<linearGradient x1=\"129.08426187132932\" y1=\"152.7653538507147\" x2=\"194.26763943972298\" y2=\"47.540343567519415\" gradientUnits=\"userSpaceOnUse\" id=\"UIfQjPyG170\">\n",
       "<stop offset=\"0\" stop-color=\"#2980b9\" />\n",
       "<stop offset=\"1\" stop-color=\"#f368e0\" />\n",
       "</linearGradient>\n",
       "<linearGradient x1=\"129.0055773210639\" y1=\"152.83180631026713\" x2=\"199.43006077431724\" y2=\"15.088103245674441\" gradientUnits=\"userSpaceOnUse\" id=\"UIfQjPyG171\">\n",
       "<stop offset=\"0\" stop-color=\"#2980b9\" />\n",
       "<stop offset=\"1\" stop-color=\"#c44569\" />\n",
       "</linearGradient>\n",
       "<linearGradient x1=\"128.51697035777846\" y1=\"153.24290629604326\" x2=\"199.82681671353524\" y2=\"8.321257244863409\" gradientUnits=\"userSpaceOnUse\" id=\"UIfQjPyG172\">\n",
       "<stop offset=\"0\" stop-color=\"#2980b9\" />\n",
       "<stop offset=\"1\" stop-color=\"#6D214F\" />\n",
       "</linearGradient>\n",
       "<linearGradient x1=\"149.47793397129067\" y1=\"132.87718862044932\" x2=\"151.04250052406272\" y2=\"131.0960069393363\" gradientUnits=\"userSpaceOnUse\" id=\"UIfQjPyG173\">\n",
       "<stop offset=\"0\" stop-color=\"#1abc9c\" />\n",
       "<stop offset=\"1\" stop-color=\"#27ae60\" />\n",
       "</linearGradient>\n",
       "<linearGradient x1=\"148.46089914638122\" y1=\"134.01254204233283\" x2=\"159.1885856780699\" y2=\"121.07433332385438\" gradientUnits=\"userSpaceOnUse\" id=\"UIfQjPyG174\">\n",
       "<stop offset=\"0\" stop-color=\"#1abc9c\" />\n",
       "<stop offset=\"1\" stop-color=\"#2c3e50\" />\n",
       "</linearGradient>\n",
       "<linearGradient x1=\"148.4470962459966\" y1=\"134.02783149828184\" x2=\"186.66702323439011\" y2=\"71.80127044009505\" gradientUnits=\"userSpaceOnUse\" id=\"UIfQjPyG175\">\n",
       "<stop offset=\"0\" stop-color=\"#1abc9c\" />\n",
       "<stop offset=\"1\" stop-color=\"#7f8c8d\" />\n",
       "</linearGradient>\n",
       "<linearGradient x1=\"148.364245782083\" y1=\"134.11953837347363\" x2=\"193.62921730289753\" y2=\"50.077202464467675\" gradientUnits=\"userSpaceOnUse\" id=\"UIfQjPyG176\">\n",
       "<stop offset=\"0\" stop-color=\"#1abc9c\" />\n",
       "<stop offset=\"1\" stop-color=\"#f368e0\" />\n",
       "</linearGradient>\n",
       "<linearGradient x1=\"148.35043186253017\" y1=\"134.1348178744087\" x2=\"199.7992307861052\" y2=\"8.95920628631092\" gradientUnits=\"userSpaceOnUse\" id=\"UIfQjPyG177\">\n",
       "<stop offset=\"0\" stop-color=\"#1abc9c\" />\n",
       "<stop offset=\"1\" stop-color=\"#6D214F\" />\n",
       "</linearGradient>\n",
       "<linearGradient x1=\"156.95391942303672\" y1=\"123.95752166668585\" x2=\"158.26122164267758\" y2=\"122.28403707830095\" gradientUnits=\"userSpaceOnUse\" id=\"UIfQjPyG178\">\n",
       "<stop offset=\"0\" stop-color=\"#27ae60\" />\n",
       "<stop offset=\"1\" stop-color=\"#2c3e50\" />\n",
       "</linearGradient>\n",
       "<linearGradient x1=\"156.9283830247784\" y1=\"123.98984878298884\" x2=\"186.65962734511822\" y2=\"71.82049512069375\" gradientUnits=\"userSpaceOnUse\" id=\"UIfQjPyG179\">\n",
       "<stop offset=\"0\" stop-color=\"#27ae60\" />\n",
       "<stop offset=\"1\" stop-color=\"#7f8c8d\" />\n",
       "</linearGradient>\n",
       "<linearGradient x1=\"156.6598490570018\" y1=\"124.32896562522112\" x2=\"193.59823526716457\" y2=\"50.196845532758246\" gradientUnits=\"userSpaceOnUse\" id=\"UIfQjPyG180\">\n",
       "<stop offset=\"0\" stop-color=\"#27ae60\" />\n",
       "<stop offset=\"1\" stop-color=\"#f368e0\" />\n",
       "</linearGradient>\n",
       "<linearGradient x1=\"156.63423615406177\" y1=\"124.36123216032242\" x2=\"199.42226462267564\" y2=\"15.190798950796811\" gradientUnits=\"userSpaceOnUse\" id=\"UIfQjPyG181\">\n",
       "<stop offset=\"0\" stop-color=\"#27ae60\" />\n",
       "<stop offset=\"1\" stop-color=\"#c44569\" />\n",
       "</linearGradient>\n",
       "<linearGradient x1=\"156.58299041188303\" y1=\"124.42574939968071\" x2=\"199.79830700701206\" y2=\"8.979783802060663\" gradientUnits=\"userSpaceOnUse\" id=\"UIfQjPyG182\">\n",
       "<stop offset=\"0\" stop-color=\"#27ae60\" />\n",
       "<stop offset=\"1\" stop-color=\"#6D214F\" />\n",
       "</linearGradient>\n",
       "<linearGradient x1=\"184.86611019577617\" y1=\"76.31855148706074\" x2=\"186.6448296268517\" y2=\"71.85894219624657\" gradientUnits=\"userSpaceOnUse\" id=\"UIfQjPyG183\">\n",
       "<stop offset=\"0\" stop-color=\"#2c3e50\" />\n",
       "<stop offset=\"1\" stop-color=\"#7f8c8d\" />\n",
       "</linearGradient>\n",
       "<linearGradient x1=\"184.15880144888422\" y1=\"78.00984456407052\" x2=\"193.48921604343735\" y2=\"50.61544502319452\" gradientUnits=\"userSpaceOnUse\" id=\"UIfQjPyG184\">\n",
       "<stop offset=\"0\" stop-color=\"#2c3e50\" />\n",
       "<stop offset=\"1\" stop-color=\"#f368e0\" />\n",
       "</linearGradient>\n",
       "<linearGradient x1=\"184.11860539406277\" y1=\"78.10466789984706\" x2=\"199.41913135473683\" y2=\"15.231876106449297\" gradientUnits=\"userSpaceOnUse\" id=\"UIfQjPyG185\">\n",
       "<stop offset=\"0\" stop-color=\"#2c3e50\" />\n",
       "<stop offset=\"1\" stop-color=\"#c44569\" />\n",
       "</linearGradient>\n",
       "<linearGradient x1=\"183.5425573602317\" y1=\"79.44891212386773\" x2=\"199.79459069775572\" y2=\"9.06209291037423\" gradientUnits=\"userSpaceOnUse\" id=\"UIfQjPyG186\">\n",
       "<stop offset=\"0\" stop-color=\"#2c3e50\" />\n",
       "<stop offset=\"1\" stop-color=\"#6D214F\" />\n",
       "</linearGradient>\n",
       "<linearGradient x1=\"192.47243948473854\" y1=\"54.35402504685054\" x2=\"193.01714200027828\" y2=\"52.38685802798641\" gradientUnits=\"userSpaceOnUse\" id=\"UIfQjPyG187\">\n",
       "<stop offset=\"0\" stop-color=\"#7f8c8d\" />\n",
       "<stop offset=\"1\" stop-color=\"#f368e0\" />\n",
       "</linearGradient>\n",
       "<linearGradient x1=\"192.46684047748042\" y1=\"54.37384772678963\" x2=\"199.41126116784758\" y2=\"15.334566164338694\" gradientUnits=\"userSpaceOnUse\" id=\"UIfQjPyG188\">\n",
       "<stop offset=\"0\" stop-color=\"#7f8c8d\" />\n",
       "<stop offset=\"1\" stop-color=\"#c44569\" />\n",
       "</linearGradient>\n",
       "<linearGradient x1=\"192.4500312067519\" y1=\"54.43331230524391\" x2=\"199.72298429438078\" y2=\"10.522810677120866\" gradientUnits=\"userSpaceOnUse\" id=\"UIfQjPyG189\">\n",
       "<stop offset=\"0\" stop-color=\"#7f8c8d\" />\n",
       "<stop offset=\"1\" stop-color=\"#6D214F\" />\n",
       "</linearGradient>\n",
       "</defs>\n",
       "<rect x=\"-250\" y=\"-250\" width=\"500.0\" height=\"500.0\" fill=\"#ffffff\" fill-opacity=\"1.0\" />\n",
       "<path d=\"M200.0,-0.0 A200,200,0,0,0,113.55689438160627,-164.63545103775405 L121.50587698831872,-176.15993261039685 A214.0,214.0,0,0,1,214.0,-0.0 Z\" fill=\"#e74c3c\" fill-opacity=\"0.9\" />\n",
       "<path d=\"M111.90488951292951,-165.7627693515617 A200,200,0,0,0,-37.84309197840286,-196.38711869548405 L-40.492108416891064,-210.13421700416794 A214.0,214.0,0,0,1,119.73823177883459,-177.36616320617102 Z\" fill=\"#f39c12\" fill-opacity=\"0.9\" />\n",
       "<path d=\"M-39.805038295503884,-195.9988748087434 A200,200,0,0,0,-48.24334788016434,-194.09425386990065 L-51.62038223177585,-207.68085164079372 A214.0,214.0,0,0,1,-42.59139097618916,-209.71879604535545 Z\" fill=\"#8e44ad\" fill-opacity=\"0.9\" />\n",
       "<path d=\"M-50.1818459226901,-193.60212379979563 A200,200,0,0,0,-61.140572499984046,-190.42539324988724 L-65.42041257498293,-203.75517077737936 A214.0,214.0,0,0,1,-53.69457513727841,-207.15427246578133 Z\" fill=\"#27ae60\" fill-opacity=\"0.9\" />\n",
       "<path d=\"M-63.04173769192622,-189.804476524613 A200,200,0,0,0,-68.83649517700987,-187.78055525465223 L-73.65504983940056,-200.9251941224779 A214.0,214.0,0,0,1,-67.45465933036107,-203.09078988133592 Z\" fill=\"#fd79a8\" fill-opacity=\"0.9\" />\n",
       "<path d=\"M-70.71082763687659,-187.08281282605284 A200,200,0,0,0,-188.19958180411703,-67.6824749012288 L-201.37355253040525,-72.42024814431483 A214.0,214.0,0,0,1,-75.66058557145796,-200.17860972387655 Z\" fill=\"#f1c40f\" fill-opacity=\"0.9\" />\n",
       "<path d=\"M-188.86698537209924,-65.79712635408367 A200,200,0,0,0,-198.48447244604273,24.57466577221567 L-212.37838551726574,26.29489237627077 A214.0,214.0,0,0,1,-202.0876743481462,-70.40292519886954 Z\" fill=\"#9b59b6\" fill-opacity=\"0.9\" />\n",
       "<path d=\"M-198.228805743157,26.55824869304685 A200,200,0,0,0,-118.60253384663126,161.03862569321277 L-126.90471121589546,172.31132949173767 A214.0,214.0,0,0,1,-212.10482214517802,28.417326101560132 Z\" fill=\"#8e44ad\" fill-opacity=\"0.9\" />\n",
       "<path d=\"M-116.98624435206115,162.21657940050343 A200,200,0,0,0,-114.26357258518014,164.1457766135677 L-122.26202266614276,175.63598097651746 A214.0,214.0,0,0,1,-125.17528145670543,173.57173995853867 Z\" fill=\"#e84393\" fill-opacity=\"0.9\" />\n",
       "<path d=\"M-112.61642904551756,165.2801860751491 A200,200,0,0,0,-108.73920792508487,167.85644062658173 L-116.35095247984081,179.60639147044247 A214.0,214.0,0,0,1,-120.4995790787038,176.84979910040954 Z\" fill=\"#d35400\" fill-opacity=\"0.9\" />\n",
       "<path d=\"M-107.05523457966426,168.93542183063047 A200,200,0,0,0,-85.9529043343639,180.58820071224943 L-91.96960763776937,193.22937476210691 A214.0,214.0,0,0,1,-114.54910100024077,180.76090135877462 Z\" fill=\"#c0392b\" fill-opacity=\"0.9\" />\n",
       "<path d=\"M-84.14275481572126,181.43868609538984 A200,200,0,0,0,-45.65575042800466,194.71916303449888 L-48.85165295796499,208.3495044469138 A214.0,214.0,0,0,1,-90.03274765282175,194.13939412206713 Z\" fill=\"#34495e\" fill-opacity=\"0.9\" />\n",
       "<path d=\"M-43.70630848219306,195.1659770525062 A200,200,0,0,0,31.443862539582764,197.51274264864995 L33.64493291735356,211.33863463405547 A214.0,214.0,0,0,1,-46.76575007594658,208.82759544618165 Z\" fill=\"#e91e63\" fill-opacity=\"0.9\" />\n",
       "<path d=\"M33.41738486741795,197.18843370903596 A200,200,0,0,0,135.6149448549934,146.9985943197318 L145.10799099484296,157.28849592211304 A214.0,214.0,0,0,1,35.75660180813721,210.9916240686685 Z\" fill=\"#2980b9\" fill-opacity=\"0.9\" />\n",
       "<path d=\"M137.07812560781076,145.63511760509294 A200,200,0,0,0,149.60103637381837,132.7385773461486 L160.07310891998566,142.030277760379 A214.0,214.0,0,0,1,146.67359440035753,155.82957583744945 Z\" fill=\"#1abc9c\" fill-opacity=\"0.9\" />\n",
       "<path d=\"M150.9209200348091,131.2359550422321 A200,200,0,0,0,156.99221153378758,123.90902113135462 L167.98166634115273,132.58265261054945 A214.0,214.0,0,0,1,161.48538443724573,140.42247189518835 Z\" fill=\"#27ae60\" fill-opacity=\"0.9\" />\n",
       "<path d=\"M158.22343154853735,122.33292978182658 A200,200,0,0,0,185.396061707533,75.02199879593064 L198.3737860270603,80.2735387116458 A214.0,214.0,0,0,1,169.29907175693498,130.89623486655444 Z\" fill=\"#2c3e50\" fill-opacity=\"0.9\" />\n",
       "<path d=\"M186.13699946605107,73.16431800936374 A200,200,0,0,0,192.47803645040526,54.33420179036826 L205.95149900193363,58.13759591569404 A214.0,214.0,0,0,1,199.16658942867465,78.2858202700192 Z\" fill=\"#7f8c8d\" fill-opacity=\"0.9\" />\n",
       "<path d=\"M193.01174559103032,52.40673681792626 A200,200,0,0,0,199.24616190615544,17.34839951309923 L213.19339323958633,18.56278747901618 A214.0,214.0,0,0,1,206.52256778240246,56.0752083951811 Z\" fill=\"#f368e0\" fill-opacity=\"0.9\" />\n",
       "<path d=\"M199.4096807848246,15.355103688818156 A200,200,0,0,0,199.6038941584315,12.581154032507257 L213.57616674952172,13.461834814782765 A214.0,214.0,0,0,1,213.36835843976232,16.42996094703543 Z\" fill=\"#c44569\" fill-opacity=\"0.9\" />\n",
       "<path d=\"M199.71972349036815,10.584519305612845 A200,200,0,0,0,199.99000008333306,1.9999666668340497 L213.9893000891664,2.139964333512433 A214.0,214.0,0,0,1,213.70010413469393,11.325435657005745 Z\" fill=\"#6D214F\" fill-opacity=\"0.9\" />\n",
       "<path d=\"M141.23994183193227,-138.76339153866337 A198.0,198.0,0,0,0,112.42132543779023,-162.98909652737652 C44.96853017511609,-65.19563861095061,44.31433624712009,-65.64205666321844,110.78584061780022,-164.10514165804608 A198.0,198.0,0,0,0,77.72101558614175,-182.10832967291395 C31.0884062344567,-72.84333186916558,56.49597673277291,-55.50535661546535,141.23994183193227,-138.76339153866337 Z\" fill=\"url(#UIfQjPyG0)\" fill-opacity=\"0.6\" />\n",
       "<path d=\"M141.58250382299605,-138.41385267093503 A198.0,198.0,0,0,0,141.23994183193227,-138.76339153866337 C56.49597673277291,-55.50535661546535,-15.834731857632773,-77.60091022015702,-39.58682964408193,-194.00227555039254 A198.0,198.0,0,0,0,-40.06624089290708,-193.90383271279487 C-16.026496357162834,-77.56153308511796,56.633001529198424,-55.365541068374014,141.58250382299605,-138.41385267093503 Z\" fill=\"url(#UIfQjPyG1)\" fill-opacity=\"0.6\" />\n",
       "<path d=\"M142.40678663895548,-137.5656465807035 A198.0,198.0,0,0,0,141.58250382299605,-138.41385267093503 C56.633001529198424,-55.365541068374014,-20.37691765710131,-76.53379140481486,-50.94229414275327,-191.33447851203715 A198.0,198.0,0,0,0,-52.08431303203159,-191.02676340236033 C-20.833725212812638,-76.41070536094414,56.9627146555822,-55.0262586322814,142.40678663895548,-137.5656465807035 Z\" fill=\"url(#UIfQjPyG2)\" fill-opacity=\"0.6\" />\n",
       "<path d=\"M142.61913739239924,-137.34548281413535 A198.0,198.0,0,0,0,142.40678663895548,-137.5656465807035 C56.9627146555822,-55.0262586322814,-25.026448316049233,-75.14197817920498,-62.56612079012308,-187.85494544801244 A198.0,198.0,0,0,0,-62.856257118651065,-187.7580649160883 C-25.142502847460428,-75.10322596643532,57.0476549569597,-54.938193125654145,142.61913739239924,-137.34548281413535 Z\" fill=\"url(#UIfQjPyG3)\" fill-opacity=\"0.6\" />\n",
       "<path d=\"M158.47481428347692,-118.70018213051532 A198.0,198.0,0,0,0,142.61913739239924,-137.34548281413535 C57.0476549569597,-54.938193125654145,-38.277528385937465,-69.33592734408153,-95.69382096484367,-173.3398183602038 A198.0,198.0,0,0,0,-116.34889749447984,-160.2090323665274 C-46.53955899779194,-64.08361294661096,63.38992571339077,-47.48007285220613,158.47481428347692,-118.70018213051532 Z\" fill=\"url(#UIfQjPyG4)\" fill-opacity=\"0.6\" />\n",
       "<path d=\"M166.85525618129802,-106.59889063528479 A198.0,198.0,0,0,0,158.47481428347692,-118.70018213051532 C63.38992571339077,-47.48007285220613,-77.30027755394231,-17.242595224718468,-193.25069388485576,-43.10648806179616 A198.0,198.0,0,0,0,-195.9190941374505,-28.630552777772394 C-78.3676376549802,-11.452221111108958,66.7421024725192,-42.63955625411392,166.85525618129802,-106.59889063528479 Z\" fill=\"url(#UIfQjPyG5)\" fill-opacity=\"0.6\" />\n",
       "<path d=\"M184.315755577882,-72.33050701989073 A198.0,198.0,0,0,0,166.85525618129802,-106.59889063528479 C66.7421024725192,-42.63955625411392,-67.09910536272479,42.07552803616324,-167.74776340681194,105.1888200904081 A198.0,198.0,0,0,0,-144.2474771059858,135.63430741725375 C-57.69899084239432,54.253722966901506,73.7263022311528,-28.932202807956294,184.315755577882,-72.33050701989073 Z\" fill=\"url(#UIfQjPyG6)\" fill-opacity=\"0.6\" />\n",
       "<path d=\"M184.44952808736605,-71.98869069755307 A198.0,198.0,0,0,0,184.315755577882,-72.33050701989073 C73.7263022311528,-28.932202807956294,-45.735797547952984,64.65970014354117,-114.33949386988245,161.64925035885292 A198.0,198.0,0,0,0,-114.03962544860906,161.86093978332437 C-45.615850179443626,64.74437591332975,73.77981123494642,-28.79547627902123,184.44952808736605,-71.98869069755307 Z\" fill=\"url(#UIfQjPyG7)\" fill-opacity=\"0.6\" />\n",
       "<path d=\"M184.54574736003647,-71.74166942109439 A198.0,198.0,0,0,0,184.44952808736605,-71.98869069755307 C73.77981123494642,-28.79547627902123,-43.64097411902842,66.09164378302519,-109.10243529757105,165.22910945756297 A198.0,198.0,0,0,0,-108.88111469079047,165.3750370028407 C-43.55244587631619,66.1500148011363,73.81829894401459,-28.696667768437756,184.54574736003647,-71.74166942109439 Z\" fill=\"url(#UIfQjPyG8)\" fill-opacity=\"0.6\" />\n",
       "<path d=\"M185.8228230176012,-68.36576954711519 A198.0,198.0,0,0,0,184.54574736003647,-71.74166942109439 C73.81829894401459,-28.696667768437756,-39.58857458050292,68.59580718005991,-98.9714364512573,171.48951795014975 A198.0,198.0,0,0,0,-95.82900691418308,173.2651189184986 C-38.33160276567323,69.30604756739943,74.32912920704048,-27.34630781884608,185.8228230176012,-68.36576954711519 Z\" fill=\"url(#UIfQjPyG9)\" fill-opacity=\"0.6\" />\n",
       "<path d=\"M188.20399540773036,-61.50817923306626 A198.0,198.0,0,0,0,185.8228230176012,-68.36576954711519 C74.32912920704048,-27.34630781884608,-25.9267849579618,74.83609972295193,-64.8169623949045,187.09024930737982 A198.0,198.0,0,0,0,-57.91529755938565,189.3404824875225 C-23.166119023754263,75.736192995009,75.28159816309214,-24.603271693226503,188.20399540773036,-61.50817923306626 Z\" fill=\"url(#UIfQjPyG10)\" fill-opacity=\"0.6\" />\n",
       "<path d=\"M190.6161850244572,-53.56743419953862 A198.0,198.0,0,0,0,188.20399540773036,-61.50817923306626 C75.28159816309214,-24.603271693226503,1.9728793360647303,79.17542388345849,4.9321983401618255,197.9385597086462 A198.0,198.0,0,0,0,13.222510055231462,197.55800471719516 C5.289004022092585,79.02320188687807,76.24647400978289,-21.426973679815447,190.6161850244572,-53.56743419953862 Z\" fill=\"url(#UIfQjPyG11)\" fill-opacity=\"0.6\" />\n",
       "<path d=\"M197.0787498356551,-19.077902484688295 A198.0,198.0,0,0,0,190.6161850244572,-53.56743419953862 C76.24647400978289,-21.426973679815447,39.381303620475634,68.71501237103806,98.45325905118908,171.78753092759513 A198.0,198.0,0,0,0,127.23180065420067,151.71047723308283 C50.89272026168027,60.684190893233136,78.83149993426204,-7.631160993875318,197.0787498356551,-19.077902484688295 Z\" fill=\"url(#UIfQjPyG12)\" fill-opacity=\"0.6\" />\n",
       "<path d=\"M197.1041163147735,-18.814019553838946 A198.0,198.0,0,0,0,197.0787498356551,-19.077902484688295 C78.83149993426204,-7.631160993875318,58.67560027527118,53.19599545394934,146.68900068817794,132.98998863487333 A198.0,198.0,0,0,0,146.8669275439049,132.7934696956646 C58.74677101756196,53.117387878265845,78.84164652590941,-7.525607821535579,197.1041163147735,-18.814019553838946 Z\" fill=\"url(#UIfQjPyG13)\" fill-opacity=\"0.6\" />\n",
       "<path d=\"M197.75911020102788,-9.763930176814558 A198.0,198.0,0,0,0,197.1041163147735,-18.814019553838946 C78.84164652590941,-7.525607821535579,71.16510902852326,34.758700449792364,177.91277257130815,86.89675112448091 A198.0,198.0,0,0,0,181.7071317866294,78.65442300262906 C72.68285271465176,31.461769201051624,79.10364408041116,-3.9055720707258232,197.75911020102788,-9.763930176814558 Z\" fill=\"url(#UIfQjPyG14)\" fill-opacity=\"0.6\" />\n",
       "<path d=\"M197.90103627512445,-6.25938025940878 A198.0,198.0,0,0,0,197.75911020102788,-9.763930176814558 C79.10364408041116,-3.9055720707258232,75.81642889268026,22.902163870716628,189.54107223170067,57.255409676791565 A198.0,198.0,0,0,0,190.52553089468438,53.88897918219147 C76.21021235787376,21.555591672876588,79.16041451004979,-2.503752103763512,197.90103627512445,-6.25938025940878 Z\" fill=\"url(#UIfQjPyG15)\" fill-opacity=\"0.6\" />\n",
       "<path d=\"M197.99726866595998,-1.0400003940675993 A198.0,198.0,0,0,0,197.90103627512445,-6.25938025940878 C79.16041451004979,-2.503752103763512,78.6929466018709,8.947634051250438,196.73236650467723,22.369085128126095 A198.0,198.0,0,0,0,197.25370028709386,17.17491551796824 C78.90148011483755,6.8699662071872964,79.198907466384,-0.41600015762703973,197.99726866595998,-1.0400003940675993 Z\" fill=\"url(#UIfQjPyG16)\" fill-opacity=\"0.6\" />\n",
       "<path d=\"M197.99823476499228,-0.8360801080033158 A198.0,198.0,0,0,0,197.99726866595998,-1.0400003940675993 C79.198907466384,-0.41600015762703973,79.03796900350672,5.063541823734696,197.59492250876679,12.65885455933674 A198.0,198.0,0,0,0,197.60785521684718,12.455342492182185 C79.04314208673888,4.982136996872875,79.19929390599691,-0.33443204320132636,197.99823476499228,-0.8360801080033158 Z\" fill=\"url(#UIfQjPyG17)\" fill-opacity=\"0.6\" />\n",
       "<path d=\"M198.0,-0.0 A198.0,198.0,0,0,0,197.99823476499228,-0.8360801080033158 C79.19929390599691,-0.33443204320132636,79.19198970960758,1.12639506098249,197.97997427401896,2.815987652456225 A198.0,198.0,0,0,0,197.9901000824997,1.9799670001657093 C79.19604003299989,0.7919868000662837,79.2,-0.0,198.0,-0.0 Z\" fill=\"url(#UIfQjPyG18)\" fill-opacity=\"0.6\" />\n",
       "<path d=\"M-37.28443003112762,-194.45789075595246 A198.0,198.0,0,0,0,-37.46466105861883,-194.42324750852922 C-14.985864423447532,-77.76929900341169,-15.76279516501954,-77.6155544242624,-39.40698791254885,-194.03888606065598 A198.0,198.0,0,0,0,-39.58682964408193,-194.00227555039254 C-15.834731857632773,-77.60091022015702,-14.913772012451048,-77.78315630238099,-37.28443003112762,-194.45789075595246 Z\" fill=\"url(#UIfQjPyG19)\" fill-opacity=\"0.6\" />\n",
       "<path d=\"M-36.422886775456185,-194.6211019364095 A198.0,198.0,0,0,0,-37.28443003112762,-194.45789075595246 C-14.913772012451048,-77.78315630238099,-20.037779727918434,-76.62328225530032,-50.094449319796084,-191.5582056382508 A198.0,198.0,0,0,0,-50.94229414275327,-191.33447851203715 C-20.37691765710131,-76.53379140481486,-14.569154710182474,-77.84844077456381,-36.422886775456185,-194.6211019364095 Z\" fill=\"url(#UIfQjPyG20)\" fill-opacity=\"0.6\" />\n",
       "<path d=\"M-36.28256749112504,-194.64731001545323 A198.0,198.0,0,0,0,-36.422886775456185,-194.6211019364095 C-14.569154710182474,-77.84844077456381,-24.97226907743276,-75.16000117831489,-62.4306726935819,-187.9000029457872 A198.0,198.0,0,0,0,-62.56612079012308,-187.85494544801244 C-25.026448316049233,-75.14197817920498,-14.513026996450018,-77.8589240061813,-36.28256749112504,-194.64731001545323 Z\" fill=\"url(#UIfQjPyG21)\" fill-opacity=\"0.6\" />\n",
       "<path d=\"M-11.908889740596102,-197.6415400292821 A198.0,198.0,0,0,0,-36.28256749112504,-194.64731001545323 C-14.513026996450018,-77.8589240061813,-29.400311069773654,-73.54088460849887,-73.50077767443413,-183.85221152124717 A198.0,198.0,0,0,0,-95.69382096484367,-173.3398183602038 C-38.277528385937465,-69.33592734408153,-4.763555896238441,-79.05661601171285,-11.908889740596102,-197.6415400292821 Z\" fill=\"url(#UIfQjPyG22)\" fill-opacity=\"0.6\" />\n",
       "<path d=\"M-2.0054097322085047,-197.9898440117724 A198.0,198.0,0,0,0,-11.908889740596102,-197.6415400292821 C-4.763555896238441,-79.05661601171285,-76.34076887669495,-21.08855156986947,-190.85192219173737,-52.72137892467367 A198.0,198.0,0,0,0,-193.25069388485576,-43.10648806179616 C-77.30027755394231,-17.242595224718468,-0.802163892883402,-79.19593760470896,-2.0054097322085047,-197.9898440117724 Z\" fill=\"url(#UIfQjPyG23)\" fill-opacity=\"0.6\" />\n",
       "<path d=\"M41.4873921607226,-193.6047424308155 A198.0,198.0,0,0,0,-2.0054097322085047,-197.9898440117724 C-0.802163892883402,-79.19593760470896,-74.69628168186743,26.32689694785761,-186.7407042046686,65.81724236964402 A198.0,198.0,0,0,0,-167.74776340681194,105.1888200904081 C-67.09910536272479,42.07552803616324,16.594956864289042,-77.4418969723262,41.4873921607226,-193.6047424308155 Z\" fill=\"url(#UIfQjPyG24)\" fill-opacity=\"0.6\" />\n",
       "<path d=\"M41.50733152614434,-193.6004685675599 A198.0,198.0,0,0,0,41.4873921607226,-193.6047424308155 C16.594956864289042,-77.4418969723262,-45.74245668573389,64.65498941577331,-114.35614171433473,161.63747353943327 A198.0,198.0,0,0,0,-114.33949386988245,161.64925035885292 C-45.735797547952984,64.65970014354117,16.60293261045774,-77.44018742702396,41.50733152614434,-193.6004685675599 Z\" fill=\"url(#UIfQjPyG25)\" fill-opacity=\"0.6\" />\n",
       "<path d=\"M41.82630135154025,-193.53180750266904 A198.0,198.0,0,0,0,41.50733152614434,-193.6004685675599 C16.60293261045774,-77.44018742702396,-43.74982454482193,66.01963989827041,-109.3745613620548,165.04909974567602 A198.0,198.0,0,0,0,-109.10243529757105,165.22910945756297 C-43.64097411902842,66.09164378302519,16.7305205406161,-77.41272300106762,41.82630135154025,-193.53180750266904 Z\" fill=\"url(#UIfQjPyG26)\" fill-opacity=\"0.6\" />\n",
       "<path d=\"M42.96170231166258,-193.28293285876043 A198.0,198.0,0,0,0,41.82630135154025,-193.53180750266904 C16.7305205406161,-77.41272300106762,-39.99058169508977,68.36222184575594,-99.97645423772443,170.90555461438984 A198.0,198.0,0,0,0,-98.9714364512573,171.48951795014975 C-39.58857458050292,68.59580718005991,17.18468092466503,-77.31317314350417,42.96170231166258,-193.28293285876043 Z\" fill=\"url(#UIfQjPyG27)\" fill-opacity=\"0.6\" />\n",
       "<path d=\"M47.27031176921532,-192.27458913034033 A198.0,198.0,0,0,0,42.96170231166258,-193.28293285876043 C17.18468092466503,-77.31317314350417,-27.59268983918902,74.23801901612352,-68.98172459797254,185.59504754030877 A198.0,198.0,0,0,0,-64.8169623949045,187.09024930737982 C-25.9267849579618,74.83609972295193,18.908124707686127,-76.90983565213614,47.27031176921532,-192.27458913034033 Z\" fill=\"url(#UIfQjPyG28)\" fill-opacity=\"0.6\" />\n",
       "<path d=\"M52.598047367586254,-190.8859487052862 A198.0,198.0,0,0,0,47.27031176921532,-192.27458913034033 C18.908124707686127,-76.90983565213614,-0.2292801565025644,79.19966812184148,-0.573200391256411,197.9991703046037 A198.0,198.0,0,0,0,4.9321983401618255,197.9385597086462 C1.9728793360647303,79.17542388345849,21.039218947034502,-76.35437948211448,52.598047367586254,-190.8859487052862 Z\" fill=\"url(#UIfQjPyG29)\" fill-opacity=\"0.6\" />\n",
       "<path d=\"M69.81160430716598,-185.2844837110212 A198.0,198.0,0,0,0,52.598047367586254,-190.8859487052862 C21.039218947034502,-76.35437948211448,32.94106505246957,72.0244835678047,82.35266263117391,180.06120891951173 A198.0,198.0,0,0,0,98.45325905118908,171.78753092759513 C39.381303620475634,68.71501237103806,27.924641722866394,-74.11379348440849,69.81160430716598,-185.2844837110212 Z\" fill=\"url(#UIfQjPyG30)\" fill-opacity=\"0.6\" />\n",
       "<path d=\"M71.1836247217597,-184.76171565416814 A198.0,198.0,0,0,0,69.81160430716598,-185.2844837110212 C27.924641722866394,-74.11379348440849,58.27952286877655,53.62963000233873,145.69880717194138,134.07407500584682 A198.0,198.0,0,0,0,146.68900068817794,132.98998863487333 C58.67560027527118,53.19599545394934,28.473449888703882,-73.90468626166727,71.1836247217597,-184.76171565416814 Z\" fill=\"url(#UIfQjPyG31)\" fill-opacity=\"0.6\" />\n",
       "<path d=\"M71.77315469147128,-184.533504452807 A198.0,198.0,0,0,0,71.1836247217597,-184.76171565416814 C28.473449888703882,-73.90468626166727,61.849234471171954,49.470316305133885,154.62308617792988,123.67579076283471 A198.0,198.0,0,0,0,155.0171605077642,123.18149190568391 C62.006864203105685,49.272596762273565,28.709261876588513,-73.8134017811228,71.77315469147128,-184.533504452807 Z\" fill=\"url(#UIfQjPyG32)\" fill-opacity=\"0.6\" />\n",
       "<path d=\"M75.29476069584578,-183.1248181207433 A198.0,198.0,0,0,0,71.77315469147128,-184.533504452807 C28.709261876588513,-73.8134017811228,70.4862422386702,36.11550435853701,176.2156055966755,90.28876089634252 A198.0,198.0,0,0,0,177.91277257130815,86.89675112448091 C71.16510902852326,34.758700449792364,30.117904278338315,-73.24992724829733,75.29476069584578,-183.1248181207433 Z\" fill=\"url(#UIfQjPyG33)\" fill-opacity=\"0.6\" />\n",
       "<path d=\"M75.74717611056614,-182.93814613490233 A198.0,198.0,0,0,0,75.29476069584578,-183.1248181207433 C30.117904278338315,-73.24992724829733,75.75958802684231,23.08949592353916,189.39897006710578,57.7237398088479 A198.0,198.0,0,0,0,189.54107223170067,57.255409676791565 C75.81642889268026,22.902163870716628,30.29887044422646,-73.17525845396094,75.74717611056614,-182.93814613490233 Z\" fill=\"url(#UIfQjPyG34)\" fill-opacity=\"0.6\" />\n",
       "<path d=\"M77.38328221672792,-182.25209911923167 A198.0,198.0,0,0,0,75.74717611056614,-182.93814613490233 C30.29887044422646,-73.17525845396094,78.60961583104941,9.652372708035458,196.5240395776235,24.130931770088644 A198.0,198.0,0,0,0,196.73236650467723,22.369085128126095 C78.6929466018709,8.947634051250438,30.95331288669117,-72.90083964769268,77.38328221672792,-182.25209911923167 Z\" fill=\"url(#UIfQjPyG35)\" fill-opacity=\"0.6\" />\n",
       "<path d=\"M77.43958961141038,-182.22818102811743 A198.0,198.0,0,0,0,77.38328221672792,-182.25209911923167 C30.95331288669117,-72.90083964769268,79.0364007300598,5.087962228378251,197.59100182514948,12.719905570945626 A198.0,198.0,0,0,0,197.59492250876679,12.65885455933674 C79.03796900350672,5.063541823734696,30.975835844564156,-72.89127241124697,77.43958961141038,-182.22818102811743 Z\" fill=\"url(#UIfQjPyG36)\" fill-opacity=\"0.6\" />\n",
       "<path d=\"M77.72101558614175,-182.10832967291395 A198.0,198.0,0,0,0,77.43958961141038,-182.22818102811743 C30.975835844564156,-72.89127241124697,79.19015507808194,1.2487348434850496,197.97538769520486,3.1218371087126235 A198.0,198.0,0,0,0,197.97997427401896,2.815987652456225 C79.19198970960758,1.12639506098249,31.0884062344567,-72.84333186916558,77.72101558614175,-182.10832967291395 Z\" fill=\"url(#UIfQjPyG37)\" fill-opacity=\"0.6\" />\n",
       "<path d=\"M-47.345210900214774,-192.2561598618213 A198.0,198.0,0,0,0,-47.760914401362704,-192.15331133120165 C-19.104365760545083,-76.86132453248067,-19.872010985385284,-76.66644102471906,-49.680027463463205,-191.66610256179766 A198.0,198.0,0,0,0,-50.094449319796084,-191.5582056382508 C-20.037779727918434,-76.62328225530032,-18.93808436008591,-76.90246394472852,-47.345210900214774,-192.2561598618213 Z\" fill=\"url(#UIfQjPyG38)\" fill-opacity=\"0.6\" />\n",
       "<path d=\"M-47.32540995580296,-192.26103498243003 A198.0,198.0,0,0,0,-47.345210900214774,-192.2561598618213 C-18.93808436008591,-76.90246394472852,-24.964528126002786,-75.16257270374676,-62.41132031500696,-187.90643175936688 A198.0,198.0,0,0,0,-62.4306726935819,-187.9000029457872 C-24.97226907743276,-75.16000117831489,-18.930163982321186,-76.90441399297202,-47.32540995580296,-192.26103498243003 Z\" fill=\"url(#UIfQjPyG39)\" fill-opacity=\"0.6\" />\n",
       "<path d=\"M-46.05711455326972,-192.56879861241018 A198.0,198.0,0,0,0,-47.32540995580296,-192.26103498243003 C-18.930163982321186,-76.90441399297202,-28.9149357927682,-73.73307594356886,-72.2873394819205,-184.33268985892215 A198.0,198.0,0,0,0,-73.50077767443413,-183.85221152124717 C-29.400311069773654,-73.54088460849887,-18.422845821307888,-77.02751944496407,-46.05711455326972,-192.56879861241018 Z\" fill=\"url(#UIfQjPyG40)\" fill-opacity=\"0.6\" />\n",
       "<path d=\"M-44.90599191981797,-192.84048301561901 A198.0,198.0,0,0,0,-46.05711455326972,-192.56879861241018 C-18.422845821307888,-77.02751944496407,-76.21343536393081,-21.544193417901308,-190.53358840982702,-53.860483544753265 A198.0,198.0,0,0,0,-190.85192219173737,-52.72137892467367 C-76.34076887669495,-21.08855156986947,-17.96239676792719,-77.13619320624761,-44.90599191981797,-192.84048301561901 Z\" fill=\"url(#UIfQjPyG41)\" fill-opacity=\"0.6\" />\n",
       "<path d=\"M-44.309952316396554,-192.97830998772548 A198.0,198.0,0,0,0,-44.90599191981797,-192.84048301561901 C-17.96239676792719,-77.13619320624761,-74.77726817413887,26.095979851557964,-186.94317043534716,65.2399496288949 A198.0,198.0,0,0,0,-186.7407042046686,65.81724236964402 C-74.69628168186743,26.32689694785761,-17.72398092655862,-77.1913239950902,-44.309952316396554,-192.97830998772548 Z\" fill=\"url(#UIfQjPyG42)\" fill-opacity=\"0.6\" />\n",
       "<path d=\"M-44.270201239754,-192.9874329644075 A198.0,198.0,0,0,0,-44.309952316396554,-192.97830998772548 C-17.72398092655862,-77.1913239950902,-45.755773505628525,64.6455659028647,-114.38943376407131,161.61391475716175 A198.0,198.0,0,0,0,-114.35614171433473,161.63747353943327 C-45.74245668573389,64.65498941577331,-17.7080804959016,-77.194973185763,-44.270201239754,-192.9874329644075 Z\" fill=\"url(#UIfQjPyG43)\" fill-opacity=\"0.6\" />\n",
       "<path d=\"M-44.250324996953765,-192.99199138219174 A198.0,198.0,0,0,0,-44.270201239754,-192.9874329644075 C-17.7080804959016,-77.194973185763,-43.756623754967855,66.01513370103997,-109.39155938741963,165.0378342525999 A198.0,198.0,0,0,0,-109.3745613620548,165.04909974567602 C-43.74982454482193,66.01963989827041,-17.700129998781506,-77.1967965528767,-44.250324996953765,-192.99199138219174 Z\" fill=\"url(#UIfQjPyG44)\" fill-opacity=\"0.6\" />\n",
       "<path d=\"M-43.17631640200875,-193.23510473501867 A198.0,198.0,0,0,0,-44.250324996953765,-192.99199138219174 C-17.700129998781506,-77.1967965528767,-40.37015947747857,68.13875713397587,-100.92539869369642,170.34689283493967 A198.0,198.0,0,0,0,-99.97645423772443,170.90555461438984 C-39.99058169508977,68.36222184575594,-17.2705265608035,-77.29404189400748,-43.17631640200875,-193.23510473501867 Z\" fill=\"url(#UIfQjPyG45)\" fill-opacity=\"0.6\" />\n",
       "<path d=\"M-42.83792462388461,-193.31040379120412 A198.0,198.0,0,0,0,-43.17631640200875,-193.23510473501867 C-17.2705265608035,-77.29404189400748,-27.72262715052618,74.18959457951573,-69.30656787631544,185.4739864487893 A198.0,198.0,0,0,0,-68.98172459797254,185.59504754030877 C-27.59268983918902,74.23801901612352,-17.135169849553844,-77.32416151648165,-42.83792462388461,-193.31040379120412 Z\" fill=\"url(#UIfQjPyG46)\" fill-opacity=\"0.6\" />\n",
       "<path d=\"M-42.539234555841375,-193.3763520273436 A198.0,198.0,0,0,0,-42.83792462388461,-193.31040379120412 C-17.135169849553844,-77.32416151648165,-0.35163287166903673,79.19921940476158,-0.8790821791725918,197.99804851190393 A198.0,198.0,0,0,0,-0.573200391256411,197.9991703046037 C-0.2292801565025644,79.19966812184148,-17.01569382233655,-77.35054081093745,-42.539234555841375,-193.3763520273436 Z\" fill=\"url(#UIfQjPyG47)\" fill-opacity=\"0.6\" />\n",
       "<path d=\"M-41.74223330092415,-193.54995726956702 A198.0,198.0,0,0,0,-42.539234555841375,-193.3763520273436 C-17.01569382233655,-77.35054081093745,32.644070831789016,72.15957760082262,81.61017707947254,180.39894400205654 A198.0,198.0,0,0,0,82.35266263117391,180.06120891951173 C32.94106505246957,72.0244835678047,-16.69689332036966,-77.4199829078268,-41.74223330092415,-193.54995726956702 Z\" fill=\"url(#UIfQjPyG48)\" fill-opacity=\"0.6\" />\n",
       "<path d=\"M-41.62262168012005,-193.57571481070036 A198.0,198.0,0,0,0,-41.74223330092415,-193.54995726956702 C-16.69689332036966,-77.4199829078268,58.246371462684614,53.66563342988657,145.61592865671153,134.16408357471641 A198.0,198.0,0,0,0,145.69880717194138,134.07407500584682 C58.27952286877655,53.62963000233873,-16.64904867204802,-77.43028592428016,-41.62262168012005,-193.57571481070036 Z\" fill=\"url(#UIfQjPyG49)\" fill-opacity=\"0.6\" />\n",
       "<path d=\"M-41.56280990662712,-193.5885658624124 A198.0,198.0,0,0,0,-41.62262168012005,-193.57571481070036 C-16.64904867204802,-77.43028592428016,61.83394649691642,49.48942372483719,154.58486624229104,123.72355931209296 A198.0,198.0,0,0,0,154.62308617792988,123.67579076283471 C61.849234471171954,49.470316305133885,-16.62512396265085,-77.43542634496497,-41.56280990662712,-193.5885658624124 Z\" fill=\"url(#UIfQjPyG50)\" fill-opacity=\"0.6\" />\n",
       "<path d=\"M-40.84476077121945,-193.74133662577495 A198.0,198.0,0,0,0,-41.56280990662712,-193.5885658624124 C-16.62512396265085,-77.43542634496497,70.3518532080619,36.376596187539484,175.87963302015473,90.9414904688487 A198.0,198.0,0,0,0,176.2156055966755,90.28876089634252 C70.4862422386702,36.11550435853701,-16.33790430848778,-77.49653465030998,-40.84476077121945,-193.74133662577495 Z\" fill=\"url(#UIfQjPyG51)\" fill-opacity=\"0.6\" />\n",
       "<path d=\"M-40.34578459520708,-193.8458605836017 A198.0,198.0,0,0,0,-40.84476077121945,-193.74133662577495 C-16.33790430848778,-77.49653465030998,75.69988659433459,23.284483451536595,189.24971648583647,58.21120862884148 A198.0,198.0,0,0,0,189.39897006710578,57.7237398088479 C75.75958802684231,23.08949592353916,-16.138313838082833,-77.53834423344068,-40.34578459520708,-193.8458605836017 Z\" fill=\"url(#UIfQjPyG52)\" fill-opacity=\"0.6\" />\n",
       "<path d=\"M-40.20602319264146,-193.8748970316497 A198.0,198.0,0,0,0,-40.34578459520708,-193.8458605836017 C-16.138313838082833,-77.53834423344068,78.6026366364973,9.709042887472114,196.50659159124322,24.27260721868028 A198.0,198.0,0,0,0,196.5240395776235,24.130931770088644 C78.60961583104941,9.652372708035458,-16.082409277056584,-77.5499588126599,-40.20602319264146,-193.8748970316497 Z\" fill=\"url(#UIfQjPyG53)\" fill-opacity=\"0.6\" />\n",
       "<path d=\"M-40.08621106953417,-193.89970521403265 A198.0,198.0,0,0,0,-40.20602319264146,-193.8748970316497 C-16.082409277056584,-77.5499588126599,79.03324154775947,5.136801578171741,197.58310386939866,12.84200394542935 A198.0,198.0,0,0,0,197.59100182514948,12.719905570945626 C79.0364007300598,5.087962228378251,-16.03448442781367,-77.55988208561307,-40.08621106953417,-193.89970521403265 Z\" fill=\"url(#UIfQjPyG54)\" fill-opacity=\"0.6\" />\n",
       "<path d=\"M-40.06624089290708,-193.90383271279487 A198.0,198.0,0,0,0,-40.08621106953417,-193.89970521403265 C-16.03448442781367,-77.55988208561307,79.19002604938494,1.2568907262504867,197.97506512346234,3.1422268156262163 A198.0,198.0,0,0,0,197.97538769520486,3.1218371087126235 C79.19015507808194,1.2487348434850496,-16.026496357162834,-77.56153308511796,-40.06624089290708,-193.90383271279487 Z\" fill=\"url(#UIfQjPyG55)\" fill-opacity=\"0.6\" />\n",
       "<path d=\"M-59.51867056716153,-188.842600739128 A198.0,198.0,0,0,0,-60.529166774984205,-188.52113931738836 C-24.211666709993683,-75.40845572695535,-28.519642385510593,-73.88687297620997,-71.29910596377648,-184.7171824405249 A198.0,198.0,0,0,0,-72.2873394819205,-184.33268985892215 C-28.9149357927682,-73.73307594356886,-23.807468226864614,-75.5370402956512,-59.51867056716153,-188.842600739128 Z\" fill=\"url(#UIfQjPyG56)\" fill-opacity=\"0.6\" />\n",
       "<path d=\"M-57.04361064167657,-189.60492210109103 A198.0,198.0,0,0,0,-59.51867056716153,-188.842600739128 C-23.807468226864614,-75.5370402956512,-75.92512854072247,-22.539184902626175,-189.81282135180615,-56.34796225656544 A198.0,198.0,0,0,0,-190.53358840982702,-53.860483544753265 C-76.21343536393081,-21.544193417901308,-22.81744425667063,-75.84196884043642,-57.04361064167657,-189.60492210109103 Z\" fill=\"url(#UIfQjPyG57)\" fill-opacity=\"0.6\" />\n",
       "<path d=\"M-56.12514688343024,-189.87882422037845 A198.0,198.0,0,0,0,-57.04361064167657,-189.60492210109103 C-22.81744425667063,-75.84196884043642,-74.90271146890456,25.73370969382445,-187.2567786722614,64.33427423456112 A198.0,198.0,0,0,0,-186.94317043534716,65.2399496288949 C-74.77726817413887,26.095979851557964,-22.450058753372097,-75.95152968815138,-56.12514688343024,-189.87882422037845 Z\" fill=\"url(#UIfQjPyG58)\" fill-opacity=\"0.6\" />\n",
       "<path d=\"M-56.105590737112394,-189.88460360977044 A198.0,198.0,0,0,0,-56.12514688343024,-189.87882422037845 C-22.450058753372097,-75.95152968815138,-45.76243118760104,64.64085311782388,-114.4060779690026,161.60213279455968 A198.0,198.0,0,0,0,-114.38943376407131,161.61391475716175 C-45.755773505628525,64.6455659028647,-22.44223629484496,-75.95384144390817,-56.105590737112394,-189.88460360977044 Z\" fill=\"url(#UIfQjPyG59)\" fill-opacity=\"0.6\" />\n",
       "<path d=\"M-55.98824136889243,-189.91923764700257 A198.0,198.0,0,0,0,-56.105590737112394,-189.88460360977044 C-22.44223629484496,-75.95384144390817,-40.412257922695765,68.11379749793366,-101.0306448067394,170.28449374483415 A198.0,198.0,0,0,0,-100.92539869369642,170.34689283493967 C-40.37015947747857,68.13875713397587,-22.395296547556974,-75.96769505880103,-55.98824136889243,-189.91923764700257 Z\" fill=\"url(#UIfQjPyG60)\" fill-opacity=\"0.6\" />\n",
       "<path d=\"M-55.44032902242521,-190.079904034817 A198.0,198.0,0,0,0,-55.98824136889243,-189.91923764700257 C-22.395296547556974,-75.96769505880103,-27.936456101300685,74.10934098006878,-69.84114025325171,185.27335245017193 A198.0,198.0,0,0,0,-69.30656787631544,185.4739864487893 C-27.72262715052618,74.18959457951573,-22.176131608970085,-76.0319616139268,-55.44032902242521,-190.079904034817 Z\" fill=\"url(#UIfQjPyG61)\" fill-opacity=\"0.6\" />\n",
       "<path d=\"M-54.85276858318475,-190.25029245380827 A198.0,198.0,0,0,0,-55.44032902242521,-190.079904034817 C-22.176131608970085,-76.0319616139268,-0.596335492355994,79.19775491755153,-1.490838730889985,197.99438729387882 A198.0,198.0,0,0,0,-0.8790821791725918,197.99804851190393 C-0.35163287166903673,79.19921940476158,-21.9411074332739,-76.10011698152331,-54.85276858318475,-190.25029245380827 Z\" fill=\"url(#UIfQjPyG62)\" fill-opacity=\"0.6\" />\n",
       "<path d=\"M-53.656453442291486,-190.5911461846935 A198.0,198.0,0,0,0,-54.85276858318475,-190.25029245380827 C-21.9411074332739,-76.10011698152331,32.19008968835413,72.36323739203297,80.47522422088532,180.9080934800824 A198.0,198.0,0,0,0,81.61017707947254,180.39894400205654 C32.644070831789016,72.15957760082262,-21.462581376916596,-76.2364584738774,-53.656453442291486,-190.5911461846935 Z\" fill=\"url(#UIfQjPyG63)\" fill-opacity=\"0.6\" />\n",
       "<path d=\"M-53.28339592973839,-190.69577792440694 A198.0,198.0,0,0,0,-53.656453442291486,-190.5911461846935 C-21.462581376916596,-76.2364584738774,58.141245335757446,53.77950902348647,145.35311333939362,134.44877255871617 A198.0,198.0,0,0,0,145.61592865671153,134.16408357471641 C58.246371462684614,53.66563342988657,-21.313358371895358,-76.27831116976277,-53.28339592973839,-190.69577792440694 Z\" fill=\"url(#UIfQjPyG64)\" fill-opacity=\"0.6\" />\n",
       "<path d=\"M-53.22447342413578,-190.71223198506033 A198.0,198.0,0,0,0,-53.28339592973839,-190.69577792440694 C-21.313358371895358,-76.27831116976277,61.81865261970225,49.50852642004791,154.5466315492556,123.77131605011976 A198.0,198.0,0,0,0,154.58486624229104,123.72355931209296 C61.83394649691642,49.48942372483719,-21.289789369654315,-76.28489279402413,-53.22447342413578,-190.71223198506033 Z\" fill=\"url(#UIfQjPyG65)\" fill-opacity=\"0.6\" />\n",
       "<path d=\"M-52.63496983828987,-190.87577098763037 A198.0,198.0,0,0,0,-53.22447342413578,-190.71223198506033 C-21.289789369654315,-76.28489279402413,70.23912349828193,36.59379086939614,175.5978087457048,91.48447717349033 A198.0,198.0,0,0,0,175.87963302015473,90.9414904688487 C70.3518532080619,36.376596187539484,-21.05398793531595,-76.35030839505215,-52.63496983828987,-190.87577098763037 Z\" fill=\"url(#UIfQjPyG66)\" fill-opacity=\"0.6\" />\n",
       "<path d=\"M-52.12366007946849,-191.0160308977234 A198.0,198.0,0,0,0,-52.63496983828987,-190.87577098763037 C-21.05398793531595,-76.35030839505215,75.6372647460295,23.487106712812533,189.09316186507374,58.717766782031326 A198.0,198.0,0,0,0,189.24971648583647,58.21120862884148 C75.69988659433459,23.284483451536595,-20.8494640317874,-76.40641235908936,-52.12366007946849,-191.0160308977234 Z\" fill=\"url(#UIfQjPyG67)\" fill-opacity=\"0.6\" />\n",
       "<path d=\"M-52.08431303203159,-191.02676340236033 A198.0,198.0,0,0,0,-52.12366007946849,-191.0160308977234 C-20.8494640317874,-76.40641235908936,78.6006350769756,9.725233441728403,196.50158769243902,24.313083604321005 A198.0,198.0,0,0,0,196.50659159124322,24.27260721868028 C78.6026366364973,9.709042887472114,-20.833725212812638,-76.41070536094414,-52.08431303203159,-191.02676340236033 Z\" fill=\"url(#UIfQjPyG68)\" fill-opacity=\"0.6\" />\n",
       "<path d=\"M-66.8445179595219,-186.37545551589983 A198.0,198.0,0,0,0,-68.14813022523977,-185.9027497021057 C-27.25925209009591,-74.36109988084227,-28.001487744203132,-74.08479387911693,-70.00371936050783,-185.21198469779233 A198.0,198.0,0,0,0,-71.29910596377648,-184.7171824405249 C-28.519642385510593,-73.88687297620997,-26.73780718380876,-74.55018220635993,-66.8445179595219,-186.37545551589983 Z\" fill=\"url(#UIfQjPyG69)\" fill-opacity=\"0.6\" />\n",
       "<path d=\"M-65.36441403152337,-186.8996880102147 A198.0,198.0,0,0,0,-66.8445179595219,-186.37545551589983 C-26.73780718380876,-74.55018220635993,-75.74399995085206,-23.14058062031554,-189.35999987713015,-57.851451550788845 A198.0,198.0,0,0,0,-189.81282135180615,-56.34796225656544 C-75.92512854072247,-22.539184902626175,-26.14576561260935,-74.75987520408589,-65.36441403152337,-186.8996880102147 Z\" fill=\"url(#UIfQjPyG70)\" fill-opacity=\"0.6\" />\n",
       "<path d=\"M-64.88297230033949,-187.0673672917684 A198.0,198.0,0,0,0,-65.36441403152337,-186.8996880102147 C-26.14576561260935,-74.75987520408589,-74.96872175585462,25.540766595645714,-187.42180438963652,63.85191648911428 A198.0,198.0,0,0,0,-187.2567786722614,64.33427423456112 C-74.90271146890456,25.73370969382445,-25.953188920135798,-74.82694691670736,-64.88297230033949,-187.0673672917684 Z\" fill=\"url(#UIfQjPyG71)\" fill-opacity=\"0.6\" />\n",
       "<path d=\"M-64.86370566290675,-187.0740486750522 A198.0,198.0,0,0,0,-64.88297230033949,-187.0673672917684 C-25.953188920135798,-74.82694691670736,-45.76908838416284,64.63613964712536,-114.4227209604071,161.5903491178134 A198.0,198.0,0,0,0,-114.4060779690026,161.60213279455968 C-45.76243118760104,64.64085311782388,-25.945482265162703,-74.82961947002089,-64.86370566290675,-187.0740486750522 Z\" fill=\"url(#UIfQjPyG72)\" fill-opacity=\"0.6\" />\n",
       "<path d=\"M-64.8444383374525,-187.0807280740064 A198.0,198.0,0,0,0,-64.86370566290675,-187.0740486750522 C-25.945482265162703,-74.82961947002089,-43.76342250097906,66.0106268035746,-109.40855625244764,165.02656700893647 A198.0,198.0,0,0,0,-109.39155938741963,165.0378342525999 C-43.756623754967855,66.01513370103997,-25.937775334981,-74.83229122960256,-64.8444383374525,-187.0807280740064 Z\" fill=\"url(#UIfQjPyG73)\" fill-opacity=\"0.6\" />\n",
       "<path d=\"M-64.74809139701168,-187.1140953013541 A198.0,198.0,0,0,0,-64.8444383374525,-187.0807280740064 C-25.937775334981,-74.83229122960256,-40.447328172897556,68.09297793219156,-101.11832043224389,170.2324448304789 A198.0,198.0,0,0,0,-101.0306448067394,170.28449374483415 C-40.412257922695765,68.11379749793366,-25.899236558804674,-74.84563812054164,-64.74809139701168,-187.1140953013541 Z\" fill=\"url(#UIfQjPyG74)\" fill-opacity=\"0.6\" />\n",
       "<path d=\"M-64.61317684072145,-187.16072605797845 A198.0,198.0,0,0,0,-64.74809139701168,-187.1140953013541 C-25.899236558804674,-74.84563812054164,-27.989877108351035,74.08918125785577,-69.97469277087758,185.22295314463943 A198.0,198.0,0,0,0,-69.84114025325171,185.27335245017193 C-27.936456101300685,74.10934098006878,-25.845270736288583,-74.86429042319138,-64.61317684072145,-187.16072605797845 Z\" fill=\"url(#UIfQjPyG75)\" fill-opacity=\"0.6\" />\n",
       "<path d=\"M-64.40110042821232,-187.23380641229113 A198.0,198.0,0,0,0,-64.61317684072145,-187.16072605797845 C-25.845270736288583,-74.86429042319138,32.10808850214085,72.39965920319439,80.27022125535213,180.99914800798598 A198.0,198.0,0,0,0,80.47522422088532,180.9080934800824 C32.19008968835413,72.36323739203297,-25.760440171284927,-74.89352256491645,-64.40110042821232,-187.23380641229113 Z\" fill=\"url(#UIfQjPyG76)\" fill-opacity=\"0.6\" />\n",
       "<path d=\"M-64.38181665156992,-187.2404381661281 A198.0,198.0,0,0,0,-64.40110042821232,-187.23380641229113 C-25.760440171284927,-74.89352256491645,58.13570621103425,53.785496775100206,145.3392655275856,134.4637419377505 A198.0,198.0,0,0,0,145.35311333939362,134.44877255871617 C58.141245335757446,53.77950902348647,-25.75272666062797,-74.89617526645124,-64.38181665156992,-187.2404381661281 Z\" fill=\"url(#UIfQjPyG77)\" fill-opacity=\"0.6\" />\n",
       "<path d=\"M-64.30467471794539,-187.26694531982744 A198.0,198.0,0,0,0,-64.38181665156992,-187.2404381661281 C-25.75272666062797,-74.89617526645124,61.79825160356012,49.5339893279663,154.4956290089003,123.83497331991575 A198.0,198.0,0,0,0,154.5466315492556,123.77131605011976 C61.81865261970225,49.50852642004791,-25.72186988717816,-74.90677812793098,-64.30467471794539,-187.26694531982744 Z\" fill=\"url(#UIfQjPyG78)\" fill-opacity=\"0.6\" />\n",
       "<path d=\"M-63.86089721249718,-187.41874454604286 A198.0,198.0,0,0,0,-64.30467471794539,-187.26694531982744 C-25.72186988717816,-74.90677812793098,70.15224322926203,36.760070319607124,175.38060807315506,91.9001757990178 A198.0,198.0,0,0,0,175.5978087457048,91.48447717349033 C70.23912349828193,36.59379086939614,-25.54435888499887,-74.96749781841714,-63.86089721249718,-187.41874454604286 Z\" fill=\"url(#UIfQjPyG79)\" fill-opacity=\"0.6\" />\n",
       "<path d=\"M-63.802986718827306,-187.43846693183644 A198.0,198.0,0,0,0,-63.86089721249718,-187.41874454604286 C-25.54435888499887,-74.96749781841714,75.6300042396167,23.51047551019677,189.07501059904172,58.776188775491924 A198.0,198.0,0,0,0,189.09316186507374,58.717766782031326 C75.6372647460295,23.487106712812533,-25.521194687530922,-74.97538677273458,-63.802986718827306,-187.43846693183644 Z\" fill=\"url(#UIfQjPyG80)\" fill-opacity=\"0.6\" />\n",
       "<path d=\"M-63.12691569336939,-187.667238789945 A198.0,198.0,0,0,0,-63.802986718827306,-187.43846693183644 C-25.521194687530922,-74.97538677273458,79.01421152889378,5.421658092062761,197.53552882223445,13.554145230156902 A198.0,198.0,0,0,0,197.58310386939866,12.84200394542935 C79.03324154775947,5.136801578171741,-25.250766277347758,-75.066895515978,-63.12691569336939,-187.667238789945 Z\" fill=\"url(#UIfQjPyG81)\" fill-opacity=\"0.6\" />\n",
       "<path d=\"M-62.856257118651065,-187.7580649160883 A198.0,198.0,0,0,0,-63.12691569336939,-187.667238789945 C-25.250766277347758,-75.066895515978,79.18813144999862,1.371071645736003,197.97032862499654,3.427679114340007 A198.0,198.0,0,0,0,197.97506512346234,3.1422268156262163 C79.19002604938494,1.2568907262504867,-25.142502847460428,-75.10322596643532,-62.856257118651065,-187.7580649160883 Z\" fill=\"url(#UIfQjPyG82)\" fill-opacity=\"0.6\" />\n",
       "<path d=\"M-183.58377761298988,-74.16870362453612 A198.0,198.0,0,0,0,-186.31758598607584,-67.0056501522165 C-74.52703439443034,-26.802260060886603,-74.79132620735129,-26.05566203621714,-186.97831551837822,-65.13915509054284 A198.0,198.0,0,0,0,-189.35999987713015,-57.851451550788845 C-75.74399995085206,-23.14058062031554,-73.43351104519596,-29.66748144981445,-183.58377761298988,-74.16870362453612 Z\" fill=\"url(#UIfQjPyG83)\" fill-opacity=\"0.6\" />\n",
       "<path d=\"M-170.4950779218578,-100.67486480954234 A198.0,198.0,0,0,0,-183.58377761298988,-74.16870362453612 C-73.43351104519596,-29.66748144981445,-77.93579095982514,14.094413342400555,-194.83947739956284,35.236033356001386 A198.0,198.0,0,0,0,-187.42180438963652,63.85191648911428 C-74.96872175585462,25.540766595645714,-68.19803116874313,-40.26994592381694,-170.4950779218578,-100.67486480954234 Z\" fill=\"url(#UIfQjPyG84)\" fill-opacity=\"0.6\" />\n",
       "<path d=\"M-170.01620957082667,-101.4814686687611 A198.0,198.0,0,0,0,-170.4950779218578,-100.67486480954234 C-68.19803116874313,-40.26994592381694,-46.07479347668477,64.41857966519323,-115.18698369171192,161.0464491629831 A198.0,198.0,0,0,0,-114.4227209604071,161.5903491178134 C-45.76908838416284,64.63613964712536,-68.00648382833067,-40.592587467504444,-170.01620957082667,-101.4814686687611 Z\" fill=\"url(#UIfQjPyG85)\" fill-opacity=\"0.6\" />\n",
       "<path d=\"M-169.0682664714259,-103.05300224810014 A198.0,198.0,0,0,0,-170.01620957082667,-101.4814686687611 C-68.00648382833067,-40.592587467504444,-44.3733999677594,65.602144593765,-110.93349991939849,164.0053614844125 A198.0,198.0,0,0,0,-109.40855625244764,165.02656700893647 C-43.76342250097906,66.0106268035746,-67.62730658857036,-41.22120089924006,-169.0682664714259,-103.05300224810014 Z\" fill=\"url(#UIfQjPyG86)\" fill-opacity=\"0.6\" />\n",
       "<path d=\"M-168.18117520276493,-104.49446065422266 A198.0,198.0,0,0,0,-169.0682664714259,-103.05300224810014 C-67.62730658857036,-41.22120089924006,-41.02792044560206,67.74473960322935,-102.56980111400513,169.36184900807336 A198.0,198.0,0,0,0,-101.11832043224389,170.2324448304789 C-40.447328172897556,68.09297793219156,-67.27247008110598,-41.79778426168907,-168.18117520276493,-104.49446065422266 Z\" fill=\"url(#UIfQjPyG87)\" fill-opacity=\"0.6\" />\n",
       "<path d=\"M-165.19954653311387,-109.14719339155518 A198.0,198.0,0,0,0,-168.18117520276493,-104.49446065422266 C-67.27247008110598,-41.79778426168907,-30.04658195986869,73.27921200810565,-75.11645489967172,183.1980300202641 A198.0,198.0,0,0,0,-69.97469277087758,185.22295314463943 C-27.989877108351035,74.08918125785577,-66.07981861324555,-43.65887735662207,-165.19954653311387,-109.14719339155518 Z\" fill=\"url(#UIfQjPyG88)\" fill-opacity=\"0.6\" />\n",
       "<path d=\"M-154.1192884831801,-124.3030366380416 A198.0,198.0,0,0,0,-165.19954653311387,-109.14719339155518 C-66.07981861324555,-43.65887735662207,-8.094689589897175,78.78525242990094,-20.236723974742937,196.9631310747523 A198.0,198.0,0,0,0,-1.490838730889985,197.99438729387882 C-0.596335492355994,79.19775491755153,-61.647715393272044,-49.72121465521664,-154.1192884831801,-124.3030366380416 Z\" fill=\"url(#UIfQjPyG89)\" fill-opacity=\"0.6\" />\n",
       "<path d=\"M-142.44891307750768,-137.52202428351856 A198.0,198.0,0,0,0,-154.1192884831801,-124.3030366380416 C-61.647715393272044,-49.72121465521664,25.539390324599793,74.96919061753128,63.84847581149948,187.42297654382818 A198.0,198.0,0,0,0,80.27022125535213,180.99914800798598 C32.10808850214085,72.39965920319439,-56.97956523100308,-55.00880971340743,-142.44891307750768,-137.52202428351856 Z\" fill=\"url(#UIfQjPyG90)\" fill-opacity=\"0.6\" />\n",
       "<path d=\"M-137.3561475028369,-142.6088662853012 A198.0,198.0,0,0,0,-142.44891307750768,-137.52202428351856 C-56.97956523100308,-55.00880971340743,56.14230083994023,55.86306522558216,140.35575209985058,139.6576630639554 A198.0,198.0,0,0,0,145.3392655275856,134.4637419377505 C58.13570621103425,53.785496775100206,-54.942459001134765,-57.04354651412048,-137.3561475028369,-142.6088662853012 Z\" fill=\"url(#UIfQjPyG91)\" fill-opacity=\"0.6\" />\n",
       "<path d=\"M-134.53941108779068,-145.26922201261513 A198.0,198.0,0,0,0,-137.3561475028369,-142.6088662853012 C-54.942459001134765,-57.04354651412048,60.8171845766135,50.73371719255474,152.04296144153375,126.83429298138685 A198.0,198.0,0,0,0,154.4956290089003,123.83497331991575 C61.79825160356012,49.5339893279663,-53.81576443511628,-58.10768880504605,-134.53941108779068,-145.26922201261513 Z\" fill=\"url(#UIfQjPyG92)\" fill-opacity=\"0.6\" />\n",
       "<path d=\"M-127.39952076134011,-151.56966091464633 A198.0,198.0,0,0,0,-134.53941108779068,-145.26922201261513 C-53.81576443511628,-58.10768880504605,68.30375334625859,40.09036391470485,170.75938336564647,100.22590978676212 A198.0,198.0,0,0,0,175.38060807315506,91.9001757990178 C70.15224322926203,36.760070319607124,-50.95980830453605,-60.627864365858535,-127.39952076134011,-151.56966091464633 Z\" fill=\"url(#UIfQjPyG93)\" fill-opacity=\"0.6\" />\n",
       "<path d=\"M-127.07140586554637,-151.84484782617287 A198.0,198.0,0,0,0,-127.39952076134011,-151.56966091464633 C-50.95980830453605,-60.627864365858535,75.57897857376734,23.673994123214996,188.94744643441834,59.18498530803749 A198.0,198.0,0,0,0,189.07501059904172,58.776188775491924 C75.6300042396167,23.51047551019677,-50.82856234621855,-60.73793913046915,-127.07140586554637,-151.84484782617287 Z\" fill=\"url(#UIfQjPyG94)\" fill-opacity=\"0.6\" />\n",
       "<path d=\"M-117.66494303957461,-159.2449722267352 A198.0,198.0,0,0,0,-127.07140586554637,-151.84484782617287 C-50.82856234621855,-60.73793913046915,77.86945072743845,14.456439513484534,194.67362681859612,36.141098783711335 A198.0,198.0,0,0,0,196.50158769243902,24.313083604321005 C78.6006350769756,9.725233441728403,-47.06597721582985,-63.697988890694084,-117.66494303957461,-159.2449722267352 Z\" fill=\"url(#UIfQjPyG95)\" fill-opacity=\"0.6\" />\n",
       "<path d=\"M-117.2709640360263,-159.53532835726708 A198.0,198.0,0,0,0,-117.66494303957461,-159.2449722267352 C-47.06597721582985,-63.697988890694084,79.00056897025858,5.616947781083449,197.50142242564644,14.042369452708622 A198.0,198.0,0,0,0,197.53552882223445,13.554145230156902 C79.01421152889378,5.421658092062761,-46.90838561441052,-63.81413134290683,-117.2709640360263,-159.53532835726708 Z\" fill=\"url(#UIfQjPyG96)\" fill-opacity=\"0.6\" />\n",
       "<path d=\"M-116.34889749447984,-160.2090323665274 A198.0,198.0,0,0,0,-117.2709640360263,-159.53532835726708 C-46.90838561441052,-63.81413134290683,79.17890676899187,1.8277644452430466,197.94726692247966,4.569411113107616 A198.0,198.0,0,0,0,197.97032862499654,3.427679114340007 C79.18813144999862,1.371071645736003,-46.53955899779194,-64.08361294661096,-116.34889749447984,-160.2090323665274 Z\" fill=\"url(#UIfQjPyG97)\" fill-opacity=\"0.6\" />\n",
       "<path d=\"M-197.4063448287176,15.321064628981725 A198.0,198.0,0,0,0,-196.4996277215823,24.328919114493512 C-78.59985108863293,9.731567645797405,-78.49860707429018,10.517066482446552,-196.24651768572542,26.29266620611638 A198.0,198.0,0,0,0,-194.83947739956284,35.236033356001386 C-77.93579095982514,14.094413342400555,-78.96253793148705,6.128425851592691,-197.4063448287176,15.321064628981725 Z\" fill=\"url(#UIfQjPyG98)\" fill-opacity=\"0.6\" />\n",
       "<path d=\"M-197.44666334018763,14.792401286694668 A198.0,198.0,0,0,0,-197.4063448287176,15.321064628981725 C-78.96253793148705,6.128425851592691,-46.24712630570269,64.29497109778013,-115.61781576425673,160.73742774445032 A198.0,198.0,0,0,0,-115.18698369171192,161.0464491629831 C-46.07479347668477,64.41857966519323,-78.97866533607505,5.916960514677868,-197.44666334018763,14.792401286694668 Z\" fill=\"url(#UIfQjPyG99)\" fill-opacity=\"0.6\" />\n",
       "<path d=\"M-197.46028990184155,14.609377532279998 A198.0,198.0,0,0,0,-197.44666334018763,14.792401286694668 C-78.97866533607505,5.916960514677868,-44.43418889124197,65.5609857886337,-111.08547222810492,163.90246447158424 A198.0,198.0,0,0,0,-110.93349991939849,164.0053614844125 C-44.3733999677594,65.602144593765,-78.98411596073663,5.843751012912,-197.46028990184155,14.609377532279998 Z\" fill=\"url(#UIfQjPyG100)\" fill-opacity=\"0.6\" />\n",
       "<path d=\"M-197.5885376915896,12.75812575965896 A198.0,198.0,0,0,0,-197.46028990184155,14.609377532279998 C-78.98411596073663,5.843751012912,-41.66102647395022,67.35724811137119,-104.15256618487555,168.39312027842797 A198.0,198.0,0,0,0,-102.56980111400513,169.36184900807336 C-41.02792044560206,67.74473960322935,-79.03541507663584,5.103250303863584,-197.5885376915896,12.75812575965896 Z\" fill=\"url(#UIfQjPyG101)\" fill-opacity=\"0.6\" />\n",
       "<path d=\"M-197.803993270608,8.807964929611034 A198.0,198.0,0,0,0,-197.5885376915896,12.75812575965896 C-79.03541507663584,5.103250303863584,-31.50462743071339,72.66428593505852,-78.76156857678347,181.66071483764628 A198.0,198.0,0,0,0,-75.11645489967172,183.1980300202641 C-30.04658195986869,73.27921200810565,-79.12159730824321,3.5231859718444136,-197.803993270608,8.807964929611034 Z\" fill=\"url(#UIfQjPyG102)\" fill-opacity=\"0.6\" />\n",
       "<path d=\"M-197.96638044121042,-3.6485908246803342 A198.0,198.0,0,0,0,-197.803993270608,8.807964929611034 C-79.12159730824321,3.5231859718444136,-13.033165331008256,78.12027010612934,-32.582913327520636,195.30067526532335 A198.0,198.0,0,0,0,-20.236723974742937,196.9631310747523 C-8.094689589897175,78.78525242990094,-79.18655217648417,-1.4594363298721338,-197.96638044121042,-3.6485908246803342 Z\" fill=\"url(#UIfQjPyG103)\" fill-opacity=\"0.6\" />\n",
       "<path d=\"M-197.43153835408444,-14.99292043398101 A198.0,198.0,0,0,0,-197.96638044121042,-3.6485908246803342 C-79.18655217648417,-1.4594363298721338,21.199046768798382,76.31015932426232,52.99761692199595,190.7753983106558 A198.0,198.0,0,0,0,63.84847581149948,187.42297654382818 C25.539390324599793,74.96919061753128,-78.97261534163378,-5.997168173592404,-197.43153835408444,-14.99292043398101 Z\" fill=\"url(#UIfQjPyG104)\" fill-opacity=\"0.6\" />\n",
       "<path d=\"M-197.29959459015498,-16.639410282834355 A198.0,198.0,0,0,0,-197.43153835408444,-14.99292043398101 C-78.97261534163378,-5.997168173592404,55.67432692844083,56.32947115911074,139.18581732110206,140.82367789777683 A198.0,198.0,0,0,0,140.35575209985058,139.6576630639554 C56.14230083994023,55.86306522558216,-78.919837836062,-6.655764113133742,-197.29959459015498,-16.639410282834355 Z\" fill=\"url(#UIfQjPyG105)\" fill-opacity=\"0.6\" />\n",
       "<path d=\"M-197.14068667736476,-18.426873212162103 A198.0,198.0,0,0,0,-197.29959459015498,-16.639410282834355 C-78.919837836062,-6.655764113133742,60.35488192259123,51.28282585924913,150.88720480647808,128.2070646481228 A198.0,198.0,0,0,0,152.04296144153375,126.83429298138685 C60.8171845766135,50.73371719255474,-78.85627467094591,-7.370749284864842,-197.14068667736476,-18.426873212162103 Z\" fill=\"url(#UIfQjPyG106)\" fill-opacity=\"0.6\" />\n",
       "<path d=\"M-196.63939550098635,-23.17214139881494 A198.0,198.0,0,0,0,-197.14068667736476,-18.426873212162103 C-78.85627467094591,-7.370749284864842,67.3178367421254,41.72467922417801,168.29459185531348,104.31169806044502 A198.0,198.0,0,0,0,170.75938336564647,100.22590978676212 C68.30375334625859,40.09036391470485,-78.65575820039454,-9.268856559525977,-196.63939550098635,-23.17214139881494 Z\" fill=\"url(#UIfQjPyG107)\" fill-opacity=\"0.6\" />\n",
       "<path d=\"M-196.21178058928774,-26.550652684655578 A198.0,198.0,0,0,0,-196.63939550098635,-23.17214139881494 C-78.65575820039454,-9.268856559525977,75.16063829510078,24.970351440719245,187.90159573775196,62.42587860179811 A198.0,198.0,0,0,0,188.94744643441834,59.18498530803749 C75.57897857376734,23.673994123214996,-78.48471223571511,-10.620261073862231,-196.21178058928774,-26.550652684655578 Z\" fill=\"url(#UIfQjPyG108)\" fill-opacity=\"0.6\" />\n",
       "<path d=\"M-196.08379284649706,-27.479923270126367 A198.0,198.0,0,0,0,-196.21178058928774,-26.550652684655578 C-78.48471223571511,-10.620261073862231,77.80008834177237,14.825189847432583,194.5002208544309,37.06297461858146 A198.0,198.0,0,0,0,194.67362681859612,36.141098783711335 C77.86945072743845,14.456439513484534,-78.43351713859883,-10.991969308050548,-196.08379284649706,-27.479923270126367 Z\" fill=\"url(#UIfQjPyG109)\" fill-opacity=\"0.6\" />\n",
       "<path d=\"M-196.00661968254482,-28.025078779946945 A198.0,198.0,0,0,0,-196.08379284649706,-27.479923270126367 C-78.43351713859883,-10.991969308050548,78.98464415132895,5.836607600990465,197.46161037832235,14.591519002476161 A198.0,198.0,0,0,0,197.50142242564644,14.042369452708622 C79.00056897025858,5.616947781083449,-78.40264787301794,-11.210031511978778,-196.00661968254482,-28.025078779946945 Z\" fill=\"url(#UIfQjPyG110)\" fill-opacity=\"0.6\" />\n",
       "<path d=\"M-195.9190941374505,-28.630552777772394 A198.0,198.0,0,0,0,-196.00661968254482,-28.025078779946945 C-78.40264787301794,-11.210031511978778,79.17288152896238,2.072397259428868,197.93220382240594,5.1809931485721705 A198.0,198.0,0,0,0,197.94726692247966,4.569411113107616 C79.17890676899187,1.8277644452430466,-78.3676376549802,-11.452221111108958,-195.9190941374505,-28.630552777772394 Z\" fill=\"url(#UIfQjPyG111)\" fill-opacity=\"0.6\" />\n",
       "<path d=\"M-117.61345526060909,159.2830033043724 A198.0,198.0,0,0,0,-117.41650850816495,159.42823943628065 C-46.966603403265985,63.77129577451226,-46.32655276341622,64.23776544259937,-115.81638190854054,160.59441360649842 A198.0,198.0,0,0,0,-115.61781576425673,160.73742774445032 C-46.24712630570269,64.29497109778013,-47.045382104243636,63.713201321748954,-117.61345526060909,159.2830033043724 Z\" fill=\"url(#UIfQjPyG112)\" fill-opacity=\"0.6\" />\n",
       "<path d=\"M-118.00680952426384,158.99180137951802 A198.0,198.0,0,0,0,-117.61345526060909,159.2830033043724 C-47.045382104243636,63.713201321748954,-44.59610590202496,65.45095368575905,-111.49026475506238,163.6273842143976 A198.0,198.0,0,0,0,-111.08547222810492,163.90246447158424 C-44.43418889124197,65.5609857886337,-47.20272380970554,63.59672055180721,-118.00680952426384,158.99180137951802 Z\" fill=\"url(#UIfQjPyG113)\" fill-opacity=\"0.6\" />\n",
       "<path d=\"M-119.70298245250233,157.71872429098556 A198.0,198.0,0,0,0,-118.00680952426384,158.99180137951802 C-47.20272380970554,63.59672055180721,-42.38009209521418,66.90715801766777,-105.95023023803545,167.26789504416942 A198.0,198.0,0,0,0,-104.15256618487555,168.39312027842797 C-41.66102647395022,67.35724811137119,-47.881192981000936,63.08748971639423,-119.70298245250233,157.71872429098556 Z\" fill=\"url(#UIfQjPyG114)\" fill-opacity=\"0.6\" />\n",
       "<path d=\"M-121.93243948620339,156.00153909799528 A198.0,198.0,0,0,0,-119.70298245250233,157.71872429098556 C-47.881192981000936,63.08748971639423,-32.53417265035489,72.20919338946322,-81.33543162588722,180.52298347365806 A198.0,198.0,0,0,0,-78.76156857678347,181.66071483764628 C-31.50462743071339,72.66428593505852,-48.77297579448136,62.400615639198115,-121.93243948620339,156.00153909799528 Z\" fill=\"url(#UIfQjPyG115)\" fill-opacity=\"0.6\" />\n",
       "<path d=\"M-128.59534365412128,150.55642659972523 A198.0,198.0,0,0,0,-121.93243948620339,156.00153909799528 C-48.77297579448136,62.400615639198115,-16.415074483977822,77.48022541065211,-41.03768620994455,193.70056352663025 A198.0,198.0,0,0,0,-32.582913327520636,195.30067526532335 C-13.033165331008256,78.12027010612934,-51.438137461648516,60.222570639890094,-128.59534365412128,150.55642659972523 Z\" fill=\"url(#UIfQjPyG116)\" fill-opacity=\"0.6\" />\n",
       "<path d=\"M-135.04520219149558,144.7991483575027 A198.0,198.0,0,0,0,-128.59534365412128,150.55642659972523 C-51.438137461648516,60.222570639890094,17.847563866771406,77.16284380465456,44.618909666928516,192.90710951163638 A198.0,198.0,0,0,0,52.99761692199595,190.7753983106558 C21.199046768798382,76.31015932426232,-54.01808087659823,57.919659343001086,-135.04520219149558,144.7991483575027 Z\" fill=\"url(#UIfQjPyG117)\" fill-opacity=\"0.6\" />\n",
       "<path d=\"M-136.8391470434109,143.10502379871843 A198.0,198.0,0,0,0,-135.04520219149558,144.7991483575027 C-54.01808087659823,57.919659343001086,54.96804780110839,57.01888915907661,137.42011950277097,142.5472228976915 A198.0,198.0,0,0,0,139.18581732110206,140.82367789777683 C55.67432692844083,56.32947115911074,-54.73565881736436,57.242009519487375,-136.8391470434109,143.10502379871843 Z\" fill=\"url(#UIfQjPyG118)\" fill-opacity=\"0.6\" />\n",
       "<path d=\"M-137.14833648337355,142.80873152522344 A198.0,198.0,0,0,0,-136.8391470434109,143.10502379871843 C-54.73565881736436,57.242009519487375,60.24382556660569,51.413242273760446,150.60956391651422,128.5331056844011 A198.0,198.0,0,0,0,150.88720480647808,128.2070646481228 C60.35488192259123,51.28282585924913,-54.85933459334942,57.12349261008938,-137.14833648337355,142.80873152522344 Z\" fill=\"url(#UIfQjPyG119)\" fill-opacity=\"0.6\" />\n",
       "<path d=\"M-139.5407777502101,140.47195928321946 A198.0,198.0,0,0,0,-137.14833648337355,142.80873152522344 C-54.85933459334942,57.12349261008938,66.60351480517689,42.85570925322068,166.5087870129422,107.13927313305169 A198.0,198.0,0,0,0,168.29459185531348,104.31169806044502 C67.3178367421254,41.72467922417801,-55.81631110008405,56.18878371328779,-139.5407777502101,140.47195928321946 Z\" fill=\"url(#UIfQjPyG120)\" fill-opacity=\"0.6\" />\n",
       "<path d=\"M-140.19030871384916,139.82373669272204 A198.0,198.0,0,0,0,-139.5407777502101,140.47195928321946 C-55.81631110008405,56.18878371328779,75.04410380731137,25.31842182596451,187.6102595182784,63.29605456491127 A198.0,198.0,0,0,0,187.90159573775196,62.42587860179811 C75.16063829510078,24.970351440719245,-56.07612348553967,55.92949467708882,-140.19030871384916,139.82373669272204 Z\" fill=\"url(#UIfQjPyG121)\" fill-opacity=\"0.6\" />\n",
       "<path d=\"M-142.71578353506294,137.24505502921792 A198.0,198.0,0,0,0,-140.19030871384916,139.82373669272204 C-56.07612348553967,55.92949467708882,77.51692173863898,16.240900349602548,193.79230434659743,40.602250874006366 A198.0,198.0,0,0,0,194.5002208544309,37.06297461858146 C77.80008834177237,14.825189847432583,-57.08631341402518,54.898022011687175,-142.71578353506294,137.24505502921792 Z\" fill=\"url(#UIfQjPyG122)\" fill-opacity=\"0.6\" />\n",
       "<path d=\"M-142.89941099764508,137.05385195800267 A198.0,198.0,0,0,0,-142.71578353506294,137.24505502921792 C-57.08631341402518,54.898022011687175,78.97675880899382,5.94235374460478,197.44189702248454,14.855884361511949 A198.0,198.0,0,0,0,197.46161037832235,14.591519002476161 C78.98464415132895,5.836607600990465,-57.159764399058034,54.82154078320107,-142.89941099764508,137.05385195800267 Z\" fill=\"url(#UIfQjPyG123)\" fill-opacity=\"0.6\" />\n",
       "<path d=\"M-144.2474771059858,135.63430741725375 A198.0,198.0,0,0,0,-142.89941099764508,137.05385195800267 C-57.159764399058034,54.82154078320107,79.14852197424648,2.8550778084360853,197.87130493561617,7.1376945210902125 A198.0,198.0,0,0,0,197.93220382240594,5.1809931485721705 C79.17288152896238,2.072397259428868,-57.69899084239432,54.253722966901506,-144.2474771059858,135.63430741725375 Z\" fill=\"url(#UIfQjPyG124)\" fill-opacity=\"0.6\" />\n",
       "<path d=\"M-113.15440749015136,162.48101447723909 A198.0,198.0,0,0,0,-113.12093685932834,162.50431884743202 C-45.24837474373134,65.00172753897282,-42.39387289354705,66.89842704492968,-105.98468223386762,167.24606761232417 A198.0,198.0,0,0,0,-105.95023023803545,167.26789504416942 C-42.38009209521418,66.90715801766777,-45.26176299606055,64.99240579089563,-113.15440749015136,162.48101447723909 Z\" fill=\"url(#UIfQjPyG125)\" fill-opacity=\"0.6\" />\n",
       "<path d=\"M-113.17114100527658,162.46935970688077 A198.0,198.0,0,0,0,-113.15440749015136,162.48101447723909 C-45.26176299606055,64.99240579089563,-32.54160938954811,72.2058422728942,-81.35402347387026,180.5146056822355 A198.0,198.0,0,0,0,-81.33543162588722,180.52298347365806 C-32.53417265035489,72.20919338946322,-45.26845640211064,64.98774388275231,-113.17114100527658,162.46935970688077 Z\" fill=\"url(#UIfQjPyG126)\" fill-opacity=\"0.6\" />\n",
       "<path d=\"M-113.33841010373116,162.35271723983695 A198.0,198.0,0,0,0,-113.17114100527658,162.46935970688077 C-45.26845640211064,64.98774388275231,17.76808347345793,77.1811842982487,44.42020868364483,192.95296074562174 A198.0,198.0,0,0,0,44.618909666928516,192.90710951163638 C17.847563866771406,77.16284380465456,-45.33536404149247,64.94108689593479,-113.33841010373116,162.35271723983695 Z\" fill=\"url(#UIfQjPyG127)\" fill-opacity=\"0.6\" />\n",
       "<path d=\"M-113.35513040439362,162.3410435195084 A198.0,198.0,0,0,0,-113.33841010373116,162.35271723983695 C-45.33536404149247,64.94108689593479,54.962175065555314,57.0245500820765,137.40543766388828,142.56137520519124 A198.0,198.0,0,0,0,137.42011950277097,142.5472228976915 C54.96804780110839,57.01888915907661,-45.34205216175745,64.93641740780336,-113.35513040439362,162.3410435195084 Z\" fill=\"url(#UIfQjPyG128)\" fill-opacity=\"0.6\" />\n",
       "<path d=\"M-113.4554269521985,162.27096504025096 A198.0,198.0,0,0,0,-113.35513040439362,162.3410435195084 C-45.34205216175745,64.93641740780336,66.5770195237739,42.896858525200074,166.44254880943473,107.24214631300018 A198.0,198.0,0,0,0,166.5087870129422,107.13927313305169 C66.60351480517689,42.85570925322068,-45.3821707808794,64.90838601610038,-113.4554269521985,162.27096504025096 Z\" fill=\"url(#UIfQjPyG129)\" fill-opacity=\"0.6\" />\n",
       "<path d=\"M-113.4888495091468,162.24759177593432 A198.0,198.0,0,0,0,-113.4554269521985,162.27096504025096 C-45.3821707808794,64.90838601610038,75.03888706584878,25.333879053922885,187.59721766462195,63.33469763480721 A198.0,198.0,0,0,0,187.6102595182784,63.29605456491127 C75.04410380731137,25.31842182596451,-45.39553980365872,64.89903671037374,-113.4888495091468,162.24759177593432 Z\" fill=\"url(#UIfQjPyG130)\" fill-opacity=\"0.6\" />\n",
       "<path d=\"M-113.73936510416745,162.0720729357803 A198.0,198.0,0,0,0,-113.4888495091468,162.24759177593432 C-45.39553980365872,64.89903671037374,77.49173919885041,16.360634337865722,193.729347997126,40.901585844664304 A198.0,198.0,0,0,0,193.79230434659743,40.602250874006366 C77.51692173863898,16.240900349602548,-45.49574604166698,64.82882917431213,-113.73936510416745,162.0720729357803 Z\" fill=\"url(#UIfQjPyG131)\" fill-opacity=\"0.6\" />\n",
       "<path d=\"M-113.78943566801856,162.03692273785586 A198.0,198.0,0,0,0,-113.73936510416745,162.0720729357803 C-45.49574604166698,64.82882917431213,78.97491900877992,5.966755194965953,197.43729752194977,14.916887987414881 A198.0,198.0,0,0,0,197.44189702248454,14.855884361511949 C78.97675880899382,5.94235374460478,-45.515774267207426,64.81476909514235,-113.78943566801856,162.03692273785586 Z\" fill=\"url(#UIfQjPyG132)\" fill-opacity=\"0.6\" />\n",
       "<path d=\"M-114.03962544860906,161.86093978332437 A198.0,198.0,0,0,0,-113.78943566801856,162.03692273785586 C-45.515774267207426,64.81476909514235,79.14401680889563,2.977348376197862,197.86004202223904,7.443370940494654 A198.0,198.0,0,0,0,197.87130493561617,7.1376945210902125 C79.14852197424648,2.8550778084360853,-45.615850179443626,64.74437591332975,-114.03962544860906,161.86093978332437 Z\" fill=\"url(#UIfQjPyG133)\" fill-opacity=\"0.6\" />\n",
       "<path d=\"M-107.66893013438323,166.16678814888763 A198.0,198.0,0,0,0,-107.65181584583402,166.1778762203159 C-43.06072633833361,66.47115048812637,-32.549045783566406,72.20249039042419,-81.37261445891602,180.50622597606048 A198.0,198.0,0,0,0,-81.35402347387026,180.5146056822355 C-32.54160938954811,72.2058422728942,-43.067572053753295,66.46671525955506,-107.66893013438323,166.16678814888763 Z\" fill=\"url(#UIfQjPyG134)\" fill-opacity=\"0.6\" />\n",
       "<path d=\"M-107.87421246403025,166.03359384553855 A198.0,198.0,0,0,0,-107.66893013438323,166.16678814888763 C-43.067572053753295,66.46671525955506,-16.510819303374486,77.45987894343314,-41.27704825843621,193.64969735858284 A198.0,198.0,0,0,0,-41.03768620994455,193.70056352663025 C-16.415074483977822,77.48022541065211,-43.149684985612105,66.41343753821542,-107.87421246403025,166.03359384553855 Z\" fill=\"url(#UIfQjPyG135)\" fill-opacity=\"0.6\" />\n",
       "<path d=\"M-107.92550731324164,166.00025563588576 A198.0,198.0,0,0,0,-107.87421246403025,166.03359384553855 C-43.149684985612105,66.41343753821542,17.7442356764744,77.18667048304218,44.360589191186,192.96667620760542 A198.0,198.0,0,0,0,44.42020868364483,192.95296074562174 C17.76808347345793,77.1811842982487,-43.17020292529666,66.40010225435431,-107.92550731324164,166.00025563588576 Z\" fill=\"url(#UIfQjPyG136)\" fill-opacity=\"0.6\" />\n",
       "<path d=\"M-108.62550225150873,165.54304654864688 A198.0,198.0,0,0,0,-107.92550731324164,166.00025563588576 C-43.17020292529666,66.40010225435431,54.72089166582302,57.2561264433533,136.80222916455753,143.14031610838325 A198.0,198.0,0,0,0,137.40543766388828,142.56137520519124 C54.962175065555314,57.0245500820765,-43.4502009006035,66.21721861945876,-108.62550225150873,165.54304654864688 Z\" fill=\"url(#UIfQjPyG137)\" fill-opacity=\"0.6\" />\n",
       "<path d=\"M-108.64255115302205,165.53185819945048 A198.0,198.0,0,0,0,-108.62550225150873,165.54304654864688 C-43.4502009006035,66.21721861945876,60.23853013539195,51.419446585192624,150.59632533847986,128.54861646298156 A198.0,198.0,0,0,0,150.60956391651422,128.5331056844011 C60.24382556660569,51.413242273760446,-43.45702046120883,66.2127432797802,-108.64255115302205,165.53185819945048 Z\" fill=\"url(#UIfQjPyG138)\" fill-opacity=\"0.6\" />\n",
       "<path d=\"M-108.71073523334711,165.48708724557667 A198.0,198.0,0,0,0,-108.64255115302205,165.53185819945048 C-43.45702046120883,66.2127432797802,66.55934187831473,42.924282273855425,166.39835469578682,107.31070568463855 A198.0,198.0,0,0,0,166.44254880943473,107.24214631300018 C66.5770195237739,42.896858525200074,-43.484294093338846,66.19483489823067,-108.71073523334711,165.48708724557667 Z\" fill=\"url(#UIfQjPyG139)\" fill-opacity=\"0.6\" />\n",
       "<path d=\"M-108.72777837109238,165.47589011842967 A198.0,198.0,0,0,0,-108.71073523334711,165.48708724557667 C-43.484294093338846,66.19483489823067,75.03627750117627,25.341607264861274,187.59069375294067,63.35401816215318 A198.0,198.0,0,0,0,187.59721766462195,63.33469763480721 C75.03888706584878,25.333879053922885,-43.49111134843696,66.19035604737188,-108.72777837109238,165.47589011842967 Z\" fill=\"url(#UIfQjPyG140)\" fill-opacity=\"0.6\" />\n",
       "<path d=\"M-108.88111469079047,165.3750370028407 A198.0,198.0,0,0,0,-108.72777837109238,165.47589011842967 C-43.49111134843696,66.19035604737188,77.47654089842936,16.432456006757004,193.6913522460734,41.08114001689251 A198.0,198.0,0,0,0,193.729347997126,40.901585844664304 C77.49173919885041,16.360634337865722,-43.55244587631619,66.1500148011363,-108.88111469079047,165.3750370028407 Z\" fill=\"url(#UIfQjPyG141)\" fill-opacity=\"0.6\" />\n",
       "<path d=\"M-87.00341010061861,177.86063822797774 A198.0,198.0,0,0,0,-85.09337529102025,178.78231870512695 C-34.0373501164081,71.51292748205078,-33.32053090702562,71.84971969377438,-83.30132726756405,179.62429923443594 A198.0,198.0,0,0,0,-81.37261445891602,180.50622597606048 C-32.549045783566406,72.20249039042419,-34.80136404024744,71.1442552911911,-87.00341010061861,177.86063822797774 Z\" fill=\"url(#UIfQjPyG142)\" fill-opacity=\"0.6\" />\n",
       "<path d=\"M-87.44277781882,177.64504104344843 A198.0,198.0,0,0,0,-87.00341010061861,177.86063822797774 C-34.80136404024744,71.1442552911911,-16.702233138357965,77.41883109548954,-41.755582845894914,193.54707773872383 A198.0,198.0,0,0,0,-41.27704825843621,193.64969735858284 C-16.510819303374486,77.45987894343314,-34.977111127528005,71.05801641737938,-87.44277781882,177.64504104344843 Z\" fill=\"url(#UIfQjPyG143)\" fill-opacity=\"0.6\" />\n",
       "<path d=\"M-89.08562669928394,176.8268959055602 A198.0,198.0,0,0,0,-87.44277781882,177.64504104344843 C-34.977111127528005,71.05801641737938,17.028024320342563,77.34782729815896,42.5700608008564,193.36956824539737 A198.0,198.0,0,0,0,44.360589191186,192.96667620760542 C17.7442356764744,77.18667048304218,-35.634250679713574,70.73075836222408,-89.08562669928394,176.8268959055602 Z\" fill=\"url(#UIfQjPyG144)\" fill-opacity=\"0.6\" />\n",
       "<path d=\"M-89.10383784165583,176.81771993182102 A198.0,198.0,0,0,0,-89.08562669928394,176.8268959055602 C-35.634250679713574,70.73075836222408,54.7149944982273,57.261761910187126,136.78748624556823,143.1544047754678 A198.0,198.0,0,0,0,136.80222916455753,143.14031610838325 C54.72089166582302,57.2561264433533,-35.641535136662334,70.72708797272841,-89.10383784165583,176.81771993182102 Z\" fill=\"url(#UIfQjPyG145)\" fill-opacity=\"0.6\" />\n",
       "<path d=\"M-89.1220480388864,176.80854208254314 A198.0,198.0,0,0,0,-89.10383784165583,176.81771993182102 C-35.641535136662334,70.72708797272841,60.233234065216735,51.42565035120913,150.58308516304183,128.56412587802282 A198.0,198.0,0,0,0,150.59632533847986,128.54861646298156 C60.23853013539195,51.419446585192624,-35.64881921555456,70.72341683301725,-89.1220480388864,176.80854208254314 Z\" fill=\"url(#UIfQjPyG146)\" fill-opacity=\"0.6\" />\n",
       "<path d=\"M-93.1409607768996,174.72481628422463 A198.0,198.0,0,0,0,-89.1220480388864,176.80854208254314 C-35.64881921555456,70.72341683301725,65.5606078890235,44.43474646289443,163.90151972255876,111.08686615723607 A198.0,198.0,0,0,0,166.39835469578682,107.31070568463855 C66.55934187831473,42.924282273855425,-37.25638431075984,69.88992651368986,-93.1409607768996,174.72481628422463 Z\" fill=\"url(#UIfQjPyG147)\" fill-opacity=\"0.6\" />\n",
       "<path d=\"M-95.13228921238529,173.64863244267454 A198.0,198.0,0,0,0,-93.1409607768996,174.72481628422463 C-37.25638431075984,69.88992651368986,74.74167472270061,26.197749133198762,186.85418680675153,65.4943728329969 A198.0,198.0,0,0,0,187.59069375294067,63.35401816215318 C75.03627750117627,25.341607264861274,-38.052915684954115,69.45945297706982,-95.13228921238529,173.64863244267454 Z\" fill=\"url(#UIfQjPyG148)\" fill-opacity=\"0.6\" />\n",
       "<path d=\"M-95.22169800334707,173.5996204758506 A198.0,198.0,0,0,0,-95.13228921238529,173.64863244267454 C-38.052915684954115,69.45945297706982,77.46806863407086,16.47235083729363,193.67017158517714,41.180877093234066 A198.0,198.0,0,0,0,193.6913522460734,41.08114001689251 C77.47654089842936,16.432456006757004,-38.08867920133883,69.43984819034024,-95.22169800334707,173.5996204758506 Z\" fill=\"url(#UIfQjPyG149)\" fill-opacity=\"0.6\" />\n",
       "<path d=\"M-95.23957673219458,173.58981255785844 A198.0,198.0,0,0,0,-95.22169800334707,173.5996204758506 C-38.08867920133883,69.43984819034024,78.97430406662963,5.974888885287079,197.43576016657406,14.937222213217698 A198.0,198.0,0,0,0,197.43729752194977,14.916887987414881 C78.97491900877992,5.966755194965953,-38.09583069287783,69.43592502314338,-95.23957673219458,173.58981255785844 Z\" fill=\"url(#UIfQjPyG150)\" fill-opacity=\"0.6\" />\n",
       "<path d=\"M-95.82900691418308,173.2651189184986 A198.0,198.0,0,0,0,-95.23957673219458,173.58981255785844 C-38.09583069287783,69.43592502314338,79.13344058064874,3.2463182020460986,197.83360145162183,8.115795505115246 A198.0,198.0,0,0,0,197.86004202223904,7.443370940494654 C79.14401680889563,2.977348376197862,-38.33160276567323,69.30604756739943,-95.82900691418308,173.2651189184986 Z\" fill=\"url(#UIfQjPyG151)\" fill-opacity=\"0.6\" />\n",
       "<path d=\"M-46.706683033436434,192.412280689186 A198.0,198.0,0,0,0,-45.19919292372462,192.77197140415387 C-18.079677169489848,77.10878856166156,-17.30769815894845,77.28572691279247,-43.26924539737113,193.21431728198115 A198.0,198.0,0,0,0,-41.755582845894914,193.54707773872383 C-16.702233138357965,77.41883109548954,-18.682673213374574,76.96491227567441,-46.706683033436434,192.412280689186 Z\" fill=\"url(#UIfQjPyG152)\" fill-opacity=\"0.6\" />\n",
       "<path d=\"M-50.00901255767462,191.58052788059214 A198.0,198.0,0,0,0,-46.706683033436434,192.412280689186 C-18.682673213374574,76.96491227567441,15.695224968417534,77.62924650665343,39.238062421043836,194.07311626663355 A198.0,198.0,0,0,0,42.5700608008564,193.36956824539737 C17.028024320342563,77.34782729815896,-20.003605023069852,76.63221115223686,-50.00901255767462,191.58052788059214 Z\" fill=\"url(#UIfQjPyG153)\" fill-opacity=\"0.6\" />\n",
       "<path d=\"M-50.324642263708476,191.4978599907314 A198.0,198.0,0,0,0,-50.00901255767462,191.58052788059214 C-20.003605023069852,76.63221115223686,54.62056092862553,57.35184673436685,136.5514023215638,143.37961683591712 A198.0,198.0,0,0,0,136.78748624556823,143.1544047754678 C54.7149944982273,57.261761910187126,-20.129856905483393,76.59914399629257,-50.324642263708476,191.4978599907314 Z\" fill=\"url(#UIfQjPyG154)\" fill-opacity=\"0.6\" />\n",
       "<path d=\"M-50.383807646045156,191.48230186387022 A198.0,198.0,0,0,0,-50.324642263708476,191.4978599907314 C-20.129856905483393,76.59914399629257,60.21734202148445,51.44425837610611,150.5433550537111,128.61064594026527 A198.0,198.0,0,0,0,150.58308516304183,128.56412587802282 C60.233234065216735,51.42565035120913,-20.153523058418063,76.59292074554808,-50.383807646045156,191.48230186387022 Z\" fill=\"url(#UIfQjPyG155)\" fill-opacity=\"0.6\" />\n",
       "<path d=\"M-54.61112308954676,190.31979727526607 A198.0,198.0,0,0,0,-50.383807646045156,191.48230186387022 C-20.153523058418063,76.59292074554808,64.5606927740331,45.87545039056195,161.40173193508275,114.68862597640486 A198.0,198.0,0,0,0,163.90151972255876,111.08686615723607 C65.5606078890235,44.43474646289443,-21.844449235818704,76.12791891010643,-54.61112308954676,190.31979727526607 Z\" fill=\"url(#UIfQjPyG156)\" fill-opacity=\"0.6\" />\n",
       "<path d=\"M-57.54467923113655,189.45345046260204 A198.0,198.0,0,0,0,-54.61112308954676,190.31979727526607 C-21.844449235818704,76.12791891010643,74.32805135158468,27.34923732531115,185.82012837896167,68.37309331327788 A198.0,198.0,0,0,0,186.85418680675153,65.4943728329969 C74.74167472270061,26.197749133198762,-23.01787169245462,75.78138018504082,-57.54467923113655,189.45345046260204 Z\" fill=\"url(#UIfQjPyG157)\" fill-opacity=\"0.6\" />\n",
       "<path d=\"M-57.798284083754574,189.37623493187735 A198.0,198.0,0,0,0,-57.54467923113655,189.45345046260204 C-23.01787169245462,75.78138018504082,77.44594461131454,16.576056927423956,193.61486152828635,41.440142318559886 A198.0,198.0,0,0,0,193.67017158517714,41.180877093234066 C77.46806863407086,16.47235083729363,-23.119313633501832,75.75049397275095,-57.798284083754574,189.37623493187735 Z\" fill=\"url(#UIfQjPyG158)\" fill-opacity=\"0.6\" />\n",
       "<path d=\"M-57.91529755938565,189.3404824875225 A198.0,198.0,0,0,0,-57.798284083754574,189.37623493187735 C-23.119313633501832,75.75049397275095,79.13141941855996,3.29521786896591,197.82854854639987,8.238044672414775 A198.0,198.0,0,0,0,197.83360145162183,8.115795505115246 C79.13344058064874,3.2463182020460986,-23.166119023754263,75.736192995009,-57.91529755938565,189.3404824875225 Z\" fill=\"url(#UIfQjPyG159)\" fill-opacity=\"0.6\" />\n",
       "<path d=\"M24.93232809379667,196.42397770084813 A198.0,198.0,0,0,0,31.129423914186933,195.53761522216345 C12.451769565674773,78.21504608886539,13.23328440749751,78.08661974877825,33.083211018743775,195.2165493719456 A198.0,198.0,0,0,0,39.238062421043836,194.07311626663355 C15.695224968417534,77.62924650665343,9.972931237518669,78.56959108033925,24.93232809379667,196.42397770084813 Z\" fill=\"url(#UIfQjPyG160)\" fill-opacity=\"0.6\" />\n",
       "<path d=\"M24.912098019677842,196.4265444695751 A198.0,198.0,0,0,0,24.93232809379667,196.42397770084813 C9.972931237518669,78.56959108033925,54.61465390321395,57.35747186750963,136.53663475803486,143.39367966877407 A198.0,198.0,0,0,0,136.5514023215638,143.37961683591712 C54.62056092862553,57.35184673436685,9.964839207871137,78.57061778783005,24.912098019677842,196.4265444695751 Z\" fill=\"url(#UIfQjPyG161)\" fill-opacity=\"0.6\" />\n",
       "<path d=\"M24.14316135724836,196.5225375362273 A198.0,198.0,0,0,0,24.912098019677842,196.4265444695751 C9.964839207871137,78.57061778783005,60.01554573636231,51.67953434355426,150.03886434090577,129.19883585888564 A198.0,198.0,0,0,0,150.5433550537111,128.61064594026527 C60.21734202148445,51.44425837610611,9.657264542899345,78.60901501449092,24.14316135724836,196.5225375362273 Z\" fill=\"url(#UIfQjPyG162)\" fill-opacity=\"0.6\" />\n",
       "<path d=\"M19.50189529087059,197.03724541330737 A198.0,198.0,0,0,0,24.14316135724836,196.5225375362273 C9.657264542899345,78.60901501449092,63.46086607861694,47.385213691106706,158.65216519654234,118.46303422776676 A198.0,198.0,0,0,0,161.40173193508275,114.68862597640486 C64.5606927740331,45.87545039056195,7.800758116348236,78.81489816532296,19.50189529087059,197.03724541330737 Z\" fill=\"url(#UIfQjPyG163)\" fill-opacity=\"0.6\" />\n",
       "<path d=\"M18.974205321994855,197.08876054305782 A198.0,198.0,0,0,0,19.50189529087059,197.03724541330737 C7.800758116348236,78.81489816532296,74.25454995336611,27.548172556869464,185.63637488341527,68.87043139217366 A198.0,198.0,0,0,0,185.82012837896167,68.37309331327788 C74.32805135158468,27.34923732531115,7.589682128797943,78.83550421722313,18.974205321994855,197.08876054305782 Z\" fill=\"url(#UIfQjPyG164)\" fill-opacity=\"0.6\" />\n",
       "<path d=\"M13.222510055231462,197.55800471719516 A198.0,198.0,0,0,0,18.974205321994855,197.08876054305782 C7.589682128797943,78.83550421722313,76.9299852181303,18.82597605273769,192.32496304532575,47.064940131844224 A198.0,198.0,0,0,0,193.61486152828635,41.440142318559886 C77.44594461131454,16.576056927423956,5.289004022092585,79.02320188687807,13.222510055231462,197.55800471719516 Z\" fill=\"url(#UIfQjPyG165)\" fill-opacity=\"0.6\" />\n",
       "<path d=\"M133.4172297363358,146.30052224610068 A198.0,198.0,0,0,0,134.25879540644348,145.5286083765345 C53.703518162577396,58.2114433506138,54.28293774069306,57.67150657161681,135.70734435173264,144.178766429042 A198.0,198.0,0,0,0,136.53663475803486,143.39367966877407 C54.61465390321395,57.35747186750963,53.36689189453432,58.52020889844027,133.4172297363358,146.30052224610068 Z\" fill=\"url(#UIfQjPyG166)\" fill-opacity=\"0.6\" />\n",
       "<path d=\"M132.84363809570388,146.82155093002407 A198.0,198.0,0,0,0,133.4172297363358,146.30052224610068 C53.36689189453432,58.52020889844027,59.81283020752884,51.914018747977174,149.5320755188221,129.78504686994293 A198.0,198.0,0,0,0,150.03886434090577,129.19883585888564 C60.01554573636231,51.67953434355426,53.137455238281554,58.72862037200963,132.84363809570388,146.82155093002407 Z\" fill=\"url(#UIfQjPyG167)\" fill-opacity=\"0.6\" />\n",
       "<path d=\"M131.53801005877557,147.99240490571623 A198.0,198.0,0,0,0,132.84363809570388,146.82155093002407 C53.137455238281554,58.72862037200963,63.038679928515684,47.94543599624634,157.5966998212892,119.86358999061584 A198.0,198.0,0,0,0,158.65216519654234,118.46303422776676 C63.46086607861694,47.385213691106706,52.61520402351023,59.196961962286494,131.53801005877557,147.99240490571623 Z\" fill=\"url(#UIfQjPyG168)\" fill-opacity=\"0.6\" />\n",
       "<path d=\"M129.76060274933351,149.5532880752866 A198.0,198.0,0,0,0,131.53801005877557,147.99240490571623 C52.61520402351023,59.196961962286494,73.92014120081848,28.433303094277644,184.8003530020462,71.0832577356941 A198.0,198.0,0,0,0,185.63637488341527,68.87043139217366 C74.25454995336611,27.548172556869464,51.90424109973341,59.821315230114635,129.76060274933351,149.5532880752866 Z\" fill=\"url(#UIfQjPyG169)\" fill-opacity=\"0.6\" />\n",
       "<path d=\"M127.79341925261603,151.23770031220755 A198.0,198.0,0,0,0,129.76060274933351,149.5532880752866 C51.90424109973341,59.821315230114635,76.67717005194741,19.830572175929202,191.69292512986854,49.576430439823 A198.0,198.0,0,0,0,192.32496304532575,47.064940131844224 C76.9299852181303,18.82597605273769,51.11736770104642,60.495080124883025,127.79341925261603,151.23770031220755 Z\" fill=\"url(#UIfQjPyG170)\" fill-opacity=\"0.6\" />\n",
       "<path d=\"M127.71552154785326,151.30348824716444 A198.0,198.0,0,0,0,127.79341925261603,151.23770031220755 C51.11736770104642,60.495080124883025,78.97121679057956,6.015556384515538,197.4280419764489,15.038890961288843 A198.0,198.0,0,0,0,197.43576016657406,14.937222213217698 C78.97430406662963,5.974888885287079,51.0862086191413,60.52139529886578,127.71552154785326,151.30348824716444 Z\" fill=\"url(#UIfQjPyG171)\" fill-opacity=\"0.6\" />\n",
       "<path d=\"M127.23180065420067,151.71047723308283 A198.0,198.0,0,0,0,127.71552154785326,151.30348824716444 C51.0862086191413,60.52139529886578,79.12049539129767,3.547845689379124,197.80123847824416,8.86961422344781 A198.0,198.0,0,0,0,197.82854854639987,8.238044672414775 C79.13141941855996,3.29521786896591,50.89272026168027,60.684190893233136,127.23180065420067,151.71047723308283 Z\" fill=\"url(#UIfQjPyG172)\" fill-opacity=\"0.6\" />\n",
       "<path d=\"M147.98315463157778,131.54841673424482 A198.0,198.0,0,0,0,148.10502601008017,131.4111915726871 C59.24201040403207,52.564476629074846,59.7646843337844,51.969438196723914,149.411710834461,129.92359549180978 A198.0,198.0,0,0,0,149.5320755188221,129.78504686994293 C59.81283020752884,51.914018747977174,59.19326185263111,52.619366693697934,147.98315463157778,131.54841673424482 Z\" fill=\"url(#UIfQjPyG173)\" fill-opacity=\"0.6\" />\n",
       "<path d=\"M146.9762901549174,132.67241662190952 A198.0,198.0,0,0,0,147.98315463157778,131.54841673424482 C59.19326185263111,52.619366693697934,62.671443770500325,48.42447868300718,156.6786094262508,121.06119670751795 A198.0,198.0,0,0,0,157.5966998212892,119.86358999061584 C63.038679928515684,47.94543599624634,58.79051606196696,53.06896664876381,146.9762901549174,132.67241662190952 Z\" fill=\"url(#UIfQjPyG174)\" fill-opacity=\"0.6\" />\n",
       "<path d=\"M146.96262528353662,132.68755318329903 A198.0,198.0,0,0,0,146.9762901549174,132.67241662190952 C58.79051606196696,53.06896664876381,73.91721242866683,28.440916067794724,184.79303107166706,71.1022901694868 A198.0,198.0,0,0,0,184.8003530020462,71.0832577356941 C73.92014120081848,28.433303094277644,58.785050113414655,53.075021273319614,146.96262528353662,132.68755318329903 Z\" fill=\"url(#UIfQjPyG175)\" fill-opacity=\"0.6\" />\n",
       "<path d=\"M146.88060332426218,132.7783429897389 A198.0,198.0,0,0,0,146.96262528353662,132.68755318329903 C58.785050113414655,53.075021273319614,76.66490116579718,19.877950830972267,191.66225291449294,49.69487707743067 A198.0,198.0,0,0,0,191.69292512986854,49.576430439823 C76.67717005194741,19.830572175929202,58.75224132970487,53.11133719589556,146.88060332426218,132.7783429897389 Z\" fill=\"url(#UIfQjPyG176)\" fill-opacity=\"0.6\" />\n",
       "<path d=\"M146.8669275439049,132.7934696956646 A198.0,198.0,0,0,0,146.88060332426218,132.7783429897389 C58.75224132970487,53.11133719589556,79.12012957477678,3.5559943856160228,197.80032393694194,8.889985964040056 A198.0,198.0,0,0,0,197.80123847824416,8.86961422344781 C79.12049539129767,3.547845689379124,58.74677101756196,53.117387878265845,146.8669275439049,132.7934696956646 Z\" fill=\"url(#UIfQjPyG177)\" fill-opacity=\"0.6\" />\n",
       "<path d=\"M155.38438022880638,122.717946450019 A198.0,198.0,0,0,0,155.4222894184497,122.66993092004108 C62.168915767379886,49.067972368016434,62.65647889322079,48.44384019360333,156.64119723305197,121.10960048400831 A198.0,198.0,0,0,0,156.6786094262508,121.06119670751795 C62.671443770500325,48.42447868300718,62.153752091522556,49.0871785800076,155.38438022880638,122.717946450019 Z\" fill=\"url(#UIfQjPyG178)\" fill-opacity=\"0.6\" />\n",
       "<path d=\"M155.35909919453061,122.74995029515895 A198.0,198.0,0,0,0,155.38438022880638,122.717946450019 C62.153752091522556,49.0871785800076,73.91135253223328,28.456141109713645,184.7783813305832,71.14035277428411 A198.0,198.0,0,0,0,184.79303107166706,71.1022901694868 C73.91721242866683,28.440916067794724,62.143639677812246,49.099980118063584,155.35909919453061,122.74995029515895 Z\" fill=\"url(#UIfQjPyG179)\" fill-opacity=\"0.6\" />\n",
       "<path d=\"M155.09325056643178,123.0856759689689 A198.0,198.0,0,0,0,155.35909919453061,122.74995029515895 C62.143639677812246,49.099980118063584,76.62172955320119,20.04371622918503,191.55432388300298,50.10929057296257 A198.0,198.0,0,0,0,191.66225291449294,49.69487707743067 C76.66490116579718,19.877950830972267,62.03730022657271,49.234270387587564,155.09325056643178,123.0856759689689 Z\" fill=\"url(#UIfQjPyG180)\" fill-opacity=\"0.6\" />\n",
       "<path d=\"M155.06789379252115,123.1176198387192 A198.0,198.0,0,0,0,155.09325056643178,123.0856759689689 C62.03730022657271,49.234270387587564,78.9699760164758,6.031822938153922,197.42494004118947,15.079557345384803 A198.0,198.0,0,0,0,197.4280419764489,15.038890961288843 C78.97121679057956,6.015556384515538,62.02715751700846,49.24704793548768,155.06789379252115,123.1176198387192 Z\" fill=\"url(#UIfQjPyG181)\" fill-opacity=\"0.6\" />\n",
       "<path d=\"M155.0171605077642,123.18149190568391 A198.0,198.0,0,0,0,155.06789379252115,123.1176198387192 C62.02715751700846,49.24704793548768,79.11865791631128,3.5885887925081947,197.79664479077817,8.971471981270486 A198.0,198.0,0,0,0,197.80032393694194,8.889985964040056 C79.12012957477678,3.5559943856160228,62.006864203105685,49.272596762273565,155.0171605077642,123.18149190568391 Z\" fill=\"url(#UIfQjPyG182)\" fill-opacity=\"0.6\" />\n",
       "<path d=\"M183.0174490938184,75.55536597219015 A198.0,198.0,0,0,0,183.54210109045766,74.27177880797134 C73.41684043618307,29.70871152318854,73.71025178855622,28.97306993170804,184.27562947139054,72.4326748292701 A198.0,198.0,0,0,0,184.7783813305832,71.14035277428411 C73.91135253223328,28.456141109713645,73.20697963752737,30.22214638887606,183.0174490938184,75.55536597219015 Z\" fill=\"url(#UIfQjPyG183)\" fill-opacity=\"0.6\" />\n",
       "<path d=\"M182.31721343439537,77.22974611842982 A198.0,198.0,0,0,0,183.0174490938184,75.55536597219015 C73.20697963752737,30.22214638887606,76.43478823211021,20.74519577908262,191.0869705802755,51.86298944770655 A198.0,198.0,0,0,0,191.55432388300298,50.10929057296257 C76.62172955320119,20.04371622918503,72.92688537375815,30.89189844737193,182.31721343439537,77.22974611842982 Z\" fill=\"url(#UIfQjPyG184)\" fill-opacity=\"0.6\" />\n",
       "<path d=\"M182.27741934012215,77.3236212208486 A198.0,198.0,0,0,0,182.31721343439537,77.22974611842982 C72.92688537375815,30.89189844737193,78.96685942246765,6.072488201078123,197.4171485561691,15.181220502695307 A198.0,198.0,0,0,0,197.42494004118947,15.079557345384803 C78.9699760164758,6.031822938153922,72.91096773604886,30.92944848833944,182.27741934012215,77.3236212208486 Z\" fill=\"url(#UIfQjPyG185)\" fill-opacity=\"0.6\" />\n",
       "<path d=\"M181.7071317866294,78.65442300262906 A198.0,198.0,0,0,0,182.27741934012215,77.3236212208486 C72.91096773604886,30.92944848833944,79.0903017805748,4.167033028139863,197.72575445143698,10.417582570349657 A198.0,198.0,0,0,0,197.79664479077817,8.971471981270486 C79.11865791631128,3.5885887925081947,72.68285271465176,31.461769201051624,181.7071317866294,78.65442300262906 Z\" fill=\"url(#UIfQjPyG186)\" fill-opacity=\"0.6\" />\n",
       "<path d=\"M190.54771508989117,53.810484796382035 A198.0,198.0,0,0,0,190.5532560859012,53.79085977246458 C76.22130243436048,21.51634390898583,76.43265125404801,20.7530677798988,191.08162813512,51.882669449747 A198.0,198.0,0,0,0,191.0869705802755,51.86298944770655 C76.43478823211021,20.74519577908262,76.21908603595647,21.524193918552815,190.54771508989117,53.810484796382035 Z\" fill=\"url(#UIfQjPyG187)\" fill-opacity=\"0.6\" />\n",
       "<path d=\"M190.54217207270563,53.830109249521726 A198.0,198.0,0,0,0,190.54771508989117,53.810484796382035 C76.21908603595647,21.524193918552815,78.96623359079054,6.08062106077199,197.41558397697634,15.201552651929974 A198.0,198.0,0,0,0,197.4171485561691,15.181220502695307 C78.96685942246765,6.072488201078123,76.21686882908226,21.532043699808693,190.54217207270563,53.830109249521726 Z\" fill=\"url(#UIfQjPyG188)\" fill-opacity=\"0.6\" />\n",
       "<path d=\"M190.52553089468438,53.88897918219147 A198.0,198.0,0,0,0,190.54217207270563,53.830109249521726 C76.21686882908226,21.532043699808693,79.08901050218579,4.191469645022687,197.72252625546446,10.478674112556718 A198.0,198.0,0,0,0,197.72575445143698,10.417582570349657 C79.0903017805748,4.167033028139863,76.21021235787376,21.555591672876588,190.52553089468438,53.88897918219147 Z\" fill=\"url(#UIfQjPyG189)\" fill-opacity=\"0.6\" />\n",
       "<text x=\"220.00000000000003\" y=\"0\" font-size=\"10\" text-anchor=\"start\" dominant-baseline=\"middle\" transform=\"rotate(-27.702063)\" font-family=\"Arial\">Action</text>\n",
       "<text x=\"220.0\" y=\"0\" font-size=\"10\" text-anchor=\"start\" dominant-baseline=\"middle\" transform=\"rotate(-78.442043)\" font-family=\"Arial\">Adventure</text>\n",
       "<text x=\"-220.00000000000006\" y=\"0\" font-size=\"10\" text-anchor=\"end\" dominant-baseline=\"middle\" transform=\"rotate(77.280837)\" font-family=\"Arial\">Avant Garde</text>\n",
       "<text x=\"-220.0\" y=\"0\" font-size=\"10\" text-anchor=\"end\" dominant-baseline=\"middle\" transform=\"rotate(73.834111)\" font-family=\"Arial\">Award Winning</text>\n",
       "<text x=\"-220.0\" y=\"0\" font-size=\"10\" text-anchor=\"end\" dominant-baseline=\"middle\" transform=\"rotate(70.747344)\" font-family=\"Arial\">Boys Love</text>\n",
       "<text x=\"-220.00000000000003\" y=\"0\" font-size=\"10\" text-anchor=\"end\" dominant-baseline=\"middle\" transform=\"rotate(44.537660)\" font-family=\"Arial\">Comedy</text>\n",
       "<text x=\"-220.00000000000006\" y=\"0\" font-size=\"10\" text-anchor=\"end\" dominant-baseline=\"middle\" transform=\"rotate(6.074630)\" font-family=\"Arial\">Drama</text>\n",
       "<text x=\"-220.00000000000003\" y=\"0\" font-size=\"10\" text-anchor=\"end\" dominant-baseline=\"middle\" transform=\"rotate(-30.629914)\" font-family=\"Arial\">Fantasy</text>\n",
       "<text x=\"-220.00000000000003\" y=\"0\" font-size=\"10\" text-anchor=\"end\" dominant-baseline=\"middle\" transform=\"rotate(-54.679847)\" font-family=\"Arial\">Girls Love</text>\n",
       "<text x=\"-220.00000000000003\" y=\"0\" font-size=\"10\" text-anchor=\"end\" dominant-baseline=\"middle\" transform=\"rotate(-56.397591)\" font-family=\"Arial\">Gourmet</text>\n",
       "<text x=\"-220.00000000000003\" y=\"0\" font-size=\"10\" text-anchor=\"end\" dominant-baseline=\"middle\" transform=\"rotate(-61.092370)\" font-family=\"Arial\">Horror</text>\n",
       "<text x=\"-220.00000000000003\" y=\"0\" font-size=\"10\" text-anchor=\"end\" dominant-baseline=\"middle\" transform=\"rotate(-70.962292)\" font-family=\"Arial\">Mystery</text>\n",
       "<text x=\"-220.00000000000003\" y=\"0\" font-size=\"10\" text-anchor=\"end\" dominant-baseline=\"middle\" transform=\"rotate(-88.211367)\" font-family=\"Arial\">Romance</text>\n",
       "<text x=\"220.00000000000006\" y=\"0\" font-size=\"10\" text-anchor=\"start\" dominant-baseline=\"middle\" transform=\"rotate(-296.155934)\" font-family=\"Arial\">Sci-Fi</text>\n",
       "<text x=\"220.00000000000003\" y=\"0\" font-size=\"10\" text-anchor=\"start\" dominant-baseline=\"middle\" transform=\"rotate(-315.842105)\" font-family=\"Arial\">Slice of Life</text>\n",
       "<text x=\"220.00000000000003\" y=\"0\" font-size=\"10\" text-anchor=\"start\" dominant-baseline=\"middle\" transform=\"rotate(-320.353955)\" font-family=\"Arial\">Sports</text>\n",
       "<text x=\"220.00000000000003\" y=\"0\" font-size=\"10\" text-anchor=\"start\" dominant-baseline=\"middle\" transform=\"rotate(-330.129462)\" font-family=\"Arial\">Supernatural</text>\n",
       "<text x=\"220.00000000000003\" y=\"0\" font-size=\"10\" text-anchor=\"start\" dominant-baseline=\"middle\" transform=\"rotate(-341.389060)\" font-family=\"Arial\">Suspense</text>\n",
       "<text x=\"220.00000000000003\" y=\"0\" font-size=\"10\" text-anchor=\"start\" dominant-baseline=\"middle\" transform=\"rotate(-349.916514)\" font-family=\"Arial\">Ecchi</text>\n",
       "<text x=\"220.0\" y=\"0\" font-size=\"10\" text-anchor=\"start\" dominant-baseline=\"middle\" transform=\"rotate(-355.995069)\" font-family=\"Arial\">Erotica</text>\n",
       "<text x=\"220.00000000000003\" y=\"0\" font-size=\"10\" text-anchor=\"start\" dominant-baseline=\"middle\" transform=\"rotate(-358.196692)\" font-family=\"Arial\">Hentai</text>\n",
       "</svg>"
      ],
      "text/plain": [
       "<drawsvg.drawing.Drawing at 0x191566bc4d0>"
      ]
     },
     "execution_count": 401,
     "metadata": {},
     "output_type": "execute_result"
    }
   ],
   "source": [
    "GENRES = list(COLOR_GENRES.keys())\n",
    "genre_index = {genre: i for i, genre in enumerate(GENRES)}\n",
    "matrix = np.zeros((len(GENRES), len(GENRES)), dtype=int)\n",
    "\n",
    "for genre_list in anime_data['genres']:\n",
    "    for g1, g2 in itertools.combinations(genre_list, 2):\n",
    "        i, j = genre_index[g1], genre_index[g2]\n",
    "        matrix[i][j] += 1\n",
    "        matrix[j][i] += 1  \n",
    "\n",
    "# Create the chord diagram\n",
    "fig = ocd.Chord(matrix, labels=GENRES)\n",
    "fig.colormap = list(COLOR_GENRES.values())\n",
    "fig.show()\n",
    "\n"
   ]
  },
  {
   "cell_type": "markdown",
   "id": "5ec957a8",
   "metadata": {},
   "source": [
    "### Bar charat of number of animes per genres every year "
   ]
  },
  {
   "cell_type": "code",
   "execution_count": 402,
   "id": "28705d55",
   "metadata": {},
   "outputs": [
    {
     "data": {
      "application/vnd.plotly.v1+json": {
       "config": {
        "plotlyServerURL": "https://plot.ly"
       },
       "data": [
        {
         "hovertemplate": "genres=Comedy<br>year=%{x}<br>num_genre_released=%{y}<extra></extra>",
         "legendgroup": "Comedy",
         "marker": {
          "color": "#f1c40f",
          "pattern": {
           "shape": ""
          }
         },
         "name": "Comedy",
         "orientation": "v",
         "showlegend": true,
         "textposition": "auto",
         "type": "bar",
         "x": {
          "bdata": "AAAAAAD0nUAAAAAAAPidQAAAAAAAEJ5AAAAAAAAYnkAAAAAAAByeQAAAAAAAIJ5AAAAAAAAknkAAAAAAACieQAAAAAAALJ5AAAAAAAAwnkAAAAAAADSeQAAAAAAAOJ5AAAAAAAA8nkAAAAAAAECeQAAAAAAARJ5AAAAAAABMnkAAAAAAAFCeQAAAAAAAVJ5AAAAAAABYnkAAAAAAAFyeQAAAAAAAYJ5AAAAAAABwnkAAAAAAAICeQAAAAAAAhJ5AAAAAAACInkAAAAAAAIyeQAAAAAAAlJ5AAAAAAACYnkAAAAAAAJyeQAAAAAAAoJ5AAAAAAACknkAAAAAAAKyeQAAAAAAAsJ5AAAAAAAC0nkAAAAAAALieQAAAAAAAvJ5AAAAAAADAnkAAAAAAAMSeQAAAAAAAyJ5AAAAAAADMnkAAAAAAANCeQAAAAAAA1J5AAAAAAADYnkAAAAAAANyeQAAAAAAA4J5AAAAAAADknkAAAAAAAOieQAAAAAAA7J5AAAAAAADwnkAAAAAAAPSeQAAAAAAA+J5AAAAAAAD8nkAAAAAAAACfQAAAAAAABJ9AAAAAAAAIn0AAAAAAAAyfQAAAAAAAEJ9AAAAAAAAUn0AAAAAAABifQAAAAAAAHJ9AAAAAAAAgn0AAAAAAACSfQAAAAAAAKJ9AAAAAAAAsn0AAAAAAADCfQAAAAAAANJ9AAAAAAAA4n0AAAAAAADyfQAAAAAAAQJ9AAAAAAABEn0AAAAAAAEifQAAAAAAATJ9AAAAAAABQn0AAAAAAAFSfQAAAAAAAWJ9AAAAAAABcn0AAAAAAAGCfQAAAAAAAZJ9AAAAAAABon0AAAAAAAGyfQAAAAAAAcJ9AAAAAAAB0n0AAAAAAAHifQAAAAAAAfJ9AAAAAAACAn0AAAAAAAISfQAAAAAAAiJ9AAAAAAACMn0AAAAAAAJCfQAAAAAAAlJ9AAAAAAACYn0AAAAAAAJyfQAAAAAAAoJ9AAAAAAACkn0A=",
          "dtype": "f8"
         },
         "xaxis": "x",
         "y": {
          "bdata": "DAABAAEAAgABAAIAAQABAAQAAgADAAIAAgAEAAEAAQABAAIAAQABAAEAAgABAAEAAgABAAIAAgABAAIAAQABAAIACgAIAAoACgAJAAsACAAFAAYACwAGAAQACQAGAAoAGAAfABoAGQAiAB4ALAAoADkAPgBOAEIARAA4AEcASwBPAFEAWABsAFgAagCAAIMAlACRALoAuADWAOYA9wAXASIBMwFjAVcBeQFXAUcBOAENAQ4BIgEKAe4AXgA=",
          "dtype": "i2"
         },
         "yaxis": "y"
        },
        {
         "hovertemplate": "genres=Drama<br>year=%{x}<br>num_genre_released=%{y}<extra></extra>",
         "legendgroup": "Drama",
         "marker": {
          "color": "#9b59b6",
          "pattern": {
           "shape": ""
          }
         },
         "name": "Drama",
         "orientation": "v",
         "showlegend": true,
         "textposition": "auto",
         "type": "bar",
         "x": {
          "bdata": "AAAAAAD0nUAAAAAAAPidQAAAAAAAFJ5AAAAAAAAcnkAAAAAAACCeQAAAAAAAKJ5AAAAAAAA0nkAAAAAAAEieQAAAAAAATJ5AAAAAAABQnkAAAAAAAGyeQAAAAAAAcJ5AAAAAAAB4nkAAAAAAAJCeQAAAAAAAmJ5AAAAAAACknkAAAAAAAKieQAAAAAAArJ5AAAAAAACwnkAAAAAAALSeQAAAAAAAuJ5AAAAAAAC8nkAAAAAAAMCeQAAAAAAAxJ5AAAAAAADInkAAAAAAAMyeQAAAAAAA0J5AAAAAAADUnkAAAAAAANieQAAAAAAA3J5AAAAAAADgnkAAAAAAAOSeQAAAAAAA6J5AAAAAAADsnkAAAAAAAPCeQAAAAAAA9J5AAAAAAAD4nkAAAAAAAPyeQAAAAAAAAJ9AAAAAAAAEn0AAAAAAAAifQAAAAAAADJ9AAAAAAAAQn0AAAAAAABSfQAAAAAAAGJ9AAAAAAAAcn0AAAAAAACCfQAAAAAAAJJ9AAAAAAAAon0AAAAAAACyfQAAAAAAAMJ9AAAAAAAA0n0AAAAAAADifQAAAAAAAPJ9AAAAAAABAn0AAAAAAAESfQAAAAAAASJ9AAAAAAABMn0AAAAAAAFCfQAAAAAAAVJ9AAAAAAABYn0AAAAAAAFyfQAAAAAAAYJ9AAAAAAABkn0AAAAAAAGifQAAAAAAAbJ9AAAAAAABwn0AAAAAAAHSfQAAAAAAAeJ9AAAAAAAB8n0AAAAAAAICfQAAAAAAAhJ9AAAAAAACIn0AAAAAAAIyfQAAAAAAAkJ9AAAAAAACUn0AAAAAAAJifQAAAAAAAnJ9AAAAAAACgn0AAAAAAAKSfQA==",
          "dtype": "f8"
         },
         "xaxis": "x",
         "y": {
          "bdata": "BAMBAQIBAQEBAQEBAQEBAgEGBQEBAwQICAcCAgQEBwwXGRQYGA8PFR4kJiAgLi0mJikqKjcwM0pGR2FmX1s+PDdJU0FMUl1pfWNaf01nUBs=",
          "dtype": "i1"
         },
         "yaxis": "y"
        },
        {
         "hovertemplate": "genres=Fantasy<br>year=%{x}<br>num_genre_released=%{y}<extra></extra>",
         "legendgroup": "Fantasy",
         "marker": {
          "color": "#8e44ad",
          "pattern": {
           "shape": ""
          }
         },
         "name": "Fantasy",
         "orientation": "v",
         "showlegend": true,
         "textposition": "auto",
         "type": "bar",
         "x": {
          "bdata": "AAAAAAD4nUAAAAAAABCeQAAAAAAAFJ5AAAAAAAAYnkAAAAAAAByeQAAAAAAAIJ5AAAAAAAAknkAAAAAAACyeQAAAAAAANJ5AAAAAAAA4nkAAAAAAADyeQAAAAAAAQJ5AAAAAAABMnkAAAAAAAFCeQAAAAAAAVJ5AAAAAAABYnkAAAAAAAGieQAAAAAAAdJ5AAAAAAACAnkAAAAAAAIieQAAAAAAAjJ5AAAAAAACQnkAAAAAAAJieQAAAAAAAnJ5AAAAAAACgnkAAAAAAAKSeQAAAAAAAqJ5AAAAAAACsnkAAAAAAALCeQAAAAAAAtJ5AAAAAAAC4nkAAAAAAALyeQAAAAAAAwJ5AAAAAAADEnkAAAAAAAMieQAAAAAAAzJ5AAAAAAADQnkAAAAAAANSeQAAAAAAA2J5AAAAAAADcnkAAAAAAAOCeQAAAAAAA5J5AAAAAAADonkAAAAAAAOyeQAAAAAAA8J5AAAAAAAD0nkAAAAAAAPieQAAAAAAA/J5AAAAAAAAAn0AAAAAAAASfQAAAAAAACJ9AAAAAAAAMn0AAAAAAABCfQAAAAAAAFJ9AAAAAAAAYn0AAAAAAAByfQAAAAAAAIJ9AAAAAAAAkn0AAAAAAACifQAAAAAAALJ9AAAAAAAAwn0AAAAAAADSfQAAAAAAAOJ9AAAAAAAA8n0AAAAAAAECfQAAAAAAARJ9AAAAAAABIn0AAAAAAAEyfQAAAAAAAUJ9AAAAAAABUn0AAAAAAAFifQAAAAAAAXJ9AAAAAAABgn0AAAAAAAGSfQAAAAAAAaJ9AAAAAAABsn0AAAAAAAHCfQAAAAAAAdJ9AAAAAAAB4n0AAAAAAAHyfQAAAAAAAgJ9AAAAAAACEn0AAAAAAAIifQAAAAAAAjJ9AAAAAAACQn0AAAAAAAJSfQAAAAAAAmJ9AAAAAAACcn0AAAAAAAKCfQAAAAAAApJ9A",
          "dtype": "f8"
         },
         "xaxis": "x",
         "y": {
          "bdata": "AQABAAIAAQABAAEAAQAEAAEAAwABAAQAAQABAAEAAQACAAEAAQACAAEAAQAEAAIABAABAAIAAwADAAEABAAGAAQABwADAAIACAAGAAcABAAGAAMACAALAAwADgANAA8ADQAWABsAFQAeAC0ALwA1ADkAPgAmADUANwA2ADkANgA3AFUASwBKAEQAaAB7AHsAbwB7AJgAqACmAL8A0wDXAPoACgHzACYBBwELARkBVwFVAXgA",
          "dtype": "i2"
         },
         "yaxis": "y"
        },
        {
         "hovertemplate": "genres=Slice of Life<br>year=%{x}<br>num_genre_released=%{y}<extra></extra>",
         "legendgroup": "Slice of Life",
         "marker": {
          "color": "#1abc9c",
          "pattern": {
           "shape": ""
          }
         },
         "name": "Slice of Life",
         "orientation": "v",
         "showlegend": true,
         "textposition": "auto",
         "type": "bar",
         "x": {
          "bdata": "AAAAAAAUnkAAAAAAADSeQAAAAAAAqJ5AAAAAAACwnkAAAAAAALSeQAAAAAAAuJ5AAAAAAAC8nkAAAAAAAMCeQAAAAAAAxJ5AAAAAAADInkAAAAAAAMyeQAAAAAAA0J5AAAAAAADYnkAAAAAAANyeQAAAAAAA4J5AAAAAAADknkAAAAAAAOieQAAAAAAA7J5AAAAAAADwnkAAAAAAAPSeQAAAAAAA+J5AAAAAAAD8nkAAAAAAAACfQAAAAAAABJ9AAAAAAAAIn0AAAAAAAAyfQAAAAAAAEJ9AAAAAAAAUn0AAAAAAABifQAAAAAAAHJ9AAAAAAAAgn0AAAAAAACSfQAAAAAAAKJ9AAAAAAAAsn0AAAAAAADCfQAAAAAAANJ9AAAAAAAA4n0AAAAAAADyfQAAAAAAAQJ9AAAAAAABEn0AAAAAAAEifQAAAAAAATJ9AAAAAAABQn0AAAAAAAFSfQAAAAAAAWJ9AAAAAAABcn0AAAAAAAGCfQAAAAAAAZJ9AAAAAAABon0AAAAAAAGyfQAAAAAAAcJ9AAAAAAAB0n0AAAAAAAHifQAAAAAAAfJ9AAAAAAACAn0AAAAAAAISfQAAAAAAAiJ9AAAAAAACMn0AAAAAAAJCfQAAAAAAAlJ9AAAAAAACYn0AAAAAAAJyfQAAAAAAAoJ9AAAAAAACkn0A=",
          "dtype": "f8"
         },
         "xaxis": "x",
         "y": {
          "bdata": "AQEDAQIDAQIFAwICAgMEAgIBBgsKAwUGBQgGBA0IDQkNCgkHCAUGFRMKDhYdHBsjJypGRVNfU2BhSE1dRjgzGg==",
          "dtype": "i1"
         },
         "yaxis": "y"
        },
        {
         "hovertemplate": "genres=Supernatural<br>year=%{x}<br>num_genre_released=%{y}<extra></extra>",
         "legendgroup": "Supernatural",
         "marker": {
          "color": "#2c3e50",
          "pattern": {
           "shape": ""
          }
         },
         "name": "Supernatural",
         "orientation": "v",
         "showlegend": true,
         "textposition": "auto",
         "type": "bar",
         "x": {
          "bdata": "AAAAAAAUnkAAAAAAACSeQAAAAAAANJ5AAAAAAAA8nkAAAAAAAIieQAAAAAAAjJ5AAAAAAACQnkAAAAAAAJieQAAAAAAAtJ5AAAAAAAC8nkAAAAAAAMCeQAAAAAAAzJ5AAAAAAADQnkAAAAAAANSeQAAAAAAA2J5AAAAAAADcnkAAAAAAAOCeQAAAAAAA5J5AAAAAAADonkAAAAAAAOyeQAAAAAAA8J5AAAAAAAD0nkAAAAAAAPieQAAAAAAA/J5AAAAAAAAEn0AAAAAAAAifQAAAAAAADJ9AAAAAAAAQn0AAAAAAABSfQAAAAAAAGJ9AAAAAAAAcn0AAAAAAACCfQAAAAAAAJJ9AAAAAAAAon0AAAAAAACyfQAAAAAAAMJ9AAAAAAAA0n0AAAAAAADifQAAAAAAAPJ9AAAAAAABAn0AAAAAAAESfQAAAAAAASJ9AAAAAAABMn0AAAAAAAFCfQAAAAAAAVJ9AAAAAAABYn0AAAAAAAFyfQAAAAAAAYJ9AAAAAAABkn0AAAAAAAGifQAAAAAAAbJ9AAAAAAABwn0AAAAAAAHSfQAAAAAAAeJ9AAAAAAAB8n0AAAAAAAICfQAAAAAAAhJ9AAAAAAACIn0AAAAAAAIyfQAAAAAAAkJ9AAAAAAACUn0AAAAAAAJifQAAAAAAAnJ9AAAAAAACgn0AAAAAAAKSfQA==",
          "dtype": "f8"
         },
         "xaxis": "x",
         "y": {
          "bdata": "AQEDAwEBAQIBAQECBAIBAQMBAgQDAwICBgQJDAsODQsJEAgPDRQQFhAVHB4kLSMwJjdDOzFDRURERUA0RTY+PBQ=",
          "dtype": "i1"
         },
         "yaxis": "y"
        },
        {
         "hovertemplate": "genres=Adventure<br>year=%{x}<br>num_genre_released=%{y}<extra></extra>",
         "legendgroup": "Adventure",
         "marker": {
          "color": "#f39c12",
          "pattern": {
           "shape": ""
          }
         },
         "name": "Adventure",
         "orientation": "v",
         "showlegend": true,
         "textposition": "auto",
         "type": "bar",
         "x": {
          "bdata": "AAAAAAAYnkAAAAAAAByeQAAAAAAAJJ5AAAAAAAAonkAAAAAAACyeQAAAAAAAMJ5AAAAAAAA0nkAAAAAAADieQAAAAAAAPJ5AAAAAAABAnkAAAAAAAFSeQAAAAAAAXJ5AAAAAAABwnkAAAAAAAHieQAAAAAAAgJ5AAAAAAACYnkAAAAAAAJyeQAAAAAAAoJ5AAAAAAAConkAAAAAAAKyeQAAAAAAAsJ5AAAAAAAC0nkAAAAAAALieQAAAAAAAvJ5AAAAAAADAnkAAAAAAAMSeQAAAAAAAyJ5AAAAAAADMnkAAAAAAANCeQAAAAAAA1J5AAAAAAADYnkAAAAAAANyeQAAAAAAA4J5AAAAAAADknkAAAAAAAOieQAAAAAAA7J5AAAAAAADwnkAAAAAAAPSeQAAAAAAA+J5AAAAAAAD8nkAAAAAAAACfQAAAAAAABJ9AAAAAAAAIn0AAAAAAAAyfQAAAAAAAEJ9AAAAAAAAUn0AAAAAAABifQAAAAAAAHJ9AAAAAAAAgn0AAAAAAACSfQAAAAAAAKJ9AAAAAAAAsn0AAAAAAADCfQAAAAAAANJ9AAAAAAAA4n0AAAAAAADyfQAAAAAAAQJ9AAAAAAABEn0AAAAAAAEifQAAAAAAATJ9AAAAAAABQn0AAAAAAAFSfQAAAAAAAWJ9AAAAAAABcn0AAAAAAAGCfQAAAAAAAZJ9AAAAAAABon0AAAAAAAGyfQAAAAAAAcJ9AAAAAAAB0n0AAAAAAAHifQAAAAAAAfJ9AAAAAAACAn0AAAAAAAISfQAAAAAAAiJ9AAAAAAACMn0AAAAAAAJCfQAAAAAAAlJ9AAAAAAACYn0AAAAAAAJyfQAAAAAAAoJ9AAAAAAACkn0A=",
          "dtype": "f8"
         },
         "xaxis": "x",
         "y": {
          "bdata": "AgABAAEAAgADAAEABAAEAAMAAgACAAEAAQABAAEAAgACAAEAAgAHAAYACgAIAAwABwALAAUABwAJAAoACgAMAA8ACwAYACAAHQAfAB8AHwAeAB8AJwAkACUAMwA1ADAAOAAoADIAOAA+AEkAQQBWAD4AWQBVAFcAVgBOAGgAXwBUAFwAXgBcAGAAXwBzAH0AmgCnAJsAnwCPAIYAogDHAM8ASgA=",
          "dtype": "i2"
         },
         "yaxis": "y"
        },
        {
         "hovertemplate": "genres=Romance<br>year=%{x}<br>num_genre_released=%{y}<extra></extra>",
         "legendgroup": "Romance",
         "marker": {
          "color": "#e91e63",
          "pattern": {
           "shape": ""
          }
         },
         "name": "Romance",
         "orientation": "v",
         "showlegend": true,
         "textposition": "auto",
         "type": "bar",
         "x": {
          "bdata": "AAAAAAAYnkAAAAAAACyeQAAAAAAAOJ5AAAAAAACYnkAAAAAAAKCeQAAAAAAAqJ5AAAAAAACsnkAAAAAAALCeQAAAAAAAtJ5AAAAAAAC8nkAAAAAAAMieQAAAAAAA0J5AAAAAAADUnkAAAAAAANyeQAAAAAAA4J5AAAAAAADknkAAAAAAAOieQAAAAAAA7J5AAAAAAADwnkAAAAAAAPSeQAAAAAAA+J5AAAAAAAD8nkAAAAAAAACfQAAAAAAABJ9AAAAAAAAIn0AAAAAAAAyfQAAAAAAAEJ9AAAAAAAAUn0AAAAAAABifQAAAAAAAHJ9AAAAAAAAgn0AAAAAAACSfQAAAAAAAKJ9AAAAAAAAsn0AAAAAAADCfQAAAAAAANJ9AAAAAAAA4n0AAAAAAADyfQAAAAAAAQJ9AAAAAAABEn0AAAAAAAEifQAAAAAAATJ9AAAAAAABQn0AAAAAAAFSfQAAAAAAAWJ9AAAAAAABcn0AAAAAAAGCfQAAAAAAAZJ9AAAAAAABon0AAAAAAAGyfQAAAAAAAcJ9AAAAAAAB0n0AAAAAAAHifQAAAAAAAfJ9AAAAAAACAn0AAAAAAAISfQAAAAAAAiJ9AAAAAAACMn0AAAAAAAJCfQAAAAAAAlJ9AAAAAAACYn0AAAAAAAJyfQAAAAAAAoJ9AAAAAAACkn0A=",
          "dtype": "f8"
         },
         "xaxis": "x",
         "y": {
          "bdata": "AQEBAQEBAQIBAQEBAgMDAQcEBQQHDRARFgsNDw8QGhgWGhkSFx0ZJy8vNEJNRT8/NjxXR1ZDSVFaREJMQmBMIg==",
          "dtype": "i1"
         },
         "yaxis": "y"
        },
        {
         "hovertemplate": "genres=Action<br>year=%{x}<br>num_genre_released=%{y}<extra></extra>",
         "legendgroup": "Action",
         "marker": {
          "color": "#e74c3c",
          "pattern": {
           "shape": ""
          }
         },
         "name": "Action",
         "orientation": "v",
         "showlegend": true,
         "textposition": "auto",
         "type": "bar",
         "x": {
          "bdata": "AAAAAAAgnkAAAAAAACSeQAAAAAAALJ5AAAAAAAA0nkAAAAAAADieQAAAAAAAPJ5AAAAAAABAnkAAAAAAAESeQAAAAAAASJ5AAAAAAABMnkAAAAAAAFCeQAAAAAAAVJ5AAAAAAABYnkAAAAAAAGSeQAAAAAAAfJ5AAAAAAACAnkAAAAAAAKieQAAAAAAArJ5AAAAAAACwnkAAAAAAALSeQAAAAAAAuJ5AAAAAAAC8nkAAAAAAAMCeQAAAAAAAxJ5AAAAAAADInkAAAAAAAMyeQAAAAAAA0J5AAAAAAADUnkAAAAAAANieQAAAAAAA3J5AAAAAAADgnkAAAAAAAOSeQAAAAAAA6J5AAAAAAADsnkAAAAAAAPCeQAAAAAAA9J5AAAAAAAD4nkAAAAAAAPyeQAAAAAAAAJ9AAAAAAAAEn0AAAAAAAAifQAAAAAAADJ9AAAAAAAAQn0AAAAAAABSfQAAAAAAAGJ9AAAAAAAAcn0AAAAAAACCfQAAAAAAAJJ9AAAAAAAAon0AAAAAAACyfQAAAAAAAMJ9AAAAAAAA0n0AAAAAAADifQAAAAAAAPJ9AAAAAAABAn0AAAAAAAESfQAAAAAAASJ9AAAAAAABMn0AAAAAAAFCfQAAAAAAAVJ9AAAAAAABYn0AAAAAAAFyfQAAAAAAAYJ9AAAAAAABkn0AAAAAAAGifQAAAAAAAbJ9AAAAAAABwn0AAAAAAAHSfQAAAAAAAeJ9AAAAAAAB8n0AAAAAAAICfQAAAAAAAhJ9AAAAAAACIn0AAAAAAAIyfQAAAAAAAkJ9AAAAAAACUn0AAAAAAAJifQAAAAAAAnJ9AAAAAAACgn0AAAAAAAKSfQA==",
          "dtype": "f8"
         },
         "xaxis": "x",
         "y": {
          "bdata": "AQACAAMABQABAAMABAABAAEAAQABAAEAAgABAAEAAQABAAQABAAIAAMABgALAAkAAQAGAAcABgAHAAkADwAMABEAFwARABQAGwAhAB4AIAAvACoALQA5AC8AOgA3ADEANgA4AEAAPABHAE0ANwBCAFkAVwBkAFQAaABzAH8AbwB/AJoAmQCeALQAwwDTANIA9ADoANgA8QD+ACwBKgFxAA==",
          "dtype": "i2"
         },
         "yaxis": "y"
        },
        {
         "hovertemplate": "genres=Sports<br>year=%{x}<br>num_genre_released=%{y}<extra></extra>",
         "legendgroup": "Sports",
         "marker": {
          "color": "#27ae60",
          "pattern": {
           "shape": ""
          }
         },
         "name": "Sports",
         "orientation": "v",
         "showlegend": true,
         "textposition": "auto",
         "type": "bar",
         "x": {
          "bdata": "AAAAAAAgnkAAAAAAACieQAAAAAAALJ5AAAAAAAAwnkAAAAAAADieQAAAAAAAQJ5AAAAAAABMnkAAAAAAAFCeQAAAAAAAdJ5AAAAAAADAnkAAAAAAAMSeQAAAAAAAyJ5AAAAAAADMnkAAAAAAANCeQAAAAAAA1J5AAAAAAADYnkAAAAAAAOCeQAAAAAAA5J5AAAAAAADonkAAAAAAAOyeQAAAAAAA8J5AAAAAAAD0nkAAAAAAAPieQAAAAAAA/J5AAAAAAAAAn0AAAAAAAASfQAAAAAAACJ9AAAAAAAAMn0AAAAAAABCfQAAAAAAAFJ9AAAAAAAAYn0AAAAAAAByfQAAAAAAAIJ9AAAAAAAAkn0AAAAAAACifQAAAAAAALJ9AAAAAAAAwn0AAAAAAADSfQAAAAAAAOJ9AAAAAAAA8n0AAAAAAAECfQAAAAAAARJ9AAAAAAABIn0AAAAAAAEyfQAAAAAAAUJ9AAAAAAABUn0AAAAAAAFifQAAAAAAAXJ9AAAAAAABgn0AAAAAAAGSfQAAAAAAAaJ9AAAAAAABsn0AAAAAAAHCfQAAAAAAAdJ9AAAAAAAB4n0AAAAAAAHyfQAAAAAAAgJ9AAAAAAACEn0AAAAAAAIifQAAAAAAAjJ9AAAAAAACQn0AAAAAAAJSfQAAAAAAAmJ9AAAAAAACcn0AAAAAAAKCfQAAAAAAApJ9A",
          "dtype": "f8"
         },
         "xaxis": "x",
         "y": {
          "bdata": "AQIBAgEBAQECAgYNAwEDAQEFAgcHBQUKCQkOCQsICAkICBIICggFAgUMDwwJDggVDBMUFBYfHBcuICMdFx0fFB8K",
          "dtype": "i1"
         },
         "yaxis": "y"
        },
        {
         "hovertemplate": "genres=Avant Garde<br>year=%{x}<br>num_genre_released=%{y}<extra></extra>",
         "legendgroup": "Avant Garde",
         "marker": {
          "color": "#8e44ad",
          "pattern": {
           "shape": ""
          }
         },
         "name": "Avant Garde",
         "orientation": "v",
         "showlegend": true,
         "textposition": "auto",
         "type": "bar",
         "x": {
          "bdata": "AAAAAAAwnkAAAAAAADyeQAAAAAAAoJ5AAAAAAACknkAAAAAAAKieQAAAAAAArJ5AAAAAAACwnkAAAAAAALSeQAAAAAAAuJ5AAAAAAAC8nkAAAAAAAMCeQAAAAAAAxJ5AAAAAAADInkAAAAAAAMyeQAAAAAAA0J5AAAAAAADUnkAAAAAAANieQAAAAAAA3J5AAAAAAADknkAAAAAAAOieQAAAAAAA7J5AAAAAAADwnkAAAAAAAPSeQAAAAAAA+J5AAAAAAAD8nkAAAAAAAACfQAAAAAAABJ9AAAAAAAAIn0AAAAAAAAyfQAAAAAAAEJ9AAAAAAAAUn0AAAAAAABifQAAAAAAAHJ9AAAAAAAAgn0AAAAAAACSfQAAAAAAAKJ9AAAAAAAAsn0AAAAAAADCfQAAAAAAANJ9AAAAAAAA4n0AAAAAAADyfQAAAAAAAQJ9AAAAAAABEn0AAAAAAAEifQAAAAAAATJ9AAAAAAABQn0AAAAAAAFSfQAAAAAAAWJ9AAAAAAABcn0AAAAAAAGCfQAAAAAAAZJ9AAAAAAABon0AAAAAAAGyfQAAAAAAAcJ9AAAAAAAB0n0AAAAAAAHifQAAAAAAAfJ9AAAAAAACAn0AAAAAAAISfQAAAAAAAiJ9AAAAAAACMn0AAAAAAAJCfQAAAAAAAlJ9AAAAAAACYn0AAAAAAAJyfQAAAAAAAoJ9AAAAAAACkn0A=",
          "dtype": "f8"
         },
         "xaxis": "x",
         "y": {
          "bdata": "AQMDAQEGBwECAwIDAgsFBAUIAgQDAwQIBQkPBg4JCQkCBAQICAMFCQ0LCBYXERwWFRQcJSokJSkuLCkiOh4qJygvBA==",
          "dtype": "i1"
         },
         "yaxis": "y"
        },
        {
         "hovertemplate": "genres=Hentai<br>year=%{x}<br>num_genre_released=%{y}<extra></extra>",
         "legendgroup": "Hentai",
         "marker": {
          "color": "#6D214F",
          "pattern": {
           "shape": ""
          }
         },
         "name": "Hentai",
         "orientation": "v",
         "showlegend": true,
         "textposition": "auto",
         "type": "bar",
         "x": {
          "bdata": "AAAAAAAwnkAAAAAAAMSeQAAAAAAAzJ5AAAAAAAAAn0AAAAAAAASfQAAAAAAACJ9AAAAAAAAMn0AAAAAAABCfQAAAAAAAFJ9AAAAAAAAYn0AAAAAAAByfQAAAAAAAIJ9AAAAAAAAkn0AAAAAAACifQAAAAAAALJ9AAAAAAAAwn0AAAAAAADSfQAAAAAAAOJ9AAAAAAAA8n0AAAAAAAECfQAAAAAAARJ9AAAAAAABIn0AAAAAAAEyfQAAAAAAAUJ9AAAAAAABUn0AAAAAAAFifQAAAAAAAXJ9AAAAAAABgn0AAAAAAAGSfQAAAAAAAaJ9AAAAAAABsn0AAAAAAAHCfQAAAAAAAdJ9AAAAAAAB4n0AAAAAAAHyfQAAAAAAAgJ9AAAAAAACEn0AAAAAAAIifQAAAAAAAjJ9AAAAAAACQn0AAAAAAAJSfQAAAAAAAmJ9AAAAAAACcn0AAAAAAAKCfQAAAAAAApJ9A",
          "dtype": "f8"
         },
         "xaxis": "x",
         "y": {
          "bdata": "AQEBBw8BBAQGCwgEAxIRHRcYHipSREg5KigvJyw6Py87QTk4OTUuNTEwLzIT",
          "dtype": "i1"
         },
         "yaxis": "y"
        },
        {
         "hovertemplate": "genres=Mystery<br>year=%{x}<br>num_genre_released=%{y}<extra></extra>",
         "legendgroup": "Mystery",
         "marker": {
          "color": "#34495e",
          "pattern": {
           "shape": ""
          }
         },
         "name": "Mystery",
         "orientation": "v",
         "showlegend": true,
         "textposition": "auto",
         "type": "bar",
         "x": {
          "bdata": "AAAAAAAwnkAAAAAAALCeQAAAAAAAuJ5AAAAAAAC8nkAAAAAAAMCeQAAAAAAAzJ5AAAAAAADQnkAAAAAAANyeQAAAAAAA5J5AAAAAAADonkAAAAAAAOyeQAAAAAAA9J5AAAAAAAD8nkAAAAAAAACfQAAAAAAABJ9AAAAAAAAIn0AAAAAAAAyfQAAAAAAAEJ9AAAAAAAAUn0AAAAAAABifQAAAAAAAHJ9AAAAAAAAgn0AAAAAAACSfQAAAAAAAKJ9AAAAAAAAsn0AAAAAAADCfQAAAAAAANJ9AAAAAAAA4n0AAAAAAADyfQAAAAAAAQJ9AAAAAAABEn0AAAAAAAEifQAAAAAAATJ9AAAAAAABQn0AAAAAAAFSfQAAAAAAAWJ9AAAAAAABcn0AAAAAAAGCfQAAAAAAAZJ9AAAAAAABon0AAAAAAAGyfQAAAAAAAcJ9AAAAAAAB0n0AAAAAAAHifQAAAAAAAfJ9AAAAAAACAn0AAAAAAAISfQAAAAAAAiJ9AAAAAAACMn0AAAAAAAJCfQAAAAAAAlJ9AAAAAAACYn0AAAAAAAJyfQAAAAAAAoJ9AAAAAAACkn0A=",
          "dtype": "f8"
         },
         "xaxis": "x",
         "y": {
          "bdata": "AQIBAQEBAQEDAwMCAgQEBAwEBwYMCAcFCAsJCw0QDRUUFBQeHh0cFx0jGCEjLyomMSYyJishFQ==",
          "dtype": "i1"
         },
         "yaxis": "y"
        },
        {
         "hovertemplate": "genres=Sci-Fi<br>year=%{x}<br>num_genre_released=%{y}<extra></extra>",
         "legendgroup": "Sci-Fi",
         "marker": {
          "color": "#2980b9",
          "pattern": {
           "shape": ""
          }
         },
         "name": "Sci-Fi",
         "orientation": "v",
         "showlegend": true,
         "textposition": "auto",
         "type": "bar",
         "x": {
          "bdata": "AAAAAAA0nkAAAAAAAKSeQAAAAAAArJ5AAAAAAACwnkAAAAAAALSeQAAAAAAAuJ5AAAAAAAC8nkAAAAAAAMCeQAAAAAAAxJ5AAAAAAADInkAAAAAAAMyeQAAAAAAA0J5AAAAAAADUnkAAAAAAANieQAAAAAAA3J5AAAAAAADgnkAAAAAAAOSeQAAAAAAA6J5AAAAAAADsnkAAAAAAAPCeQAAAAAAA9J5AAAAAAAD4nkAAAAAAAPyeQAAAAAAAAJ9AAAAAAAAEn0AAAAAAAAifQAAAAAAADJ9AAAAAAAAQn0AAAAAAABSfQAAAAAAAGJ9AAAAAAAAcn0AAAAAAACCfQAAAAAAAJJ9AAAAAAAAon0AAAAAAACyfQAAAAAAAMJ9AAAAAAAA0n0AAAAAAADifQAAAAAAAPJ9AAAAAAABAn0AAAAAAAESfQAAAAAAASJ9AAAAAAABMn0AAAAAAAFCfQAAAAAAAVJ9AAAAAAABYn0AAAAAAAFyfQAAAAAAAYJ9AAAAAAABkn0AAAAAAAGifQAAAAAAAbJ9AAAAAAABwn0AAAAAAAHSfQAAAAAAAeJ9AAAAAAAB8n0AAAAAAAICfQAAAAAAAhJ9AAAAAAACIn0AAAAAAAIyfQAAAAAAAkJ9AAAAAAACUn0AAAAAAAJifQAAAAAAAnJ9AAAAAAACgn0AAAAAAAKSfQA==",
          "dtype": "f8"
         },
         "xaxis": "x",
         "y": {
          "bdata": "AQABAAMAAwAKAAUABQAGAAMAAQACAAQABwAKAAgADQANABQAGwAXACAAIQAeACEAJwAqAC4AJwArACgAJgApACMALQAnACwAJgBDAEsANgBLAGIAWgBZAEgAUQBLAEkAUQBOAFUAZQBTAGcAYACBAH4AbwCEAGMAaABhAGkAZAAxAA==",
          "dtype": "i2"
         },
         "yaxis": "y"
        },
        {
         "hovertemplate": "genres=Gourmet<br>year=%{x}<br>num_genre_released=%{y}<extra></extra>",
         "legendgroup": "Gourmet",
         "marker": {
          "color": "#d35400",
          "pattern": {
           "shape": ""
          }
         },
         "name": "Gourmet",
         "orientation": "v",
         "showlegend": true,
         "textposition": "auto",
         "type": "bar",
         "x": {
          "bdata": "AAAAAACYnkAAAAAAAAyfQAAAAAAAEJ9AAAAAAAAUn0AAAAAAAByfQAAAAAAAIJ9AAAAAAAAkn0AAAAAAADSfQAAAAAAAPJ9AAAAAAABAn0AAAAAAAESfQAAAAAAASJ9AAAAAAABQn0AAAAAAAFSfQAAAAAAAWJ9AAAAAAABcn0AAAAAAAGCfQAAAAAAAZJ9AAAAAAABon0AAAAAAAGyfQAAAAAAAcJ9AAAAAAAB0n0AAAAAAAHifQAAAAAAAfJ9AAAAAAACAn0AAAAAAAISfQAAAAAAAiJ9AAAAAAACMn0AAAAAAAJCfQAAAAAAAlJ9AAAAAAACYn0AAAAAAAJyfQAAAAAAAoJ9AAAAAAACkn0A=",
          "dtype": "f8"
         },
         "xaxis": "x",
         "y": {
          "bdata": "AQEBAwMDAQEBAQICAgIFBQIGBAcHBgYIDRISCAcMDQkZBg==",
          "dtype": "i1"
         },
         "yaxis": "y"
        },
        {
         "hovertemplate": "genres=Horror<br>year=%{x}<br>num_genre_released=%{y}<extra></extra>",
         "legendgroup": "Horror",
         "marker": {
          "color": "#c0392b",
          "pattern": {
           "shape": ""
          }
         },
         "name": "Horror",
         "orientation": "v",
         "showlegend": true,
         "textposition": "auto",
         "type": "bar",
         "x": {
          "bdata": "AAAAAACYnkAAAAAAALyeQAAAAAAAwJ5AAAAAAADQnkAAAAAAANSeQAAAAAAA4J5AAAAAAADwnkAAAAAAAPSeQAAAAAAA+J5AAAAAAAAEn0AAAAAAAAifQAAAAAAADJ9AAAAAAAAQn0AAAAAAABSfQAAAAAAAGJ9AAAAAAAAcn0AAAAAAACCfQAAAAAAAJJ9AAAAAAAAon0AAAAAAACyfQAAAAAAAMJ9AAAAAAAA0n0AAAAAAADifQAAAAAAAPJ9AAAAAAABAn0AAAAAAAESfQAAAAAAASJ9AAAAAAABMn0AAAAAAAFCfQAAAAAAAVJ9AAAAAAABYn0AAAAAAAFyfQAAAAAAAYJ9AAAAAAABkn0AAAAAAAGifQAAAAAAAbJ9AAAAAAABwn0AAAAAAAHSfQAAAAAAAeJ9AAAAAAAB8n0AAAAAAAICfQAAAAAAAhJ9AAAAAAACIn0AAAAAAAIyfQAAAAAAAkJ9AAAAAAACUn0AAAAAAAJifQAAAAAAAnJ9AAAAAAACgn0AAAAAAAKSfQA==",
          "dtype": "f8"
         },
         "xaxis": "x",
         "y": {
          "bdata": "AQEDAgEBAwQDAgcNCAkMDAcFCw8KCgkJFgoIDA0IFw8NCgsMGgoQEx8fHA4OEQsQDAc=",
          "dtype": "i1"
         },
         "yaxis": "y"
        },
        {
         "hovertemplate": "genres=Award Winning<br>year=%{x}<br>num_genre_released=%{y}<extra></extra>",
         "legendgroup": "Award Winning",
         "marker": {
          "color": "#27ae60",
          "pattern": {
           "shape": ""
          }
         },
         "name": "Award Winning",
         "orientation": "v",
         "showlegend": true,
         "textposition": "auto",
         "type": "bar",
         "x": {
          "bdata": "AAAAAACgnkAAAAAAAKieQAAAAAAArJ5AAAAAAACwnkAAAAAAALSeQAAAAAAAuJ5AAAAAAAC8nkAAAAAAAMCeQAAAAAAAyJ5AAAAAAADMnkAAAAAAANCeQAAAAAAA1J5AAAAAAADYnkAAAAAAANyeQAAAAAAA4J5AAAAAAADknkAAAAAAAOyeQAAAAAAA8J5AAAAAAAD4nkAAAAAAAPyeQAAAAAAAAJ9AAAAAAAAEn0AAAAAAAAifQAAAAAAADJ9AAAAAAAAQn0AAAAAAABSfQAAAAAAAGJ9AAAAAAAAcn0AAAAAAACCfQAAAAAAAJJ9AAAAAAAAon0AAAAAAACyfQAAAAAAAMJ9AAAAAAAA0n0AAAAAAADifQAAAAAAAPJ9AAAAAAABAn0AAAAAAAESfQAAAAAAASJ9AAAAAAABMn0AAAAAAAFCfQAAAAAAAVJ9AAAAAAABYn0AAAAAAAFyfQAAAAAAAYJ9AAAAAAABkn0AAAAAAAGifQAAAAAAAbJ9AAAAAAABwn0AAAAAAAHSfQAAAAAAAeJ9AAAAAAAB8n0AAAAAAAICfQAAAAAAAhJ9AAAAAAACIn0AAAAAAAIyfQAAAAAAAkJ9AAAAAAACUn0AAAAAAAJifQAAAAAAAnJ9AAAAAAACgn0A=",
          "dtype": "f8"
         },
         "xaxis": "x",
         "y": {
          "bdata": "AQEBAQEBAQEDAQEBAgEBAQIBAgEBAQECAgECAgICAgQCBAwEBwQKBgkIBwYHBgcJCQoJCQcDCwcGDQgHAw==",
          "dtype": "i1"
         },
         "yaxis": "y"
        },
        {
         "hovertemplate": "genres=Ecchi<br>year=%{x}<br>num_genre_released=%{y}<extra></extra>",
         "legendgroup": "Ecchi",
         "marker": {
          "color": "#f368e0",
          "pattern": {
           "shape": ""
          }
         },
         "name": "Ecchi",
         "orientation": "v",
         "showlegend": true,
         "textposition": "auto",
         "type": "bar",
         "x": {
          "bdata": "AAAAAACsnkAAAAAAANSeQAAAAAAA8J5AAAAAAAD0nkAAAAAAAASfQAAAAAAACJ9AAAAAAAAMn0AAAAAAABCfQAAAAAAAFJ9AAAAAAAAYn0AAAAAAAByfQAAAAAAAIJ9AAAAAAAAkn0AAAAAAACifQAAAAAAALJ9AAAAAAAAwn0AAAAAAADSfQAAAAAAAOJ9AAAAAAAA8n0AAAAAAAECfQAAAAAAARJ9AAAAAAABIn0AAAAAAAEyfQAAAAAAAUJ9AAAAAAABUn0AAAAAAAFifQAAAAAAAXJ9AAAAAAABgn0AAAAAAAGSfQAAAAAAAaJ9AAAAAAABsn0AAAAAAAHCfQAAAAAAAdJ9AAAAAAAB4n0AAAAAAAHyfQAAAAAAAgJ9AAAAAAACEn0AAAAAAAIifQAAAAAAAjJ9AAAAAAACQn0AAAAAAAJSfQAAAAAAAmJ9AAAAAAACcn0AAAAAAAKCfQAAAAAAApJ9A",
          "dtype": "f8"
         },
         "xaxis": "x",
         "y": {
          "bdata": "AQEBAgICBgQIBgoMAgcICg4MDQcMDxUcGxQbJCguNi0hKzAiHRkZEg0JDQwE",
          "dtype": "i1"
         },
         "yaxis": "y"
        },
        {
         "hovertemplate": "genres=Suspense<br>year=%{x}<br>num_genre_released=%{y}<extra></extra>",
         "legendgroup": "Suspense",
         "marker": {
          "color": "#7f8c8d",
          "pattern": {
           "shape": ""
          }
         },
         "name": "Suspense",
         "orientation": "v",
         "showlegend": true,
         "textposition": "auto",
         "type": "bar",
         "x": {
          "bdata": "AAAAAADcnkAAAAAAAAifQAAAAAAAFJ9AAAAAAAAYn0AAAAAAAByfQAAAAAAAIJ9AAAAAAAAkn0AAAAAAACifQAAAAAAALJ9AAAAAAAAwn0AAAAAAADSfQAAAAAAAOJ9AAAAAAAA8n0AAAAAAAECfQAAAAAAARJ9AAAAAAABIn0AAAAAAAEyfQAAAAAAAUJ9AAAAAAABUn0AAAAAAAFifQAAAAAAAXJ9AAAAAAABgn0AAAAAAAGSfQAAAAAAAaJ9AAAAAAABsn0AAAAAAAHCfQAAAAAAAdJ9AAAAAAAB4n0AAAAAAAHyfQAAAAAAAgJ9AAAAAAACEn0AAAAAAAIifQAAAAAAAjJ9AAAAAAACQn0AAAAAAAJSfQAAAAAAAmJ9AAAAAAACcn0AAAAAAAKCfQAAAAAAApJ9A",
          "dtype": "f8"
         },
         "xaxis": "x",
         "y": {
          "bdata": "AQEBAgICAQEDAQUDAwQCBwcKBgwLDw8LDhAOFhEYGhgWGSISFhwG",
          "dtype": "i1"
         },
         "yaxis": "y"
        },
        {
         "hovertemplate": "genres=Boys Love<br>year=%{x}<br>num_genre_released=%{y}<extra></extra>",
         "legendgroup": "Boys Love",
         "marker": {
          "color": "#fd79a8",
          "pattern": {
           "shape": ""
          }
         },
         "name": "Boys Love",
         "orientation": "v",
         "showlegend": true,
         "textposition": "auto",
         "type": "bar",
         "x": {
          "bdata": "AAAAAAD0nkAAAAAAAPieQAAAAAAA/J5AAAAAAAAMn0AAAAAAABSfQAAAAAAAGJ9AAAAAAAAgn0AAAAAAACifQAAAAAAALJ9AAAAAAAAwn0AAAAAAADSfQAAAAAAAOJ9AAAAAAAA8n0AAAAAAAECfQAAAAAAARJ9AAAAAAABIn0AAAAAAAFCfQAAAAAAAVJ9AAAAAAABYn0AAAAAAAFyfQAAAAAAAYJ9AAAAAAABkn0AAAAAAAGifQAAAAAAAbJ9AAAAAAABwn0AAAAAAAHSfQAAAAAAAeJ9AAAAAAAB8n0AAAAAAAICfQAAAAAAAhJ9AAAAAAACIn0AAAAAAAIyfQAAAAAAAkJ9AAAAAAACUn0AAAAAAAJifQAAAAAAAnJ9AAAAAAACgn0AAAAAAAKSfQA==",
          "dtype": "f8"
         },
         "xaxis": "x",
         "y": {
          "bdata": "AQEBAQIBAgcCBAEBAQIBAwQHBgcHAwgEBQIHAggGDAcLCwUODAY=",
          "dtype": "i1"
         },
         "yaxis": "y"
        },
        {
         "hovertemplate": "genres=Girls Love<br>year=%{x}<br>num_genre_released=%{y}<extra></extra>",
         "legendgroup": "Girls Love",
         "marker": {
          "color": "#e84393",
          "pattern": {
           "shape": ""
          }
         },
         "name": "Girls Love",
         "orientation": "v",
         "showlegend": true,
         "textposition": "auto",
         "type": "bar",
         "x": {
          "bdata": "AAAAAAAEn0AAAAAAAByfQAAAAAAAKJ9AAAAAAAAsn0AAAAAAADCfQAAAAAAANJ9AAAAAAAA8n0AAAAAAAESfQAAAAAAATJ9AAAAAAABQn0AAAAAAAFifQAAAAAAAXJ9AAAAAAABgn0AAAAAAAGSfQAAAAAAAaJ9AAAAAAABsn0AAAAAAAHCfQAAAAAAAdJ9AAAAAAAB4n0AAAAAAAHyfQAAAAAAAhJ9AAAAAAACIn0AAAAAAAIyfQAAAAAAAkJ9AAAAAAACUn0AAAAAAAJifQAAAAAAAnJ9AAAAAAACgn0AAAAAAAKSfQA==",
          "dtype": "f8"
         },
         "xaxis": "x",
         "y": {
          "bdata": "AQEEAgEBAgIDBwYDBQgEBAUBBgoDBgUDAwEHBQE=",
          "dtype": "i1"
         },
         "yaxis": "y"
        },
        {
         "hovertemplate": "genres=Erotica<br>year=%{x}<br>num_genre_released=%{y}<extra></extra>",
         "legendgroup": "Erotica",
         "marker": {
          "color": "#c44569",
          "pattern": {
           "shape": ""
          }
         },
         "name": "Erotica",
         "orientation": "v",
         "showlegend": true,
         "textposition": "auto",
         "type": "bar",
         "x": {
          "bdata": "AAAAAAAMn0AAAAAAABifQAAAAAAAIJ9AAAAAAAAon0AAAAAAADCfQAAAAAAANJ9AAAAAAABEn0AAAAAAAEifQAAAAAAATJ9AAAAAAABUn0AAAAAAAFifQAAAAAAAXJ9AAAAAAABgn0AAAAAAAGSfQAAAAAAAaJ9AAAAAAABsn0AAAAAAAHCfQAAAAAAAdJ9AAAAAAAB8n0AAAAAAAISfQAAAAAAAiJ9AAAAAAACMn0AAAAAAAJCfQAAAAAAAlJ9AAAAAAACYn0AAAAAAAKCfQAAAAAAApJ9A",
          "dtype": "f8"
         },
         "xaxis": "x",
         "y": {
          "bdata": "AgIDAQECAQEBAgEGAgQHAgIFBAYDAQUDBAED",
          "dtype": "i1"
         },
         "yaxis": "y"
        }
       ],
       "layout": {
        "barmode": "relative",
        "legend": {
         "title": {
          "text": "genres"
         },
         "tracegroupgap": 0
        },
        "margin": {
         "t": 60
        },
        "template": {
         "data": {
          "bar": [
           {
            "error_x": {
             "color": "#2a3f5f"
            },
            "error_y": {
             "color": "#2a3f5f"
            },
            "marker": {
             "line": {
              "color": "#E5ECF6",
              "width": 0.5
             },
             "pattern": {
              "fillmode": "overlay",
              "size": 10,
              "solidity": 0.2
             }
            },
            "type": "bar"
           }
          ],
          "barpolar": [
           {
            "marker": {
             "line": {
              "color": "#E5ECF6",
              "width": 0.5
             },
             "pattern": {
              "fillmode": "overlay",
              "size": 10,
              "solidity": 0.2
             }
            },
            "type": "barpolar"
           }
          ],
          "carpet": [
           {
            "aaxis": {
             "endlinecolor": "#2a3f5f",
             "gridcolor": "white",
             "linecolor": "white",
             "minorgridcolor": "white",
             "startlinecolor": "#2a3f5f"
            },
            "baxis": {
             "endlinecolor": "#2a3f5f",
             "gridcolor": "white",
             "linecolor": "white",
             "minorgridcolor": "white",
             "startlinecolor": "#2a3f5f"
            },
            "type": "carpet"
           }
          ],
          "choropleth": [
           {
            "colorbar": {
             "outlinewidth": 0,
             "ticks": ""
            },
            "type": "choropleth"
           }
          ],
          "contour": [
           {
            "colorbar": {
             "outlinewidth": 0,
             "ticks": ""
            },
            "colorscale": [
             [
              0,
              "#0d0887"
             ],
             [
              0.1111111111111111,
              "#46039f"
             ],
             [
              0.2222222222222222,
              "#7201a8"
             ],
             [
              0.3333333333333333,
              "#9c179e"
             ],
             [
              0.4444444444444444,
              "#bd3786"
             ],
             [
              0.5555555555555556,
              "#d8576b"
             ],
             [
              0.6666666666666666,
              "#ed7953"
             ],
             [
              0.7777777777777778,
              "#fb9f3a"
             ],
             [
              0.8888888888888888,
              "#fdca26"
             ],
             [
              1,
              "#f0f921"
             ]
            ],
            "type": "contour"
           }
          ],
          "contourcarpet": [
           {
            "colorbar": {
             "outlinewidth": 0,
             "ticks": ""
            },
            "type": "contourcarpet"
           }
          ],
          "heatmap": [
           {
            "colorbar": {
             "outlinewidth": 0,
             "ticks": ""
            },
            "colorscale": [
             [
              0,
              "#0d0887"
             ],
             [
              0.1111111111111111,
              "#46039f"
             ],
             [
              0.2222222222222222,
              "#7201a8"
             ],
             [
              0.3333333333333333,
              "#9c179e"
             ],
             [
              0.4444444444444444,
              "#bd3786"
             ],
             [
              0.5555555555555556,
              "#d8576b"
             ],
             [
              0.6666666666666666,
              "#ed7953"
             ],
             [
              0.7777777777777778,
              "#fb9f3a"
             ],
             [
              0.8888888888888888,
              "#fdca26"
             ],
             [
              1,
              "#f0f921"
             ]
            ],
            "type": "heatmap"
           }
          ],
          "histogram": [
           {
            "marker": {
             "pattern": {
              "fillmode": "overlay",
              "size": 10,
              "solidity": 0.2
             }
            },
            "type": "histogram"
           }
          ],
          "histogram2d": [
           {
            "colorbar": {
             "outlinewidth": 0,
             "ticks": ""
            },
            "colorscale": [
             [
              0,
              "#0d0887"
             ],
             [
              0.1111111111111111,
              "#46039f"
             ],
             [
              0.2222222222222222,
              "#7201a8"
             ],
             [
              0.3333333333333333,
              "#9c179e"
             ],
             [
              0.4444444444444444,
              "#bd3786"
             ],
             [
              0.5555555555555556,
              "#d8576b"
             ],
             [
              0.6666666666666666,
              "#ed7953"
             ],
             [
              0.7777777777777778,
              "#fb9f3a"
             ],
             [
              0.8888888888888888,
              "#fdca26"
             ],
             [
              1,
              "#f0f921"
             ]
            ],
            "type": "histogram2d"
           }
          ],
          "histogram2dcontour": [
           {
            "colorbar": {
             "outlinewidth": 0,
             "ticks": ""
            },
            "colorscale": [
             [
              0,
              "#0d0887"
             ],
             [
              0.1111111111111111,
              "#46039f"
             ],
             [
              0.2222222222222222,
              "#7201a8"
             ],
             [
              0.3333333333333333,
              "#9c179e"
             ],
             [
              0.4444444444444444,
              "#bd3786"
             ],
             [
              0.5555555555555556,
              "#d8576b"
             ],
             [
              0.6666666666666666,
              "#ed7953"
             ],
             [
              0.7777777777777778,
              "#fb9f3a"
             ],
             [
              0.8888888888888888,
              "#fdca26"
             ],
             [
              1,
              "#f0f921"
             ]
            ],
            "type": "histogram2dcontour"
           }
          ],
          "mesh3d": [
           {
            "colorbar": {
             "outlinewidth": 0,
             "ticks": ""
            },
            "type": "mesh3d"
           }
          ],
          "parcoords": [
           {
            "line": {
             "colorbar": {
              "outlinewidth": 0,
              "ticks": ""
             }
            },
            "type": "parcoords"
           }
          ],
          "pie": [
           {
            "automargin": true,
            "type": "pie"
           }
          ],
          "scatter": [
           {
            "fillpattern": {
             "fillmode": "overlay",
             "size": 10,
             "solidity": 0.2
            },
            "type": "scatter"
           }
          ],
          "scatter3d": [
           {
            "line": {
             "colorbar": {
              "outlinewidth": 0,
              "ticks": ""
             }
            },
            "marker": {
             "colorbar": {
              "outlinewidth": 0,
              "ticks": ""
             }
            },
            "type": "scatter3d"
           }
          ],
          "scattercarpet": [
           {
            "marker": {
             "colorbar": {
              "outlinewidth": 0,
              "ticks": ""
             }
            },
            "type": "scattercarpet"
           }
          ],
          "scattergeo": [
           {
            "marker": {
             "colorbar": {
              "outlinewidth": 0,
              "ticks": ""
             }
            },
            "type": "scattergeo"
           }
          ],
          "scattergl": [
           {
            "marker": {
             "colorbar": {
              "outlinewidth": 0,
              "ticks": ""
             }
            },
            "type": "scattergl"
           }
          ],
          "scattermap": [
           {
            "marker": {
             "colorbar": {
              "outlinewidth": 0,
              "ticks": ""
             }
            },
            "type": "scattermap"
           }
          ],
          "scattermapbox": [
           {
            "marker": {
             "colorbar": {
              "outlinewidth": 0,
              "ticks": ""
             }
            },
            "type": "scattermapbox"
           }
          ],
          "scatterpolar": [
           {
            "marker": {
             "colorbar": {
              "outlinewidth": 0,
              "ticks": ""
             }
            },
            "type": "scatterpolar"
           }
          ],
          "scatterpolargl": [
           {
            "marker": {
             "colorbar": {
              "outlinewidth": 0,
              "ticks": ""
             }
            },
            "type": "scatterpolargl"
           }
          ],
          "scatterternary": [
           {
            "marker": {
             "colorbar": {
              "outlinewidth": 0,
              "ticks": ""
             }
            },
            "type": "scatterternary"
           }
          ],
          "surface": [
           {
            "colorbar": {
             "outlinewidth": 0,
             "ticks": ""
            },
            "colorscale": [
             [
              0,
              "#0d0887"
             ],
             [
              0.1111111111111111,
              "#46039f"
             ],
             [
              0.2222222222222222,
              "#7201a8"
             ],
             [
              0.3333333333333333,
              "#9c179e"
             ],
             [
              0.4444444444444444,
              "#bd3786"
             ],
             [
              0.5555555555555556,
              "#d8576b"
             ],
             [
              0.6666666666666666,
              "#ed7953"
             ],
             [
              0.7777777777777778,
              "#fb9f3a"
             ],
             [
              0.8888888888888888,
              "#fdca26"
             ],
             [
              1,
              "#f0f921"
             ]
            ],
            "type": "surface"
           }
          ],
          "table": [
           {
            "cells": {
             "fill": {
              "color": "#EBF0F8"
             },
             "line": {
              "color": "white"
             }
            },
            "header": {
             "fill": {
              "color": "#C8D4E3"
             },
             "line": {
              "color": "white"
             }
            },
            "type": "table"
           }
          ]
         },
         "layout": {
          "annotationdefaults": {
           "arrowcolor": "#2a3f5f",
           "arrowhead": 0,
           "arrowwidth": 1
          },
          "autotypenumbers": "strict",
          "coloraxis": {
           "colorbar": {
            "outlinewidth": 0,
            "ticks": ""
           }
          },
          "colorscale": {
           "diverging": [
            [
             0,
             "#8e0152"
            ],
            [
             0.1,
             "#c51b7d"
            ],
            [
             0.2,
             "#de77ae"
            ],
            [
             0.3,
             "#f1b6da"
            ],
            [
             0.4,
             "#fde0ef"
            ],
            [
             0.5,
             "#f7f7f7"
            ],
            [
             0.6,
             "#e6f5d0"
            ],
            [
             0.7,
             "#b8e186"
            ],
            [
             0.8,
             "#7fbc41"
            ],
            [
             0.9,
             "#4d9221"
            ],
            [
             1,
             "#276419"
            ]
           ],
           "sequential": [
            [
             0,
             "#0d0887"
            ],
            [
             0.1111111111111111,
             "#46039f"
            ],
            [
             0.2222222222222222,
             "#7201a8"
            ],
            [
             0.3333333333333333,
             "#9c179e"
            ],
            [
             0.4444444444444444,
             "#bd3786"
            ],
            [
             0.5555555555555556,
             "#d8576b"
            ],
            [
             0.6666666666666666,
             "#ed7953"
            ],
            [
             0.7777777777777778,
             "#fb9f3a"
            ],
            [
             0.8888888888888888,
             "#fdca26"
            ],
            [
             1,
             "#f0f921"
            ]
           ],
           "sequentialminus": [
            [
             0,
             "#0d0887"
            ],
            [
             0.1111111111111111,
             "#46039f"
            ],
            [
             0.2222222222222222,
             "#7201a8"
            ],
            [
             0.3333333333333333,
             "#9c179e"
            ],
            [
             0.4444444444444444,
             "#bd3786"
            ],
            [
             0.5555555555555556,
             "#d8576b"
            ],
            [
             0.6666666666666666,
             "#ed7953"
            ],
            [
             0.7777777777777778,
             "#fb9f3a"
            ],
            [
             0.8888888888888888,
             "#fdca26"
            ],
            [
             1,
             "#f0f921"
            ]
           ]
          },
          "colorway": [
           "#636efa",
           "#EF553B",
           "#00cc96",
           "#ab63fa",
           "#FFA15A",
           "#19d3f3",
           "#FF6692",
           "#B6E880",
           "#FF97FF",
           "#FECB52"
          ],
          "font": {
           "color": "#2a3f5f"
          },
          "geo": {
           "bgcolor": "white",
           "lakecolor": "white",
           "landcolor": "#E5ECF6",
           "showlakes": true,
           "showland": true,
           "subunitcolor": "white"
          },
          "hoverlabel": {
           "align": "left"
          },
          "hovermode": "closest",
          "mapbox": {
           "style": "light"
          },
          "paper_bgcolor": "white",
          "plot_bgcolor": "#E5ECF6",
          "polar": {
           "angularaxis": {
            "gridcolor": "white",
            "linecolor": "white",
            "ticks": ""
           },
           "bgcolor": "#E5ECF6",
           "radialaxis": {
            "gridcolor": "white",
            "linecolor": "white",
            "ticks": ""
           }
          },
          "scene": {
           "xaxis": {
            "backgroundcolor": "#E5ECF6",
            "gridcolor": "white",
            "gridwidth": 2,
            "linecolor": "white",
            "showbackground": true,
            "ticks": "",
            "zerolinecolor": "white"
           },
           "yaxis": {
            "backgroundcolor": "#E5ECF6",
            "gridcolor": "white",
            "gridwidth": 2,
            "linecolor": "white",
            "showbackground": true,
            "ticks": "",
            "zerolinecolor": "white"
           },
           "zaxis": {
            "backgroundcolor": "#E5ECF6",
            "gridcolor": "white",
            "gridwidth": 2,
            "linecolor": "white",
            "showbackground": true,
            "ticks": "",
            "zerolinecolor": "white"
           }
          },
          "shapedefaults": {
           "line": {
            "color": "#2a3f5f"
           }
          },
          "ternary": {
           "aaxis": {
            "gridcolor": "white",
            "linecolor": "white",
            "ticks": ""
           },
           "baxis": {
            "gridcolor": "white",
            "linecolor": "white",
            "ticks": ""
           },
           "bgcolor": "#E5ECF6",
           "caxis": {
            "gridcolor": "white",
            "linecolor": "white",
            "ticks": ""
           }
          },
          "title": {
           "x": 0.05
          },
          "xaxis": {
           "automargin": true,
           "gridcolor": "white",
           "linecolor": "white",
           "ticks": "",
           "title": {
            "standoff": 15
           },
           "zerolinecolor": "white",
           "zerolinewidth": 2
          },
          "yaxis": {
           "automargin": true,
           "gridcolor": "white",
           "linecolor": "white",
           "ticks": "",
           "title": {
            "standoff": 15
           },
           "zerolinecolor": "white",
           "zerolinewidth": 2
          }
         }
        },
        "title": {
         "text": "Number of Anime's Relased Per Genre"
        },
        "xaxis": {
         "anchor": "y",
         "domain": [
          0,
          1
         ],
         "title": {
          "text": "Year"
         }
        },
        "yaxis": {
         "anchor": "x",
         "domain": [
          0,
          1
         ],
         "title": {
          "text": "Animes Released"
         }
        }
       }
      }
     },
     "metadata": {},
     "output_type": "display_data"
    }
   ],
   "source": [
    "d1 = genres_exploded.groupby('year')['genres'].value_counts() # Counting amount of genres released per year\n",
    "d1 =  d1.reset_index() \n",
    "d1 = d1.rename(columns={\"count\": \"num_genre_released\"})\n",
    "\n",
    "fig = go.Figure(px.bar(d1, x='year', y='num_genre_released', color='genres', color_discrete_map=COLOR_GENRES))\n",
    "fig.update_layout(\n",
    "    xaxis_title=dict(text=\"Year\"),\n",
    "    yaxis_title=dict(text=\"Animes Released\"),\n",
    "    title=dict(text=\"Number of Anime's Relased Per Genre\")\n",
    ")\n",
    "\n",
    "fig.show()"
   ]
  },
  {
   "cell_type": "markdown",
   "id": "9ef988f9",
   "metadata": {},
   "source": [
    "### Line chart of genre frequency over time"
   ]
  },
  {
   "cell_type": "code",
   "execution_count": 403,
   "id": "952457f3",
   "metadata": {},
   "outputs": [
    {
     "data": {
      "application/vnd.plotly.v1+json": {
       "config": {
        "plotlyServerURL": "https://plot.ly"
       },
       "data": [
        {
         "hovertemplate": "genres=Comedy<br>year=%{x}<br>count=%{y}<extra></extra>",
         "legendgroup": "Comedy",
         "line": {
          "color": "#f1c40f",
          "dash": "solid"
         },
         "marker": {
          "symbol": "circle"
         },
         "mode": "lines",
         "name": "Comedy",
         "showlegend": true,
         "type": "scattergl",
         "x": {
          "bdata": "AAAAAAD0nUAAAAAAAPidQAAAAAAAEJ5AAAAAAAAYnkAAAAAAAByeQAAAAAAAIJ5AAAAAAAAknkAAAAAAACieQAAAAAAALJ5AAAAAAAAwnkAAAAAAADSeQAAAAAAAOJ5AAAAAAAA8nkAAAAAAAECeQAAAAAAARJ5AAAAAAABMnkAAAAAAAFCeQAAAAAAAVJ5AAAAAAABYnkAAAAAAAFyeQAAAAAAAYJ5AAAAAAABwnkAAAAAAAICeQAAAAAAAhJ5AAAAAAACInkAAAAAAAIyeQAAAAAAAlJ5AAAAAAACYnkAAAAAAAJyeQAAAAAAAoJ5AAAAAAACknkAAAAAAAKyeQAAAAAAAsJ5AAAAAAAC0nkAAAAAAALieQAAAAAAAvJ5AAAAAAADAnkAAAAAAAMSeQAAAAAAAyJ5AAAAAAADMnkAAAAAAANCeQAAAAAAA1J5AAAAAAADYnkAAAAAAANyeQAAAAAAA4J5AAAAAAADknkAAAAAAAOieQAAAAAAA7J5AAAAAAADwnkAAAAAAAPSeQAAAAAAA+J5AAAAAAAD8nkAAAAAAAACfQAAAAAAABJ9AAAAAAAAIn0AAAAAAAAyfQAAAAAAAEJ9AAAAAAAAUn0AAAAAAABifQAAAAAAAHJ9AAAAAAAAgn0AAAAAAACSfQAAAAAAAKJ9AAAAAAAAsn0AAAAAAADCfQAAAAAAANJ9AAAAAAAA4n0AAAAAAADyfQAAAAAAAQJ9AAAAAAABEn0AAAAAAAEifQAAAAAAATJ9AAAAAAABQn0AAAAAAAFSfQAAAAAAAWJ9AAAAAAABcn0AAAAAAAGCfQAAAAAAAZJ9AAAAAAABon0AAAAAAAGyfQAAAAAAAcJ9AAAAAAAB0n0AAAAAAAHifQAAAAAAAfJ9AAAAAAACAn0AAAAAAAISfQAAAAAAAiJ9AAAAAAACMn0AAAAAAAJCfQAAAAAAAlJ9AAAAAAACYn0AAAAAAAJyfQAAAAAAAoJ9AAAAAAACkn0A=",
          "dtype": "f8"
         },
         "xaxis": "x",
         "y": {
          "bdata": "DAABAAEAAgABAAIAAQABAAQAAgADAAIAAgAEAAEAAQABAAIAAQABAAEAAgABAAEAAgABAAIAAgABAAIAAQABAAIACgAIAAoACgAJAAsACAAFAAYACwAGAAQACQAGAAoAGAAfABoAGQAiAB4ALAAoADkAPgBOAEIARAA4AEcASwBPAFEAWABsAFgAagCAAIMAlACRALoAuADWAOYA9wAXASIBMwFjAVcBeQFXAUcBOAENAQ4BIgEKAe4AXgA=",
          "dtype": "i2"
         },
         "yaxis": "y"
        },
        {
         "hovertemplate": "genres=Drama<br>year=%{x}<br>count=%{y}<extra></extra>",
         "legendgroup": "Drama",
         "line": {
          "color": "#9b59b6",
          "dash": "solid"
         },
         "marker": {
          "symbol": "circle"
         },
         "mode": "lines",
         "name": "Drama",
         "showlegend": true,
         "type": "scattergl",
         "x": {
          "bdata": "AAAAAAD0nUAAAAAAAPidQAAAAAAAFJ5AAAAAAAAcnkAAAAAAACCeQAAAAAAAKJ5AAAAAAAA0nkAAAAAAAEieQAAAAAAATJ5AAAAAAABQnkAAAAAAAGyeQAAAAAAAcJ5AAAAAAAB4nkAAAAAAAJCeQAAAAAAAmJ5AAAAAAACknkAAAAAAAKieQAAAAAAArJ5AAAAAAACwnkAAAAAAALSeQAAAAAAAuJ5AAAAAAAC8nkAAAAAAAMCeQAAAAAAAxJ5AAAAAAADInkAAAAAAAMyeQAAAAAAA0J5AAAAAAADUnkAAAAAAANieQAAAAAAA3J5AAAAAAADgnkAAAAAAAOSeQAAAAAAA6J5AAAAAAADsnkAAAAAAAPCeQAAAAAAA9J5AAAAAAAD4nkAAAAAAAPyeQAAAAAAAAJ9AAAAAAAAEn0AAAAAAAAifQAAAAAAADJ9AAAAAAAAQn0AAAAAAABSfQAAAAAAAGJ9AAAAAAAAcn0AAAAAAACCfQAAAAAAAJJ9AAAAAAAAon0AAAAAAACyfQAAAAAAAMJ9AAAAAAAA0n0AAAAAAADifQAAAAAAAPJ9AAAAAAABAn0AAAAAAAESfQAAAAAAASJ9AAAAAAABMn0AAAAAAAFCfQAAAAAAAVJ9AAAAAAABYn0AAAAAAAFyfQAAAAAAAYJ9AAAAAAABkn0AAAAAAAGifQAAAAAAAbJ9AAAAAAABwn0AAAAAAAHSfQAAAAAAAeJ9AAAAAAAB8n0AAAAAAAICfQAAAAAAAhJ9AAAAAAACIn0AAAAAAAIyfQAAAAAAAkJ9AAAAAAACUn0AAAAAAAJifQAAAAAAAnJ9AAAAAAACgn0AAAAAAAKSfQA==",
          "dtype": "f8"
         },
         "xaxis": "x",
         "y": {
          "bdata": "BAMBAQIBAQEBAQEBAQEBAgEGBQEBAwQICAcCAgQEBwwXGRQYGA8PFR4kJiAgLi0mJikqKjcwM0pGR2FmX1s+PDdJU0FMUl1pfWNaf01nUBs=",
          "dtype": "i1"
         },
         "yaxis": "y"
        },
        {
         "hovertemplate": "genres=Fantasy<br>year=%{x}<br>count=%{y}<extra></extra>",
         "legendgroup": "Fantasy",
         "line": {
          "color": "#8e44ad",
          "dash": "solid"
         },
         "marker": {
          "symbol": "circle"
         },
         "mode": "lines",
         "name": "Fantasy",
         "showlegend": true,
         "type": "scattergl",
         "x": {
          "bdata": "AAAAAAD4nUAAAAAAABCeQAAAAAAAFJ5AAAAAAAAYnkAAAAAAAByeQAAAAAAAIJ5AAAAAAAAknkAAAAAAACyeQAAAAAAANJ5AAAAAAAA4nkAAAAAAADyeQAAAAAAAQJ5AAAAAAABMnkAAAAAAAFCeQAAAAAAAVJ5AAAAAAABYnkAAAAAAAGieQAAAAAAAdJ5AAAAAAACAnkAAAAAAAIieQAAAAAAAjJ5AAAAAAACQnkAAAAAAAJieQAAAAAAAnJ5AAAAAAACgnkAAAAAAAKSeQAAAAAAAqJ5AAAAAAACsnkAAAAAAALCeQAAAAAAAtJ5AAAAAAAC4nkAAAAAAALyeQAAAAAAAwJ5AAAAAAADEnkAAAAAAAMieQAAAAAAAzJ5AAAAAAADQnkAAAAAAANSeQAAAAAAA2J5AAAAAAADcnkAAAAAAAOCeQAAAAAAA5J5AAAAAAADonkAAAAAAAOyeQAAAAAAA8J5AAAAAAAD0nkAAAAAAAPieQAAAAAAA/J5AAAAAAAAAn0AAAAAAAASfQAAAAAAACJ9AAAAAAAAMn0AAAAAAABCfQAAAAAAAFJ9AAAAAAAAYn0AAAAAAAByfQAAAAAAAIJ9AAAAAAAAkn0AAAAAAACifQAAAAAAALJ9AAAAAAAAwn0AAAAAAADSfQAAAAAAAOJ9AAAAAAAA8n0AAAAAAAECfQAAAAAAARJ9AAAAAAABIn0AAAAAAAEyfQAAAAAAAUJ9AAAAAAABUn0AAAAAAAFifQAAAAAAAXJ9AAAAAAABgn0AAAAAAAGSfQAAAAAAAaJ9AAAAAAABsn0AAAAAAAHCfQAAAAAAAdJ9AAAAAAAB4n0AAAAAAAHyfQAAAAAAAgJ9AAAAAAACEn0AAAAAAAIifQAAAAAAAjJ9AAAAAAACQn0AAAAAAAJSfQAAAAAAAmJ9AAAAAAACcn0AAAAAAAKCfQAAAAAAApJ9A",
          "dtype": "f8"
         },
         "xaxis": "x",
         "y": {
          "bdata": "AQABAAIAAQABAAEAAQAEAAEAAwABAAQAAQABAAEAAQACAAEAAQACAAEAAQAEAAIABAABAAIAAwADAAEABAAGAAQABwADAAIACAAGAAcABAAGAAMACAALAAwADgANAA8ADQAWABsAFQAeAC0ALwA1ADkAPgAmADUANwA2ADkANgA3AFUASwBKAEQAaAB7AHsAbwB7AJgAqACmAL8A0wDXAPoACgHzACYBBwELARkBVwFVAXgA",
          "dtype": "i2"
         },
         "yaxis": "y"
        },
        {
         "hovertemplate": "genres=Slice of Life<br>year=%{x}<br>count=%{y}<extra></extra>",
         "legendgroup": "Slice of Life",
         "line": {
          "color": "#1abc9c",
          "dash": "solid"
         },
         "marker": {
          "symbol": "circle"
         },
         "mode": "lines",
         "name": "Slice of Life",
         "showlegend": true,
         "type": "scattergl",
         "x": {
          "bdata": "AAAAAAAUnkAAAAAAADSeQAAAAAAAqJ5AAAAAAACwnkAAAAAAALSeQAAAAAAAuJ5AAAAAAAC8nkAAAAAAAMCeQAAAAAAAxJ5AAAAAAADInkAAAAAAAMyeQAAAAAAA0J5AAAAAAADYnkAAAAAAANyeQAAAAAAA4J5AAAAAAADknkAAAAAAAOieQAAAAAAA7J5AAAAAAADwnkAAAAAAAPSeQAAAAAAA+J5AAAAAAAD8nkAAAAAAAACfQAAAAAAABJ9AAAAAAAAIn0AAAAAAAAyfQAAAAAAAEJ9AAAAAAAAUn0AAAAAAABifQAAAAAAAHJ9AAAAAAAAgn0AAAAAAACSfQAAAAAAAKJ9AAAAAAAAsn0AAAAAAADCfQAAAAAAANJ9AAAAAAAA4n0AAAAAAADyfQAAAAAAAQJ9AAAAAAABEn0AAAAAAAEifQAAAAAAATJ9AAAAAAABQn0AAAAAAAFSfQAAAAAAAWJ9AAAAAAABcn0AAAAAAAGCfQAAAAAAAZJ9AAAAAAABon0AAAAAAAGyfQAAAAAAAcJ9AAAAAAAB0n0AAAAAAAHifQAAAAAAAfJ9AAAAAAACAn0AAAAAAAISfQAAAAAAAiJ9AAAAAAACMn0AAAAAAAJCfQAAAAAAAlJ9AAAAAAACYn0AAAAAAAJyfQAAAAAAAoJ9AAAAAAACkn0A=",
          "dtype": "f8"
         },
         "xaxis": "x",
         "y": {
          "bdata": "AQEDAQIDAQIFAwICAgMEAgIBBgsKAwUGBQgGBA0IDQkNCgkHCAUGFRMKDhYdHBsjJypGRVNfU2BhSE1dRjgzGg==",
          "dtype": "i1"
         },
         "yaxis": "y"
        },
        {
         "hovertemplate": "genres=Supernatural<br>year=%{x}<br>count=%{y}<extra></extra>",
         "legendgroup": "Supernatural",
         "line": {
          "color": "#2c3e50",
          "dash": "solid"
         },
         "marker": {
          "symbol": "circle"
         },
         "mode": "lines",
         "name": "Supernatural",
         "showlegend": true,
         "type": "scattergl",
         "x": {
          "bdata": "AAAAAAAUnkAAAAAAACSeQAAAAAAANJ5AAAAAAAA8nkAAAAAAAIieQAAAAAAAjJ5AAAAAAACQnkAAAAAAAJieQAAAAAAAtJ5AAAAAAAC8nkAAAAAAAMCeQAAAAAAAzJ5AAAAAAADQnkAAAAAAANSeQAAAAAAA2J5AAAAAAADcnkAAAAAAAOCeQAAAAAAA5J5AAAAAAADonkAAAAAAAOyeQAAAAAAA8J5AAAAAAAD0nkAAAAAAAPieQAAAAAAA/J5AAAAAAAAEn0AAAAAAAAifQAAAAAAADJ9AAAAAAAAQn0AAAAAAABSfQAAAAAAAGJ9AAAAAAAAcn0AAAAAAACCfQAAAAAAAJJ9AAAAAAAAon0AAAAAAACyfQAAAAAAAMJ9AAAAAAAA0n0AAAAAAADifQAAAAAAAPJ9AAAAAAABAn0AAAAAAAESfQAAAAAAASJ9AAAAAAABMn0AAAAAAAFCfQAAAAAAAVJ9AAAAAAABYn0AAAAAAAFyfQAAAAAAAYJ9AAAAAAABkn0AAAAAAAGifQAAAAAAAbJ9AAAAAAABwn0AAAAAAAHSfQAAAAAAAeJ9AAAAAAAB8n0AAAAAAAICfQAAAAAAAhJ9AAAAAAACIn0AAAAAAAIyfQAAAAAAAkJ9AAAAAAACUn0AAAAAAAJifQAAAAAAAnJ9AAAAAAACgn0AAAAAAAKSfQA==",
          "dtype": "f8"
         },
         "xaxis": "x",
         "y": {
          "bdata": "AQEDAwEBAQIBAQECBAIBAQMBAgQDAwICBgQJDAsODQsJEAgPDRQQFhAVHB4kLSMwJjdDOzFDRURERUA0RTY+PBQ=",
          "dtype": "i1"
         },
         "yaxis": "y"
        },
        {
         "hovertemplate": "genres=Adventure<br>year=%{x}<br>count=%{y}<extra></extra>",
         "legendgroup": "Adventure",
         "line": {
          "color": "#f39c12",
          "dash": "solid"
         },
         "marker": {
          "symbol": "circle"
         },
         "mode": "lines",
         "name": "Adventure",
         "showlegend": true,
         "type": "scattergl",
         "x": {
          "bdata": "AAAAAAAYnkAAAAAAAByeQAAAAAAAJJ5AAAAAAAAonkAAAAAAACyeQAAAAAAAMJ5AAAAAAAA0nkAAAAAAADieQAAAAAAAPJ5AAAAAAABAnkAAAAAAAFSeQAAAAAAAXJ5AAAAAAABwnkAAAAAAAHieQAAAAAAAgJ5AAAAAAACYnkAAAAAAAJyeQAAAAAAAoJ5AAAAAAAConkAAAAAAAKyeQAAAAAAAsJ5AAAAAAAC0nkAAAAAAALieQAAAAAAAvJ5AAAAAAADAnkAAAAAAAMSeQAAAAAAAyJ5AAAAAAADMnkAAAAAAANCeQAAAAAAA1J5AAAAAAADYnkAAAAAAANyeQAAAAAAA4J5AAAAAAADknkAAAAAAAOieQAAAAAAA7J5AAAAAAADwnkAAAAAAAPSeQAAAAAAA+J5AAAAAAAD8nkAAAAAAAACfQAAAAAAABJ9AAAAAAAAIn0AAAAAAAAyfQAAAAAAAEJ9AAAAAAAAUn0AAAAAAABifQAAAAAAAHJ9AAAAAAAAgn0AAAAAAACSfQAAAAAAAKJ9AAAAAAAAsn0AAAAAAADCfQAAAAAAANJ9AAAAAAAA4n0AAAAAAADyfQAAAAAAAQJ9AAAAAAABEn0AAAAAAAEifQAAAAAAATJ9AAAAAAABQn0AAAAAAAFSfQAAAAAAAWJ9AAAAAAABcn0AAAAAAAGCfQAAAAAAAZJ9AAAAAAABon0AAAAAAAGyfQAAAAAAAcJ9AAAAAAAB0n0AAAAAAAHifQAAAAAAAfJ9AAAAAAACAn0AAAAAAAISfQAAAAAAAiJ9AAAAAAACMn0AAAAAAAJCfQAAAAAAAlJ9AAAAAAACYn0AAAAAAAJyfQAAAAAAAoJ9AAAAAAACkn0A=",
          "dtype": "f8"
         },
         "xaxis": "x",
         "y": {
          "bdata": "AgABAAEAAgADAAEABAAEAAMAAgACAAEAAQABAAEAAgACAAEAAgAHAAYACgAIAAwABwALAAUABwAJAAoACgAMAA8ACwAYACAAHQAfAB8AHwAeAB8AJwAkACUAMwA1ADAAOAAoADIAOAA+AEkAQQBWAD4AWQBVAFcAVgBOAGgAXwBUAFwAXgBcAGAAXwBzAH0AmgCnAJsAnwCPAIYAogDHAM8ASgA=",
          "dtype": "i2"
         },
         "yaxis": "y"
        },
        {
         "hovertemplate": "genres=Romance<br>year=%{x}<br>count=%{y}<extra></extra>",
         "legendgroup": "Romance",
         "line": {
          "color": "#e91e63",
          "dash": "solid"
         },
         "marker": {
          "symbol": "circle"
         },
         "mode": "lines",
         "name": "Romance",
         "showlegend": true,
         "type": "scattergl",
         "x": {
          "bdata": "AAAAAAAYnkAAAAAAACyeQAAAAAAAOJ5AAAAAAACYnkAAAAAAAKCeQAAAAAAAqJ5AAAAAAACsnkAAAAAAALCeQAAAAAAAtJ5AAAAAAAC8nkAAAAAAAMieQAAAAAAA0J5AAAAAAADUnkAAAAAAANyeQAAAAAAA4J5AAAAAAADknkAAAAAAAOieQAAAAAAA7J5AAAAAAADwnkAAAAAAAPSeQAAAAAAA+J5AAAAAAAD8nkAAAAAAAACfQAAAAAAABJ9AAAAAAAAIn0AAAAAAAAyfQAAAAAAAEJ9AAAAAAAAUn0AAAAAAABifQAAAAAAAHJ9AAAAAAAAgn0AAAAAAACSfQAAAAAAAKJ9AAAAAAAAsn0AAAAAAADCfQAAAAAAANJ9AAAAAAAA4n0AAAAAAADyfQAAAAAAAQJ9AAAAAAABEn0AAAAAAAEifQAAAAAAATJ9AAAAAAABQn0AAAAAAAFSfQAAAAAAAWJ9AAAAAAABcn0AAAAAAAGCfQAAAAAAAZJ9AAAAAAABon0AAAAAAAGyfQAAAAAAAcJ9AAAAAAAB0n0AAAAAAAHifQAAAAAAAfJ9AAAAAAACAn0AAAAAAAISfQAAAAAAAiJ9AAAAAAACMn0AAAAAAAJCfQAAAAAAAlJ9AAAAAAACYn0AAAAAAAJyfQAAAAAAAoJ9AAAAAAACkn0A=",
          "dtype": "f8"
         },
         "xaxis": "x",
         "y": {
          "bdata": "AQEBAQEBAQIBAQEBAgMDAQcEBQQHDRARFgsNDw8QGhgWGhkSFx0ZJy8vNEJNRT8/NjxXR1ZDSVFaREJMQmBMIg==",
          "dtype": "i1"
         },
         "yaxis": "y"
        },
        {
         "hovertemplate": "genres=Action<br>year=%{x}<br>count=%{y}<extra></extra>",
         "legendgroup": "Action",
         "line": {
          "color": "#e74c3c",
          "dash": "solid"
         },
         "marker": {
          "symbol": "circle"
         },
         "mode": "lines",
         "name": "Action",
         "showlegend": true,
         "type": "scattergl",
         "x": {
          "bdata": "AAAAAAAgnkAAAAAAACSeQAAAAAAALJ5AAAAAAAA0nkAAAAAAADieQAAAAAAAPJ5AAAAAAABAnkAAAAAAAESeQAAAAAAASJ5AAAAAAABMnkAAAAAAAFCeQAAAAAAAVJ5AAAAAAABYnkAAAAAAAGSeQAAAAAAAfJ5AAAAAAACAnkAAAAAAAKieQAAAAAAArJ5AAAAAAACwnkAAAAAAALSeQAAAAAAAuJ5AAAAAAAC8nkAAAAAAAMCeQAAAAAAAxJ5AAAAAAADInkAAAAAAAMyeQAAAAAAA0J5AAAAAAADUnkAAAAAAANieQAAAAAAA3J5AAAAAAADgnkAAAAAAAOSeQAAAAAAA6J5AAAAAAADsnkAAAAAAAPCeQAAAAAAA9J5AAAAAAAD4nkAAAAAAAPyeQAAAAAAAAJ9AAAAAAAAEn0AAAAAAAAifQAAAAAAADJ9AAAAAAAAQn0AAAAAAABSfQAAAAAAAGJ9AAAAAAAAcn0AAAAAAACCfQAAAAAAAJJ9AAAAAAAAon0AAAAAAACyfQAAAAAAAMJ9AAAAAAAA0n0AAAAAAADifQAAAAAAAPJ9AAAAAAABAn0AAAAAAAESfQAAAAAAASJ9AAAAAAABMn0AAAAAAAFCfQAAAAAAAVJ9AAAAAAABYn0AAAAAAAFyfQAAAAAAAYJ9AAAAAAABkn0AAAAAAAGifQAAAAAAAbJ9AAAAAAABwn0AAAAAAAHSfQAAAAAAAeJ9AAAAAAAB8n0AAAAAAAICfQAAAAAAAhJ9AAAAAAACIn0AAAAAAAIyfQAAAAAAAkJ9AAAAAAACUn0AAAAAAAJifQAAAAAAAnJ9AAAAAAACgn0AAAAAAAKSfQA==",
          "dtype": "f8"
         },
         "xaxis": "x",
         "y": {
          "bdata": "AQACAAMABQABAAMABAABAAEAAQABAAEAAgABAAEAAQABAAQABAAIAAMABgALAAkAAQAGAAcABgAHAAkADwAMABEAFwARABQAGwAhAB4AIAAvACoALQA5AC8AOgA3ADEANgA4AEAAPABHAE0ANwBCAFkAVwBkAFQAaABzAH8AbwB/AJoAmQCeALQAwwDTANIA9ADoANgA8QD+ACwBKgFxAA==",
          "dtype": "i2"
         },
         "yaxis": "y"
        },
        {
         "hovertemplate": "genres=Sports<br>year=%{x}<br>count=%{y}<extra></extra>",
         "legendgroup": "Sports",
         "line": {
          "color": "#27ae60",
          "dash": "solid"
         },
         "marker": {
          "symbol": "circle"
         },
         "mode": "lines",
         "name": "Sports",
         "showlegend": true,
         "type": "scattergl",
         "x": {
          "bdata": "AAAAAAAgnkAAAAAAACieQAAAAAAALJ5AAAAAAAAwnkAAAAAAADieQAAAAAAAQJ5AAAAAAABMnkAAAAAAAFCeQAAAAAAAdJ5AAAAAAADAnkAAAAAAAMSeQAAAAAAAyJ5AAAAAAADMnkAAAAAAANCeQAAAAAAA1J5AAAAAAADYnkAAAAAAAOCeQAAAAAAA5J5AAAAAAADonkAAAAAAAOyeQAAAAAAA8J5AAAAAAAD0nkAAAAAAAPieQAAAAAAA/J5AAAAAAAAAn0AAAAAAAASfQAAAAAAACJ9AAAAAAAAMn0AAAAAAABCfQAAAAAAAFJ9AAAAAAAAYn0AAAAAAAByfQAAAAAAAIJ9AAAAAAAAkn0AAAAAAACifQAAAAAAALJ9AAAAAAAAwn0AAAAAAADSfQAAAAAAAOJ9AAAAAAAA8n0AAAAAAAECfQAAAAAAARJ9AAAAAAABIn0AAAAAAAEyfQAAAAAAAUJ9AAAAAAABUn0AAAAAAAFifQAAAAAAAXJ9AAAAAAABgn0AAAAAAAGSfQAAAAAAAaJ9AAAAAAABsn0AAAAAAAHCfQAAAAAAAdJ9AAAAAAAB4n0AAAAAAAHyfQAAAAAAAgJ9AAAAAAACEn0AAAAAAAIifQAAAAAAAjJ9AAAAAAACQn0AAAAAAAJSfQAAAAAAAmJ9AAAAAAACcn0AAAAAAAKCfQAAAAAAApJ9A",
          "dtype": "f8"
         },
         "xaxis": "x",
         "y": {
          "bdata": "AQIBAgEBAQECAgYNAwEDAQEFAgcHBQUKCQkOCQsICAkICBIICggFAgUMDwwJDggVDBMUFBYfHBcuICMdFx0fFB8K",
          "dtype": "i1"
         },
         "yaxis": "y"
        },
        {
         "hovertemplate": "genres=Avant Garde<br>year=%{x}<br>count=%{y}<extra></extra>",
         "legendgroup": "Avant Garde",
         "line": {
          "color": "#8e44ad",
          "dash": "solid"
         },
         "marker": {
          "symbol": "circle"
         },
         "mode": "lines",
         "name": "Avant Garde",
         "showlegend": true,
         "type": "scattergl",
         "x": {
          "bdata": "AAAAAAAwnkAAAAAAADyeQAAAAAAAoJ5AAAAAAACknkAAAAAAAKieQAAAAAAArJ5AAAAAAACwnkAAAAAAALSeQAAAAAAAuJ5AAAAAAAC8nkAAAAAAAMCeQAAAAAAAxJ5AAAAAAADInkAAAAAAAMyeQAAAAAAA0J5AAAAAAADUnkAAAAAAANieQAAAAAAA3J5AAAAAAADknkAAAAAAAOieQAAAAAAA7J5AAAAAAADwnkAAAAAAAPSeQAAAAAAA+J5AAAAAAAD8nkAAAAAAAACfQAAAAAAABJ9AAAAAAAAIn0AAAAAAAAyfQAAAAAAAEJ9AAAAAAAAUn0AAAAAAABifQAAAAAAAHJ9AAAAAAAAgn0AAAAAAACSfQAAAAAAAKJ9AAAAAAAAsn0AAAAAAADCfQAAAAAAANJ9AAAAAAAA4n0AAAAAAADyfQAAAAAAAQJ9AAAAAAABEn0AAAAAAAEifQAAAAAAATJ9AAAAAAABQn0AAAAAAAFSfQAAAAAAAWJ9AAAAAAABcn0AAAAAAAGCfQAAAAAAAZJ9AAAAAAABon0AAAAAAAGyfQAAAAAAAcJ9AAAAAAAB0n0AAAAAAAHifQAAAAAAAfJ9AAAAAAACAn0AAAAAAAISfQAAAAAAAiJ9AAAAAAACMn0AAAAAAAJCfQAAAAAAAlJ9AAAAAAACYn0AAAAAAAJyfQAAAAAAAoJ9AAAAAAACkn0A=",
          "dtype": "f8"
         },
         "xaxis": "x",
         "y": {
          "bdata": "AQMDAQEGBwECAwIDAgsFBAUIAgQDAwQIBQkPBg4JCQkCBAQICAMFCQ0LCBYXERwWFRQcJSokJSkuLCkiOh4qJygvBA==",
          "dtype": "i1"
         },
         "yaxis": "y"
        },
        {
         "hovertemplate": "genres=Hentai<br>year=%{x}<br>count=%{y}<extra></extra>",
         "legendgroup": "Hentai",
         "line": {
          "color": "#6D214F",
          "dash": "solid"
         },
         "marker": {
          "symbol": "circle"
         },
         "mode": "lines",
         "name": "Hentai",
         "showlegend": true,
         "type": "scattergl",
         "x": {
          "bdata": "AAAAAAAwnkAAAAAAAMSeQAAAAAAAzJ5AAAAAAAAAn0AAAAAAAASfQAAAAAAACJ9AAAAAAAAMn0AAAAAAABCfQAAAAAAAFJ9AAAAAAAAYn0AAAAAAAByfQAAAAAAAIJ9AAAAAAAAkn0AAAAAAACifQAAAAAAALJ9AAAAAAAAwn0AAAAAAADSfQAAAAAAAOJ9AAAAAAAA8n0AAAAAAAECfQAAAAAAARJ9AAAAAAABIn0AAAAAAAEyfQAAAAAAAUJ9AAAAAAABUn0AAAAAAAFifQAAAAAAAXJ9AAAAAAABgn0AAAAAAAGSfQAAAAAAAaJ9AAAAAAABsn0AAAAAAAHCfQAAAAAAAdJ9AAAAAAAB4n0AAAAAAAHyfQAAAAAAAgJ9AAAAAAACEn0AAAAAAAIifQAAAAAAAjJ9AAAAAAACQn0AAAAAAAJSfQAAAAAAAmJ9AAAAAAACcn0AAAAAAAKCfQAAAAAAApJ9A",
          "dtype": "f8"
         },
         "xaxis": "x",
         "y": {
          "bdata": "AQEBBw8BBAQGCwgEAxIRHRcYHipSREg5KigvJyw6Py87QTk4OTUuNTEwLzIT",
          "dtype": "i1"
         },
         "yaxis": "y"
        },
        {
         "hovertemplate": "genres=Mystery<br>year=%{x}<br>count=%{y}<extra></extra>",
         "legendgroup": "Mystery",
         "line": {
          "color": "#34495e",
          "dash": "solid"
         },
         "marker": {
          "symbol": "circle"
         },
         "mode": "lines",
         "name": "Mystery",
         "showlegend": true,
         "type": "scattergl",
         "x": {
          "bdata": "AAAAAAAwnkAAAAAAALCeQAAAAAAAuJ5AAAAAAAC8nkAAAAAAAMCeQAAAAAAAzJ5AAAAAAADQnkAAAAAAANyeQAAAAAAA5J5AAAAAAADonkAAAAAAAOyeQAAAAAAA9J5AAAAAAAD8nkAAAAAAAACfQAAAAAAABJ9AAAAAAAAIn0AAAAAAAAyfQAAAAAAAEJ9AAAAAAAAUn0AAAAAAABifQAAAAAAAHJ9AAAAAAAAgn0AAAAAAACSfQAAAAAAAKJ9AAAAAAAAsn0AAAAAAADCfQAAAAAAANJ9AAAAAAAA4n0AAAAAAADyfQAAAAAAAQJ9AAAAAAABEn0AAAAAAAEifQAAAAAAATJ9AAAAAAABQn0AAAAAAAFSfQAAAAAAAWJ9AAAAAAABcn0AAAAAAAGCfQAAAAAAAZJ9AAAAAAABon0AAAAAAAGyfQAAAAAAAcJ9AAAAAAAB0n0AAAAAAAHifQAAAAAAAfJ9AAAAAAACAn0AAAAAAAISfQAAAAAAAiJ9AAAAAAACMn0AAAAAAAJCfQAAAAAAAlJ9AAAAAAACYn0AAAAAAAJyfQAAAAAAAoJ9AAAAAAACkn0A=",
          "dtype": "f8"
         },
         "xaxis": "x",
         "y": {
          "bdata": "AQIBAQEBAQEDAwMCAgQEBAwEBwYMCAcFCAsJCw0QDRUUFBQeHh0cFx0jGCEjLyomMSYyJishFQ==",
          "dtype": "i1"
         },
         "yaxis": "y"
        },
        {
         "hovertemplate": "genres=Sci-Fi<br>year=%{x}<br>count=%{y}<extra></extra>",
         "legendgroup": "Sci-Fi",
         "line": {
          "color": "#2980b9",
          "dash": "solid"
         },
         "marker": {
          "symbol": "circle"
         },
         "mode": "lines",
         "name": "Sci-Fi",
         "showlegend": true,
         "type": "scattergl",
         "x": {
          "bdata": "AAAAAAA0nkAAAAAAAKSeQAAAAAAArJ5AAAAAAACwnkAAAAAAALSeQAAAAAAAuJ5AAAAAAAC8nkAAAAAAAMCeQAAAAAAAxJ5AAAAAAADInkAAAAAAAMyeQAAAAAAA0J5AAAAAAADUnkAAAAAAANieQAAAAAAA3J5AAAAAAADgnkAAAAAAAOSeQAAAAAAA6J5AAAAAAADsnkAAAAAAAPCeQAAAAAAA9J5AAAAAAAD4nkAAAAAAAPyeQAAAAAAAAJ9AAAAAAAAEn0AAAAAAAAifQAAAAAAADJ9AAAAAAAAQn0AAAAAAABSfQAAAAAAAGJ9AAAAAAAAcn0AAAAAAACCfQAAAAAAAJJ9AAAAAAAAon0AAAAAAACyfQAAAAAAAMJ9AAAAAAAA0n0AAAAAAADifQAAAAAAAPJ9AAAAAAABAn0AAAAAAAESfQAAAAAAASJ9AAAAAAABMn0AAAAAAAFCfQAAAAAAAVJ9AAAAAAABYn0AAAAAAAFyfQAAAAAAAYJ9AAAAAAABkn0AAAAAAAGifQAAAAAAAbJ9AAAAAAABwn0AAAAAAAHSfQAAAAAAAeJ9AAAAAAAB8n0AAAAAAAICfQAAAAAAAhJ9AAAAAAACIn0AAAAAAAIyfQAAAAAAAkJ9AAAAAAACUn0AAAAAAAJifQAAAAAAAnJ9AAAAAAACgn0AAAAAAAKSfQA==",
          "dtype": "f8"
         },
         "xaxis": "x",
         "y": {
          "bdata": "AQABAAMAAwAKAAUABQAGAAMAAQACAAQABwAKAAgADQANABQAGwAXACAAIQAeACEAJwAqAC4AJwArACgAJgApACMALQAnACwAJgBDAEsANgBLAGIAWgBZAEgAUQBLAEkAUQBOAFUAZQBTAGcAYACBAH4AbwCEAGMAaABhAGkAZAAxAA==",
          "dtype": "i2"
         },
         "yaxis": "y"
        },
        {
         "hovertemplate": "genres=Gourmet<br>year=%{x}<br>count=%{y}<extra></extra>",
         "legendgroup": "Gourmet",
         "line": {
          "color": "#d35400",
          "dash": "solid"
         },
         "marker": {
          "symbol": "circle"
         },
         "mode": "lines",
         "name": "Gourmet",
         "showlegend": true,
         "type": "scattergl",
         "x": {
          "bdata": "AAAAAACYnkAAAAAAAAyfQAAAAAAAEJ9AAAAAAAAUn0AAAAAAAByfQAAAAAAAIJ9AAAAAAAAkn0AAAAAAADSfQAAAAAAAPJ9AAAAAAABAn0AAAAAAAESfQAAAAAAASJ9AAAAAAABQn0AAAAAAAFSfQAAAAAAAWJ9AAAAAAABcn0AAAAAAAGCfQAAAAAAAZJ9AAAAAAABon0AAAAAAAGyfQAAAAAAAcJ9AAAAAAAB0n0AAAAAAAHifQAAAAAAAfJ9AAAAAAACAn0AAAAAAAISfQAAAAAAAiJ9AAAAAAACMn0AAAAAAAJCfQAAAAAAAlJ9AAAAAAACYn0AAAAAAAJyfQAAAAAAAoJ9AAAAAAACkn0A=",
          "dtype": "f8"
         },
         "xaxis": "x",
         "y": {
          "bdata": "AQEBAwMDAQEBAQICAgIFBQIGBAcHBgYIDRISCAcMDQkZBg==",
          "dtype": "i1"
         },
         "yaxis": "y"
        },
        {
         "hovertemplate": "genres=Horror<br>year=%{x}<br>count=%{y}<extra></extra>",
         "legendgroup": "Horror",
         "line": {
          "color": "#c0392b",
          "dash": "solid"
         },
         "marker": {
          "symbol": "circle"
         },
         "mode": "lines",
         "name": "Horror",
         "showlegend": true,
         "type": "scattergl",
         "x": {
          "bdata": "AAAAAACYnkAAAAAAALyeQAAAAAAAwJ5AAAAAAADQnkAAAAAAANSeQAAAAAAA4J5AAAAAAADwnkAAAAAAAPSeQAAAAAAA+J5AAAAAAAAEn0AAAAAAAAifQAAAAAAADJ9AAAAAAAAQn0AAAAAAABSfQAAAAAAAGJ9AAAAAAAAcn0AAAAAAACCfQAAAAAAAJJ9AAAAAAAAon0AAAAAAACyfQAAAAAAAMJ9AAAAAAAA0n0AAAAAAADifQAAAAAAAPJ9AAAAAAABAn0AAAAAAAESfQAAAAAAASJ9AAAAAAABMn0AAAAAAAFCfQAAAAAAAVJ9AAAAAAABYn0AAAAAAAFyfQAAAAAAAYJ9AAAAAAABkn0AAAAAAAGifQAAAAAAAbJ9AAAAAAABwn0AAAAAAAHSfQAAAAAAAeJ9AAAAAAAB8n0AAAAAAAICfQAAAAAAAhJ9AAAAAAACIn0AAAAAAAIyfQAAAAAAAkJ9AAAAAAACUn0AAAAAAAJifQAAAAAAAnJ9AAAAAAACgn0AAAAAAAKSfQA==",
          "dtype": "f8"
         },
         "xaxis": "x",
         "y": {
          "bdata": "AQEDAgEBAwQDAgcNCAkMDAcFCw8KCgkJFgoIDA0IFw8NCgsMGgoQEx8fHA4OEQsQDAc=",
          "dtype": "i1"
         },
         "yaxis": "y"
        },
        {
         "hovertemplate": "genres=Award Winning<br>year=%{x}<br>count=%{y}<extra></extra>",
         "legendgroup": "Award Winning",
         "line": {
          "color": "#27ae60",
          "dash": "solid"
         },
         "marker": {
          "symbol": "circle"
         },
         "mode": "lines",
         "name": "Award Winning",
         "showlegend": true,
         "type": "scattergl",
         "x": {
          "bdata": "AAAAAACgnkAAAAAAAKieQAAAAAAArJ5AAAAAAACwnkAAAAAAALSeQAAAAAAAuJ5AAAAAAAC8nkAAAAAAAMCeQAAAAAAAyJ5AAAAAAADMnkAAAAAAANCeQAAAAAAA1J5AAAAAAADYnkAAAAAAANyeQAAAAAAA4J5AAAAAAADknkAAAAAAAOyeQAAAAAAA8J5AAAAAAAD4nkAAAAAAAPyeQAAAAAAAAJ9AAAAAAAAEn0AAAAAAAAifQAAAAAAADJ9AAAAAAAAQn0AAAAAAABSfQAAAAAAAGJ9AAAAAAAAcn0AAAAAAACCfQAAAAAAAJJ9AAAAAAAAon0AAAAAAACyfQAAAAAAAMJ9AAAAAAAA0n0AAAAAAADifQAAAAAAAPJ9AAAAAAABAn0AAAAAAAESfQAAAAAAASJ9AAAAAAABMn0AAAAAAAFCfQAAAAAAAVJ9AAAAAAABYn0AAAAAAAFyfQAAAAAAAYJ9AAAAAAABkn0AAAAAAAGifQAAAAAAAbJ9AAAAAAABwn0AAAAAAAHSfQAAAAAAAeJ9AAAAAAAB8n0AAAAAAAICfQAAAAAAAhJ9AAAAAAACIn0AAAAAAAIyfQAAAAAAAkJ9AAAAAAACUn0AAAAAAAJifQAAAAAAAnJ9AAAAAAACgn0A=",
          "dtype": "f8"
         },
         "xaxis": "x",
         "y": {
          "bdata": "AQEBAQEBAQEDAQEBAgEBAQIBAgEBAQECAgECAgICAgQCBAwEBwQKBgkIBwYHBgcJCQoJCQcDCwcGDQgHAw==",
          "dtype": "i1"
         },
         "yaxis": "y"
        },
        {
         "hovertemplate": "genres=Ecchi<br>year=%{x}<br>count=%{y}<extra></extra>",
         "legendgroup": "Ecchi",
         "line": {
          "color": "#f368e0",
          "dash": "solid"
         },
         "marker": {
          "symbol": "circle"
         },
         "mode": "lines",
         "name": "Ecchi",
         "showlegend": true,
         "type": "scattergl",
         "x": {
          "bdata": "AAAAAACsnkAAAAAAANSeQAAAAAAA8J5AAAAAAAD0nkAAAAAAAASfQAAAAAAACJ9AAAAAAAAMn0AAAAAAABCfQAAAAAAAFJ9AAAAAAAAYn0AAAAAAAByfQAAAAAAAIJ9AAAAAAAAkn0AAAAAAACifQAAAAAAALJ9AAAAAAAAwn0AAAAAAADSfQAAAAAAAOJ9AAAAAAAA8n0AAAAAAAECfQAAAAAAARJ9AAAAAAABIn0AAAAAAAEyfQAAAAAAAUJ9AAAAAAABUn0AAAAAAAFifQAAAAAAAXJ9AAAAAAABgn0AAAAAAAGSfQAAAAAAAaJ9AAAAAAABsn0AAAAAAAHCfQAAAAAAAdJ9AAAAAAAB4n0AAAAAAAHyfQAAAAAAAgJ9AAAAAAACEn0AAAAAAAIifQAAAAAAAjJ9AAAAAAACQn0AAAAAAAJSfQAAAAAAAmJ9AAAAAAACcn0AAAAAAAKCfQAAAAAAApJ9A",
          "dtype": "f8"
         },
         "xaxis": "x",
         "y": {
          "bdata": "AQEBAgICBgQIBgoMAgcICg4MDQcMDxUcGxQbJCguNi0hKzAiHRkZEg0JDQwE",
          "dtype": "i1"
         },
         "yaxis": "y"
        },
        {
         "hovertemplate": "genres=Suspense<br>year=%{x}<br>count=%{y}<extra></extra>",
         "legendgroup": "Suspense",
         "line": {
          "color": "#7f8c8d",
          "dash": "solid"
         },
         "marker": {
          "symbol": "circle"
         },
         "mode": "lines",
         "name": "Suspense",
         "showlegend": true,
         "type": "scattergl",
         "x": {
          "bdata": "AAAAAADcnkAAAAAAAAifQAAAAAAAFJ9AAAAAAAAYn0AAAAAAAByfQAAAAAAAIJ9AAAAAAAAkn0AAAAAAACifQAAAAAAALJ9AAAAAAAAwn0AAAAAAADSfQAAAAAAAOJ9AAAAAAAA8n0AAAAAAAECfQAAAAAAARJ9AAAAAAABIn0AAAAAAAEyfQAAAAAAAUJ9AAAAAAABUn0AAAAAAAFifQAAAAAAAXJ9AAAAAAABgn0AAAAAAAGSfQAAAAAAAaJ9AAAAAAABsn0AAAAAAAHCfQAAAAAAAdJ9AAAAAAAB4n0AAAAAAAHyfQAAAAAAAgJ9AAAAAAACEn0AAAAAAAIifQAAAAAAAjJ9AAAAAAACQn0AAAAAAAJSfQAAAAAAAmJ9AAAAAAACcn0AAAAAAAKCfQAAAAAAApJ9A",
          "dtype": "f8"
         },
         "xaxis": "x",
         "y": {
          "bdata": "AQEBAgICAQEDAQUDAwQCBwcKBgwLDw8LDhAOFhEYGhgWGSISFhwG",
          "dtype": "i1"
         },
         "yaxis": "y"
        },
        {
         "hovertemplate": "genres=Boys Love<br>year=%{x}<br>count=%{y}<extra></extra>",
         "legendgroup": "Boys Love",
         "line": {
          "color": "#fd79a8",
          "dash": "solid"
         },
         "marker": {
          "symbol": "circle"
         },
         "mode": "lines",
         "name": "Boys Love",
         "showlegend": true,
         "type": "scattergl",
         "x": {
          "bdata": "AAAAAAD0nkAAAAAAAPieQAAAAAAA/J5AAAAAAAAMn0AAAAAAABSfQAAAAAAAGJ9AAAAAAAAgn0AAAAAAACifQAAAAAAALJ9AAAAAAAAwn0AAAAAAADSfQAAAAAAAOJ9AAAAAAAA8n0AAAAAAAECfQAAAAAAARJ9AAAAAAABIn0AAAAAAAFCfQAAAAAAAVJ9AAAAAAABYn0AAAAAAAFyfQAAAAAAAYJ9AAAAAAABkn0AAAAAAAGifQAAAAAAAbJ9AAAAAAABwn0AAAAAAAHSfQAAAAAAAeJ9AAAAAAAB8n0AAAAAAAICfQAAAAAAAhJ9AAAAAAACIn0AAAAAAAIyfQAAAAAAAkJ9AAAAAAACUn0AAAAAAAJifQAAAAAAAnJ9AAAAAAACgn0AAAAAAAKSfQA==",
          "dtype": "f8"
         },
         "xaxis": "x",
         "y": {
          "bdata": "AQEBAQIBAgcCBAEBAQIBAwQHBgcHAwgEBQIHAggGDAcLCwUODAY=",
          "dtype": "i1"
         },
         "yaxis": "y"
        },
        {
         "hovertemplate": "genres=Girls Love<br>year=%{x}<br>count=%{y}<extra></extra>",
         "legendgroup": "Girls Love",
         "line": {
          "color": "#e84393",
          "dash": "solid"
         },
         "marker": {
          "symbol": "circle"
         },
         "mode": "lines",
         "name": "Girls Love",
         "showlegend": true,
         "type": "scattergl",
         "x": {
          "bdata": "AAAAAAAEn0AAAAAAAByfQAAAAAAAKJ9AAAAAAAAsn0AAAAAAADCfQAAAAAAANJ9AAAAAAAA8n0AAAAAAAESfQAAAAAAATJ9AAAAAAABQn0AAAAAAAFifQAAAAAAAXJ9AAAAAAABgn0AAAAAAAGSfQAAAAAAAaJ9AAAAAAABsn0AAAAAAAHCfQAAAAAAAdJ9AAAAAAAB4n0AAAAAAAHyfQAAAAAAAhJ9AAAAAAACIn0AAAAAAAIyfQAAAAAAAkJ9AAAAAAACUn0AAAAAAAJifQAAAAAAAnJ9AAAAAAACgn0AAAAAAAKSfQA==",
          "dtype": "f8"
         },
         "xaxis": "x",
         "y": {
          "bdata": "AQEEAgEBAgIDBwYDBQgEBAUBBgoDBgUDAwEHBQE=",
          "dtype": "i1"
         },
         "yaxis": "y"
        },
        {
         "hovertemplate": "genres=Erotica<br>year=%{x}<br>count=%{y}<extra></extra>",
         "legendgroup": "Erotica",
         "line": {
          "color": "#c44569",
          "dash": "solid"
         },
         "marker": {
          "symbol": "circle"
         },
         "mode": "lines",
         "name": "Erotica",
         "showlegend": true,
         "type": "scattergl",
         "x": {
          "bdata": "AAAAAAAMn0AAAAAAABifQAAAAAAAIJ9AAAAAAAAon0AAAAAAADCfQAAAAAAANJ9AAAAAAABEn0AAAAAAAEifQAAAAAAATJ9AAAAAAABUn0AAAAAAAFifQAAAAAAAXJ9AAAAAAABgn0AAAAAAAGSfQAAAAAAAaJ9AAAAAAABsn0AAAAAAAHCfQAAAAAAAdJ9AAAAAAAB8n0AAAAAAAISfQAAAAAAAiJ9AAAAAAACMn0AAAAAAAJCfQAAAAAAAlJ9AAAAAAACYn0AAAAAAAKCfQAAAAAAApJ9A",
          "dtype": "f8"
         },
         "xaxis": "x",
         "y": {
          "bdata": "AgIDAQECAQEBAgEGAgQHAgIFBAYDAQUDBAED",
          "dtype": "i1"
         },
         "yaxis": "y"
        }
       ],
       "layout": {
        "legend": {
         "title": {
          "text": "genres"
         },
         "tracegroupgap": 0
        },
        "margin": {
         "t": 60
        },
        "template": {
         "data": {
          "bar": [
           {
            "error_x": {
             "color": "#2a3f5f"
            },
            "error_y": {
             "color": "#2a3f5f"
            },
            "marker": {
             "line": {
              "color": "#E5ECF6",
              "width": 0.5
             },
             "pattern": {
              "fillmode": "overlay",
              "size": 10,
              "solidity": 0.2
             }
            },
            "type": "bar"
           }
          ],
          "barpolar": [
           {
            "marker": {
             "line": {
              "color": "#E5ECF6",
              "width": 0.5
             },
             "pattern": {
              "fillmode": "overlay",
              "size": 10,
              "solidity": 0.2
             }
            },
            "type": "barpolar"
           }
          ],
          "carpet": [
           {
            "aaxis": {
             "endlinecolor": "#2a3f5f",
             "gridcolor": "white",
             "linecolor": "white",
             "minorgridcolor": "white",
             "startlinecolor": "#2a3f5f"
            },
            "baxis": {
             "endlinecolor": "#2a3f5f",
             "gridcolor": "white",
             "linecolor": "white",
             "minorgridcolor": "white",
             "startlinecolor": "#2a3f5f"
            },
            "type": "carpet"
           }
          ],
          "choropleth": [
           {
            "colorbar": {
             "outlinewidth": 0,
             "ticks": ""
            },
            "type": "choropleth"
           }
          ],
          "contour": [
           {
            "colorbar": {
             "outlinewidth": 0,
             "ticks": ""
            },
            "colorscale": [
             [
              0,
              "#0d0887"
             ],
             [
              0.1111111111111111,
              "#46039f"
             ],
             [
              0.2222222222222222,
              "#7201a8"
             ],
             [
              0.3333333333333333,
              "#9c179e"
             ],
             [
              0.4444444444444444,
              "#bd3786"
             ],
             [
              0.5555555555555556,
              "#d8576b"
             ],
             [
              0.6666666666666666,
              "#ed7953"
             ],
             [
              0.7777777777777778,
              "#fb9f3a"
             ],
             [
              0.8888888888888888,
              "#fdca26"
             ],
             [
              1,
              "#f0f921"
             ]
            ],
            "type": "contour"
           }
          ],
          "contourcarpet": [
           {
            "colorbar": {
             "outlinewidth": 0,
             "ticks": ""
            },
            "type": "contourcarpet"
           }
          ],
          "heatmap": [
           {
            "colorbar": {
             "outlinewidth": 0,
             "ticks": ""
            },
            "colorscale": [
             [
              0,
              "#0d0887"
             ],
             [
              0.1111111111111111,
              "#46039f"
             ],
             [
              0.2222222222222222,
              "#7201a8"
             ],
             [
              0.3333333333333333,
              "#9c179e"
             ],
             [
              0.4444444444444444,
              "#bd3786"
             ],
             [
              0.5555555555555556,
              "#d8576b"
             ],
             [
              0.6666666666666666,
              "#ed7953"
             ],
             [
              0.7777777777777778,
              "#fb9f3a"
             ],
             [
              0.8888888888888888,
              "#fdca26"
             ],
             [
              1,
              "#f0f921"
             ]
            ],
            "type": "heatmap"
           }
          ],
          "histogram": [
           {
            "marker": {
             "pattern": {
              "fillmode": "overlay",
              "size": 10,
              "solidity": 0.2
             }
            },
            "type": "histogram"
           }
          ],
          "histogram2d": [
           {
            "colorbar": {
             "outlinewidth": 0,
             "ticks": ""
            },
            "colorscale": [
             [
              0,
              "#0d0887"
             ],
             [
              0.1111111111111111,
              "#46039f"
             ],
             [
              0.2222222222222222,
              "#7201a8"
             ],
             [
              0.3333333333333333,
              "#9c179e"
             ],
             [
              0.4444444444444444,
              "#bd3786"
             ],
             [
              0.5555555555555556,
              "#d8576b"
             ],
             [
              0.6666666666666666,
              "#ed7953"
             ],
             [
              0.7777777777777778,
              "#fb9f3a"
             ],
             [
              0.8888888888888888,
              "#fdca26"
             ],
             [
              1,
              "#f0f921"
             ]
            ],
            "type": "histogram2d"
           }
          ],
          "histogram2dcontour": [
           {
            "colorbar": {
             "outlinewidth": 0,
             "ticks": ""
            },
            "colorscale": [
             [
              0,
              "#0d0887"
             ],
             [
              0.1111111111111111,
              "#46039f"
             ],
             [
              0.2222222222222222,
              "#7201a8"
             ],
             [
              0.3333333333333333,
              "#9c179e"
             ],
             [
              0.4444444444444444,
              "#bd3786"
             ],
             [
              0.5555555555555556,
              "#d8576b"
             ],
             [
              0.6666666666666666,
              "#ed7953"
             ],
             [
              0.7777777777777778,
              "#fb9f3a"
             ],
             [
              0.8888888888888888,
              "#fdca26"
             ],
             [
              1,
              "#f0f921"
             ]
            ],
            "type": "histogram2dcontour"
           }
          ],
          "mesh3d": [
           {
            "colorbar": {
             "outlinewidth": 0,
             "ticks": ""
            },
            "type": "mesh3d"
           }
          ],
          "parcoords": [
           {
            "line": {
             "colorbar": {
              "outlinewidth": 0,
              "ticks": ""
             }
            },
            "type": "parcoords"
           }
          ],
          "pie": [
           {
            "automargin": true,
            "type": "pie"
           }
          ],
          "scatter": [
           {
            "fillpattern": {
             "fillmode": "overlay",
             "size": 10,
             "solidity": 0.2
            },
            "type": "scatter"
           }
          ],
          "scatter3d": [
           {
            "line": {
             "colorbar": {
              "outlinewidth": 0,
              "ticks": ""
             }
            },
            "marker": {
             "colorbar": {
              "outlinewidth": 0,
              "ticks": ""
             }
            },
            "type": "scatter3d"
           }
          ],
          "scattercarpet": [
           {
            "marker": {
             "colorbar": {
              "outlinewidth": 0,
              "ticks": ""
             }
            },
            "type": "scattercarpet"
           }
          ],
          "scattergeo": [
           {
            "marker": {
             "colorbar": {
              "outlinewidth": 0,
              "ticks": ""
             }
            },
            "type": "scattergeo"
           }
          ],
          "scattergl": [
           {
            "marker": {
             "colorbar": {
              "outlinewidth": 0,
              "ticks": ""
             }
            },
            "type": "scattergl"
           }
          ],
          "scattermap": [
           {
            "marker": {
             "colorbar": {
              "outlinewidth": 0,
              "ticks": ""
             }
            },
            "type": "scattermap"
           }
          ],
          "scattermapbox": [
           {
            "marker": {
             "colorbar": {
              "outlinewidth": 0,
              "ticks": ""
             }
            },
            "type": "scattermapbox"
           }
          ],
          "scatterpolar": [
           {
            "marker": {
             "colorbar": {
              "outlinewidth": 0,
              "ticks": ""
             }
            },
            "type": "scatterpolar"
           }
          ],
          "scatterpolargl": [
           {
            "marker": {
             "colorbar": {
              "outlinewidth": 0,
              "ticks": ""
             }
            },
            "type": "scatterpolargl"
           }
          ],
          "scatterternary": [
           {
            "marker": {
             "colorbar": {
              "outlinewidth": 0,
              "ticks": ""
             }
            },
            "type": "scatterternary"
           }
          ],
          "surface": [
           {
            "colorbar": {
             "outlinewidth": 0,
             "ticks": ""
            },
            "colorscale": [
             [
              0,
              "#0d0887"
             ],
             [
              0.1111111111111111,
              "#46039f"
             ],
             [
              0.2222222222222222,
              "#7201a8"
             ],
             [
              0.3333333333333333,
              "#9c179e"
             ],
             [
              0.4444444444444444,
              "#bd3786"
             ],
             [
              0.5555555555555556,
              "#d8576b"
             ],
             [
              0.6666666666666666,
              "#ed7953"
             ],
             [
              0.7777777777777778,
              "#fb9f3a"
             ],
             [
              0.8888888888888888,
              "#fdca26"
             ],
             [
              1,
              "#f0f921"
             ]
            ],
            "type": "surface"
           }
          ],
          "table": [
           {
            "cells": {
             "fill": {
              "color": "#EBF0F8"
             },
             "line": {
              "color": "white"
             }
            },
            "header": {
             "fill": {
              "color": "#C8D4E3"
             },
             "line": {
              "color": "white"
             }
            },
            "type": "table"
           }
          ]
         },
         "layout": {
          "annotationdefaults": {
           "arrowcolor": "#2a3f5f",
           "arrowhead": 0,
           "arrowwidth": 1
          },
          "autotypenumbers": "strict",
          "coloraxis": {
           "colorbar": {
            "outlinewidth": 0,
            "ticks": ""
           }
          },
          "colorscale": {
           "diverging": [
            [
             0,
             "#8e0152"
            ],
            [
             0.1,
             "#c51b7d"
            ],
            [
             0.2,
             "#de77ae"
            ],
            [
             0.3,
             "#f1b6da"
            ],
            [
             0.4,
             "#fde0ef"
            ],
            [
             0.5,
             "#f7f7f7"
            ],
            [
             0.6,
             "#e6f5d0"
            ],
            [
             0.7,
             "#b8e186"
            ],
            [
             0.8,
             "#7fbc41"
            ],
            [
             0.9,
             "#4d9221"
            ],
            [
             1,
             "#276419"
            ]
           ],
           "sequential": [
            [
             0,
             "#0d0887"
            ],
            [
             0.1111111111111111,
             "#46039f"
            ],
            [
             0.2222222222222222,
             "#7201a8"
            ],
            [
             0.3333333333333333,
             "#9c179e"
            ],
            [
             0.4444444444444444,
             "#bd3786"
            ],
            [
             0.5555555555555556,
             "#d8576b"
            ],
            [
             0.6666666666666666,
             "#ed7953"
            ],
            [
             0.7777777777777778,
             "#fb9f3a"
            ],
            [
             0.8888888888888888,
             "#fdca26"
            ],
            [
             1,
             "#f0f921"
            ]
           ],
           "sequentialminus": [
            [
             0,
             "#0d0887"
            ],
            [
             0.1111111111111111,
             "#46039f"
            ],
            [
             0.2222222222222222,
             "#7201a8"
            ],
            [
             0.3333333333333333,
             "#9c179e"
            ],
            [
             0.4444444444444444,
             "#bd3786"
            ],
            [
             0.5555555555555556,
             "#d8576b"
            ],
            [
             0.6666666666666666,
             "#ed7953"
            ],
            [
             0.7777777777777778,
             "#fb9f3a"
            ],
            [
             0.8888888888888888,
             "#fdca26"
            ],
            [
             1,
             "#f0f921"
            ]
           ]
          },
          "colorway": [
           "#636efa",
           "#EF553B",
           "#00cc96",
           "#ab63fa",
           "#FFA15A",
           "#19d3f3",
           "#FF6692",
           "#B6E880",
           "#FF97FF",
           "#FECB52"
          ],
          "font": {
           "color": "#2a3f5f"
          },
          "geo": {
           "bgcolor": "white",
           "lakecolor": "white",
           "landcolor": "#E5ECF6",
           "showlakes": true,
           "showland": true,
           "subunitcolor": "white"
          },
          "hoverlabel": {
           "align": "left"
          },
          "hovermode": "closest",
          "mapbox": {
           "style": "light"
          },
          "paper_bgcolor": "white",
          "plot_bgcolor": "#E5ECF6",
          "polar": {
           "angularaxis": {
            "gridcolor": "white",
            "linecolor": "white",
            "ticks": ""
           },
           "bgcolor": "#E5ECF6",
           "radialaxis": {
            "gridcolor": "white",
            "linecolor": "white",
            "ticks": ""
           }
          },
          "scene": {
           "xaxis": {
            "backgroundcolor": "#E5ECF6",
            "gridcolor": "white",
            "gridwidth": 2,
            "linecolor": "white",
            "showbackground": true,
            "ticks": "",
            "zerolinecolor": "white"
           },
           "yaxis": {
            "backgroundcolor": "#E5ECF6",
            "gridcolor": "white",
            "gridwidth": 2,
            "linecolor": "white",
            "showbackground": true,
            "ticks": "",
            "zerolinecolor": "white"
           },
           "zaxis": {
            "backgroundcolor": "#E5ECF6",
            "gridcolor": "white",
            "gridwidth": 2,
            "linecolor": "white",
            "showbackground": true,
            "ticks": "",
            "zerolinecolor": "white"
           }
          },
          "shapedefaults": {
           "line": {
            "color": "#2a3f5f"
           }
          },
          "ternary": {
           "aaxis": {
            "gridcolor": "white",
            "linecolor": "white",
            "ticks": ""
           },
           "baxis": {
            "gridcolor": "white",
            "linecolor": "white",
            "ticks": ""
           },
           "bgcolor": "#E5ECF6",
           "caxis": {
            "gridcolor": "white",
            "linecolor": "white",
            "ticks": ""
           }
          },
          "title": {
           "x": 0.05
          },
          "xaxis": {
           "automargin": true,
           "gridcolor": "white",
           "linecolor": "white",
           "ticks": "",
           "title": {
            "standoff": 15
           },
           "zerolinecolor": "white",
           "zerolinewidth": 2
          },
          "yaxis": {
           "automargin": true,
           "gridcolor": "white",
           "linecolor": "white",
           "ticks": "",
           "title": {
            "standoff": 15
           },
           "zerolinecolor": "white",
           "zerolinewidth": 2
          }
         }
        },
        "title": {
         "text": "Genre frequency over time"
        },
        "xaxis": {
         "anchor": "y",
         "domain": [
          0,
          1
         ],
         "title": {
          "text": "Year"
         }
        },
        "yaxis": {
         "anchor": "x",
         "domain": [
          0,
          1
         ],
         "title": {
          "text": "Number of Genres"
         }
        }
       }
      }
     },
     "metadata": {},
     "output_type": "display_data"
    }
   ],
   "source": [
    "d1 = genres_exploded.groupby('year')['genres'].value_counts().reset_index()\n",
    "fig = px.line(d1, x='year', y='count', color='genres', color_discrete_map=COLOR_GENRES)\n",
    "fig.update_layout(\n",
    "    xaxis_title = dict(text=\"Year\"),\n",
    "    yaxis_title = dict(text=\"Number of Genres\"),\n",
    "    title = dict(text=\"Genre frequency over time\")\n",
    ")\n",
    "fig.show()"
   ]
  },
  {
   "cell_type": "markdown",
   "id": "41e8ebb1",
   "metadata": {},
   "source": [
    "### "
   ]
  }
 ],
 "metadata": {
  "kernelspec": {
   "display_name": "Python 3",
   "language": "python",
   "name": "python3"
  },
  "language_info": {
   "codemirror_mode": {
    "name": "ipython",
    "version": 3
   },
   "file_extension": ".py",
   "mimetype": "text/x-python",
   "name": "python",
   "nbconvert_exporter": "python",
   "pygments_lexer": "ipython3",
   "version": "3.11.9"
  }
 },
 "nbformat": 4,
 "nbformat_minor": 5
}
