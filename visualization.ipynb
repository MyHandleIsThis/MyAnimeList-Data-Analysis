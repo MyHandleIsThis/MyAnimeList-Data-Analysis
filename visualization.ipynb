{
 "cells": [
  {
   "cell_type": "markdown",
   "id": "be980e4f",
   "metadata": {},
   "source": [
    "# **Visualization of MyAnimeList Anime Data**"
   ]
  },
  {
   "cell_type": "markdown",
   "id": "937622cd",
   "metadata": {},
   "source": [
    "Tasks of this notebook:\n",
    "- Exploratory data analysis\n",
    "- Visualizations"
   ]
  },
  {
   "cell_type": "markdown",
   "id": "40a64455",
   "metadata": {},
   "source": [
    "**1. Initial Setup** "
   ]
  },
  {
   "cell_type": "code",
   "execution_count": 38,
   "id": "bfb1f810",
   "metadata": {},
   "outputs": [],
   "source": [
    "import pandas as pd\n",
    "import matplotlib.pyplot as plt\n",
    "import seaborn as sns\n",
    "import plotly as px"
   ]
  },
  {
   "cell_type": "code",
   "execution_count": 39,
   "id": "dd54bdeb",
   "metadata": {},
   "outputs": [],
   "source": [
    "# Defintion of functions and values of some constants\n",
    "anime_data = pd.read_csv('anime_data_vis.csv')\n",
    "anime_data.reset_index(inplace=True)"
   ]
  },
  {
   "cell_type": "markdown",
   "id": "5b5b8e9a",
   "metadata": {},
   "source": [
    "TODO List + Some ideas\n",
    "- Animes with the longest and shortest duration per episode\n",
    "- Number of animes per genres, type, rating, etc ....\n",
    "- Average score, members, and favoruites per genre\n",
    "- Average score, memebers, and favourites per season\n",
    "- Average score based on soruce material\n",
    "- score vs scored_by scatter plot, rank vs popularity scatter plot\n",
    "- Distrubtiton of scores, memebers\n",
    "\n",
    "- Average score and members per licensors, producers, studios\n",
    "\n",
    "- Number of animes released per season and per year (2 Line Plots)\n",
    "- Average score over time (Line Plot)\n",
    "- Number of animes realeased per year differnated by the type (So we can see different trends)\n",
    "- Pairplot score, scored_by, members, episodes, type\n",
    "- Heatmap of anime realease frequency\n",
    "\n",
    "\n",
    "- Word cloud of the most common words in a title\n",
    "- Chord diagram of relationships between genres\n",
    "- Treemap  or pie chart of animes by genres and type\n",
    "- PCA \n",
    "-"
   ]
  },
  {
   "cell_type": "markdown",
   "id": "ab8e3246",
   "metadata": {},
   "source": [
    "# Basic Analysis"
   ]
  },
  {
   "cell_type": "code",
   "execution_count": null,
   "id": "6b094c88",
   "metadata": {},
   "outputs": [
    {
     "name": "stdout",
     "output_type": "stream",
     "text": [
      "Top 5 animes with the highest score:\n",
      "                                    title  score  rank\n",
      "23013                   Sousou no Frieren   9.30   1.0\n",
      "3960     Fullmetal Alchemist: Brotherhood   9.10   2.0\n",
      "5664                          Steins;Gate   9.07   3.0\n",
      "9873                             Gintama°   9.05   5.0\n",
      "14838  Shingeki no Kyojin Season 3 Part 2   9.05   4.0\n",
      "Top 5 animes with the lowest scores:\n",
      "                              title  score     rank\n",
      "10977                      Kokuhaku   2.41  14076.0\n",
      "4193                   Tsui no Sora   2.32      NaN\n",
      "387                 Hametsu no Mars   2.23  14077.0\n",
      "6944             Utsu Musume Sayuri   2.00  14077.0\n",
      "2925   Tenkuu Danzai Skelter+Heaven   1.89  14078.0\n",
      "Top 5 animes with the highest number of members: \n",
      "                                   title  members  popularity\n",
      "7425                 Shingeki no Kyojin  4170962           1\n",
      "1393                         Death Note  4114852           2\n",
      "3960   Fullmetal Alchemist: Brotherhood  3529544           3\n",
      "10401                     One Punch Man  3389713           4\n",
      "14516                  Kimetsu no Yaiba  3260027           5\n",
      "Top 5 animes with the lowest number of members: \n",
      "                        title  members  popularity\n",
      "27928  Kangae ga Aru Kangaroo       25       28458\n",
      "27934               Sigsailon       23       28457\n",
      "27938              Shikushiku        2       28462\n",
      "27937                    Sora        2       28463\n",
      "27939             Plants Song        1       28461\n",
      "2 animes with the most episodes:\n",
      "                                       title  episodes\n",
      "5971                                 Lan Mao    3057.0\n",
      "6720                              Oyako Club    1818.0\n",
      "2266                         Doraemon (1979)    1787.0\n",
      "8914                                Gudetama    1717.0\n",
      "19336                       Daomei Xiansheng    1664.0\n",
      "8875                  Kirin Monoshiri Yakata    1565.0\n",
      "4524      Manga Nippon Mukashibanashi (1976)    1471.0\n",
      "5265                         Hokahoka Kazoku    1428.0\n",
      "11316               Kirin Ashita no Calendar    1306.0\n",
      "8596   Monoshiri Daigaku: Ashita no Calendar    1274.0\n"
     ]
    }
   ],
   "source": [
    "print(f\"Top 5 animes with the highest score:\\n{anime_data.nlargest(5, columns=['score']).sort_values('score', ascending=False)[['title', 'score', 'rank']] }\")\n",
    "print(f\"Top 5 animes with the lowest scores:\\n{anime_data.nsmallest(5, columns=['score']).sort_values('score', ascending=False)[['title', 'score', 'rank']]}\")\n",
    "print(f\"Top 5 animes with the highest number of members: \\n {anime_data.nlargest(5, columns=['members']).sort_values('members', ascending=False)[['title', 'members', 'popularity']] }\")\n",
    "print(f\"Top 5 animes with the lowest number of members: \\n{anime_data.nsmallest(5, columns=['members']).sort_values('members', ascending=False)[['title', 'members', 'popularity']] }\")\n",
    "\n",
    "print(f\"Top 10 animes with the most episodes:\\n{anime_data.nlargest(10, 'episodes')[['title', 'episodes']]}\") # LMAO One Piece doesnt crack the list\n",
    "#"
   ]
  },
  {
   "cell_type": "markdown",
   "id": "a11e3f65",
   "metadata": {},
   "source": []
  }
 ],
 "metadata": {
  "kernelspec": {
   "display_name": "Python 3",
   "language": "python",
   "name": "python3"
  },
  "language_info": {
   "codemirror_mode": {
    "name": "ipython",
    "version": 3
   },
   "file_extension": ".py",
   "mimetype": "text/x-python",
   "name": "python",
   "nbconvert_exporter": "python",
   "pygments_lexer": "ipython3",
   "version": "3.11.9"
  }
 },
 "nbformat": 4,
 "nbformat_minor": 5
}
